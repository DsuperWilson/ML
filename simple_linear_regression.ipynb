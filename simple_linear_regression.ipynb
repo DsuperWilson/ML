{
 "cells": [
  {
   "cell_type": "code",
   "execution_count": 1,
   "metadata": {
    "code_folding": [
     0
    ]
   },
   "outputs": [],
   "source": [
    "# Generic inputs for most ML tasks\n",
    "import pandas as pd\n",
    "import numpy as np\n",
    "import matplotlib.pyplot as plt\n",
    "from sklearn.model_selection import train_test_split\n",
    "from sklearn.linear_model import LinearRegression\n",
    "from sklearn.linear_model import Ridge\n",
    "from sklearn.linear_model import Lasso\n",
    "from sklearn.ensemble import RandomForestRegressor\n",
    "\n",
    "pd.options.display.float_format = '{:,.2f}'.format\n",
    "\n",
    "# setup interactive notebook mode\n",
    "from IPython.core.interactiveshell import InteractiveShell\n",
    "InteractiveShell.ast_node_interactivity = \"all\"\n",
    "\n",
    "from IPython.display import display, HTML"
   ]
  },
  {
   "cell_type": "markdown",
   "metadata": {},
   "source": [
    "#### Read and pre-process data"
   ]
  },
  {
   "cell_type": "code",
   "execution_count": 2,
   "metadata": {
    "code_folding": [
     0
    ]
   },
   "outputs": [
    {
     "data": {
      "text/html": [
       "<div>\n",
       "<style scoped>\n",
       "    .dataframe tbody tr th:only-of-type {\n",
       "        vertical-align: middle;\n",
       "    }\n",
       "\n",
       "    .dataframe tbody tr th {\n",
       "        vertical-align: top;\n",
       "    }\n",
       "\n",
       "    .dataframe thead th {\n",
       "        text-align: right;\n",
       "    }\n",
       "</style>\n",
       "<table border=\"1\" class=\"dataframe\">\n",
       "  <thead>\n",
       "    <tr style=\"text-align: right;\">\n",
       "      <th></th>\n",
       "      <th>age</th>\n",
       "      <th>sex</th>\n",
       "      <th>bmi</th>\n",
       "      <th>children</th>\n",
       "      <th>smoker</th>\n",
       "      <th>region</th>\n",
       "      <th>charges</th>\n",
       "    </tr>\n",
       "  </thead>\n",
       "  <tbody>\n",
       "    <tr>\n",
       "      <th>0</th>\n",
       "      <td>19</td>\n",
       "      <td>female</td>\n",
       "      <td>27.90</td>\n",
       "      <td>0</td>\n",
       "      <td>yes</td>\n",
       "      <td>southwest</td>\n",
       "      <td>16,884.92</td>\n",
       "    </tr>\n",
       "    <tr>\n",
       "      <th>1</th>\n",
       "      <td>18</td>\n",
       "      <td>male</td>\n",
       "      <td>33.77</td>\n",
       "      <td>1</td>\n",
       "      <td>no</td>\n",
       "      <td>southeast</td>\n",
       "      <td>1,725.55</td>\n",
       "    </tr>\n",
       "    <tr>\n",
       "      <th>2</th>\n",
       "      <td>28</td>\n",
       "      <td>male</td>\n",
       "      <td>33.00</td>\n",
       "      <td>3</td>\n",
       "      <td>no</td>\n",
       "      <td>southeast</td>\n",
       "      <td>4,449.46</td>\n",
       "    </tr>\n",
       "    <tr>\n",
       "      <th>3</th>\n",
       "      <td>33</td>\n",
       "      <td>male</td>\n",
       "      <td>22.70</td>\n",
       "      <td>0</td>\n",
       "      <td>no</td>\n",
       "      <td>northwest</td>\n",
       "      <td>21,984.47</td>\n",
       "    </tr>\n",
       "    <tr>\n",
       "      <th>4</th>\n",
       "      <td>32</td>\n",
       "      <td>male</td>\n",
       "      <td>28.88</td>\n",
       "      <td>0</td>\n",
       "      <td>no</td>\n",
       "      <td>northwest</td>\n",
       "      <td>3,866.86</td>\n",
       "    </tr>\n",
       "  </tbody>\n",
       "</table>\n",
       "</div>"
      ],
      "text/plain": [
       "   age     sex   bmi  children smoker     region   charges\n",
       "0   19  female 27.90         0    yes  southwest 16,884.92\n",
       "1   18    male 33.77         1     no  southeast  1,725.55\n",
       "2   28    male 33.00         3     no  southeast  4,449.46\n",
       "3   33    male 22.70         0     no  northwest 21,984.47\n",
       "4   32    male 28.88         0     no  northwest  3,866.86"
      ]
     },
     "execution_count": 2,
     "metadata": {},
     "output_type": "execute_result"
    }
   ],
   "source": [
    "# fetch data \n",
    "\n",
    "insurance_data = pd.read_csv('insurance.csv')\n",
    "\n",
    "insurance_data.head()"
   ]
  },
  {
   "cell_type": "code",
   "execution_count": 3,
   "metadata": {},
   "outputs": [
    {
     "data": {
      "text/html": [
       "<div>\n",
       "<style scoped>\n",
       "    .dataframe tbody tr th:only-of-type {\n",
       "        vertical-align: middle;\n",
       "    }\n",
       "\n",
       "    .dataframe tbody tr th {\n",
       "        vertical-align: top;\n",
       "    }\n",
       "\n",
       "    .dataframe thead th {\n",
       "        text-align: right;\n",
       "    }\n",
       "</style>\n",
       "<table border=\"1\" class=\"dataframe\">\n",
       "  <thead>\n",
       "    <tr style=\"text-align: right;\">\n",
       "      <th></th>\n",
       "      <th>bmi</th>\n",
       "      <th>charges</th>\n",
       "    </tr>\n",
       "  </thead>\n",
       "  <tbody>\n",
       "    <tr>\n",
       "      <th>0</th>\n",
       "      <td>27.90</td>\n",
       "      <td>16,884.92</td>\n",
       "    </tr>\n",
       "    <tr>\n",
       "      <th>11</th>\n",
       "      <td>26.29</td>\n",
       "      <td>27,808.73</td>\n",
       "    </tr>\n",
       "    <tr>\n",
       "      <th>14</th>\n",
       "      <td>42.13</td>\n",
       "      <td>39,611.76</td>\n",
       "    </tr>\n",
       "    <tr>\n",
       "      <th>19</th>\n",
       "      <td>35.30</td>\n",
       "      <td>36,837.47</td>\n",
       "    </tr>\n",
       "    <tr>\n",
       "      <th>23</th>\n",
       "      <td>31.92</td>\n",
       "      <td>37,701.88</td>\n",
       "    </tr>\n",
       "  </tbody>\n",
       "</table>\n",
       "</div>"
      ],
      "text/plain": [
       "     bmi   charges\n",
       "0  27.90 16,884.92\n",
       "11 26.29 27,808.73\n",
       "14 42.13 39,611.76\n",
       "19 35.30 36,837.47\n",
       "23 31.92 37,701.88"
      ]
     },
     "execution_count": 3,
     "metadata": {},
     "output_type": "execute_result"
    },
    {
     "data": {
      "text/plain": [
       "274"
      ]
     },
     "execution_count": 3,
     "metadata": {},
     "output_type": "execute_result"
    }
   ],
   "source": [
    "# subset data to only include columns for smokers\n",
    "\n",
    "subset_data = insurance_data[insurance_data['smoker'] == 'yes'].drop(columns = ['age', 'sex', 'children', 'smoker', 'region'])\n",
    "\n",
    "subset_data.head()\n",
    "\n",
    "len(subset_data)"
   ]
  },
  {
   "cell_type": "code",
   "execution_count": 4,
   "metadata": {},
   "outputs": [
    {
     "data": {
      "text/plain": [
       "843    29.81\n",
       "375    28.31\n",
       "85     22.89\n",
       "292    45.54\n",
       "373    32.90\n",
       "        ... \n",
       "1323   40.37\n",
       "420    33.88\n",
       "549    46.20\n",
       "607    23.66\n",
       "966    24.80\n",
       "Name: bmi, Length: 205, dtype: float64"
      ]
     },
     "execution_count": 4,
     "metadata": {},
     "output_type": "execute_result"
    },
    {
     "data": {
      "text/plain": [
       "465    28.38\n",
       "609    37.80\n",
       "1321   26.70\n",
       "1118   35.75\n",
       "92     29.83\n",
       "        ... \n",
       "94     31.30\n",
       "1207   33.40\n",
       "1204   27.28\n",
       "19     35.30\n",
       "157    25.18\n",
       "Name: bmi, Length: 69, dtype: float64"
      ]
     },
     "execution_count": 4,
     "metadata": {},
     "output_type": "execute_result"
    },
    {
     "data": {
      "text/plain": [
       "843    27,533.91\n",
       "375    18,033.97\n",
       "85     21,098.55\n",
       "292    42,112.24\n",
       "373    36,085.22\n",
       "          ...   \n",
       "1323   43,896.38\n",
       "420    46,889.26\n",
       "549    45,863.21\n",
       "607    25,678.78\n",
       "966    23,967.38\n",
       "Name: charges, Length: 205, dtype: float64"
      ]
     },
     "execution_count": 4,
     "metadata": {},
     "output_type": "execute_result"
    },
    {
     "data": {
      "text/plain": [
       "465    19,521.97\n",
       "609    39,241.44\n",
       "1321   28,101.33\n",
       "1118   38,282.75\n",
       "92     30,184.94\n",
       "          ...   \n",
       "94     47,291.06\n",
       "1207   38,415.47\n",
       "1204   18,223.45\n",
       "19     36,837.47\n",
       "157    15,518.18\n",
       "Name: charges, Length: 69, dtype: float64"
      ]
     },
     "execution_count": 4,
     "metadata": {},
     "output_type": "execute_result"
    }
   ],
   "source": [
    "X_train, X_test, y_train, y_test = train_test_split(subset_data['bmi'], subset_data['charges'], test_size=0.25)\n",
    "# Pick a random_state as below and keep using the same number (example 35) to repeat the same test and train data\n",
    "# X_train, X_test, y_train, y_test = train_test_split(subset_data['bmi'], subset_data['charges'], test_size=0.25, random_state=35)\n",
    "X_train\n",
    "X_test\n",
    "y_train\n",
    "y_test"
   ]
  },
  {
   "cell_type": "code",
   "execution_count": 5,
   "metadata": {},
   "outputs": [
    {
     "data": {
      "text/plain": [
       "LinearRegression()"
      ]
     },
     "execution_count": 5,
     "metadata": {},
     "output_type": "execute_result"
    },
    {
     "data": {
      "text/plain": [
       "0.6331612630193303"
      ]
     },
     "execution_count": 5,
     "metadata": {},
     "output_type": "execute_result"
    },
    {
     "data": {
      "text/plain": [
       "array([1415.73233291])"
      ]
     },
     "execution_count": 5,
     "metadata": {},
     "output_type": "execute_result"
    },
    {
     "data": {
      "text/plain": [
       "-11349.438216737675"
      ]
     },
     "execution_count": 5,
     "metadata": {},
     "output_type": "execute_result"
    }
   ],
   "source": [
    "model = LinearRegression(fit_intercept = True)\n",
    "\n",
    "model.fit(X_train.array.reshape(-1, 1), y_train) # When extending to multiple features remove .array.reshape(-1, 1)\n",
    "\n",
    "# The following gives the R-square score\n",
    "model.score(X_train.array.reshape(-1, 1), y_train) # When extending to multiple features remove .array.reshape(-1, 1)\n",
    "\n",
    "# This is the coefficient Beta_1 (or slope of the Simple Linear Regression line)\n",
    "model.coef_\n",
    "\n",
    "# This is the coefficient Beta_0\n",
    "model.intercept_"
   ]
  },
  {
   "cell_type": "code",
   "execution_count": 6,
   "metadata": {},
   "outputs": [
    {
     "data": {
      "text/html": [
       "<div>\n",
       "<style scoped>\n",
       "    .dataframe tbody tr th:only-of-type {\n",
       "        vertical-align: middle;\n",
       "    }\n",
       "\n",
       "    .dataframe tbody tr th {\n",
       "        vertical-align: top;\n",
       "    }\n",
       "\n",
       "    .dataframe thead th {\n",
       "        text-align: right;\n",
       "    }\n",
       "</style>\n",
       "<table border=\"1\" class=\"dataframe\">\n",
       "  <thead>\n",
       "    <tr style=\"text-align: right;\">\n",
       "      <th></th>\n",
       "      <th>pred_charges</th>\n",
       "    </tr>\n",
       "  </thead>\n",
       "  <tbody>\n",
       "    <tr>\n",
       "      <th>465</th>\n",
       "      <td>28,829.05</td>\n",
       "    </tr>\n",
       "    <tr>\n",
       "      <th>609</th>\n",
       "      <td>42,165.24</td>\n",
       "    </tr>\n",
       "    <tr>\n",
       "      <th>1321</th>\n",
       "      <td>26,443.54</td>\n",
       "    </tr>\n",
       "    <tr>\n",
       "      <th>1118</th>\n",
       "      <td>39,262.99</td>\n",
       "    </tr>\n",
       "    <tr>\n",
       "      <th>92</th>\n",
       "      <td>30,881.86</td>\n",
       "    </tr>\n",
       "  </tbody>\n",
       "</table>\n",
       "</div>"
      ],
      "text/plain": [
       "      pred_charges\n",
       "465      28,829.05\n",
       "609      42,165.24\n",
       "1321     26,443.54\n",
       "1118     39,262.99\n",
       "92       30,881.86"
      ]
     },
     "execution_count": 6,
     "metadata": {},
     "output_type": "execute_result"
    }
   ],
   "source": [
    "test_output = pd.DataFrame(model.predict(X_test.array.reshape(-1, 1)), index = X_test.index, columns = ['pred_charges'])\n",
    "# When extending to multiple features remove .array.reshape(-1, 1)\n",
    "test_output.head()"
   ]
  },
  {
   "cell_type": "code",
   "execution_count": 9,
   "metadata": {},
   "outputs": [
    {
     "data": {
      "text/html": [
       "<div>\n",
       "<style scoped>\n",
       "    .dataframe tbody tr th:only-of-type {\n",
       "        vertical-align: middle;\n",
       "    }\n",
       "\n",
       "    .dataframe tbody tr th {\n",
       "        vertical-align: top;\n",
       "    }\n",
       "\n",
       "    .dataframe thead th {\n",
       "        text-align: right;\n",
       "    }\n",
       "</style>\n",
       "<table border=\"1\" class=\"dataframe\">\n",
       "  <thead>\n",
       "    <tr style=\"text-align: right;\">\n",
       "      <th></th>\n",
       "      <th>pred_charges</th>\n",
       "      <th>charges_x</th>\n",
       "      <th>charges_y</th>\n",
       "    </tr>\n",
       "  </thead>\n",
       "  <tbody>\n",
       "    <tr>\n",
       "      <th>465</th>\n",
       "      <td>28,829.05</td>\n",
       "      <td>19,521.97</td>\n",
       "      <td>19,521.97</td>\n",
       "    </tr>\n",
       "    <tr>\n",
       "      <th>609</th>\n",
       "      <td>42,165.24</td>\n",
       "      <td>39,241.44</td>\n",
       "      <td>39,241.44</td>\n",
       "    </tr>\n",
       "    <tr>\n",
       "      <th>1321</th>\n",
       "      <td>26,443.54</td>\n",
       "      <td>28,101.33</td>\n",
       "      <td>28,101.33</td>\n",
       "    </tr>\n",
       "    <tr>\n",
       "      <th>1118</th>\n",
       "      <td>39,262.99</td>\n",
       "      <td>38,282.75</td>\n",
       "      <td>38,282.75</td>\n",
       "    </tr>\n",
       "    <tr>\n",
       "      <th>92</th>\n",
       "      <td>30,881.86</td>\n",
       "      <td>30,184.94</td>\n",
       "      <td>30,184.94</td>\n",
       "    </tr>\n",
       "  </tbody>\n",
       "</table>\n",
       "</div>"
      ],
      "text/plain": [
       "      pred_charges  charges_x  charges_y\n",
       "465      28,829.05  19,521.97  19,521.97\n",
       "609      42,165.24  39,241.44  39,241.44\n",
       "1321     26,443.54  28,101.33  28,101.33\n",
       "1118     39,262.99  38,282.75  38,282.75\n",
       "92       30,881.86  30,184.94  30,184.94"
      ]
     },
     "execution_count": 9,
     "metadata": {},
     "output_type": "execute_result"
    },
    {
     "ename": "KeyError",
     "evalue": "'charges'",
     "output_type": "error",
     "traceback": [
      "\u001b[0;31m---------------------------------------------------------------------------\u001b[0m",
      "\u001b[0;31mKeyError\u001b[0m                                  Traceback (most recent call last)",
      "File \u001b[0;32m~/opt/anaconda3/lib/python3.9/site-packages/pandas/core/indexes/base.py:3621\u001b[0m, in \u001b[0;36mIndex.get_loc\u001b[0;34m(self, key, method, tolerance)\u001b[0m\n\u001b[1;32m   3620\u001b[0m \u001b[38;5;28;01mtry\u001b[39;00m:\n\u001b[0;32m-> 3621\u001b[0m     \u001b[38;5;28;01mreturn\u001b[39;00m \u001b[38;5;28;43mself\u001b[39;49m\u001b[38;5;241;43m.\u001b[39;49m\u001b[43m_engine\u001b[49m\u001b[38;5;241;43m.\u001b[39;49m\u001b[43mget_loc\u001b[49m\u001b[43m(\u001b[49m\u001b[43mcasted_key\u001b[49m\u001b[43m)\u001b[49m\n\u001b[1;32m   3622\u001b[0m \u001b[38;5;28;01mexcept\u001b[39;00m \u001b[38;5;167;01mKeyError\u001b[39;00m \u001b[38;5;28;01mas\u001b[39;00m err:\n",
      "File \u001b[0;32m~/opt/anaconda3/lib/python3.9/site-packages/pandas/_libs/index.pyx:136\u001b[0m, in \u001b[0;36mpandas._libs.index.IndexEngine.get_loc\u001b[0;34m()\u001b[0m\n",
      "File \u001b[0;32m~/opt/anaconda3/lib/python3.9/site-packages/pandas/_libs/index.pyx:163\u001b[0m, in \u001b[0;36mpandas._libs.index.IndexEngine.get_loc\u001b[0;34m()\u001b[0m\n",
      "File \u001b[0;32mpandas/_libs/hashtable_class_helper.pxi:5198\u001b[0m, in \u001b[0;36mpandas._libs.hashtable.PyObjectHashTable.get_item\u001b[0;34m()\u001b[0m\n",
      "File \u001b[0;32mpandas/_libs/hashtable_class_helper.pxi:5206\u001b[0m, in \u001b[0;36mpandas._libs.hashtable.PyObjectHashTable.get_item\u001b[0;34m()\u001b[0m\n",
      "\u001b[0;31mKeyError\u001b[0m: 'charges'",
      "\nThe above exception was the direct cause of the following exception:\n",
      "\u001b[0;31mKeyError\u001b[0m                                  Traceback (most recent call last)",
      "Input \u001b[0;32mIn [9]\u001b[0m, in \u001b[0;36m<cell line: 3>\u001b[0;34m()\u001b[0m\n\u001b[1;32m      1\u001b[0m test_output \u001b[38;5;241m=\u001b[39m test_output\u001b[38;5;241m.\u001b[39mmerge(y_test, left_index \u001b[38;5;241m=\u001b[39m \u001b[38;5;28;01mTrue\u001b[39;00m, right_index \u001b[38;5;241m=\u001b[39m \u001b[38;5;28;01mTrue\u001b[39;00m)\n\u001b[1;32m      2\u001b[0m test_output\u001b[38;5;241m.\u001b[39mhead()\n\u001b[0;32m----> 3\u001b[0m mean_absolute_error \u001b[38;5;241m=\u001b[39m \u001b[38;5;28mabs\u001b[39m(test_output[\u001b[38;5;124m'\u001b[39m\u001b[38;5;124mpred_charges\u001b[39m\u001b[38;5;124m'\u001b[39m] \u001b[38;5;241m-\u001b[39m \u001b[43mtest_output\u001b[49m\u001b[43m[\u001b[49m\u001b[38;5;124;43m'\u001b[39;49m\u001b[38;5;124;43mcharges\u001b[39;49m\u001b[38;5;124;43m'\u001b[39;49m\u001b[43m]\u001b[49m)\u001b[38;5;241m.\u001b[39mmean()\n\u001b[1;32m      4\u001b[0m \u001b[38;5;28mprint\u001b[39m(\u001b[38;5;124m'\u001b[39m\u001b[38;5;124mMean absolute error is \u001b[39m\u001b[38;5;124m'\u001b[39m)\n\u001b[1;32m      5\u001b[0m \u001b[38;5;28mprint\u001b[39m(mean_absolute_error)\n",
      "File \u001b[0;32m~/opt/anaconda3/lib/python3.9/site-packages/pandas/core/frame.py:3505\u001b[0m, in \u001b[0;36mDataFrame.__getitem__\u001b[0;34m(self, key)\u001b[0m\n\u001b[1;32m   3503\u001b[0m \u001b[38;5;28;01mif\u001b[39;00m \u001b[38;5;28mself\u001b[39m\u001b[38;5;241m.\u001b[39mcolumns\u001b[38;5;241m.\u001b[39mnlevels \u001b[38;5;241m>\u001b[39m \u001b[38;5;241m1\u001b[39m:\n\u001b[1;32m   3504\u001b[0m     \u001b[38;5;28;01mreturn\u001b[39;00m \u001b[38;5;28mself\u001b[39m\u001b[38;5;241m.\u001b[39m_getitem_multilevel(key)\n\u001b[0;32m-> 3505\u001b[0m indexer \u001b[38;5;241m=\u001b[39m \u001b[38;5;28;43mself\u001b[39;49m\u001b[38;5;241;43m.\u001b[39;49m\u001b[43mcolumns\u001b[49m\u001b[38;5;241;43m.\u001b[39;49m\u001b[43mget_loc\u001b[49m\u001b[43m(\u001b[49m\u001b[43mkey\u001b[49m\u001b[43m)\u001b[49m\n\u001b[1;32m   3506\u001b[0m \u001b[38;5;28;01mif\u001b[39;00m is_integer(indexer):\n\u001b[1;32m   3507\u001b[0m     indexer \u001b[38;5;241m=\u001b[39m [indexer]\n",
      "File \u001b[0;32m~/opt/anaconda3/lib/python3.9/site-packages/pandas/core/indexes/base.py:3623\u001b[0m, in \u001b[0;36mIndex.get_loc\u001b[0;34m(self, key, method, tolerance)\u001b[0m\n\u001b[1;32m   3621\u001b[0m     \u001b[38;5;28;01mreturn\u001b[39;00m \u001b[38;5;28mself\u001b[39m\u001b[38;5;241m.\u001b[39m_engine\u001b[38;5;241m.\u001b[39mget_loc(casted_key)\n\u001b[1;32m   3622\u001b[0m \u001b[38;5;28;01mexcept\u001b[39;00m \u001b[38;5;167;01mKeyError\u001b[39;00m \u001b[38;5;28;01mas\u001b[39;00m err:\n\u001b[0;32m-> 3623\u001b[0m     \u001b[38;5;28;01mraise\u001b[39;00m \u001b[38;5;167;01mKeyError\u001b[39;00m(key) \u001b[38;5;28;01mfrom\u001b[39;00m \u001b[38;5;21;01merr\u001b[39;00m\n\u001b[1;32m   3624\u001b[0m \u001b[38;5;28;01mexcept\u001b[39;00m \u001b[38;5;167;01mTypeError\u001b[39;00m:\n\u001b[1;32m   3625\u001b[0m     \u001b[38;5;66;03m# If we have a listlike key, _check_indexing_error will raise\u001b[39;00m\n\u001b[1;32m   3626\u001b[0m     \u001b[38;5;66;03m#  InvalidIndexError. Otherwise we fall through and re-raise\u001b[39;00m\n\u001b[1;32m   3627\u001b[0m     \u001b[38;5;66;03m#  the TypeError.\u001b[39;00m\n\u001b[1;32m   3628\u001b[0m     \u001b[38;5;28mself\u001b[39m\u001b[38;5;241m.\u001b[39m_check_indexing_error(key)\n",
      "\u001b[0;31mKeyError\u001b[0m: 'charges'"
     ]
    }
   ],
   "source": [
    "test_output = test_output.merge(y_test, left_index = True, right_index = True)\n",
    "test_output.head()\n",
    "mean_absolute_error = abs(test_output['pred_charges'] - test_output['charges']).mean()\n",
    "print('Mean absolute error is ')\n",
    "print(mean_absolute_error)"
   ]
  },
  {
   "cell_type": "markdown",
   "metadata": {},
   "source": [
    "#### Visualize data"
   ]
  },
  {
   "cell_type": "code",
   "execution_count": 8,
   "metadata": {
    "code_folding": [
     0
    ]
   },
   "outputs": [
    {
     "data": {
      "text/html": [
       "        <script type=\"text/javascript\">\n",
       "        window.PlotlyConfig = {MathJaxConfig: 'local'};\n",
       "        if (window.MathJax) {MathJax.Hub.Config({SVG: {font: \"STIX-Web\"}});}\n",
       "        if (typeof require !== 'undefined') {\n",
       "        require.undef(\"plotly\");\n",
       "        requirejs.config({\n",
       "            paths: {\n",
       "                'plotly': ['https://cdn.plot.ly/plotly-2.9.0.min']\n",
       "            }\n",
       "        });\n",
       "        require(['plotly'], function(Plotly) {\n",
       "            window._Plotly = Plotly;\n",
       "        });\n",
       "        }\n",
       "        </script>\n",
       "        "
      ]
     },
     "metadata": {},
     "output_type": "display_data"
    }
   ],
   "source": [
    "# define function to import viz libraries\n",
    "import plotly\n",
    "plotly.offline.init_notebook_mode(connected=True)\n",
    "from plotly.graph_objs import *\n",
    "from plotly import tools\n",
    "import plotly.graph_objects as go\n",
    "import seaborn as sns"
   ]
  },
  {
   "cell_type": "code",
   "execution_count": 11,
   "metadata": {},
   "outputs": [
    {
     "data": {
      "application/vnd.plotly.v1+json": {
       "config": {
        "linkText": "Export to plot.ly",
        "plotlyServerURL": "https://plot.ly",
        "showLink": false
       },
       "data": [
        {
         "mode": "markers",
         "name": "Train data actual",
         "type": "scatter",
         "x": [
          26.4,
          30.4,
          35.6,
          31.68,
          32.78,
          41.8,
          28.025,
          47.41,
          28.215,
          33.33,
          20.235,
          33.11,
          30.495,
          47.6,
          32.56,
          39.05,
          22.22,
          39.4,
          46.2,
          24.64,
          41.895,
          40.565,
          32.775,
          42.24,
          28.38,
          23.655,
          22.895,
          32.9,
          22.88,
          31.02,
          21.85,
          35.2,
          27.36,
          29.83,
          30.21,
          21.8,
          25.85,
          31.73,
          30.685,
          20.9,
          27.83,
          17.195,
          30.8,
          24.6,
          35.3,
          25.84,
          19.3,
          36.63,
          30.02,
          28.12,
          28.49,
          34.96,
          28,
          35.625,
          26.29,
          20.045,
          32.015,
          35.53,
          34.485,
          30.78,
          28.31,
          34.4,
          29.83,
          45.54,
          23.76,
          27.645,
          24.7,
          25.41,
          30.36,
          26.41,
          24.42,
          24.795,
          24.13,
          37.07,
          19.95,
          35.86,
          22.61,
          34.8,
          35.3,
          23.98,
          40.15,
          25.3,
          36.96,
          37.05,
          42.35,
          21.755,
          36.19,
          42.9,
          28.025,
          34.2,
          35.75,
          20.13,
          43.89,
          30.9,
          26.125,
          17.29,
          35.09,
          36.67,
          27.835,
          20.52,
          36.67,
          35.5,
          34.96,
          26.695,
          31.065,
          24.75,
          34.2,
          31.73,
          24.42,
          28.12,
          32.45,
          17.955,
          31.4,
          37.8,
          28.31,
          34.21,
          32.775,
          24.32,
          52.58,
          25.1,
          38.94,
          29.07,
          32.7,
          27.6,
          27.74,
          27.28,
          41.14,
          24.89,
          25.3,
          28.025,
          27.9,
          30.495,
          29.925,
          35.97,
          26.7,
          40.92,
          32.2,
          38.95,
          27.36,
          31.825,
          33.4,
          36.3,
          39.9,
          36.3,
          23.37,
          27.7,
          36.765,
          29.81,
          33.5,
          25.7,
          38.06,
          44.88,
          23.21,
          33.63,
          20.045,
          40.37,
          26.07,
          26.03,
          23.655,
          28.93,
          36.08,
          28.5,
          26.98,
          37.07,
          25.6,
          30.25,
          28.3,
          29.81,
          30.875,
          32.3,
          19.8,
          36.385,
          31.92,
          28.31,
          23.845,
          28.31,
          24.795,
          36.955,
          33.8,
          36.86,
          27.1,
          38.39,
          29.15,
          28.5,
          25.175,
          26.885,
          22.99,
          31.4,
          24.42,
          29.92,
          34.9,
          36.48,
          24.4,
          31.35,
          27.06,
          31.68,
          33.88,
          25.555,
          26.885,
          19.095,
          31.35,
          34.105,
          22.99,
          42.13,
          27.94
         ],
         "y": [
          19539.243,
          33907.548,
          35585.576,
          34672.1472,
          36021.0112,
          47269.854,
          20234.85475,
          63770.42801,
          24915.22085,
          36124.5737,
          19594.80965,
          40974.1649,
          40720.55105,
          46113.511,
          40941.2854,
          40932.4295,
          19444.2658,
          38344.566,
          45863.205,
          19515.5416,
          43753.33705,
          45702.02235,
          40003.33225,
          38792.6856,
          19521.9682,
          25678.77845,
          35069.37452,
          36085.219,
          23244.7902,
          35595.5898,
          15359.1045,
          38709.176,
          17178.6824,
          30184.9367,
          43943.8761,
          20167.33603,
          24180.9335,
          33732.6867,
          33475.81715,
          21195.818,
          23065.4207,
          14455.64405,
          41999.52,
          17496.306,
          36837.467,
          23807.2406,
          15820.699,
          42969.8527,
          33307.5508,
          21472.4788,
          18328.2381,
          44641.1974,
          23568.272,
          37465.34375,
          27808.7251,
          19798.05455,
          45710.20785,
          36950.2567,
          60021.39897,
          37270.1512,
          17468.9839,
          36197.699,
          18648.4217,
          42112.2356,
          26926.5144,
          24535.69855,
          21880.82,
          21978.6769,
          62592.87309,
          20149.3229,
          21223.6758,
          17904.52705,
          15817.9857,
          39871.7043,
          22412.6485,
          46599.1084,
          24873.3849,
          34779.615,
          40103.89,
          17663.1442,
          38126.2465,
          24667.419,
          49577.6624,
          46255.1125,
          46151.1245,
          16657.71745,
          41676.0811,
          47462.894,
          17560.37975,
          42856.838,
          40273.6455,
          18767.7377,
          46200.9851,
          39727.614,
          23401.30575,
          12829.4551,
          47055.5321,
          39774.2763,
          20009.63365,
          14571.8908,
          38511.6283,
          44585.45587,
          41034.2214,
          28101.33305,
          34254.05335,
          16577.7795,
          39047.285,
          36189.1017,
          26125.67477,
          22331.5668,
          45008.9555,
          15006.57945,
          34838.873,
          39241.442,
          28868.6639,
          44260.7499,
          39125.33225,
          24869.8368,
          44501.3982,
          25382.297,
          44202.6536,
          17352.6803,
          34472.841,
          24520.264,
          20984.0936,
          18223.4512,
          48970.2476,
          21659.9301,
          18972.495,
          20773.62775,
          16884.924,
          39725.51805,
          22462.04375,
          42124.5153,
          22478.6,
          48673.5588,
          47305.305,
          42983.4585,
          24393.6224,
          41097.16175,
          38415.474,
          47403.88,
          48173.361,
          38711,
          19964.7463,
          16297.846,
          47896.79135,
          19350.3689,
          37079.372,
          17942.106,
          48885.13561,
          39722.7462,
          22218.1149,
          37607.5277,
          16420.49455,
          43896.3763,
          38245.59327,
          16450.8947,
          21677.28345,
          19719.6947,
          42211.1382,
          35147.52848,
          28950.4692,
          37484.4493,
          23306.547,
          32548.3405,
          17081.08,
          27533.9129,
          46718.16325,
          41919.097,
          17179.522,
          48517.56315,
          37701.8768,
          32787.45859,
          24106.91255,
          18033.9679,
          23967.38305,
          47496.49445,
          47928.03,
          46661.4424,
          19040.876,
          41949.2441,
          18246.4955,
          18310.742,
          15518.18025,
          29330.98315,
          17361.7661,
          34166.273,
          19361.9988,
          30942.1918,
          34828.654,
          42760.5022,
          18259.216,
          39556.4945,
          17043.3414,
          34303.1672,
          46889.2612,
          20296.86345,
          21774.32215,
          16776.30405,
          46130.5265,
          43254.41795,
          27037.9141,
          39611.7577,
          19107.7796
         ]
        },
        {
         "mode": "markers",
         "name": "Train data predicted",
         "type": "scatter",
         "x": [
          26.4,
          30.4,
          35.6,
          31.68,
          32.78,
          41.8,
          28.025,
          47.41,
          28.215,
          33.33,
          20.235,
          33.11,
          30.495,
          47.6,
          32.56,
          39.05,
          22.22,
          39.4,
          46.2,
          24.64,
          41.895,
          40.565,
          32.775,
          42.24,
          28.38,
          23.655,
          22.895,
          32.9,
          22.88,
          31.02,
          21.85,
          35.2,
          27.36,
          29.83,
          30.21,
          21.8,
          25.85,
          31.73,
          30.685,
          20.9,
          27.83,
          17.195,
          30.8,
          24.6,
          35.3,
          25.84,
          19.3,
          36.63,
          30.02,
          28.12,
          28.49,
          34.96,
          28,
          35.625,
          26.29,
          20.045,
          32.015,
          35.53,
          34.485,
          30.78,
          28.31,
          34.4,
          29.83,
          45.54,
          23.76,
          27.645,
          24.7,
          25.41,
          30.36,
          26.41,
          24.42,
          24.795,
          24.13,
          37.07,
          19.95,
          35.86,
          22.61,
          34.8,
          35.3,
          23.98,
          40.15,
          25.3,
          36.96,
          37.05,
          42.35,
          21.755,
          36.19,
          42.9,
          28.025,
          34.2,
          35.75,
          20.13,
          43.89,
          30.9,
          26.125,
          17.29,
          35.09,
          36.67,
          27.835,
          20.52,
          36.67,
          35.5,
          34.96,
          26.695,
          31.065,
          24.75,
          34.2,
          31.73,
          24.42,
          28.12,
          32.45,
          17.955,
          31.4,
          37.8,
          28.31,
          34.21,
          32.775,
          24.32,
          52.58,
          25.1,
          38.94,
          29.07,
          32.7,
          27.6,
          27.74,
          27.28,
          41.14,
          24.89,
          25.3,
          28.025,
          27.9,
          30.495,
          29.925,
          35.97,
          26.7,
          40.92,
          32.2,
          38.95,
          27.36,
          31.825,
          33.4,
          36.3,
          39.9,
          36.3,
          23.37,
          27.7,
          36.765,
          29.81,
          33.5,
          25.7,
          38.06,
          44.88,
          23.21,
          33.63,
          20.045,
          40.37,
          26.07,
          26.03,
          23.655,
          28.93,
          36.08,
          28.5,
          26.98,
          37.07,
          25.6,
          30.25,
          28.3,
          29.81,
          30.875,
          32.3,
          19.8,
          36.385,
          31.92,
          28.31,
          23.845,
          28.31,
          24.795,
          36.955,
          33.8,
          36.86,
          27.1,
          38.39,
          29.15,
          28.5,
          25.175,
          26.885,
          22.99,
          31.4,
          24.42,
          29.92,
          34.9,
          36.48,
          24.4,
          31.35,
          27.06,
          31.68,
          33.88,
          25.555,
          26.885,
          19.095,
          31.35,
          34.105,
          22.99,
          42.13,
          27.94
         ],
         "y": [
          25629.7281104512,
          31379.32093459044,
          38853.79160597145,
          33219.190638315,
          34800.32866495329,
          47765.66048338726,
          27965.500195257766,
          55829.46441924255,
          28238.605854404377,
          35590.89767827243,
          16768.1681702466,
          35274.67007294477,
          31515.87376416375,
          56102.570078389166,
          34484.10105962563,
          43812.815416791535,
          19621.403609225697,
          44315.904788903725,
          54090.212589940435,
          23099.907267829934,
          47902.21331296058,
          45990.47369893427,
          34793.141673923106,
          48398.115694042586,
          28475.776558400124,
          21684.070034885648,
          20591.647398299196,
          34972.81644967746,
          20570.08642520867,
          32270.507822332023,
          19089.56627299282,
          38278.83232355753,
          27009.630388244615,
          30560.0039571506,
          31106.21527544383,
          19017.69636269108,
          24839.159097132055,
          33291.06054861673,
          31788.97942331036,
          17724.037977259748,
          27685.20754508098,
          12398.47762390078,
          31954.280217004365,
          23042.411339588543,
          38422.572144161,
          24824.78511507171,
          15424.200847604057,
          40334.31175818731,
          30833.10961629721,
          28102.053024831075,
          28633.890361063954,
          37933.85675410917,
          27929.565240106895,
          38889.72656112232,
          25471.61430778737,
          16495.06251109999,
          33700.719037336654,
          38753.17373154901,
          37251.09260624264,
          31925.53225288367,
          28375.158683977686,
          37128.91375872967,
          30560.0039571506,
          53141.52977395745,
          21834.99684651931,
          27419.288876964536,
          23186.15116019202,
          24206.70388647674,
          31321.82500634905,
          25644.10209251155,
          22783.679662502283,
          23322.703989765338,
          22366.83418275218,
          40966.76696884262,
          16358.50968152668,
          39227.5151395405,
          20181.98890957927,
          37703.8730411436,
          38422.572144161,
          22151.22445184696,
          45393.953443429826,
          24048.59008381291,
          40808.65316617879,
          40938.019004721915,
          48556.229496706415,
          18953.01344341951,
          39701.856547531985,
          49346.798510025554,
          27965.500195257766,
          36841.43411752272,
          39069.40133687667,
          16617.241358612944,
          50769.822734000016,
          32098.020037607843,
          25234.44360379163,
          12535.030453474086,
          38120.7185208937,
          40391.8076864287,
          27692.394536111155,
          17177.82665896652,
          40391.8076864287,
          38710.05178536797,
          37933.85675410917,
          26053.760581231472,
          32335.19074160359,
          23258.021070493764,
          36841.43411752272,
          33291.06054861673,
          22783.679662502283,
          28102.053024831075,
          34325.9872569618,
          13490.900260487233,
          32816.719140625246,
          42016.06765924802,
          28375.158683977686,
          36855.80809958306,
          34793.141673923106,
          22639.9398418988,
          63260.81314444251,
          23761.110442605954,
          43654.701614127705,
          29467.581320564146,
          34685.33680847051,
          27354.605957692977,
          27555.841706537845,
          26894.638531761833,
          46816.977667404295,
          23459.25681933864,
          24048.59008381291,
          27965.500195257766,
          27785.825419503417,
          31515.87376416375,
          30696.556786723908,
          39385.62894220433,
          26060.94757226164,
          46500.75006207664,
          33966.6377054531,
          43669.075596188064,
          27009.630388244615,
          33427.61337819004,
          35691.515552694866,
          39859.970350195814,
          45034.60389192113,
          39859.970350195814,
          21274.411546165727,
          27498.345778296454,
          40528.360516002,
          30531.255993029903,
          35835.25537329835,
          24623.549366226835,
          42389.79119281708,
          52192.846957974485,
          21044.427833200163,
          36022.117140082875,
          16495.06251109999,
          45710.181048757484,
          25155.386702459713,
          25097.890774218322,
          21684.070034885648,
          29266.34557171927,
          39543.742744868156,
          28648.264343124298,
          26463.419069951393,
          40966.76696884262,
          24479.809545623357,
          31163.71120368522,
          28360.784701917342,
          30531.255993029903,
          32062.08508245697,
          34110.377526056574,
          16142.89995062146,
          39982.14919770877,
          33564.16620776335,
          28375.158683977686,
          21957.17569403226,
          28375.158683977686,
          23322.703989765338,
          40801.46617514861,
          36266.474835108784,
          40664.9133455753,
          26635.906854675573,
          42864.13260080857,
          29582.57317704693,
          28648.264343124298,
          23868.91530805856,
          26326.866240378084,
          20728.200227872498,
          32816.719140625246,
          22783.679662502283,
          30689.369795693732,
          37847.61286174708,
          40118.702027282074,
          22754.93169838158,
          32744.84923032351,
          26578.410926434175,
          33219.190638315,
          36381.46669159158,
          24415.12662635179,
          26326.866240378084,
          15129.534215366919,
          32744.84923032351,
          36704.8812879494,
          20728.200227872498,
          48240.00189137876,
          27843.321347744808
         ]
        },
        {
         "mode": "markers",
         "name": "Test data actual",
         "type": "scatter",
         "x": [
          21.565,
          40.565,
          37.62,
          32.49,
          33.63,
          36.955,
          25.27,
          34.8,
          27.3,
          18.3,
          37.7,
          24.605,
          29.8,
          38.17,
          34.1,
          32.8,
          34.7,
          42.13,
          33.535,
          24.13,
          28.975,
          17.765,
          31.92,
          31.79,
          30.685,
          38.39,
          31.13,
          21.66,
          27.74,
          23.655,
          38.095,
          34.105,
          30.8,
          26.695,
          30.2,
          34.6,
          30,
          42.75,
          34.39,
          30.2,
          22.895,
          34.43,
          35.53,
          31.3,
          26.84,
          29.07,
          36.85,
          38.06,
          36.08,
          22.895,
          36.4,
          22.42,
          29.7,
          26.6,
          28.3,
          25.9,
          30.78,
          38.06,
          35.2,
          33.11,
          35.75,
          35.53,
          28.69,
          27.8,
          28.88,
          21.85,
          21.7,
          22.6,
          31.16
         ],
         "y": [
          13747.87235,
          48549.17835,
          37165.1638,
          36898.73308,
          43921.1837,
          36219.40545,
          21771.3423,
          39836.519,
          16232.847,
          19023.26,
          48824.45,
          21259.37795,
          25309.489,
          36307.7983,
          40182.246,
          52590.82939,
          36397.576,
          48675.5177,
          34617.84065,
          23887.6627,
          27218.43725,
          32734.1863,
          33750.2918,
          43813.8661,
          42303.69215,
          40419.0191,
          34806.4677,
          14283.4594,
          29523.1656,
          18765.87545,
          58571.07448,
          39983.42595,
          35491.64,
          26109.32905,
          33900.653,
          41661.602,
          22144.032,
          40904.1995,
          38746.3551,
          38998.546,
          16138.76205,
          37742.5757,
          55135.40209,
          47291.055,
          17085.2676,
          29141.3603,
          36149.4835,
          44400.4064,
          37133.8982,
          21098.55405,
          51194.55914,
          14711.7438,
          19933.458,
          21348.706,
          21082.16,
          19199.944,
          39597.4072,
          42560.4304,
          44423.803,
          34439.8559,
          38282.7495,
          42111.6647,
          20745.9891,
          37829.7242,
          17748.5062,
          16115.3045,
          13844.506,
          18608.262,
          43578.9394
         ]
        },
        {
         "mode": "markers",
         "name": "Test data predicted",
         "type": "scatter",
         "x": [
          21.565,
          40.565,
          37.62,
          32.49,
          33.63,
          36.955,
          25.27,
          34.8,
          27.3,
          18.3,
          37.7,
          24.605,
          29.8,
          38.17,
          34.1,
          32.8,
          34.7,
          42.13,
          33.535,
          24.13,
          28.975,
          17.765,
          31.92,
          31.79,
          30.685,
          38.39,
          31.13,
          21.66,
          27.74,
          23.655,
          38.095,
          34.105,
          30.8,
          26.695,
          30.2,
          34.6,
          30,
          42.75,
          34.39,
          30.2,
          22.895,
          34.43,
          35.53,
          31.3,
          26.84,
          29.07,
          36.85,
          38.06,
          36.08,
          22.895,
          36.4,
          22.42,
          29.7,
          26.6,
          28.3,
          25.9,
          30.78,
          38.06,
          35.2,
          33.11,
          35.75,
          35.53,
          28.69,
          27.8,
          28.88,
          21.85,
          21.7,
          22.6,
          31.16
         ],
         "y": [
          18679.9077842729,
          45990.47369893427,
          41757.335982161756,
          34383.48318520319,
          36022.117140082875,
          40801.46617514861,
          24005.46813763187,
          37703.8730411436,
          26923.38649588253,
          13986.802641569247,
          41872.32783864455,
          23049.59833061872,
          30516.88201096955,
          42547.90499548091,
          36697.69429691924,
          34829.07662907398,
          37560.13322054013,
          48240.00189137876,
          35885.56431050956,
          22366.83418275218,
          29331.028490990837,
          13217.794601340622,
          33564.16620776335,
          33377.30444097882,
          31788.97942331036,
          42864.13260080857,
          32428.621624995845,
          18816.460613846204,
          27555.841706537845,
          21684.070034885648,
          42440.100130028295,
          36704.8812879494,
          31954.280217004365,
          26053.760581231472,
          31091.841293383477,
          37416.39339993664,
          30804.361652176514,
          49131.18877912033,
          37114.53977666933,
          31091.841293383477,
          20591.647398299196,
          37172.03570491072,
          38753.17373154901,
          32672.97932002177,
          26262.183321106517,
          29467.581320564146,
          40650.53936351496,
          42389.79119281708,
          39543.742744868156,
          20591.647398299196,
          40003.71017079929,
          19908.883250432664,
          30373.142190366074,
          25917.207751658163,
          28360.784701917342,
          24911.029007433797,
          31925.53225288367,
          42389.79119281708,
          38278.83232355753,
          35274.67007294477,
          39069.40133687667,
          38753.17373154901,
          28921.370002270916,
          27642.08559889994,
          29194.475661417528,
          19089.56627299282,
          18873.956542087595,
          20167.614927518927,
          32471.743571176892
         ]
        }
       ],
       "layout": {
        "template": {
         "data": {
          "bar": [
           {
            "error_x": {
             "color": "#2a3f5f"
            },
            "error_y": {
             "color": "#2a3f5f"
            },
            "marker": {
             "line": {
              "color": "#E5ECF6",
              "width": 0.5
             },
             "pattern": {
              "fillmode": "overlay",
              "size": 10,
              "solidity": 0.2
             }
            },
            "type": "bar"
           }
          ],
          "barpolar": [
           {
            "marker": {
             "line": {
              "color": "#E5ECF6",
              "width": 0.5
             },
             "pattern": {
              "fillmode": "overlay",
              "size": 10,
              "solidity": 0.2
             }
            },
            "type": "barpolar"
           }
          ],
          "carpet": [
           {
            "aaxis": {
             "endlinecolor": "#2a3f5f",
             "gridcolor": "white",
             "linecolor": "white",
             "minorgridcolor": "white",
             "startlinecolor": "#2a3f5f"
            },
            "baxis": {
             "endlinecolor": "#2a3f5f",
             "gridcolor": "white",
             "linecolor": "white",
             "minorgridcolor": "white",
             "startlinecolor": "#2a3f5f"
            },
            "type": "carpet"
           }
          ],
          "choropleth": [
           {
            "colorbar": {
             "outlinewidth": 0,
             "ticks": ""
            },
            "type": "choropleth"
           }
          ],
          "contour": [
           {
            "colorbar": {
             "outlinewidth": 0,
             "ticks": ""
            },
            "colorscale": [
             [
              0,
              "#0d0887"
             ],
             [
              0.1111111111111111,
              "#46039f"
             ],
             [
              0.2222222222222222,
              "#7201a8"
             ],
             [
              0.3333333333333333,
              "#9c179e"
             ],
             [
              0.4444444444444444,
              "#bd3786"
             ],
             [
              0.5555555555555556,
              "#d8576b"
             ],
             [
              0.6666666666666666,
              "#ed7953"
             ],
             [
              0.7777777777777778,
              "#fb9f3a"
             ],
             [
              0.8888888888888888,
              "#fdca26"
             ],
             [
              1,
              "#f0f921"
             ]
            ],
            "type": "contour"
           }
          ],
          "contourcarpet": [
           {
            "colorbar": {
             "outlinewidth": 0,
             "ticks": ""
            },
            "type": "contourcarpet"
           }
          ],
          "heatmap": [
           {
            "colorbar": {
             "outlinewidth": 0,
             "ticks": ""
            },
            "colorscale": [
             [
              0,
              "#0d0887"
             ],
             [
              0.1111111111111111,
              "#46039f"
             ],
             [
              0.2222222222222222,
              "#7201a8"
             ],
             [
              0.3333333333333333,
              "#9c179e"
             ],
             [
              0.4444444444444444,
              "#bd3786"
             ],
             [
              0.5555555555555556,
              "#d8576b"
             ],
             [
              0.6666666666666666,
              "#ed7953"
             ],
             [
              0.7777777777777778,
              "#fb9f3a"
             ],
             [
              0.8888888888888888,
              "#fdca26"
             ],
             [
              1,
              "#f0f921"
             ]
            ],
            "type": "heatmap"
           }
          ],
          "heatmapgl": [
           {
            "colorbar": {
             "outlinewidth": 0,
             "ticks": ""
            },
            "colorscale": [
             [
              0,
              "#0d0887"
             ],
             [
              0.1111111111111111,
              "#46039f"
             ],
             [
              0.2222222222222222,
              "#7201a8"
             ],
             [
              0.3333333333333333,
              "#9c179e"
             ],
             [
              0.4444444444444444,
              "#bd3786"
             ],
             [
              0.5555555555555556,
              "#d8576b"
             ],
             [
              0.6666666666666666,
              "#ed7953"
             ],
             [
              0.7777777777777778,
              "#fb9f3a"
             ],
             [
              0.8888888888888888,
              "#fdca26"
             ],
             [
              1,
              "#f0f921"
             ]
            ],
            "type": "heatmapgl"
           }
          ],
          "histogram": [
           {
            "marker": {
             "pattern": {
              "fillmode": "overlay",
              "size": 10,
              "solidity": 0.2
             }
            },
            "type": "histogram"
           }
          ],
          "histogram2d": [
           {
            "colorbar": {
             "outlinewidth": 0,
             "ticks": ""
            },
            "colorscale": [
             [
              0,
              "#0d0887"
             ],
             [
              0.1111111111111111,
              "#46039f"
             ],
             [
              0.2222222222222222,
              "#7201a8"
             ],
             [
              0.3333333333333333,
              "#9c179e"
             ],
             [
              0.4444444444444444,
              "#bd3786"
             ],
             [
              0.5555555555555556,
              "#d8576b"
             ],
             [
              0.6666666666666666,
              "#ed7953"
             ],
             [
              0.7777777777777778,
              "#fb9f3a"
             ],
             [
              0.8888888888888888,
              "#fdca26"
             ],
             [
              1,
              "#f0f921"
             ]
            ],
            "type": "histogram2d"
           }
          ],
          "histogram2dcontour": [
           {
            "colorbar": {
             "outlinewidth": 0,
             "ticks": ""
            },
            "colorscale": [
             [
              0,
              "#0d0887"
             ],
             [
              0.1111111111111111,
              "#46039f"
             ],
             [
              0.2222222222222222,
              "#7201a8"
             ],
             [
              0.3333333333333333,
              "#9c179e"
             ],
             [
              0.4444444444444444,
              "#bd3786"
             ],
             [
              0.5555555555555556,
              "#d8576b"
             ],
             [
              0.6666666666666666,
              "#ed7953"
             ],
             [
              0.7777777777777778,
              "#fb9f3a"
             ],
             [
              0.8888888888888888,
              "#fdca26"
             ],
             [
              1,
              "#f0f921"
             ]
            ],
            "type": "histogram2dcontour"
           }
          ],
          "mesh3d": [
           {
            "colorbar": {
             "outlinewidth": 0,
             "ticks": ""
            },
            "type": "mesh3d"
           }
          ],
          "parcoords": [
           {
            "line": {
             "colorbar": {
              "outlinewidth": 0,
              "ticks": ""
             }
            },
            "type": "parcoords"
           }
          ],
          "pie": [
           {
            "automargin": true,
            "type": "pie"
           }
          ],
          "scatter": [
           {
            "marker": {
             "colorbar": {
              "outlinewidth": 0,
              "ticks": ""
             }
            },
            "type": "scatter"
           }
          ],
          "scatter3d": [
           {
            "line": {
             "colorbar": {
              "outlinewidth": 0,
              "ticks": ""
             }
            },
            "marker": {
             "colorbar": {
              "outlinewidth": 0,
              "ticks": ""
             }
            },
            "type": "scatter3d"
           }
          ],
          "scattercarpet": [
           {
            "marker": {
             "colorbar": {
              "outlinewidth": 0,
              "ticks": ""
             }
            },
            "type": "scattercarpet"
           }
          ],
          "scattergeo": [
           {
            "marker": {
             "colorbar": {
              "outlinewidth": 0,
              "ticks": ""
             }
            },
            "type": "scattergeo"
           }
          ],
          "scattergl": [
           {
            "marker": {
             "colorbar": {
              "outlinewidth": 0,
              "ticks": ""
             }
            },
            "type": "scattergl"
           }
          ],
          "scattermapbox": [
           {
            "marker": {
             "colorbar": {
              "outlinewidth": 0,
              "ticks": ""
             }
            },
            "type": "scattermapbox"
           }
          ],
          "scatterpolar": [
           {
            "marker": {
             "colorbar": {
              "outlinewidth": 0,
              "ticks": ""
             }
            },
            "type": "scatterpolar"
           }
          ],
          "scatterpolargl": [
           {
            "marker": {
             "colorbar": {
              "outlinewidth": 0,
              "ticks": ""
             }
            },
            "type": "scatterpolargl"
           }
          ],
          "scatterternary": [
           {
            "marker": {
             "colorbar": {
              "outlinewidth": 0,
              "ticks": ""
             }
            },
            "type": "scatterternary"
           }
          ],
          "surface": [
           {
            "colorbar": {
             "outlinewidth": 0,
             "ticks": ""
            },
            "colorscale": [
             [
              0,
              "#0d0887"
             ],
             [
              0.1111111111111111,
              "#46039f"
             ],
             [
              0.2222222222222222,
              "#7201a8"
             ],
             [
              0.3333333333333333,
              "#9c179e"
             ],
             [
              0.4444444444444444,
              "#bd3786"
             ],
             [
              0.5555555555555556,
              "#d8576b"
             ],
             [
              0.6666666666666666,
              "#ed7953"
             ],
             [
              0.7777777777777778,
              "#fb9f3a"
             ],
             [
              0.8888888888888888,
              "#fdca26"
             ],
             [
              1,
              "#f0f921"
             ]
            ],
            "type": "surface"
           }
          ],
          "table": [
           {
            "cells": {
             "fill": {
              "color": "#EBF0F8"
             },
             "line": {
              "color": "white"
             }
            },
            "header": {
             "fill": {
              "color": "#C8D4E3"
             },
             "line": {
              "color": "white"
             }
            },
            "type": "table"
           }
          ]
         },
         "layout": {
          "annotationdefaults": {
           "arrowcolor": "#2a3f5f",
           "arrowhead": 0,
           "arrowwidth": 1
          },
          "autotypenumbers": "strict",
          "coloraxis": {
           "colorbar": {
            "outlinewidth": 0,
            "ticks": ""
           }
          },
          "colorscale": {
           "diverging": [
            [
             0,
             "#8e0152"
            ],
            [
             0.1,
             "#c51b7d"
            ],
            [
             0.2,
             "#de77ae"
            ],
            [
             0.3,
             "#f1b6da"
            ],
            [
             0.4,
             "#fde0ef"
            ],
            [
             0.5,
             "#f7f7f7"
            ],
            [
             0.6,
             "#e6f5d0"
            ],
            [
             0.7,
             "#b8e186"
            ],
            [
             0.8,
             "#7fbc41"
            ],
            [
             0.9,
             "#4d9221"
            ],
            [
             1,
             "#276419"
            ]
           ],
           "sequential": [
            [
             0,
             "#0d0887"
            ],
            [
             0.1111111111111111,
             "#46039f"
            ],
            [
             0.2222222222222222,
             "#7201a8"
            ],
            [
             0.3333333333333333,
             "#9c179e"
            ],
            [
             0.4444444444444444,
             "#bd3786"
            ],
            [
             0.5555555555555556,
             "#d8576b"
            ],
            [
             0.6666666666666666,
             "#ed7953"
            ],
            [
             0.7777777777777778,
             "#fb9f3a"
            ],
            [
             0.8888888888888888,
             "#fdca26"
            ],
            [
             1,
             "#f0f921"
            ]
           ],
           "sequentialminus": [
            [
             0,
             "#0d0887"
            ],
            [
             0.1111111111111111,
             "#46039f"
            ],
            [
             0.2222222222222222,
             "#7201a8"
            ],
            [
             0.3333333333333333,
             "#9c179e"
            ],
            [
             0.4444444444444444,
             "#bd3786"
            ],
            [
             0.5555555555555556,
             "#d8576b"
            ],
            [
             0.6666666666666666,
             "#ed7953"
            ],
            [
             0.7777777777777778,
             "#fb9f3a"
            ],
            [
             0.8888888888888888,
             "#fdca26"
            ],
            [
             1,
             "#f0f921"
            ]
           ]
          },
          "colorway": [
           "#636efa",
           "#EF553B",
           "#00cc96",
           "#ab63fa",
           "#FFA15A",
           "#19d3f3",
           "#FF6692",
           "#B6E880",
           "#FF97FF",
           "#FECB52"
          ],
          "font": {
           "color": "#2a3f5f"
          },
          "geo": {
           "bgcolor": "white",
           "lakecolor": "white",
           "landcolor": "#E5ECF6",
           "showlakes": true,
           "showland": true,
           "subunitcolor": "white"
          },
          "hoverlabel": {
           "align": "left"
          },
          "hovermode": "closest",
          "mapbox": {
           "style": "light"
          },
          "paper_bgcolor": "white",
          "plot_bgcolor": "#E5ECF6",
          "polar": {
           "angularaxis": {
            "gridcolor": "white",
            "linecolor": "white",
            "ticks": ""
           },
           "bgcolor": "#E5ECF6",
           "radialaxis": {
            "gridcolor": "white",
            "linecolor": "white",
            "ticks": ""
           }
          },
          "scene": {
           "xaxis": {
            "backgroundcolor": "#E5ECF6",
            "gridcolor": "white",
            "gridwidth": 2,
            "linecolor": "white",
            "showbackground": true,
            "ticks": "",
            "zerolinecolor": "white"
           },
           "yaxis": {
            "backgroundcolor": "#E5ECF6",
            "gridcolor": "white",
            "gridwidth": 2,
            "linecolor": "white",
            "showbackground": true,
            "ticks": "",
            "zerolinecolor": "white"
           },
           "zaxis": {
            "backgroundcolor": "#E5ECF6",
            "gridcolor": "white",
            "gridwidth": 2,
            "linecolor": "white",
            "showbackground": true,
            "ticks": "",
            "zerolinecolor": "white"
           }
          },
          "shapedefaults": {
           "line": {
            "color": "#2a3f5f"
           }
          },
          "ternary": {
           "aaxis": {
            "gridcolor": "white",
            "linecolor": "white",
            "ticks": ""
           },
           "baxis": {
            "gridcolor": "white",
            "linecolor": "white",
            "ticks": ""
           },
           "bgcolor": "#E5ECF6",
           "caxis": {
            "gridcolor": "white",
            "linecolor": "white",
            "ticks": ""
           }
          },
          "title": {
           "x": 0.05
          },
          "xaxis": {
           "automargin": true,
           "gridcolor": "white",
           "linecolor": "white",
           "ticks": "",
           "title": {
            "standoff": 15
           },
           "zerolinecolor": "white",
           "zerolinewidth": 2
          },
          "yaxis": {
           "automargin": true,
           "gridcolor": "white",
           "linecolor": "white",
           "ticks": "",
           "title": {
            "standoff": 15
           },
           "zerolinecolor": "white",
           "zerolinewidth": 2
          }
         }
        },
        "title": {
         "text": "Plot of predicted and actual"
        },
        "xaxis": {
         "title": {
          "text": "bmi"
         }
        },
        "yaxis": {
         "title": {
          "text": "charges"
         }
        }
       }
      },
      "text/html": [
       "<div>                            <div id=\"45a82875-253f-4e55-8c67-3e747886e225\" class=\"plotly-graph-div\" style=\"height:525px; width:100%;\"></div>            <script type=\"text/javascript\">                require([\"plotly\"], function(Plotly) {                    window.PLOTLYENV=window.PLOTLYENV || {};                                    if (document.getElementById(\"45a82875-253f-4e55-8c67-3e747886e225\")) {                    Plotly.newPlot(                        \"45a82875-253f-4e55-8c67-3e747886e225\",                        [{\"mode\":\"markers\",\"name\":\"Train data actual\",\"x\":[26.4,30.4,35.6,31.68,32.78,41.8,28.025,47.41,28.215,33.33,20.235,33.11,30.495,47.6,32.56,39.05,22.22,39.4,46.2,24.64,41.895,40.565,32.775,42.24,28.38,23.655,22.895,32.9,22.88,31.02,21.85,35.2,27.36,29.83,30.21,21.8,25.85,31.73,30.685,20.9,27.83,17.195,30.8,24.6,35.3,25.84,19.3,36.63,30.02,28.12,28.49,34.96,28.0,35.625,26.29,20.045,32.015,35.53,34.485,30.78,28.31,34.4,29.83,45.54,23.76,27.645,24.7,25.41,30.36,26.41,24.42,24.795,24.13,37.07,19.95,35.86,22.61,34.8,35.3,23.98,40.15,25.3,36.96,37.05,42.35,21.755,36.19,42.9,28.025,34.2,35.75,20.13,43.89,30.9,26.125,17.29,35.09,36.67,27.835,20.52,36.67,35.5,34.96,26.695,31.065,24.75,34.2,31.73,24.42,28.12,32.45,17.955,31.4,37.8,28.31,34.21,32.775,24.32,52.58,25.1,38.94,29.07,32.7,27.6,27.74,27.28,41.14,24.89,25.3,28.025,27.9,30.495,29.925,35.97,26.7,40.92,32.2,38.95,27.36,31.825,33.4,36.3,39.9,36.3,23.37,27.7,36.765,29.81,33.5,25.7,38.06,44.88,23.21,33.63,20.045,40.37,26.07,26.03,23.655,28.93,36.08,28.5,26.98,37.07,25.6,30.25,28.3,29.81,30.875,32.3,19.8,36.385,31.92,28.31,23.845,28.31,24.795,36.955,33.8,36.86,27.1,38.39,29.15,28.5,25.175,26.885,22.99,31.4,24.42,29.92,34.9,36.48,24.4,31.35,27.06,31.68,33.88,25.555,26.885,19.095,31.35,34.105,22.99,42.13,27.94],\"y\":[19539.243,33907.548,35585.576,34672.1472,36021.0112,47269.854,20234.85475,63770.42801,24915.22085,36124.5737,19594.80965,40974.1649,40720.55105,46113.511,40941.2854,40932.4295,19444.2658,38344.566,45863.205,19515.5416,43753.33705,45702.02235,40003.33225,38792.6856,19521.9682,25678.77845,35069.37452,36085.219,23244.7902,35595.5898,15359.1045,38709.176,17178.6824,30184.9367,43943.8761,20167.33603,24180.9335,33732.6867,33475.81715,21195.818,23065.4207,14455.64405,41999.52,17496.306,36837.467,23807.2406,15820.699,42969.8527,33307.5508,21472.4788,18328.2381,44641.1974,23568.272,37465.34375,27808.7251,19798.05455,45710.20785,36950.2567,60021.39897,37270.1512,17468.9839,36197.699,18648.4217,42112.2356,26926.5144,24535.69855,21880.82,21978.6769,62592.87309,20149.3229,21223.6758,17904.52705,15817.9857,39871.7043,22412.6485,46599.1084,24873.3849,34779.615,40103.89,17663.1442,38126.2465,24667.419,49577.6624,46255.1125,46151.1245,16657.71745,41676.0811,47462.894,17560.37975,42856.838,40273.6455,18767.7377,46200.9851,39727.614,23401.30575,12829.4551,47055.5321,39774.2763,20009.63365,14571.8908,38511.6283,44585.45587,41034.2214,28101.33305,34254.05335,16577.7795,39047.285,36189.1017,26125.67477,22331.5668,45008.9555,15006.57945,34838.873,39241.442,28868.6639,44260.7499,39125.33225,24869.8368,44501.3982,25382.297,44202.6536,17352.6803,34472.841,24520.264,20984.0936,18223.4512,48970.2476,21659.9301,18972.495,20773.62775,16884.924,39725.51805,22462.04375,42124.5153,22478.6,48673.5588,47305.305,42983.4585,24393.6224,41097.16175,38415.474,47403.88,48173.361,38711.0,19964.7463,16297.846,47896.79135,19350.3689,37079.372,17942.106,48885.13561,39722.7462,22218.1149,37607.5277,16420.49455,43896.3763,38245.59327,16450.8947,21677.28345,19719.6947,42211.1382,35147.52848,28950.4692,37484.4493,23306.547,32548.3405,17081.08,27533.9129,46718.16325,41919.097,17179.522,48517.56315,37701.8768,32787.45859,24106.91255,18033.9679,23967.38305,47496.49445,47928.03,46661.4424,19040.876,41949.2441,18246.4955,18310.742,15518.18025,29330.98315,17361.7661,34166.273,19361.9988,30942.1918,34828.654,42760.5022,18259.216,39556.4945,17043.3414,34303.1672,46889.2612,20296.86345,21774.32215,16776.30405,46130.5265,43254.41795,27037.9141,39611.7577,19107.7796],\"type\":\"scatter\"},{\"mode\":\"markers\",\"name\":\"Train data predicted\",\"x\":[26.4,30.4,35.6,31.68,32.78,41.8,28.025,47.41,28.215,33.33,20.235,33.11,30.495,47.6,32.56,39.05,22.22,39.4,46.2,24.64,41.895,40.565,32.775,42.24,28.38,23.655,22.895,32.9,22.88,31.02,21.85,35.2,27.36,29.83,30.21,21.8,25.85,31.73,30.685,20.9,27.83,17.195,30.8,24.6,35.3,25.84,19.3,36.63,30.02,28.12,28.49,34.96,28.0,35.625,26.29,20.045,32.015,35.53,34.485,30.78,28.31,34.4,29.83,45.54,23.76,27.645,24.7,25.41,30.36,26.41,24.42,24.795,24.13,37.07,19.95,35.86,22.61,34.8,35.3,23.98,40.15,25.3,36.96,37.05,42.35,21.755,36.19,42.9,28.025,34.2,35.75,20.13,43.89,30.9,26.125,17.29,35.09,36.67,27.835,20.52,36.67,35.5,34.96,26.695,31.065,24.75,34.2,31.73,24.42,28.12,32.45,17.955,31.4,37.8,28.31,34.21,32.775,24.32,52.58,25.1,38.94,29.07,32.7,27.6,27.74,27.28,41.14,24.89,25.3,28.025,27.9,30.495,29.925,35.97,26.7,40.92,32.2,38.95,27.36,31.825,33.4,36.3,39.9,36.3,23.37,27.7,36.765,29.81,33.5,25.7,38.06,44.88,23.21,33.63,20.045,40.37,26.07,26.03,23.655,28.93,36.08,28.5,26.98,37.07,25.6,30.25,28.3,29.81,30.875,32.3,19.8,36.385,31.92,28.31,23.845,28.31,24.795,36.955,33.8,36.86,27.1,38.39,29.15,28.5,25.175,26.885,22.99,31.4,24.42,29.92,34.9,36.48,24.4,31.35,27.06,31.68,33.88,25.555,26.885,19.095,31.35,34.105,22.99,42.13,27.94],\"y\":[25629.7281104512,31379.32093459044,38853.79160597145,33219.190638315,34800.32866495329,47765.66048338726,27965.500195257766,55829.46441924255,28238.605854404377,35590.89767827243,16768.1681702466,35274.67007294477,31515.87376416375,56102.570078389166,34484.10105962563,43812.815416791535,19621.403609225697,44315.904788903725,54090.212589940435,23099.907267829934,47902.21331296058,45990.47369893427,34793.141673923106,48398.115694042586,28475.776558400124,21684.070034885648,20591.647398299196,34972.81644967746,20570.08642520867,32270.507822332023,19089.56627299282,38278.83232355753,27009.630388244615,30560.0039571506,31106.21527544383,19017.69636269108,24839.159097132055,33291.06054861673,31788.97942331036,17724.037977259748,27685.20754508098,12398.47762390078,31954.280217004365,23042.411339588543,38422.572144161,24824.78511507171,15424.200847604057,40334.31175818731,30833.10961629721,28102.053024831075,28633.890361063954,37933.85675410917,27929.565240106895,38889.72656112232,25471.61430778737,16495.06251109999,33700.719037336654,38753.17373154901,37251.09260624264,31925.53225288367,28375.158683977686,37128.91375872967,30560.0039571506,53141.52977395745,21834.99684651931,27419.288876964536,23186.15116019202,24206.70388647674,31321.82500634905,25644.10209251155,22783.679662502283,23322.703989765338,22366.83418275218,40966.76696884262,16358.50968152668,39227.5151395405,20181.98890957927,37703.8730411436,38422.572144161,22151.22445184696,45393.953443429826,24048.59008381291,40808.65316617879,40938.019004721915,48556.229496706415,18953.01344341951,39701.856547531985,49346.798510025554,27965.500195257766,36841.43411752272,39069.40133687667,16617.241358612944,50769.822734000016,32098.020037607843,25234.44360379163,12535.030453474086,38120.7185208937,40391.8076864287,27692.394536111155,17177.82665896652,40391.8076864287,38710.05178536797,37933.85675410917,26053.760581231472,32335.19074160359,23258.021070493764,36841.43411752272,33291.06054861673,22783.679662502283,28102.053024831075,34325.9872569618,13490.900260487233,32816.719140625246,42016.06765924802,28375.158683977686,36855.80809958306,34793.141673923106,22639.9398418988,63260.81314444251,23761.110442605954,43654.701614127705,29467.581320564146,34685.33680847051,27354.605957692977,27555.841706537845,26894.638531761833,46816.977667404295,23459.25681933864,24048.59008381291,27965.500195257766,27785.825419503417,31515.87376416375,30696.556786723908,39385.62894220433,26060.94757226164,46500.75006207664,33966.6377054531,43669.075596188064,27009.630388244615,33427.61337819004,35691.515552694866,39859.970350195814,45034.60389192113,39859.970350195814,21274.411546165727,27498.345778296454,40528.360516002,30531.255993029903,35835.25537329835,24623.549366226835,42389.79119281708,52192.846957974485,21044.427833200163,36022.117140082875,16495.06251109999,45710.181048757484,25155.386702459713,25097.890774218322,21684.070034885648,29266.34557171927,39543.742744868156,28648.264343124298,26463.419069951393,40966.76696884262,24479.809545623357,31163.71120368522,28360.784701917342,30531.255993029903,32062.08508245697,34110.377526056574,16142.89995062146,39982.14919770877,33564.16620776335,28375.158683977686,21957.17569403226,28375.158683977686,23322.703989765338,40801.46617514861,36266.474835108784,40664.9133455753,26635.906854675573,42864.13260080857,29582.57317704693,28648.264343124298,23868.91530805856,26326.866240378084,20728.200227872498,32816.719140625246,22783.679662502283,30689.369795693732,37847.61286174708,40118.702027282074,22754.93169838158,32744.84923032351,26578.410926434175,33219.190638315,36381.46669159158,24415.12662635179,26326.866240378084,15129.534215366919,32744.84923032351,36704.8812879494,20728.200227872498,48240.00189137876,27843.321347744808],\"type\":\"scatter\"},{\"mode\":\"markers\",\"name\":\"Test data actual\",\"x\":[21.565,40.565,37.62,32.49,33.63,36.955,25.27,34.8,27.3,18.3,37.7,24.605,29.8,38.17,34.1,32.8,34.7,42.13,33.535,24.13,28.975,17.765,31.92,31.79,30.685,38.39,31.13,21.66,27.74,23.655,38.095,34.105,30.8,26.695,30.2,34.6,30.0,42.75,34.39,30.2,22.895,34.43,35.53,31.3,26.84,29.07,36.85,38.06,36.08,22.895,36.4,22.42,29.7,26.6,28.3,25.9,30.78,38.06,35.2,33.11,35.75,35.53,28.69,27.8,28.88,21.85,21.7,22.6,31.16],\"y\":[13747.87235,48549.17835,37165.1638,36898.73308,43921.1837,36219.40545,21771.3423,39836.519,16232.847,19023.26,48824.45,21259.37795,25309.489,36307.7983,40182.246,52590.82939,36397.576,48675.5177,34617.84065,23887.6627,27218.43725,32734.1863,33750.2918,43813.8661,42303.69215,40419.0191,34806.4677,14283.4594,29523.1656,18765.87545,58571.07448,39983.42595,35491.64,26109.32905,33900.653,41661.602,22144.032,40904.1995,38746.3551,38998.546,16138.76205,37742.5757,55135.40209,47291.055,17085.2676,29141.3603,36149.4835,44400.4064,37133.8982,21098.55405,51194.55914,14711.7438,19933.458,21348.706,21082.16,19199.944,39597.4072,42560.4304,44423.803,34439.8559,38282.7495,42111.6647,20745.9891,37829.7242,17748.5062,16115.3045,13844.506,18608.262,43578.9394],\"type\":\"scatter\"},{\"mode\":\"markers\",\"name\":\"Test data predicted\",\"x\":[21.565,40.565,37.62,32.49,33.63,36.955,25.27,34.8,27.3,18.3,37.7,24.605,29.8,38.17,34.1,32.8,34.7,42.13,33.535,24.13,28.975,17.765,31.92,31.79,30.685,38.39,31.13,21.66,27.74,23.655,38.095,34.105,30.8,26.695,30.2,34.6,30.0,42.75,34.39,30.2,22.895,34.43,35.53,31.3,26.84,29.07,36.85,38.06,36.08,22.895,36.4,22.42,29.7,26.6,28.3,25.9,30.78,38.06,35.2,33.11,35.75,35.53,28.69,27.8,28.88,21.85,21.7,22.6,31.16],\"y\":[18679.9077842729,45990.47369893427,41757.335982161756,34383.48318520319,36022.117140082875,40801.46617514861,24005.46813763187,37703.8730411436,26923.38649588253,13986.802641569247,41872.32783864455,23049.59833061872,30516.88201096955,42547.90499548091,36697.69429691924,34829.07662907398,37560.13322054013,48240.00189137876,35885.56431050956,22366.83418275218,29331.028490990837,13217.794601340622,33564.16620776335,33377.30444097882,31788.97942331036,42864.13260080857,32428.621624995845,18816.460613846204,27555.841706537845,21684.070034885648,42440.100130028295,36704.8812879494,31954.280217004365,26053.760581231472,31091.841293383477,37416.39339993664,30804.361652176514,49131.18877912033,37114.53977666933,31091.841293383477,20591.647398299196,37172.03570491072,38753.17373154901,32672.97932002177,26262.183321106517,29467.581320564146,40650.53936351496,42389.79119281708,39543.742744868156,20591.647398299196,40003.71017079929,19908.883250432664,30373.142190366074,25917.207751658163,28360.784701917342,24911.029007433797,31925.53225288367,42389.79119281708,38278.83232355753,35274.67007294477,39069.40133687667,38753.17373154901,28921.370002270916,27642.08559889994,29194.475661417528,19089.56627299282,18873.956542087595,20167.614927518927,32471.743571176892],\"type\":\"scatter\"}],                        {\"template\":{\"data\":{\"barpolar\":[{\"marker\":{\"line\":{\"color\":\"#E5ECF6\",\"width\":0.5},\"pattern\":{\"fillmode\":\"overlay\",\"size\":10,\"solidity\":0.2}},\"type\":\"barpolar\"}],\"bar\":[{\"error_x\":{\"color\":\"#2a3f5f\"},\"error_y\":{\"color\":\"#2a3f5f\"},\"marker\":{\"line\":{\"color\":\"#E5ECF6\",\"width\":0.5},\"pattern\":{\"fillmode\":\"overlay\",\"size\":10,\"solidity\":0.2}},\"type\":\"bar\"}],\"carpet\":[{\"aaxis\":{\"endlinecolor\":\"#2a3f5f\",\"gridcolor\":\"white\",\"linecolor\":\"white\",\"minorgridcolor\":\"white\",\"startlinecolor\":\"#2a3f5f\"},\"baxis\":{\"endlinecolor\":\"#2a3f5f\",\"gridcolor\":\"white\",\"linecolor\":\"white\",\"minorgridcolor\":\"white\",\"startlinecolor\":\"#2a3f5f\"},\"type\":\"carpet\"}],\"choropleth\":[{\"colorbar\":{\"outlinewidth\":0,\"ticks\":\"\"},\"type\":\"choropleth\"}],\"contourcarpet\":[{\"colorbar\":{\"outlinewidth\":0,\"ticks\":\"\"},\"type\":\"contourcarpet\"}],\"contour\":[{\"colorbar\":{\"outlinewidth\":0,\"ticks\":\"\"},\"colorscale\":[[0.0,\"#0d0887\"],[0.1111111111111111,\"#46039f\"],[0.2222222222222222,\"#7201a8\"],[0.3333333333333333,\"#9c179e\"],[0.4444444444444444,\"#bd3786\"],[0.5555555555555556,\"#d8576b\"],[0.6666666666666666,\"#ed7953\"],[0.7777777777777778,\"#fb9f3a\"],[0.8888888888888888,\"#fdca26\"],[1.0,\"#f0f921\"]],\"type\":\"contour\"}],\"heatmapgl\":[{\"colorbar\":{\"outlinewidth\":0,\"ticks\":\"\"},\"colorscale\":[[0.0,\"#0d0887\"],[0.1111111111111111,\"#46039f\"],[0.2222222222222222,\"#7201a8\"],[0.3333333333333333,\"#9c179e\"],[0.4444444444444444,\"#bd3786\"],[0.5555555555555556,\"#d8576b\"],[0.6666666666666666,\"#ed7953\"],[0.7777777777777778,\"#fb9f3a\"],[0.8888888888888888,\"#fdca26\"],[1.0,\"#f0f921\"]],\"type\":\"heatmapgl\"}],\"heatmap\":[{\"colorbar\":{\"outlinewidth\":0,\"ticks\":\"\"},\"colorscale\":[[0.0,\"#0d0887\"],[0.1111111111111111,\"#46039f\"],[0.2222222222222222,\"#7201a8\"],[0.3333333333333333,\"#9c179e\"],[0.4444444444444444,\"#bd3786\"],[0.5555555555555556,\"#d8576b\"],[0.6666666666666666,\"#ed7953\"],[0.7777777777777778,\"#fb9f3a\"],[0.8888888888888888,\"#fdca26\"],[1.0,\"#f0f921\"]],\"type\":\"heatmap\"}],\"histogram2dcontour\":[{\"colorbar\":{\"outlinewidth\":0,\"ticks\":\"\"},\"colorscale\":[[0.0,\"#0d0887\"],[0.1111111111111111,\"#46039f\"],[0.2222222222222222,\"#7201a8\"],[0.3333333333333333,\"#9c179e\"],[0.4444444444444444,\"#bd3786\"],[0.5555555555555556,\"#d8576b\"],[0.6666666666666666,\"#ed7953\"],[0.7777777777777778,\"#fb9f3a\"],[0.8888888888888888,\"#fdca26\"],[1.0,\"#f0f921\"]],\"type\":\"histogram2dcontour\"}],\"histogram2d\":[{\"colorbar\":{\"outlinewidth\":0,\"ticks\":\"\"},\"colorscale\":[[0.0,\"#0d0887\"],[0.1111111111111111,\"#46039f\"],[0.2222222222222222,\"#7201a8\"],[0.3333333333333333,\"#9c179e\"],[0.4444444444444444,\"#bd3786\"],[0.5555555555555556,\"#d8576b\"],[0.6666666666666666,\"#ed7953\"],[0.7777777777777778,\"#fb9f3a\"],[0.8888888888888888,\"#fdca26\"],[1.0,\"#f0f921\"]],\"type\":\"histogram2d\"}],\"histogram\":[{\"marker\":{\"pattern\":{\"fillmode\":\"overlay\",\"size\":10,\"solidity\":0.2}},\"type\":\"histogram\"}],\"mesh3d\":[{\"colorbar\":{\"outlinewidth\":0,\"ticks\":\"\"},\"type\":\"mesh3d\"}],\"parcoords\":[{\"line\":{\"colorbar\":{\"outlinewidth\":0,\"ticks\":\"\"}},\"type\":\"parcoords\"}],\"pie\":[{\"automargin\":true,\"type\":\"pie\"}],\"scatter3d\":[{\"line\":{\"colorbar\":{\"outlinewidth\":0,\"ticks\":\"\"}},\"marker\":{\"colorbar\":{\"outlinewidth\":0,\"ticks\":\"\"}},\"type\":\"scatter3d\"}],\"scattercarpet\":[{\"marker\":{\"colorbar\":{\"outlinewidth\":0,\"ticks\":\"\"}},\"type\":\"scattercarpet\"}],\"scattergeo\":[{\"marker\":{\"colorbar\":{\"outlinewidth\":0,\"ticks\":\"\"}},\"type\":\"scattergeo\"}],\"scattergl\":[{\"marker\":{\"colorbar\":{\"outlinewidth\":0,\"ticks\":\"\"}},\"type\":\"scattergl\"}],\"scattermapbox\":[{\"marker\":{\"colorbar\":{\"outlinewidth\":0,\"ticks\":\"\"}},\"type\":\"scattermapbox\"}],\"scatterpolargl\":[{\"marker\":{\"colorbar\":{\"outlinewidth\":0,\"ticks\":\"\"}},\"type\":\"scatterpolargl\"}],\"scatterpolar\":[{\"marker\":{\"colorbar\":{\"outlinewidth\":0,\"ticks\":\"\"}},\"type\":\"scatterpolar\"}],\"scatter\":[{\"marker\":{\"colorbar\":{\"outlinewidth\":0,\"ticks\":\"\"}},\"type\":\"scatter\"}],\"scatterternary\":[{\"marker\":{\"colorbar\":{\"outlinewidth\":0,\"ticks\":\"\"}},\"type\":\"scatterternary\"}],\"surface\":[{\"colorbar\":{\"outlinewidth\":0,\"ticks\":\"\"},\"colorscale\":[[0.0,\"#0d0887\"],[0.1111111111111111,\"#46039f\"],[0.2222222222222222,\"#7201a8\"],[0.3333333333333333,\"#9c179e\"],[0.4444444444444444,\"#bd3786\"],[0.5555555555555556,\"#d8576b\"],[0.6666666666666666,\"#ed7953\"],[0.7777777777777778,\"#fb9f3a\"],[0.8888888888888888,\"#fdca26\"],[1.0,\"#f0f921\"]],\"type\":\"surface\"}],\"table\":[{\"cells\":{\"fill\":{\"color\":\"#EBF0F8\"},\"line\":{\"color\":\"white\"}},\"header\":{\"fill\":{\"color\":\"#C8D4E3\"},\"line\":{\"color\":\"white\"}},\"type\":\"table\"}]},\"layout\":{\"annotationdefaults\":{\"arrowcolor\":\"#2a3f5f\",\"arrowhead\":0,\"arrowwidth\":1},\"autotypenumbers\":\"strict\",\"coloraxis\":{\"colorbar\":{\"outlinewidth\":0,\"ticks\":\"\"}},\"colorscale\":{\"diverging\":[[0,\"#8e0152\"],[0.1,\"#c51b7d\"],[0.2,\"#de77ae\"],[0.3,\"#f1b6da\"],[0.4,\"#fde0ef\"],[0.5,\"#f7f7f7\"],[0.6,\"#e6f5d0\"],[0.7,\"#b8e186\"],[0.8,\"#7fbc41\"],[0.9,\"#4d9221\"],[1,\"#276419\"]],\"sequential\":[[0.0,\"#0d0887\"],[0.1111111111111111,\"#46039f\"],[0.2222222222222222,\"#7201a8\"],[0.3333333333333333,\"#9c179e\"],[0.4444444444444444,\"#bd3786\"],[0.5555555555555556,\"#d8576b\"],[0.6666666666666666,\"#ed7953\"],[0.7777777777777778,\"#fb9f3a\"],[0.8888888888888888,\"#fdca26\"],[1.0,\"#f0f921\"]],\"sequentialminus\":[[0.0,\"#0d0887\"],[0.1111111111111111,\"#46039f\"],[0.2222222222222222,\"#7201a8\"],[0.3333333333333333,\"#9c179e\"],[0.4444444444444444,\"#bd3786\"],[0.5555555555555556,\"#d8576b\"],[0.6666666666666666,\"#ed7953\"],[0.7777777777777778,\"#fb9f3a\"],[0.8888888888888888,\"#fdca26\"],[1.0,\"#f0f921\"]]},\"colorway\":[\"#636efa\",\"#EF553B\",\"#00cc96\",\"#ab63fa\",\"#FFA15A\",\"#19d3f3\",\"#FF6692\",\"#B6E880\",\"#FF97FF\",\"#FECB52\"],\"font\":{\"color\":\"#2a3f5f\"},\"geo\":{\"bgcolor\":\"white\",\"lakecolor\":\"white\",\"landcolor\":\"#E5ECF6\",\"showlakes\":true,\"showland\":true,\"subunitcolor\":\"white\"},\"hoverlabel\":{\"align\":\"left\"},\"hovermode\":\"closest\",\"mapbox\":{\"style\":\"light\"},\"paper_bgcolor\":\"white\",\"plot_bgcolor\":\"#E5ECF6\",\"polar\":{\"angularaxis\":{\"gridcolor\":\"white\",\"linecolor\":\"white\",\"ticks\":\"\"},\"bgcolor\":\"#E5ECF6\",\"radialaxis\":{\"gridcolor\":\"white\",\"linecolor\":\"white\",\"ticks\":\"\"}},\"scene\":{\"xaxis\":{\"backgroundcolor\":\"#E5ECF6\",\"gridcolor\":\"white\",\"gridwidth\":2,\"linecolor\":\"white\",\"showbackground\":true,\"ticks\":\"\",\"zerolinecolor\":\"white\"},\"yaxis\":{\"backgroundcolor\":\"#E5ECF6\",\"gridcolor\":\"white\",\"gridwidth\":2,\"linecolor\":\"white\",\"showbackground\":true,\"ticks\":\"\",\"zerolinecolor\":\"white\"},\"zaxis\":{\"backgroundcolor\":\"#E5ECF6\",\"gridcolor\":\"white\",\"gridwidth\":2,\"linecolor\":\"white\",\"showbackground\":true,\"ticks\":\"\",\"zerolinecolor\":\"white\"}},\"shapedefaults\":{\"line\":{\"color\":\"#2a3f5f\"}},\"ternary\":{\"aaxis\":{\"gridcolor\":\"white\",\"linecolor\":\"white\",\"ticks\":\"\"},\"baxis\":{\"gridcolor\":\"white\",\"linecolor\":\"white\",\"ticks\":\"\"},\"bgcolor\":\"#E5ECF6\",\"caxis\":{\"gridcolor\":\"white\",\"linecolor\":\"white\",\"ticks\":\"\"}},\"title\":{\"x\":0.05},\"xaxis\":{\"automargin\":true,\"gridcolor\":\"white\",\"linecolor\":\"white\",\"ticks\":\"\",\"title\":{\"standoff\":15},\"zerolinecolor\":\"white\",\"zerolinewidth\":2},\"yaxis\":{\"automargin\":true,\"gridcolor\":\"white\",\"linecolor\":\"white\",\"ticks\":\"\",\"title\":{\"standoff\":15},\"zerolinecolor\":\"white\",\"zerolinewidth\":2}}},\"title\":{\"text\":\"Plot of predicted and actual\"},\"xaxis\":{\"title\":{\"text\":\"bmi\"}},\"yaxis\":{\"title\":{\"text\":\"charges\"}}},                        {\"responsive\": true}                    ).then(function(){\n",
       "                            \n",
       "var gd = document.getElementById('45a82875-253f-4e55-8c67-3e747886e225');\n",
       "var x = new MutationObserver(function (mutations, observer) {{\n",
       "        var display = window.getComputedStyle(gd).display;\n",
       "        if (!display || display === 'none') {{\n",
       "            console.log([gd, 'removed!']);\n",
       "            Plotly.purge(gd);\n",
       "            observer.disconnect();\n",
       "        }}\n",
       "}});\n",
       "\n",
       "// Listen for the removal of the full notebook cells\n",
       "var notebookContainer = gd.closest('#notebook-container');\n",
       "if (notebookContainer) {{\n",
       "    x.observe(notebookContainer, {childList: true});\n",
       "}}\n",
       "\n",
       "// Listen for the clearing of the current output cell\n",
       "var outputEl = gd.closest('.output');\n",
       "if (outputEl) {{\n",
       "    x.observe(outputEl, {childList: true});\n",
       "}}\n",
       "\n",
       "                        })                };                });            </script>        </div>"
      ]
     },
     "metadata": {},
     "output_type": "display_data"
    }
   ],
   "source": [
    "plot_data = []\n",
    "plot_data.append(go.Scatter(x= X_train, y= y_train, name = 'Train data actual', mode = 'markers'))\n",
    "plot_data.append(go.Scatter(x= X_train, y= model.predict(X_train.array.reshape(-1, 1)), name = 'Train data predicted', mode = 'markers'))\n",
    "plot_data.append(go.Scatter(x= X_test, y= y_test, name = 'Test data actual', mode = 'markers'))\n",
    "plot_data.append(go.Scatter(x= X_test, y= model.predict(X_test.array.reshape(-1, 1)), name = 'Test data predicted', mode = 'markers'))\n",
    "# When extending to multiple features remove .array.reshape(-1, 1) in above (but remember 2-d we cannot draw)\n",
    "\n",
    "layout = go.Layout(xaxis = dict(title='bmi'), yaxis = dict(title= 'charges'), \n",
    "                   title = 'Plot of predicted and actual')\n",
    "fig = go.Figure(data= plot_data, layout=layout)\n",
    "plotly.offline.iplot(fig)\n"
   ]
  },
  {
   "cell_type": "code",
   "execution_count": null,
   "metadata": {},
   "outputs": [],
   "source": []
  }
 ],
 "metadata": {
  "kernelspec": {
   "display_name": "Python 3 (ipykernel)",
   "language": "python",
   "name": "python3"
  },
  "language_info": {
   "codemirror_mode": {
    "name": "ipython",
    "version": 3
   },
   "file_extension": ".py",
   "mimetype": "text/x-python",
   "name": "python",
   "nbconvert_exporter": "python",
   "pygments_lexer": "ipython3",
   "version": "3.9.12"
  }
 },
 "nbformat": 4,
 "nbformat_minor": 2
}
