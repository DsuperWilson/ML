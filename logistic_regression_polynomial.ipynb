{
 "cells": [
  {
   "cell_type": "code",
   "execution_count": 1,
   "metadata": {
    "code_folding": [
     0
    ]
   },
   "outputs": [],
   "source": [
    "# Generic inputs for most ML tasks\n",
    "import pandas as pd\n",
    "import numpy as np\n",
    "import matplotlib.pyplot as plt\n",
    "from sklearn.model_selection import train_test_split\n",
    "from sklearn.linear_model import LinearRegression\n",
    "# This is new\n",
    "from sklearn.linear_model import LogisticRegression\n",
    "from sklearn.linear_model import Ridge\n",
    "from sklearn.linear_model import Lasso\n",
    "from sklearn.ensemble import RandomForestRegressor\n",
    "\n",
    "pd.options.display.float_format = '{:,.2f}'.format\n",
    "\n",
    "# setup interactive notebook mode\n",
    "from IPython.core.interactiveshell import InteractiveShell\n",
    "InteractiveShell.ast_node_interactivity = \"all\"\n",
    "\n",
    "from IPython.display import display, HTML"
   ]
  },
  {
   "cell_type": "markdown",
   "metadata": {},
   "source": [
    "#### Read and pre-process data"
   ]
  },
  {
   "cell_type": "code",
   "execution_count": 2,
   "metadata": {
    "code_folding": [
     0
    ]
   },
   "outputs": [
    {
     "data": {
      "text/html": [
       "<div>\n",
       "<style scoped>\n",
       "    .dataframe tbody tr th:only-of-type {\n",
       "        vertical-align: middle;\n",
       "    }\n",
       "\n",
       "    .dataframe tbody tr th {\n",
       "        vertical-align: top;\n",
       "    }\n",
       "\n",
       "    .dataframe thead th {\n",
       "        text-align: right;\n",
       "    }\n",
       "</style>\n",
       "<table border=\"1\" class=\"dataframe\">\n",
       "  <thead>\n",
       "    <tr style=\"text-align: right;\">\n",
       "      <th></th>\n",
       "      <th>Test 1</th>\n",
       "      <th>Test 2</th>\n",
       "      <th>Accept</th>\n",
       "    </tr>\n",
       "  </thead>\n",
       "  <tbody>\n",
       "    <tr>\n",
       "      <th>0</th>\n",
       "      <td>0.05</td>\n",
       "      <td>0.70</td>\n",
       "      <td>1</td>\n",
       "    </tr>\n",
       "    <tr>\n",
       "      <th>1</th>\n",
       "      <td>-0.09</td>\n",
       "      <td>0.68</td>\n",
       "      <td>1</td>\n",
       "    </tr>\n",
       "    <tr>\n",
       "      <th>2</th>\n",
       "      <td>-0.21</td>\n",
       "      <td>0.69</td>\n",
       "      <td>1</td>\n",
       "    </tr>\n",
       "    <tr>\n",
       "      <th>3</th>\n",
       "      <td>-0.38</td>\n",
       "      <td>0.50</td>\n",
       "      <td>1</td>\n",
       "    </tr>\n",
       "    <tr>\n",
       "      <th>4</th>\n",
       "      <td>-0.51</td>\n",
       "      <td>0.47</td>\n",
       "      <td>1</td>\n",
       "    </tr>\n",
       "  </tbody>\n",
       "</table>\n",
       "</div>"
      ],
      "text/plain": [
       "   Test 1  Test 2  Accept\n",
       "0    0.05    0.70       1\n",
       "1   -0.09    0.68       1\n",
       "2   -0.21    0.69       1\n",
       "3   -0.38    0.50       1\n",
       "4   -0.51    0.47       1"
      ]
     },
     "execution_count": 2,
     "metadata": {},
     "output_type": "execute_result"
    },
    {
     "data": {
      "text/html": [
       "<div>\n",
       "<style scoped>\n",
       "    .dataframe tbody tr th:only-of-type {\n",
       "        vertical-align: middle;\n",
       "    }\n",
       "\n",
       "    .dataframe tbody tr th {\n",
       "        vertical-align: top;\n",
       "    }\n",
       "\n",
       "    .dataframe thead th {\n",
       "        text-align: right;\n",
       "    }\n",
       "</style>\n",
       "<table border=\"1\" class=\"dataframe\">\n",
       "  <thead>\n",
       "    <tr style=\"text-align: right;\">\n",
       "      <th></th>\n",
       "      <th>Test 1</th>\n",
       "      <th>Test 2</th>\n",
       "      <th>Accept</th>\n",
       "    </tr>\n",
       "  </thead>\n",
       "  <tbody>\n",
       "    <tr>\n",
       "      <th>113</th>\n",
       "      <td>-0.72</td>\n",
       "      <td>0.54</td>\n",
       "      <td>0</td>\n",
       "    </tr>\n",
       "    <tr>\n",
       "      <th>114</th>\n",
       "      <td>-0.59</td>\n",
       "      <td>0.49</td>\n",
       "      <td>0</td>\n",
       "    </tr>\n",
       "    <tr>\n",
       "      <th>115</th>\n",
       "      <td>-0.48</td>\n",
       "      <td>1.00</td>\n",
       "      <td>0</td>\n",
       "    </tr>\n",
       "    <tr>\n",
       "      <th>116</th>\n",
       "      <td>-0.01</td>\n",
       "      <td>1.00</td>\n",
       "      <td>0</td>\n",
       "    </tr>\n",
       "    <tr>\n",
       "      <th>117</th>\n",
       "      <td>0.63</td>\n",
       "      <td>-0.03</td>\n",
       "      <td>0</td>\n",
       "    </tr>\n",
       "  </tbody>\n",
       "</table>\n",
       "</div>"
      ],
      "text/plain": [
       "     Test 1  Test 2  Accept\n",
       "113   -0.72    0.54       0\n",
       "114   -0.59    0.49       0\n",
       "115   -0.48    1.00       0\n",
       "116   -0.01    1.00       0\n",
       "117    0.63   -0.03       0"
      ]
     },
     "execution_count": 2,
     "metadata": {},
     "output_type": "execute_result"
    }
   ],
   "source": [
    "qc_data = pd.read_csv('Datasets/quality_data_ng.csv')\n",
    "qc_data.head()\n",
    "qc_data.tail()"
   ]
  },
  {
   "cell_type": "code",
   "execution_count": 3,
   "metadata": {},
   "outputs": [
    {
     "data": {
      "text/plain": [
       "<matplotlib.collections.PathCollection at 0x7f9ec0092f70>"
      ]
     },
     "execution_count": 3,
     "metadata": {},
     "output_type": "execute_result"
    },
    {
     "data": {
      "text/plain": [
       "<matplotlib.collections.PathCollection at 0x7f9ec00ab6a0>"
      ]
     },
     "execution_count": 3,
     "metadata": {},
     "output_type": "execute_result"
    },
    {
     "data": {
      "text/plain": [
       "Text(0.5, 0, 'Test 1')"
      ]
     },
     "execution_count": 3,
     "metadata": {},
     "output_type": "execute_result"
    },
    {
     "data": {
      "text/plain": [
       "Text(0, 0.5, 'Test 2')"
      ]
     },
     "execution_count": 3,
     "metadata": {},
     "output_type": "execute_result"
    },
    {
     "data": {
      "text/plain": [
       "<matplotlib.legend.Legend at 0x7f9ebb88ae50>"
      ]
     },
     "execution_count": 3,
     "metadata": {},
     "output_type": "execute_result"
    },
    {
     "data": {
      "image/png": "[encoded data removed]",
      "text/plain": [
       "<Figure size 432x288 with 1 Axes>"
      ]
     },
     "metadata": {
      "needs_background": "light"
     },
     "output_type": "display_data"
    }
   ],
   "source": [
    "# plot the features against the classification\n",
    "X0 = qc_data[qc_data['Accept'] == 0]\n",
    "X1 = qc_data[qc_data['Accept'] == 1]\n",
    "plt.scatter(X0['Test 1'], X0['Test 2'], color = 'red', marker = 'o', label = 'reject')\n",
    "plt.scatter(X1['Test 1'], X1['Test 2'], color = 'blue', marker = 'x', label = 'accept')\n",
    "plt.xlabel('Test 1')\n",
    "plt.ylabel('Test 2')\n",
    "plt.legend(loc='lower left')\n",
    "plt.show()"
   ]
  },
  {
   "cell_type": "code",
   "execution_count": 4,
   "metadata": {},
   "outputs": [
    {
     "data": {
      "text/html": [
       "<div>\n",
       "<style scoped>\n",
       "    .dataframe tbody tr th:only-of-type {\n",
       "        vertical-align: middle;\n",
       "    }\n",
       "\n",
       "    .dataframe tbody tr th {\n",
       "        vertical-align: top;\n",
       "    }\n",
       "\n",
       "    .dataframe thead th {\n",
       "        text-align: right;\n",
       "    }\n",
       "</style>\n",
       "<table border=\"1\" class=\"dataframe\">\n",
       "  <thead>\n",
       "    <tr style=\"text-align: right;\">\n",
       "      <th></th>\n",
       "      <th>Test 1</th>\n",
       "      <th>Test 2</th>\n",
       "      <th>Accept</th>\n",
       "      <th>t1_sq</th>\n",
       "      <th>t2_sq</th>\n",
       "      <th>t1_t2</th>\n",
       "    </tr>\n",
       "  </thead>\n",
       "  <tbody>\n",
       "    <tr>\n",
       "      <th>0</th>\n",
       "      <td>0.05</td>\n",
       "      <td>0.70</td>\n",
       "      <td>1</td>\n",
       "      <td>0.00</td>\n",
       "      <td>0.49</td>\n",
       "      <td>0.04</td>\n",
       "    </tr>\n",
       "    <tr>\n",
       "      <th>1</th>\n",
       "      <td>-0.09</td>\n",
       "      <td>0.68</td>\n",
       "      <td>1</td>\n",
       "      <td>0.01</td>\n",
       "      <td>0.47</td>\n",
       "      <td>-0.06</td>\n",
       "    </tr>\n",
       "    <tr>\n",
       "      <th>2</th>\n",
       "      <td>-0.21</td>\n",
       "      <td>0.69</td>\n",
       "      <td>1</td>\n",
       "      <td>0.05</td>\n",
       "      <td>0.48</td>\n",
       "      <td>-0.15</td>\n",
       "    </tr>\n",
       "    <tr>\n",
       "      <th>3</th>\n",
       "      <td>-0.38</td>\n",
       "      <td>0.50</td>\n",
       "      <td>1</td>\n",
       "      <td>0.14</td>\n",
       "      <td>0.25</td>\n",
       "      <td>-0.19</td>\n",
       "    </tr>\n",
       "    <tr>\n",
       "      <th>4</th>\n",
       "      <td>-0.51</td>\n",
       "      <td>0.47</td>\n",
       "      <td>1</td>\n",
       "      <td>0.26</td>\n",
       "      <td>0.22</td>\n",
       "      <td>-0.24</td>\n",
       "    </tr>\n",
       "  </tbody>\n",
       "</table>\n",
       "</div>"
      ],
      "text/plain": [
       "   Test 1  Test 2  Accept  t1_sq  t2_sq  t1_t2\n",
       "0    0.05    0.70       1   0.00   0.49   0.04\n",
       "1   -0.09    0.68       1   0.01   0.47  -0.06\n",
       "2   -0.21    0.69       1   0.05   0.48  -0.15\n",
       "3   -0.38    0.50       1   0.14   0.25  -0.19\n",
       "4   -0.51    0.47       1   0.26   0.22  -0.24"
      ]
     },
     "execution_count": 4,
     "metadata": {},
     "output_type": "execute_result"
    },
    {
     "data": {
      "text/html": [
       "<div>\n",
       "<style scoped>\n",
       "    .dataframe tbody tr th:only-of-type {\n",
       "        vertical-align: middle;\n",
       "    }\n",
       "\n",
       "    .dataframe tbody tr th {\n",
       "        vertical-align: top;\n",
       "    }\n",
       "\n",
       "    .dataframe thead th {\n",
       "        text-align: right;\n",
       "    }\n",
       "</style>\n",
       "<table border=\"1\" class=\"dataframe\">\n",
       "  <thead>\n",
       "    <tr style=\"text-align: right;\">\n",
       "      <th></th>\n",
       "      <th>Test 1</th>\n",
       "      <th>Test 2</th>\n",
       "      <th>Accept</th>\n",
       "      <th>t1_sq</th>\n",
       "      <th>t2_sq</th>\n",
       "      <th>t1_t2</th>\n",
       "    </tr>\n",
       "  </thead>\n",
       "  <tbody>\n",
       "    <tr>\n",
       "      <th>113</th>\n",
       "      <td>-0.72</td>\n",
       "      <td>0.54</td>\n",
       "      <td>0</td>\n",
       "      <td>0.52</td>\n",
       "      <td>0.29</td>\n",
       "      <td>-0.39</td>\n",
       "    </tr>\n",
       "    <tr>\n",
       "      <th>114</th>\n",
       "      <td>-0.59</td>\n",
       "      <td>0.49</td>\n",
       "      <td>0</td>\n",
       "      <td>0.35</td>\n",
       "      <td>0.24</td>\n",
       "      <td>-0.29</td>\n",
       "    </tr>\n",
       "    <tr>\n",
       "      <th>115</th>\n",
       "      <td>-0.48</td>\n",
       "      <td>1.00</td>\n",
       "      <td>0</td>\n",
       "      <td>0.23</td>\n",
       "      <td>1.00</td>\n",
       "      <td>-0.48</td>\n",
       "    </tr>\n",
       "    <tr>\n",
       "      <th>116</th>\n",
       "      <td>-0.01</td>\n",
       "      <td>1.00</td>\n",
       "      <td>0</td>\n",
       "      <td>0.00</td>\n",
       "      <td>1.00</td>\n",
       "      <td>-0.01</td>\n",
       "    </tr>\n",
       "    <tr>\n",
       "      <th>117</th>\n",
       "      <td>0.63</td>\n",
       "      <td>-0.03</td>\n",
       "      <td>0</td>\n",
       "      <td>0.40</td>\n",
       "      <td>0.00</td>\n",
       "      <td>-0.02</td>\n",
       "    </tr>\n",
       "  </tbody>\n",
       "</table>\n",
       "</div>"
      ],
      "text/plain": [
       "     Test 1  Test 2  Accept  t1_sq  t2_sq  t1_t2\n",
       "113   -0.72    0.54       0   0.52   0.29  -0.39\n",
       "114   -0.59    0.49       0   0.35   0.24  -0.29\n",
       "115   -0.48    1.00       0   0.23   1.00  -0.48\n",
       "116   -0.01    1.00       0   0.00   1.00  -0.01\n",
       "117    0.63   -0.03       0   0.40   0.00  -0.02"
      ]
     },
     "execution_count": 4,
     "metadata": {},
     "output_type": "execute_result"
    }
   ],
   "source": [
    "qc_data['t1_sq'] = qc_data['Test 1']**2\n",
    "qc_data['t2_sq'] = qc_data['Test 2']**2\n",
    "qc_data['t1_t2'] = qc_data['Test 1']*qc_data['Test 2']\n",
    "qc_data.head()\n",
    "qc_data.tail()"
   ]
  },
  {
   "cell_type": "code",
   "execution_count": 5,
   "metadata": {},
   "outputs": [
    {
     "data": {
      "text/plain": [
       "Test 1    0\n",
       "Test 2    0\n",
       "Accept    0\n",
       "t1_sq     0\n",
       "t2_sq     0\n",
       "t1_t2     0\n",
       "dtype: int64"
      ]
     },
     "execution_count": 5,
     "metadata": {},
     "output_type": "execute_result"
    }
   ],
   "source": [
    "qc_data.isna().sum()\n"
   ]
  },
  {
   "cell_type": "code",
   "execution_count": 6,
   "metadata": {},
   "outputs": [
    {
     "data": {
      "text/html": [
       "<div>\n",
       "<style scoped>\n",
       "    .dataframe tbody tr th:only-of-type {\n",
       "        vertical-align: middle;\n",
       "    }\n",
       "\n",
       "    .dataframe tbody tr th {\n",
       "        vertical-align: top;\n",
       "    }\n",
       "\n",
       "    .dataframe thead th {\n",
       "        text-align: right;\n",
       "    }\n",
       "</style>\n",
       "<table border=\"1\" class=\"dataframe\">\n",
       "  <thead>\n",
       "    <tr style=\"text-align: right;\">\n",
       "      <th></th>\n",
       "      <th>Test 1</th>\n",
       "      <th>Test 2</th>\n",
       "      <th>t1_sq</th>\n",
       "      <th>t2_sq</th>\n",
       "      <th>t1_t2</th>\n",
       "    </tr>\n",
       "  </thead>\n",
       "  <tbody>\n",
       "    <tr>\n",
       "      <th>11</th>\n",
       "      <td>0.53</td>\n",
       "      <td>-0.52</td>\n",
       "      <td>0.28</td>\n",
       "      <td>0.27</td>\n",
       "      <td>-0.28</td>\n",
       "    </tr>\n",
       "    <tr>\n",
       "      <th>53</th>\n",
       "      <td>-0.21</td>\n",
       "      <td>0.36</td>\n",
       "      <td>0.04</td>\n",
       "      <td>0.13</td>\n",
       "      <td>-0.07</td>\n",
       "    </tr>\n",
       "    <tr>\n",
       "      <th>24</th>\n",
       "      <td>-0.12</td>\n",
       "      <td>-0.40</td>\n",
       "      <td>0.01</td>\n",
       "      <td>0.16</td>\n",
       "      <td>0.05</td>\n",
       "    </tr>\n",
       "    <tr>\n",
       "      <th>75</th>\n",
       "      <td>0.52</td>\n",
       "      <td>-0.59</td>\n",
       "      <td>0.27</td>\n",
       "      <td>0.35</td>\n",
       "      <td>-0.31</td>\n",
       "    </tr>\n",
       "    <tr>\n",
       "      <th>38</th>\n",
       "      <td>0.06</td>\n",
       "      <td>-0.16</td>\n",
       "      <td>0.00</td>\n",
       "      <td>0.03</td>\n",
       "      <td>-0.01</td>\n",
       "    </tr>\n",
       "    <tr>\n",
       "      <th>...</th>\n",
       "      <td>...</td>\n",
       "      <td>...</td>\n",
       "      <td>...</td>\n",
       "      <td>...</td>\n",
       "      <td>...</td>\n",
       "    </tr>\n",
       "    <tr>\n",
       "      <th>59</th>\n",
       "      <td>0.22</td>\n",
       "      <td>0.78</td>\n",
       "      <td>0.05</td>\n",
       "      <td>0.61</td>\n",
       "      <td>0.17</td>\n",
       "    </tr>\n",
       "    <tr>\n",
       "      <th>81</th>\n",
       "      <td>-0.13</td>\n",
       "      <td>-0.45</td>\n",
       "      <td>0.02</td>\n",
       "      <td>0.20</td>\n",
       "      <td>0.06</td>\n",
       "    </tr>\n",
       "    <tr>\n",
       "      <th>48</th>\n",
       "      <td>0.44</td>\n",
       "      <td>0.67</td>\n",
       "      <td>0.20</td>\n",
       "      <td>0.45</td>\n",
       "      <td>0.30</td>\n",
       "    </tr>\n",
       "    <tr>\n",
       "      <th>47</th>\n",
       "      <td>0.22</td>\n",
       "      <td>0.52</td>\n",
       "      <td>0.05</td>\n",
       "      <td>0.27</td>\n",
       "      <td>0.12</td>\n",
       "    </tr>\n",
       "    <tr>\n",
       "      <th>15</th>\n",
       "      <td>0.32</td>\n",
       "      <td>0.58</td>\n",
       "      <td>0.10</td>\n",
       "      <td>0.34</td>\n",
       "      <td>0.19</td>\n",
       "    </tr>\n",
       "  </tbody>\n",
       "</table>\n",
       "<p>94 rows × 5 columns</p>\n",
       "</div>"
      ],
      "text/plain": [
       "    Test 1  Test 2  t1_sq  t2_sq  t1_t2\n",
       "11    0.53   -0.52   0.28   0.27  -0.28\n",
       "53   -0.21    0.36   0.04   0.13  -0.07\n",
       "24   -0.12   -0.40   0.01   0.16   0.05\n",
       "75    0.52   -0.59   0.27   0.35  -0.31\n",
       "38    0.06   -0.16   0.00   0.03  -0.01\n",
       "..     ...     ...    ...    ...    ...\n",
       "59    0.22    0.78   0.05   0.61   0.17\n",
       "81   -0.13   -0.45   0.02   0.20   0.06\n",
       "48    0.44    0.67   0.20   0.45   0.30\n",
       "47    0.22    0.52   0.05   0.27   0.12\n",
       "15    0.32    0.58   0.10   0.34   0.19\n",
       "\n",
       "[94 rows x 5 columns]"
      ]
     },
     "execution_count": 6,
     "metadata": {},
     "output_type": "execute_result"
    },
    {
     "data": {
      "text/html": [
       "<div>\n",
       "<style scoped>\n",
       "    .dataframe tbody tr th:only-of-type {\n",
       "        vertical-align: middle;\n",
       "    }\n",
       "\n",
       "    .dataframe tbody tr th {\n",
       "        vertical-align: top;\n",
       "    }\n",
       "\n",
       "    .dataframe thead th {\n",
       "        text-align: right;\n",
       "    }\n",
       "</style>\n",
       "<table border=\"1\" class=\"dataframe\">\n",
       "  <thead>\n",
       "    <tr style=\"text-align: right;\">\n",
       "      <th></th>\n",
       "      <th>Test 1</th>\n",
       "      <th>Test 2</th>\n",
       "      <th>t1_sq</th>\n",
       "      <th>t2_sq</th>\n",
       "      <th>t1_t2</th>\n",
       "    </tr>\n",
       "  </thead>\n",
       "  <tbody>\n",
       "    <tr>\n",
       "      <th>69</th>\n",
       "      <td>0.86</td>\n",
       "      <td>-0.08</td>\n",
       "      <td>0.75</td>\n",
       "      <td>0.01</td>\n",
       "      <td>-0.07</td>\n",
       "    </tr>\n",
       "    <tr>\n",
       "      <th>90</th>\n",
       "      <td>-0.51</td>\n",
       "      <td>0.90</td>\n",
       "      <td>0.26</td>\n",
       "      <td>0.82</td>\n",
       "      <td>-0.46</td>\n",
       "    </tr>\n",
       "    <tr>\n",
       "      <th>57</th>\n",
       "      <td>-0.14</td>\n",
       "      <td>-0.27</td>\n",
       "      <td>0.02</td>\n",
       "      <td>0.07</td>\n",
       "      <td>0.04</td>\n",
       "    </tr>\n",
       "    <tr>\n",
       "      <th>19</th>\n",
       "      <td>-0.48</td>\n",
       "      <td>0.63</td>\n",
       "      <td>0.23</td>\n",
       "      <td>0.40</td>\n",
       "      <td>-0.30</td>\n",
       "    </tr>\n",
       "    <tr>\n",
       "      <th>9</th>\n",
       "      <td>0.13</td>\n",
       "      <td>-0.51</td>\n",
       "      <td>0.02</td>\n",
       "      <td>0.26</td>\n",
       "      <td>-0.07</td>\n",
       "    </tr>\n",
       "    <tr>\n",
       "      <th>64</th>\n",
       "      <td>0.77</td>\n",
       "      <td>0.50</td>\n",
       "      <td>0.59</td>\n",
       "      <td>0.25</td>\n",
       "      <td>0.38</td>\n",
       "    </tr>\n",
       "    <tr>\n",
       "      <th>0</th>\n",
       "      <td>0.05</td>\n",
       "      <td>0.70</td>\n",
       "      <td>0.00</td>\n",
       "      <td>0.49</td>\n",
       "      <td>0.04</td>\n",
       "    </tr>\n",
       "    <tr>\n",
       "      <th>54</th>\n",
       "      <td>-0.21</td>\n",
       "      <td>0.17</td>\n",
       "      <td>0.04</td>\n",
       "      <td>0.03</td>\n",
       "      <td>-0.04</td>\n",
       "    </tr>\n",
       "    <tr>\n",
       "      <th>45</th>\n",
       "      <td>0.58</td>\n",
       "      <td>0.27</td>\n",
       "      <td>0.33</td>\n",
       "      <td>0.07</td>\n",
       "      <td>0.15</td>\n",
       "    </tr>\n",
       "    <tr>\n",
       "      <th>55</th>\n",
       "      <td>-0.44</td>\n",
       "      <td>0.22</td>\n",
       "      <td>0.19</td>\n",
       "      <td>0.05</td>\n",
       "      <td>-0.10</td>\n",
       "    </tr>\n",
       "    <tr>\n",
       "      <th>91</th>\n",
       "      <td>-0.55</td>\n",
       "      <td>0.71</td>\n",
       "      <td>0.30</td>\n",
       "      <td>0.50</td>\n",
       "      <td>-0.39</td>\n",
       "    </tr>\n",
       "    <tr>\n",
       "      <th>1</th>\n",
       "      <td>-0.09</td>\n",
       "      <td>0.68</td>\n",
       "      <td>0.01</td>\n",
       "      <td>0.47</td>\n",
       "      <td>-0.06</td>\n",
       "    </tr>\n",
       "    <tr>\n",
       "      <th>80</th>\n",
       "      <td>0.15</td>\n",
       "      <td>-0.58</td>\n",
       "      <td>0.02</td>\n",
       "      <td>0.34</td>\n",
       "      <td>-0.09</td>\n",
       "    </tr>\n",
       "    <tr>\n",
       "      <th>110</th>\n",
       "      <td>-0.60</td>\n",
       "      <td>-0.42</td>\n",
       "      <td>0.36</td>\n",
       "      <td>0.18</td>\n",
       "      <td>0.25</td>\n",
       "    </tr>\n",
       "    <tr>\n",
       "      <th>23</th>\n",
       "      <td>-0.42</td>\n",
       "      <td>-0.27</td>\n",
       "      <td>0.18</td>\n",
       "      <td>0.07</td>\n",
       "      <td>0.11</td>\n",
       "    </tr>\n",
       "    <tr>\n",
       "      <th>106</th>\n",
       "      <td>-0.47</td>\n",
       "      <td>-0.13</td>\n",
       "      <td>0.22</td>\n",
       "      <td>0.02</td>\n",
       "      <td>0.06</td>\n",
       "    </tr>\n",
       "    <tr>\n",
       "      <th>62</th>\n",
       "      <td>0.62</td>\n",
       "      <td>0.73</td>\n",
       "      <td>0.38</td>\n",
       "      <td>0.53</td>\n",
       "      <td>0.45</td>\n",
       "    </tr>\n",
       "    <tr>\n",
       "      <th>95</th>\n",
       "      <td>-0.08</td>\n",
       "      <td>1.11</td>\n",
       "      <td>0.01</td>\n",
       "      <td>1.23</td>\n",
       "      <td>-0.09</td>\n",
       "    </tr>\n",
       "    <tr>\n",
       "      <th>88</th>\n",
       "      <td>-0.40</td>\n",
       "      <td>0.71</td>\n",
       "      <td>0.16</td>\n",
       "      <td>0.50</td>\n",
       "      <td>-0.29</td>\n",
       "    </tr>\n",
       "    <tr>\n",
       "      <th>29</th>\n",
       "      <td>-0.29</td>\n",
       "      <td>0.78</td>\n",
       "      <td>0.09</td>\n",
       "      <td>0.61</td>\n",
       "      <td>-0.23</td>\n",
       "    </tr>\n",
       "    <tr>\n",
       "      <th>103</th>\n",
       "      <td>-0.24</td>\n",
       "      <td>-0.64</td>\n",
       "      <td>0.06</td>\n",
       "      <td>0.41</td>\n",
       "      <td>0.15</td>\n",
       "    </tr>\n",
       "    <tr>\n",
       "      <th>114</th>\n",
       "      <td>-0.59</td>\n",
       "      <td>0.49</td>\n",
       "      <td>0.35</td>\n",
       "      <td>0.24</td>\n",
       "      <td>-0.29</td>\n",
       "    </tr>\n",
       "    <tr>\n",
       "      <th>37</th>\n",
       "      <td>-0.06</td>\n",
       "      <td>-0.18</td>\n",
       "      <td>0.00</td>\n",
       "      <td>0.03</td>\n",
       "      <td>0.01</td>\n",
       "    </tr>\n",
       "    <tr>\n",
       "      <th>43</th>\n",
       "      <td>0.46</td>\n",
       "      <td>0.01</td>\n",
       "      <td>0.21</td>\n",
       "      <td>0.00</td>\n",
       "      <td>0.01</td>\n",
       "    </tr>\n",
       "  </tbody>\n",
       "</table>\n",
       "</div>"
      ],
      "text/plain": [
       "     Test 1  Test 2  t1_sq  t2_sq  t1_t2\n",
       "69     0.86   -0.08   0.75   0.01  -0.07\n",
       "90    -0.51    0.90   0.26   0.82  -0.46\n",
       "57    -0.14   -0.27   0.02   0.07   0.04\n",
       "19    -0.48    0.63   0.23   0.40  -0.30\n",
       "9      0.13   -0.51   0.02   0.26  -0.07\n",
       "64     0.77    0.50   0.59   0.25   0.38\n",
       "0      0.05    0.70   0.00   0.49   0.04\n",
       "54    -0.21    0.17   0.04   0.03  -0.04\n",
       "45     0.58    0.27   0.33   0.07   0.15\n",
       "55    -0.44    0.22   0.19   0.05  -0.10\n",
       "91    -0.55    0.71   0.30   0.50  -0.39\n",
       "1     -0.09    0.68   0.01   0.47  -0.06\n",
       "80     0.15   -0.58   0.02   0.34  -0.09\n",
       "110   -0.60   -0.42   0.36   0.18   0.25\n",
       "23    -0.42   -0.27   0.18   0.07   0.11\n",
       "106   -0.47   -0.13   0.22   0.02   0.06\n",
       "62     0.62    0.73   0.38   0.53   0.45\n",
       "95    -0.08    1.11   0.01   1.23  -0.09\n",
       "88    -0.40    0.71   0.16   0.50  -0.29\n",
       "29    -0.29    0.78   0.09   0.61  -0.23\n",
       "103   -0.24   -0.64   0.06   0.41   0.15\n",
       "114   -0.59    0.49   0.35   0.24  -0.29\n",
       "37    -0.06   -0.18   0.00   0.03   0.01\n",
       "43     0.46    0.01   0.21   0.00   0.01"
      ]
     },
     "execution_count": 6,
     "metadata": {},
     "output_type": "execute_result"
    },
    {
     "data": {
      "text/plain": [
       "11    1\n",
       "53    1\n",
       "24    1\n",
       "75    0\n",
       "38    1\n",
       "     ..\n",
       "59    0\n",
       "81    0\n",
       "48    1\n",
       "47    1\n",
       "15    1\n",
       "Name: Accept, Length: 94, dtype: int64"
      ]
     },
     "execution_count": 6,
     "metadata": {},
     "output_type": "execute_result"
    },
    {
     "data": {
      "text/plain": [
       "69     0\n",
       "90     0\n",
       "57     1\n",
       "19     1\n",
       "9      1\n",
       "64     0\n",
       "0      1\n",
       "54     1\n",
       "45     1\n",
       "55     1\n",
       "91     0\n",
       "1      1\n",
       "80     0\n",
       "110    0\n",
       "23     1\n",
       "106    0\n",
       "62     0\n",
       "95     0\n",
       "88     0\n",
       "29     1\n",
       "103    0\n",
       "114    0\n",
       "37     1\n",
       "43     1\n",
       "Name: Accept, dtype: int64"
      ]
     },
     "execution_count": 6,
     "metadata": {},
     "output_type": "execute_result"
    }
   ],
   "source": [
    "X_train, X_test, y_train, y_test = train_test_split(qc_data.drop(columns = ['Accept']), qc_data['Accept'], test_size=0.2, stratify = qc_data['Accept'], random_state=50)\n",
    "\n",
    "# In the above split the stratify = y essentially makes sure the fractions of the classification is maintained\n",
    "X_train\n",
    "X_test\n",
    "y_train\n",
    "y_test"
   ]
  },
  {
   "cell_type": "code",
   "execution_count": 18,
   "metadata": {},
   "outputs": [
    {
     "data": {
      "text/plain": [
       "LogisticRegression(C=10.0)"
      ]
     },
     "execution_count": 18,
     "metadata": {},
     "output_type": "execute_result"
    },
    {
     "data": {
      "text/plain": [
       "0.8617021276595744"
      ]
     },
     "execution_count": 18,
     "metadata": {},
     "output_type": "execute_result"
    },
    {
     "data": {
      "text/plain": [
       "array([[ 1.53493272,  2.31050017, -6.51208051, -6.42211913, -4.06982797]])"
      ]
     },
     "execution_count": 18,
     "metadata": {},
     "output_type": "execute_result"
    },
    {
     "data": {
      "text/plain": [
       "array([2.86969646])"
      ]
     },
     "execution_count": 18,
     "metadata": {},
     "output_type": "execute_result"
    }
   ],
   "source": [
    "model = LogisticRegression(fit_intercept = True, solver='lbfgs', multi_class = 'auto', penalty = 'l2', C = 10.0)\n",
    "# If the lbfgs throws an error, try to increase max_iter (add max_iter = 1000), also try another algorithm, scaling is also suggested\n",
    "# While using multiclass case do multi_class = 'over' or 'auto'; can also try other solvers\n",
    "# While doing regularization, use penalty = 'l2' and also C = 10.0 (need to try other values too)\n",
    "\n",
    "model.fit(X_train, y_train) \n",
    "\n",
    "# The following gives the mean accuracy on the given data and labels\n",
    "model.score(X_train, y_train) \n",
    "\n",
    "# This is the coefficient Beta_1, ..., Beta_7\n",
    "model.coef_\n",
    "\n",
    "# This is the coefficient Beta_0\n",
    "model.intercept_"
   ]
  },
  {
   "cell_type": "code",
   "execution_count": 8,
   "metadata": {},
   "outputs": [
    {
     "data": {
      "text/html": [
       "<div>\n",
       "<style scoped>\n",
       "    .dataframe tbody tr th:only-of-type {\n",
       "        vertical-align: middle;\n",
       "    }\n",
       "\n",
       "    .dataframe tbody tr th {\n",
       "        vertical-align: top;\n",
       "    }\n",
       "\n",
       "    .dataframe thead th {\n",
       "        text-align: right;\n",
       "    }\n",
       "</style>\n",
       "<table border=\"1\" class=\"dataframe\">\n",
       "  <thead>\n",
       "    <tr style=\"text-align: right;\">\n",
       "      <th></th>\n",
       "      <th>pred_Accept</th>\n",
       "    </tr>\n",
       "  </thead>\n",
       "  <tbody>\n",
       "    <tr>\n",
       "      <th>69</th>\n",
       "      <td>0</td>\n",
       "    </tr>\n",
       "    <tr>\n",
       "      <th>90</th>\n",
       "      <td>0</td>\n",
       "    </tr>\n",
       "    <tr>\n",
       "      <th>57</th>\n",
       "      <td>1</td>\n",
       "    </tr>\n",
       "    <tr>\n",
       "      <th>19</th>\n",
       "      <td>1</td>\n",
       "    </tr>\n",
       "    <tr>\n",
       "      <th>9</th>\n",
       "      <td>1</td>\n",
       "    </tr>\n",
       "  </tbody>\n",
       "</table>\n",
       "</div>"
      ],
      "text/plain": [
       "    pred_Accept\n",
       "69            0\n",
       "90            0\n",
       "57            1\n",
       "19            1\n",
       "9             1"
      ]
     },
     "execution_count": 8,
     "metadata": {},
     "output_type": "execute_result"
    }
   ],
   "source": [
    "test_output = pd.DataFrame(model.predict(X_test), index = X_test.index, columns = ['pred_Accept'])\n",
    "test_output.head()"
   ]
  },
  {
   "cell_type": "code",
   "execution_count": 9,
   "metadata": {},
   "outputs": [
    {
     "data": {
      "text/html": [
       "<div>\n",
       "<style scoped>\n",
       "    .dataframe tbody tr th:only-of-type {\n",
       "        vertical-align: middle;\n",
       "    }\n",
       "\n",
       "    .dataframe tbody tr th {\n",
       "        vertical-align: top;\n",
       "    }\n",
       "\n",
       "    .dataframe thead th {\n",
       "        text-align: right;\n",
       "    }\n",
       "</style>\n",
       "<table border=\"1\" class=\"dataframe\">\n",
       "  <thead>\n",
       "    <tr style=\"text-align: right;\">\n",
       "      <th></th>\n",
       "      <th>pred_Accept</th>\n",
       "      <th>Accept</th>\n",
       "    </tr>\n",
       "  </thead>\n",
       "  <tbody>\n",
       "    <tr>\n",
       "      <th>69</th>\n",
       "      <td>0</td>\n",
       "      <td>0</td>\n",
       "    </tr>\n",
       "    <tr>\n",
       "      <th>90</th>\n",
       "      <td>0</td>\n",
       "      <td>0</td>\n",
       "    </tr>\n",
       "    <tr>\n",
       "      <th>57</th>\n",
       "      <td>1</td>\n",
       "      <td>1</td>\n",
       "    </tr>\n",
       "    <tr>\n",
       "      <th>19</th>\n",
       "      <td>1</td>\n",
       "      <td>1</td>\n",
       "    </tr>\n",
       "    <tr>\n",
       "      <th>9</th>\n",
       "      <td>1</td>\n",
       "      <td>1</td>\n",
       "    </tr>\n",
       "  </tbody>\n",
       "</table>\n",
       "</div>"
      ],
      "text/plain": [
       "    pred_Accept  Accept\n",
       "69            0       0\n",
       "90            0       0\n",
       "57            1       1\n",
       "19            1       1\n",
       "9             1       1"
      ]
     },
     "execution_count": 9,
     "metadata": {},
     "output_type": "execute_result"
    },
    {
     "name": "stdout",
     "output_type": "stream",
     "text": [
      "Percentage of correct predictions is \n",
      "0.8333333333333334\n"
     ]
    }
   ],
   "source": [
    "test_output = test_output.merge(y_test, left_index = True, right_index = True)\n",
    "test_output.head()\n",
    "print('Percentage of correct predictions is ')\n",
    "print(model.score(X_test, y_test))"
   ]
  },
  {
   "cell_type": "code",
   "execution_count": 10,
   "metadata": {},
   "outputs": [
    {
     "data": {
      "text/html": [
       "<div>\n",
       "<style scoped>\n",
       "    .dataframe tbody tr th:only-of-type {\n",
       "        vertical-align: middle;\n",
       "    }\n",
       "\n",
       "    .dataframe tbody tr th {\n",
       "        vertical-align: top;\n",
       "    }\n",
       "\n",
       "    .dataframe thead th {\n",
       "        text-align: right;\n",
       "    }\n",
       "</style>\n",
       "<table border=\"1\" class=\"dataframe\">\n",
       "  <thead>\n",
       "    <tr style=\"text-align: right;\">\n",
       "      <th></th>\n",
       "      <th>pred_Accept</th>\n",
       "      <th>Accept</th>\n",
       "      <th>Test 1</th>\n",
       "      <th>Test 2</th>\n",
       "      <th>t1_sq</th>\n",
       "      <th>t2_sq</th>\n",
       "      <th>t1_t2</th>\n",
       "    </tr>\n",
       "  </thead>\n",
       "  <tbody>\n",
       "    <tr>\n",
       "      <th>69</th>\n",
       "      <td>0</td>\n",
       "      <td>0</td>\n",
       "      <td>0.86</td>\n",
       "      <td>-0.08</td>\n",
       "      <td>0.75</td>\n",
       "      <td>0.01</td>\n",
       "      <td>-0.07</td>\n",
       "    </tr>\n",
       "    <tr>\n",
       "      <th>90</th>\n",
       "      <td>0</td>\n",
       "      <td>0</td>\n",
       "      <td>-0.51</td>\n",
       "      <td>0.90</td>\n",
       "      <td>0.26</td>\n",
       "      <td>0.82</td>\n",
       "      <td>-0.46</td>\n",
       "    </tr>\n",
       "    <tr>\n",
       "      <th>57</th>\n",
       "      <td>1</td>\n",
       "      <td>1</td>\n",
       "      <td>-0.14</td>\n",
       "      <td>-0.27</td>\n",
       "      <td>0.02</td>\n",
       "      <td>0.07</td>\n",
       "      <td>0.04</td>\n",
       "    </tr>\n",
       "    <tr>\n",
       "      <th>19</th>\n",
       "      <td>1</td>\n",
       "      <td>1</td>\n",
       "      <td>-0.48</td>\n",
       "      <td>0.63</td>\n",
       "      <td>0.23</td>\n",
       "      <td>0.40</td>\n",
       "      <td>-0.30</td>\n",
       "    </tr>\n",
       "    <tr>\n",
       "      <th>9</th>\n",
       "      <td>1</td>\n",
       "      <td>1</td>\n",
       "      <td>0.13</td>\n",
       "      <td>-0.51</td>\n",
       "      <td>0.02</td>\n",
       "      <td>0.26</td>\n",
       "      <td>-0.07</td>\n",
       "    </tr>\n",
       "  </tbody>\n",
       "</table>\n",
       "</div>"
      ],
      "text/plain": [
       "    pred_Accept  Accept  Test 1  Test 2  t1_sq  t2_sq  t1_t2\n",
       "69            0       0    0.86   -0.08   0.75   0.01  -0.07\n",
       "90            0       0   -0.51    0.90   0.26   0.82  -0.46\n",
       "57            1       1   -0.14   -0.27   0.02   0.07   0.04\n",
       "19            1       1   -0.48    0.63   0.23   0.40  -0.30\n",
       "9             1       1    0.13   -0.51   0.02   0.26  -0.07"
      ]
     },
     "execution_count": 10,
     "metadata": {},
     "output_type": "execute_result"
    }
   ],
   "source": [
    "test_output = test_output.merge(X_test, left_index = True, right_index = True)\n",
    "test_output.head()"
   ]
  },
  {
   "cell_type": "code",
   "execution_count": 11,
   "metadata": {},
   "outputs": [
    {
     "data": {
      "text/plain": [
       "array([[9.42934062e-02, 9.05706594e-01],\n",
       "       [5.84685628e-02, 9.41531437e-01],\n",
       "       [6.83616289e-02, 9.31638371e-01],\n",
       "       [3.93531504e-02, 9.60646850e-01],\n",
       "       [1.17179437e-01, 8.82820563e-01],\n",
       "       [1.67695175e-01, 8.32304825e-01],\n",
       "       [9.71695153e-02, 9.02830485e-01],\n",
       "       [2.37976290e-01, 7.62023710e-01],\n",
       "       [2.01803590e-01, 7.98196410e-01],\n",
       "       [4.08755848e-01, 5.91244152e-01],\n",
       "       [4.77377575e-01, 5.22622425e-01],\n",
       "       [4.21563156e-01, 5.78436844e-01],\n",
       "       [1.22931430e-01, 8.77068570e-01],\n",
       "       [2.46600965e-01, 7.53399035e-01],\n",
       "       [3.92349445e-01, 6.07650555e-01],\n",
       "       [1.31083561e-01, 8.68916439e-01],\n",
       "       [2.85831858e-02, 9.71416814e-01],\n",
       "       [2.67734209e-01, 7.32265791e-01],\n",
       "       [6.90844513e-02, 9.30915549e-01],\n",
       "       [1.61060483e-01, 8.38939517e-01],\n",
       "       [3.71712087e-01, 6.28287913e-01],\n",
       "       [3.74154218e-01, 6.25845782e-01],\n",
       "       [7.08415489e-01, 2.91584511e-01],\n",
       "       [8.18361860e-01, 1.81638140e-01],\n",
       "       [3.94358150e-01, 6.05641850e-01],\n",
       "       [6.87761901e-01, 3.12238099e-01],\n",
       "       [4.11171384e-01, 5.88828616e-01],\n",
       "       [6.76126386e-01, 3.23873614e-01],\n",
       "       [1.74336783e-02, 9.82566322e-01],\n",
       "       [1.91064388e-01, 8.08935612e-01],\n",
       "       [7.38596223e-01, 2.61403777e-01],\n",
       "       [2.01070676e-01, 7.98929324e-01],\n",
       "       [4.24052289e-02, 9.57594771e-01],\n",
       "       [1.93102998e-02, 9.80689700e-01],\n",
       "       [2.51869410e-02, 9.74813059e-01],\n",
       "       [3.67239740e-02, 9.63276026e-01],\n",
       "       [1.55955439e-01, 8.44044561e-01],\n",
       "       [2.99823722e-02, 9.70017628e-01],\n",
       "       [1.36580037e-02, 9.86341996e-01],\n",
       "       [1.06415503e-01, 8.93584497e-01],\n",
       "       [1.86751901e-02, 9.81324810e-01],\n",
       "       [2.98892451e-02, 9.70110755e-01],\n",
       "       [9.32420266e-02, 9.06757973e-01],\n",
       "       [1.56534382e-02, 9.84346562e-01],\n",
       "       [1.07712639e-01, 8.92287361e-01],\n",
       "       [1.06221608e-01, 8.93778392e-01],\n",
       "       [8.61345802e-01, 1.38654198e-01],\n",
       "       [3.47039877e-02, 9.65296012e-01],\n",
       "       [6.63474022e-01, 3.36525978e-01],\n",
       "       [4.00996323e-01, 5.99003677e-01],\n",
       "       [3.53944261e-02, 9.64605574e-01],\n",
       "       [6.49646318e-03, 9.93503537e-01],\n",
       "       [1.75229079e-02, 9.82477092e-01],\n",
       "       [9.02245890e-03, 9.90977541e-01],\n",
       "       [9.16508102e-03, 9.90834919e-01],\n",
       "       [6.19572097e-02, 9.38042790e-01],\n",
       "       [2.37583086e-02, 9.76241691e-01],\n",
       "       [1.26109094e-01, 8.73890906e-01],\n",
       "       [9.16202510e-01, 8.37974905e-02],\n",
       "       [5.04991540e-01, 4.95008460e-01],\n",
       "       [1.61820771e-01, 8.38179229e-01],\n",
       "       [9.54628764e-01, 4.53712364e-02],\n",
       "       [9.86698271e-01, 1.33017287e-02],\n",
       "       [8.70823209e-01, 1.29176791e-01],\n",
       "       [9.65971037e-01, 3.40289626e-02],\n",
       "       [9.91612442e-01, 8.38755834e-03],\n",
       "       [8.52567114e-01, 1.47432886e-01],\n",
       "       [9.50387587e-01, 4.96124134e-02],\n",
       "       [8.95247125e-01, 1.04752875e-01],\n",
       "       [6.46507885e-01, 3.53492115e-01],\n",
       "       [7.68045488e-01, 2.31954512e-01],\n",
       "       [7.57486994e-01, 2.42513006e-01],\n",
       "       [8.87771855e-01, 1.12228145e-01],\n",
       "       [8.88366490e-01, 1.11633510e-01],\n",
       "       [9.61406706e-01, 3.85932943e-02],\n",
       "       [6.50320773e-01, 3.49679227e-01],\n",
       "       [1.46191454e-01, 8.53808546e-01],\n",
       "       [5.30548688e-01, 4.69451312e-01],\n",
       "       [9.75185420e-01, 2.48145800e-02],\n",
       "       [9.88989917e-01, 1.10100827e-02],\n",
       "       [6.54270870e-01, 3.45729130e-01],\n",
       "       [6.35620283e-01, 3.64379717e-01],\n",
       "       [9.73920777e-01, 2.60792231e-02],\n",
       "       [7.02073881e-01, 2.97926119e-01],\n",
       "       [9.99421140e-01, 5.78859989e-04],\n",
       "       [9.17352756e-01, 8.26472436e-02],\n",
       "       [8.49741355e-01, 1.50258645e-01],\n",
       "       [7.49640863e-01, 2.50359137e-01],\n",
       "       [1.59446935e-01, 8.40553065e-01],\n",
       "       [6.58427584e-01, 3.41572416e-01],\n",
       "       [7.61828754e-01, 2.38171246e-01],\n",
       "       [3.78280688e-01, 6.21719312e-01],\n",
       "       [2.92839093e-01, 7.07160907e-01],\n",
       "       [7.57057210e-01, 2.42942790e-01],\n",
       "       [8.47925335e-01, 1.52074665e-01],\n",
       "       [9.84210906e-01, 1.57890945e-02],\n",
       "       [9.98992010e-01, 1.00798958e-03],\n",
       "       [9.36937985e-01, 6.30620150e-02],\n",
       "       [9.99670942e-01, 3.29058052e-04],\n",
       "       [9.99228301e-01, 7.71698650e-04],\n",
       "       [9.77910819e-01, 2.20891810e-02],\n",
       "       [9.95390765e-01, 4.60923525e-03],\n",
       "       [8.85504397e-01, 1.14495603e-01],\n",
       "       [9.96004531e-01, 3.99546866e-03],\n",
       "       [3.70120408e-01, 6.29879592e-01],\n",
       "       [9.56717371e-01, 4.32826293e-02],\n",
       "       [5.85704546e-01, 4.14295454e-01],\n",
       "       [6.20749630e-02, 9.37925037e-01],\n",
       "       [8.78128751e-01, 1.21871249e-01],\n",
       "       [9.93143609e-01, 6.85639100e-03],\n",
       "       [9.99332979e-01, 6.67021162e-04],\n",
       "       [9.87903679e-01, 1.20963215e-02],\n",
       "       [9.55395541e-01, 4.46044595e-02],\n",
       "       [7.03547520e-01, 2.96452480e-01],\n",
       "       [2.69156065e-01, 7.30843935e-01],\n",
       "       [9.12109346e-01, 8.78906538e-02],\n",
       "       [9.06665982e-01, 9.33340178e-02],\n",
       "       [7.44285738e-02, 9.25571426e-01]])"
      ]
     },
     "execution_count": 11,
     "metadata": {},
     "output_type": "execute_result"
    }
   ],
   "source": [
    "model.predict_proba(qc_data.drop(columns = ['Accept']))\n"
   ]
  },
  {
   "cell_type": "code",
   "execution_count": 12,
   "metadata": {},
   "outputs": [
    {
     "data": {
      "text/html": [
       "<div>\n",
       "<style scoped>\n",
       "    .dataframe tbody tr th:only-of-type {\n",
       "        vertical-align: middle;\n",
       "    }\n",
       "\n",
       "    .dataframe tbody tr th {\n",
       "        vertical-align: top;\n",
       "    }\n",
       "\n",
       "    .dataframe thead th {\n",
       "        text-align: right;\n",
       "    }\n",
       "</style>\n",
       "<table border=\"1\" class=\"dataframe\">\n",
       "  <thead>\n",
       "    <tr style=\"text-align: right;\">\n",
       "      <th></th>\n",
       "      <th>Test 1</th>\n",
       "      <th>Test 2</th>\n",
       "      <th>t1_sq</th>\n",
       "      <th>t2_sq</th>\n",
       "      <th>t1_t2</th>\n",
       "      <th>Accept</th>\n",
       "      <th>Probability</th>\n",
       "    </tr>\n",
       "  </thead>\n",
       "  <tbody>\n",
       "    <tr>\n",
       "      <th>11</th>\n",
       "      <td>0.53</td>\n",
       "      <td>-0.52</td>\n",
       "      <td>0.28</td>\n",
       "      <td>0.27</td>\n",
       "      <td>-0.28</td>\n",
       "      <td>1</td>\n",
       "      <td>0.58</td>\n",
       "    </tr>\n",
       "    <tr>\n",
       "      <th>53</th>\n",
       "      <td>-0.21</td>\n",
       "      <td>0.36</td>\n",
       "      <td>0.04</td>\n",
       "      <td>0.13</td>\n",
       "      <td>-0.07</td>\n",
       "      <td>1</td>\n",
       "      <td>0.99</td>\n",
       "    </tr>\n",
       "    <tr>\n",
       "      <th>24</th>\n",
       "      <td>-0.12</td>\n",
       "      <td>-0.40</td>\n",
       "      <td>0.01</td>\n",
       "      <td>0.16</td>\n",
       "      <td>0.05</td>\n",
       "      <td>1</td>\n",
       "      <td>0.61</td>\n",
       "    </tr>\n",
       "    <tr>\n",
       "      <th>75</th>\n",
       "      <td>0.52</td>\n",
       "      <td>-0.59</td>\n",
       "      <td>0.27</td>\n",
       "      <td>0.35</td>\n",
       "      <td>-0.31</td>\n",
       "      <td>0</td>\n",
       "      <td>0.35</td>\n",
       "    </tr>\n",
       "    <tr>\n",
       "      <th>38</th>\n",
       "      <td>0.06</td>\n",
       "      <td>-0.16</td>\n",
       "      <td>0.00</td>\n",
       "      <td>0.03</td>\n",
       "      <td>-0.01</td>\n",
       "      <td>1</td>\n",
       "      <td>0.99</td>\n",
       "    </tr>\n",
       "  </tbody>\n",
       "</table>\n",
       "</div>"
      ],
      "text/plain": [
       "    Test 1  Test 2  t1_sq  t2_sq  t1_t2  Accept  Probability\n",
       "11    0.53   -0.52   0.28   0.27  -0.28       1         0.58\n",
       "53   -0.21    0.36   0.04   0.13  -0.07       1         0.99\n",
       "24   -0.12   -0.40   0.01   0.16   0.05       1         0.61\n",
       "75    0.52   -0.59   0.27   0.35  -0.31       0         0.35\n",
       "38    0.06   -0.16   0.00   0.03  -0.01       1         0.99"
      ]
     },
     "execution_count": 12,
     "metadata": {},
     "output_type": "execute_result"
    }
   ],
   "source": [
    "data_with_prob = X_train.copy()\n",
    "data_with_prob['Accept'] = y_train\n",
    "\n",
    "# Next we give the probability of predicting 1 (in multiclass, there will be probabilities by class)\n",
    "data_with_prob['Probability'] = model.predict_proba(data_with_prob.drop(columns = ['Accept']))[:,1]\n",
    "\n",
    "data_with_prob.head()"
   ]
  },
  {
   "cell_type": "code",
   "execution_count": 13,
   "metadata": {},
   "outputs": [
    {
     "data": {
      "text/html": [
       "<div>\n",
       "<style scoped>\n",
       "    .dataframe tbody tr th:only-of-type {\n",
       "        vertical-align: middle;\n",
       "    }\n",
       "\n",
       "    .dataframe tbody tr th {\n",
       "        vertical-align: top;\n",
       "    }\n",
       "\n",
       "    .dataframe thead th {\n",
       "        text-align: right;\n",
       "    }\n",
       "</style>\n",
       "<table border=\"1\" class=\"dataframe\">\n",
       "  <thead>\n",
       "    <tr style=\"text-align: right;\">\n",
       "      <th></th>\n",
       "      <th>pred_Accept</th>\n",
       "      <th>Accept</th>\n",
       "      <th>Test 1</th>\n",
       "      <th>Test 2</th>\n",
       "      <th>t1_sq</th>\n",
       "      <th>t2_sq</th>\n",
       "      <th>t1_t2</th>\n",
       "      <th>Probability</th>\n",
       "    </tr>\n",
       "  </thead>\n",
       "  <tbody>\n",
       "    <tr>\n",
       "      <th>69</th>\n",
       "      <td>0</td>\n",
       "      <td>0</td>\n",
       "      <td>0.86</td>\n",
       "      <td>-0.08</td>\n",
       "      <td>0.75</td>\n",
       "      <td>0.01</td>\n",
       "      <td>-0.07</td>\n",
       "      <td>0.35</td>\n",
       "    </tr>\n",
       "    <tr>\n",
       "      <th>90</th>\n",
       "      <td>0</td>\n",
       "      <td>0</td>\n",
       "      <td>-0.51</td>\n",
       "      <td>0.90</td>\n",
       "      <td>0.26</td>\n",
       "      <td>0.82</td>\n",
       "      <td>-0.46</td>\n",
       "      <td>0.24</td>\n",
       "    </tr>\n",
       "    <tr>\n",
       "      <th>57</th>\n",
       "      <td>1</td>\n",
       "      <td>1</td>\n",
       "      <td>-0.14</td>\n",
       "      <td>-0.27</td>\n",
       "      <td>0.02</td>\n",
       "      <td>0.07</td>\n",
       "      <td>0.04</td>\n",
       "      <td>0.87</td>\n",
       "    </tr>\n",
       "    <tr>\n",
       "      <th>19</th>\n",
       "      <td>1</td>\n",
       "      <td>1</td>\n",
       "      <td>-0.48</td>\n",
       "      <td>0.63</td>\n",
       "      <td>0.23</td>\n",
       "      <td>0.40</td>\n",
       "      <td>-0.30</td>\n",
       "      <td>0.84</td>\n",
       "    </tr>\n",
       "    <tr>\n",
       "      <th>9</th>\n",
       "      <td>1</td>\n",
       "      <td>1</td>\n",
       "      <td>0.13</td>\n",
       "      <td>-0.51</td>\n",
       "      <td>0.02</td>\n",
       "      <td>0.26</td>\n",
       "      <td>-0.07</td>\n",
       "      <td>0.59</td>\n",
       "    </tr>\n",
       "  </tbody>\n",
       "</table>\n",
       "</div>"
      ],
      "text/plain": [
       "    pred_Accept  Accept  Test 1  Test 2  t1_sq  t2_sq  t1_t2  Probability\n",
       "69            0       0    0.86   -0.08   0.75   0.01  -0.07         0.35\n",
       "90            0       0   -0.51    0.90   0.26   0.82  -0.46         0.24\n",
       "57            1       1   -0.14   -0.27   0.02   0.07   0.04         0.87\n",
       "19            1       1   -0.48    0.63   0.23   0.40  -0.30         0.84\n",
       "9             1       1    0.13   -0.51   0.02   0.26  -0.07         0.59"
      ]
     },
     "execution_count": 13,
     "metadata": {},
     "output_type": "execute_result"
    }
   ],
   "source": [
    "test_output['Probability'] = model.predict_proba(test_output.drop(columns = ['Accept', 'pred_Accept']))[:,1]\n",
    "test_output.head()"
   ]
  },
  {
   "cell_type": "markdown",
   "metadata": {},
   "source": [
    "#### Visualize data"
   ]
  },
  {
   "cell_type": "code",
   "execution_count": 14,
   "metadata": {
    "code_folding": [
     0
    ]
   },
   "outputs": [
    {
     "data": {
      "text/plain": [
       "<matplotlib.collections.PathCollection at 0x7f9ec02b4eb0>"
      ]
     },
     "execution_count": 14,
     "metadata": {},
     "output_type": "execute_result"
    },
    {
     "data": {
      "text/plain": [
       "<matplotlib.collections.PathCollection at 0x7f9ec02c34c0>"
      ]
     },
     "execution_count": 14,
     "metadata": {},
     "output_type": "execute_result"
    },
    {
     "data": {
      "text/plain": [
       "<matplotlib.collections.PathCollection at 0x7f9ec02c3b20>"
      ]
     },
     "execution_count": 14,
     "metadata": {},
     "output_type": "execute_result"
    },
    {
     "data": {
      "text/plain": [
       "<matplotlib.collections.PathCollection at 0x7f9ec02d7220>"
      ]
     },
     "execution_count": 14,
     "metadata": {},
     "output_type": "execute_result"
    },
    {
     "data": {
      "text/plain": [
       "Text(0.5, 0, 'Test 1')"
      ]
     },
     "execution_count": 14,
     "metadata": {},
     "output_type": "execute_result"
    },
    {
     "data": {
      "text/plain": [
       "Text(0, 0.5, 'Test 2')"
      ]
     },
     "execution_count": 14,
     "metadata": {},
     "output_type": "execute_result"
    },
    {
     "data": {
      "text/plain": [
       "<matplotlib.legend.Legend at 0x7f9ec02c3940>"
      ]
     },
     "execution_count": 14,
     "metadata": {},
     "output_type": "execute_result"
    },
    {
     "data": {
      "image/png": "[encoded data removed]",
      "text/plain": [
       "<Figure size 432x288 with 1 Axes>"
      ]
     },
     "metadata": {
      "needs_background": "light"
     },
     "output_type": "display_data"
    }
   ],
   "source": [
    "# plot the features against the classification [Training]\n",
    "X0_right = data_with_prob[(data_with_prob['Accept'] == 0) & (data_with_prob['Probability'] < 0.5)]\n",
    "X1_right = data_with_prob[(data_with_prob['Accept'] == 1) & (data_with_prob['Probability'] >= 0.5)]\n",
    "X0_wrong = data_with_prob[(data_with_prob['Accept'] == 0) & (data_with_prob['Probability'] >= 0.5)]\n",
    "X1_wrong = data_with_prob[(data_with_prob['Accept'] == 1) & (data_with_prob['Probability'] < 0.5)]\n",
    "\n",
    "plt.scatter(X0_right['Test 1'], X0_right['Test 2'], color = 'red', marker = 'o', label = 'reject accurate')\n",
    "plt.scatter(X1_right['Test 1'], X1_right['Test 2'], color = 'blue', marker = 'x', label = 'accept accurate')\n",
    "plt.scatter(X0_wrong['Test 1'], X0_wrong['Test 2'] + 0.1, color = 'black', marker = 'o', label = 'reject inaccurate')\n",
    "plt.scatter(X1_wrong['Test 1'], X1_wrong['Test 2'] - 0.1, color = 'cyan', marker = 'x', label = 'accept inaccurate')\n",
    "plt.xlabel('Test 1')\n",
    "plt.ylabel('Test 2')\n",
    "plt.legend(loc='lower left')\n",
    "plt.show()"
   ]
  },
  {
   "cell_type": "code",
   "execution_count": 15,
   "metadata": {},
   "outputs": [
    {
     "data": {
      "text/plain": [
       "<matplotlib.collections.PathCollection at 0x7f9ec03b6550>"
      ]
     },
     "execution_count": 15,
     "metadata": {},
     "output_type": "execute_result"
    },
    {
     "data": {
      "text/plain": [
       "<matplotlib.collections.PathCollection at 0x7f9ec03b6cd0>"
      ]
     },
     "execution_count": 15,
     "metadata": {},
     "output_type": "execute_result"
    },
    {
     "data": {
      "text/plain": [
       "<matplotlib.collections.PathCollection at 0x7f9ec03c5370>"
      ]
     },
     "execution_count": 15,
     "metadata": {},
     "output_type": "execute_result"
    },
    {
     "data": {
      "text/plain": [
       "<matplotlib.collections.PathCollection at 0x7f9ec03c5a90>"
      ]
     },
     "execution_count": 15,
     "metadata": {},
     "output_type": "execute_result"
    },
    {
     "data": {
      "text/plain": [
       "Text(0.5, 0, 'Test 1')"
      ]
     },
     "execution_count": 15,
     "metadata": {},
     "output_type": "execute_result"
    },
    {
     "data": {
      "text/plain": [
       "Text(0, 0.5, 'Test 2')"
      ]
     },
     "execution_count": 15,
     "metadata": {},
     "output_type": "execute_result"
    },
    {
     "data": {
      "text/plain": [
       "<matplotlib.legend.Legend at 0x7f9ec03b6940>"
      ]
     },
     "execution_count": 15,
     "metadata": {},
     "output_type": "execute_result"
    },
    {
     "data": {
      "image/png": "[encoded data removed]",
      "text/plain": [
       "<Figure size 432x288 with 1 Axes>"
      ]
     },
     "metadata": {
      "needs_background": "light"
     },
     "output_type": "display_data"
    }
   ],
   "source": [
    "# plot the features against the classification [Testing]\n",
    "X0_right = test_output[(test_output['Accept'] == 0) & (test_output['Probability'] < 0.5)]\n",
    "X1_right = test_output[(test_output['Accept'] == 1) & (test_output['Probability'] >= 0.5)]\n",
    "X0_wrong = test_output[(test_output['Accept'] == 0) & (test_output['Probability'] >= 0.5)]\n",
    "X1_wrong = test_output[(test_output['Accept'] == 1) & (test_output['Probability'] < 0.5)]\n",
    "\n",
    "plt.scatter(X0_right['Test 1'], X0_right['Test 2'], color = 'red', marker = 'o', label = 'reject accurate')\n",
    "plt.scatter(X1_right['Test 1'], X1_right['Test 2'], color = 'blue', marker = 'x', label = 'accept accurate')\n",
    "plt.scatter(X0_wrong['Test 1'], X0_wrong['Test 2'] + 0.1, color = 'black', marker = 'o', label = 'reject inaccurate')\n",
    "plt.scatter(X1_wrong['Test 1'], X1_wrong['Test 2'] - 0.1, color = 'cyan', marker = 'x', label = 'accept inaccurate')\n",
    "plt.xlabel('Test 1')\n",
    "plt.ylabel('Test 2')\n",
    "plt.legend(loc='lower left')\n",
    "plt.show()"
   ]
  }
 ],
 "metadata": {
  "kernelspec": {
   "display_name": "Python 3 (ipykernel)",
   "language": "python",
   "name": "python3"
  },
  "language_info": {
   "codemirror_mode": {
    "name": "ipython",
    "version": 3
   },
   "file_extension": ".py",
   "mimetype": "text/x-python",
   "name": "python",
   "nbconvert_exporter": "python",
   "pygments_lexer": "ipython3",
   "version": "3.9.12"
  }
 },
 "nbformat": 4,
 "nbformat_minor": 2
}
