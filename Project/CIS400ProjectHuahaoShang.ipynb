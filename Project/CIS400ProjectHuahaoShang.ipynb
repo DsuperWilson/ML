{
 "cells": [
  {
   "cell_type": "code",
   "execution_count": 1,
   "id": "2c607812",
   "metadata": {},
   "outputs": [],
   "source": [
    "# Generic inputs for most ML tasks\n",
    "import pandas as pd\n",
    "import numpy as np\n",
    "import matplotlib.pyplot as plt\n",
    "from sklearn.model_selection import train_test_split\n",
    "from sklearn.linear_model import LinearRegression\n",
    "from sklearn.linear_model import Ridge\n",
    "from sklearn.linear_model import Lasso\n",
    "from sklearn import tree\n",
    "#import graphviz\n",
    "from sklearn.tree import DecisionTreeClassifier\n",
    "from sklearn.tree import DecisionTreeRegressor\n",
    "from sklearn.ensemble import BaggingRegressor\n",
    "from sklearn.ensemble import RandomForestRegressor\n",
    "from sklearn.ensemble import RandomForestClassifier\n",
    "from sklearn.ensemble import GradientBoostingRegressor\n",
    "\n",
    "pd.options.display.float_format = '{:,.2f}'.format\n",
    "\n",
    "# setup interactive notebook mode\n",
    "from IPython.core.interactiveshell import InteractiveShell\n",
    "InteractiveShell.ast_node_interactivity = \"all\"\n",
    "\n",
    "from IPython.display import display, HTML\n",
    "\n",
    "from sklearn.preprocessing import StandardScaler\n",
    "\n",
    "from sklearn.preprocessing import OneHotEncoder\n",
    "\n",
    "def get_ohe(df, col):\n",
    "    ohe = OneHotEncoder(drop='first', handle_unknown='error', sparse=False, dtype='int')\n",
    "    ohe.fit(df[[col]])\n",
    "    temp_df = pd.DataFrame(data=ohe.transform(df[[col]]), columns=ohe.get_feature_names())\n",
    "    # If you have a newer version, replace with columns=ohe.get_feature_names_out()\n",
    "    df.drop(columns=[col], axis=1, inplace=True)\n",
    "    df = pd.concat([df.reset_index(drop=True), temp_df], axis=1)\n",
    "    return df"
   ]
  },
  {
   "cell_type": "code",
   "execution_count": 2,
   "id": "451ac679",
   "metadata": {},
   "outputs": [
    {
     "data": {
      "text/html": [
       "<div>\n",
       "<style scoped>\n",
       "    .dataframe tbody tr th:only-of-type {\n",
       "        vertical-align: middle;\n",
       "    }\n",
       "\n",
       "    .dataframe tbody tr th {\n",
       "        vertical-align: top;\n",
       "    }\n",
       "\n",
       "    .dataframe thead th {\n",
       "        text-align: right;\n",
       "    }\n",
       "</style>\n",
       "<table border=\"1\" class=\"dataframe\">\n",
       "  <thead>\n",
       "    <tr style=\"text-align: right;\">\n",
       "      <th></th>\n",
       "      <th>item_sku_id</th>\n",
       "      <th>dc_id</th>\n",
       "      <th>date</th>\n",
       "      <th>quantity</th>\n",
       "      <th>vendibility</th>\n",
       "      <th>original_price</th>\n",
       "      <th>discount</th>\n",
       "    </tr>\n",
       "  </thead>\n",
       "  <tbody>\n",
       "    <tr>\n",
       "      <th>0</th>\n",
       "      <td>6</td>\n",
       "      <td>4</td>\n",
       "      <td>2017-03-12</td>\n",
       "      <td>0.00</td>\n",
       "      <td>1.00</td>\n",
       "      <td>NaN</td>\n",
       "      <td>NaN</td>\n",
       "    </tr>\n",
       "    <tr>\n",
       "      <th>1</th>\n",
       "      <td>6</td>\n",
       "      <td>4</td>\n",
       "      <td>2017-04-29</td>\n",
       "      <td>0.00</td>\n",
       "      <td>1.00</td>\n",
       "      <td>NaN</td>\n",
       "      <td>NaN</td>\n",
       "    </tr>\n",
       "    <tr>\n",
       "      <th>2</th>\n",
       "      <td>6</td>\n",
       "      <td>4</td>\n",
       "      <td>2017-09-01</td>\n",
       "      <td>0.00</td>\n",
       "      <td>1.00</td>\n",
       "      <td>NaN</td>\n",
       "      <td>NaN</td>\n",
       "    </tr>\n",
       "    <tr>\n",
       "      <th>3</th>\n",
       "      <td>6</td>\n",
       "      <td>4</td>\n",
       "      <td>2017-09-13</td>\n",
       "      <td>0.00</td>\n",
       "      <td>1.00</td>\n",
       "      <td>NaN</td>\n",
       "      <td>NaN</td>\n",
       "    </tr>\n",
       "    <tr>\n",
       "      <th>4</th>\n",
       "      <td>6</td>\n",
       "      <td>4</td>\n",
       "      <td>2017-12-01</td>\n",
       "      <td>1.00</td>\n",
       "      <td>1.00</td>\n",
       "      <td>0.01</td>\n",
       "      <td>10.00</td>\n",
       "    </tr>\n",
       "  </tbody>\n",
       "</table>\n",
       "</div>"
      ],
      "text/plain": [
       "   item_sku_id  dc_id        date  quantity  vendibility  original_price  \\\n",
       "0            6      4  2017-03-12      0.00         1.00             NaN   \n",
       "1            6      4  2017-04-29      0.00         1.00             NaN   \n",
       "2            6      4  2017-09-01      0.00         1.00             NaN   \n",
       "3            6      4  2017-09-13      0.00         1.00             NaN   \n",
       "4            6      4  2017-12-01      1.00         1.00            0.01   \n",
       "\n",
       "   discount  \n",
       "0       NaN  \n",
       "1       NaN  \n",
       "2       NaN  \n",
       "3       NaN  \n",
       "4     10.00  "
      ]
     },
     "execution_count": 2,
     "metadata": {},
     "output_type": "execute_result"
    },
    {
     "data": {
      "text/html": [
       "<div>\n",
       "<style scoped>\n",
       "    .dataframe tbody tr th:only-of-type {\n",
       "        vertical-align: middle;\n",
       "    }\n",
       "\n",
       "    .dataframe tbody tr th {\n",
       "        vertical-align: top;\n",
       "    }\n",
       "\n",
       "    .dataframe thead th {\n",
       "        text-align: right;\n",
       "    }\n",
       "</style>\n",
       "<table border=\"1\" class=\"dataframe\">\n",
       "  <thead>\n",
       "    <tr style=\"text-align: right;\">\n",
       "      <th></th>\n",
       "      <th>item_sku_id</th>\n",
       "      <th>attr_cd</th>\n",
       "      <th>attr_value_cd</th>\n",
       "    </tr>\n",
       "  </thead>\n",
       "  <tbody>\n",
       "    <tr>\n",
       "      <th>0</th>\n",
       "      <td>1</td>\n",
       "      <td>1</td>\n",
       "      <td>1523</td>\n",
       "    </tr>\n",
       "    <tr>\n",
       "      <th>1</th>\n",
       "      <td>1</td>\n",
       "      <td>2</td>\n",
       "      <td>148</td>\n",
       "    </tr>\n",
       "    <tr>\n",
       "      <th>2</th>\n",
       "      <td>1</td>\n",
       "      <td>1</td>\n",
       "      <td>1433</td>\n",
       "    </tr>\n",
       "    <tr>\n",
       "      <th>3</th>\n",
       "      <td>1</td>\n",
       "      <td>1</td>\n",
       "      <td>1528</td>\n",
       "    </tr>\n",
       "    <tr>\n",
       "      <th>4</th>\n",
       "      <td>1</td>\n",
       "      <td>1</td>\n",
       "      <td>1525</td>\n",
       "    </tr>\n",
       "  </tbody>\n",
       "</table>\n",
       "</div>"
      ],
      "text/plain": [
       "   item_sku_id  attr_cd  attr_value_cd\n",
       "0            1        1           1523\n",
       "1            1        2            148\n",
       "2            1        1           1433\n",
       "3            1        1           1528\n",
       "4            1        1           1525"
      ]
     },
     "execution_count": 2,
     "metadata": {},
     "output_type": "execute_result"
    },
    {
     "data": {
      "text/html": [
       "<div>\n",
       "<style scoped>\n",
       "    .dataframe tbody tr th:only-of-type {\n",
       "        vertical-align: middle;\n",
       "    }\n",
       "\n",
       "    .dataframe tbody tr th {\n",
       "        vertical-align: top;\n",
       "    }\n",
       "\n",
       "    .dataframe thead th {\n",
       "        text-align: right;\n",
       "    }\n",
       "</style>\n",
       "<table border=\"1\" class=\"dataframe\">\n",
       "  <thead>\n",
       "    <tr style=\"text-align: right;\">\n",
       "      <th></th>\n",
       "      <th>item_sku_id</th>\n",
       "      <th>item_first_cate_cd</th>\n",
       "      <th>item_second_cate_cd</th>\n",
       "      <th>item_third_cate_cd</th>\n",
       "      <th>brand_code</th>\n",
       "    </tr>\n",
       "  </thead>\n",
       "  <tbody>\n",
       "    <tr>\n",
       "      <th>0</th>\n",
       "      <td>1</td>\n",
       "      <td>1</td>\n",
       "      <td>5</td>\n",
       "      <td>366</td>\n",
       "      <td>198</td>\n",
       "    </tr>\n",
       "    <tr>\n",
       "      <th>1</th>\n",
       "      <td>2</td>\n",
       "      <td>1</td>\n",
       "      <td>7</td>\n",
       "      <td>298</td>\n",
       "      <td>158</td>\n",
       "    </tr>\n",
       "    <tr>\n",
       "      <th>2</th>\n",
       "      <td>3</td>\n",
       "      <td>7</td>\n",
       "      <td>29</td>\n",
       "      <td>144</td>\n",
       "      <td>1040</td>\n",
       "    </tr>\n",
       "    <tr>\n",
       "      <th>3</th>\n",
       "      <td>4</td>\n",
       "      <td>7</td>\n",
       "      <td>29</td>\n",
       "      <td>145</td>\n",
       "      <td>70</td>\n",
       "    </tr>\n",
       "    <tr>\n",
       "      <th>4</th>\n",
       "      <td>5</td>\n",
       "      <td>1</td>\n",
       "      <td>4</td>\n",
       "      <td>17</td>\n",
       "      <td>707</td>\n",
       "    </tr>\n",
       "  </tbody>\n",
       "</table>\n",
       "</div>"
      ],
      "text/plain": [
       "   item_sku_id  item_first_cate_cd  item_second_cate_cd  item_third_cate_cd  \\\n",
       "0            1                   1                    5                 366   \n",
       "1            2                   1                    7                 298   \n",
       "2            3                   7                   29                 144   \n",
       "3            4                   7                   29                 145   \n",
       "4            5                   1                    4                  17   \n",
       "\n",
       "   brand_code  \n",
       "0         198  \n",
       "1         158  \n",
       "2        1040  \n",
       "3          70  \n",
       "4         707  "
      ]
     },
     "execution_count": 2,
     "metadata": {},
     "output_type": "execute_result"
    },
    {
     "data": {
      "text/html": [
       "<div>\n",
       "<style scoped>\n",
       "    .dataframe tbody tr th:only-of-type {\n",
       "        vertical-align: middle;\n",
       "    }\n",
       "\n",
       "    .dataframe tbody tr th {\n",
       "        vertical-align: top;\n",
       "    }\n",
       "\n",
       "    .dataframe thead th {\n",
       "        text-align: right;\n",
       "    }\n",
       "</style>\n",
       "<table border=\"1\" class=\"dataframe\">\n",
       "  <thead>\n",
       "    <tr style=\"text-align: right;\">\n",
       "      <th></th>\n",
       "      <th>serial_number</th>\n",
       "      <th>dc_id</th>\n",
       "      <th>date</th>\n",
       "      <th>quantity</th>\n",
       "      <th>vendibility</th>\n",
       "      <th>original_price</th>\n",
       "      <th>discount</th>\n",
       "    </tr>\n",
       "  </thead>\n",
       "  <tbody>\n",
       "    <tr>\n",
       "      <th>0</th>\n",
       "      <td>0</td>\n",
       "      <td>0</td>\n",
       "      <td>12/23/17</td>\n",
       "      <td>0</td>\n",
       "      <td>0</td>\n",
       "      <td>NaN</td>\n",
       "      <td>NaN</td>\n",
       "    </tr>\n",
       "    <tr>\n",
       "      <th>1</th>\n",
       "      <td>1</td>\n",
       "      <td>3</td>\n",
       "      <td>12/30/17</td>\n",
       "      <td>0</td>\n",
       "      <td>1</td>\n",
       "      <td>NaN</td>\n",
       "      <td>NaN</td>\n",
       "    </tr>\n",
       "    <tr>\n",
       "      <th>2</th>\n",
       "      <td>2</td>\n",
       "      <td>0</td>\n",
       "      <td>12/18/17</td>\n",
       "      <td>0</td>\n",
       "      <td>0</td>\n",
       "      <td>NaN</td>\n",
       "      <td>NaN</td>\n",
       "    </tr>\n",
       "    <tr>\n",
       "      <th>3</th>\n",
       "      <td>3</td>\n",
       "      <td>3</td>\n",
       "      <td>12/18/17</td>\n",
       "      <td>0</td>\n",
       "      <td>0</td>\n",
       "      <td>NaN</td>\n",
       "      <td>NaN</td>\n",
       "    </tr>\n",
       "    <tr>\n",
       "      <th>4</th>\n",
       "      <td>4</td>\n",
       "      <td>1</td>\n",
       "      <td>12/25/17</td>\n",
       "      <td>5</td>\n",
       "      <td>0</td>\n",
       "      <td>0.00</td>\n",
       "      <td>2.87</td>\n",
       "    </tr>\n",
       "  </tbody>\n",
       "</table>\n",
       "</div>"
      ],
      "text/plain": [
       "   serial_number  dc_id      date  quantity  vendibility  original_price  \\\n",
       "0              0      0  12/23/17         0            0             NaN   \n",
       "1              1      3  12/30/17         0            1             NaN   \n",
       "2              2      0  12/18/17         0            0             NaN   \n",
       "3              3      3  12/18/17         0            0             NaN   \n",
       "4              4      1  12/25/17         5            0            0.00   \n",
       "\n",
       "   discount  \n",
       "0       NaN  \n",
       "1       NaN  \n",
       "2       NaN  \n",
       "3       NaN  \n",
       "4      2.87  "
      ]
     },
     "execution_count": 2,
     "metadata": {},
     "output_type": "execute_result"
    }
   ],
   "source": [
    "data_set = pd.read_csv('data_set.csv')\n",
    "data_attr = pd.read_csv('sku_attr_40.csv')\n",
    "data_info = pd.read_csv('sku_info_40.csv')\n",
    "data_student = pd.read_csv('student_test.csv')\n",
    "data_set.head()\n",
    "data_attr.head()\n",
    "data_info.head()\n",
    "data_student.head()"
   ]
  },
  {
   "cell_type": "code",
   "execution_count": 3,
   "id": "39f2183a",
   "metadata": {},
   "outputs": [
    {
     "data": {
      "text/html": [
       "<div>\n",
       "<style scoped>\n",
       "    .dataframe tbody tr th:only-of-type {\n",
       "        vertical-align: middle;\n",
       "    }\n",
       "\n",
       "    .dataframe tbody tr th {\n",
       "        vertical-align: top;\n",
       "    }\n",
       "\n",
       "    .dataframe thead th {\n",
       "        text-align: right;\n",
       "    }\n",
       "</style>\n",
       "<table border=\"1\" class=\"dataframe\">\n",
       "  <thead>\n",
       "    <tr style=\"text-align: right;\">\n",
       "      <th></th>\n",
       "      <th>item_sku_id</th>\n",
       "      <th>dc_id</th>\n",
       "      <th>date</th>\n",
       "      <th>quantity</th>\n",
       "      <th>vendibility</th>\n",
       "      <th>original_price</th>\n",
       "      <th>discount</th>\n",
       "    </tr>\n",
       "  </thead>\n",
       "  <tbody>\n",
       "    <tr>\n",
       "      <th>44200</th>\n",
       "      <td>2</td>\n",
       "      <td>1</td>\n",
       "      <td>2017-10-11</td>\n",
       "      <td>1.00</td>\n",
       "      <td>1.00</td>\n",
       "      <td>0.00</td>\n",
       "      <td>10.00</td>\n",
       "    </tr>\n",
       "    <tr>\n",
       "      <th>42736</th>\n",
       "      <td>2</td>\n",
       "      <td>0</td>\n",
       "      <td>2017-02-06</td>\n",
       "      <td>1.00</td>\n",
       "      <td>1.00</td>\n",
       "      <td>0.00</td>\n",
       "      <td>10.00</td>\n",
       "    </tr>\n",
       "    <tr>\n",
       "      <th>42735</th>\n",
       "      <td>2</td>\n",
       "      <td>0</td>\n",
       "      <td>2016-05-30</td>\n",
       "      <td>0.00</td>\n",
       "      <td>1.00</td>\n",
       "      <td>NaN</td>\n",
       "      <td>NaN</td>\n",
       "    </tr>\n",
       "    <tr>\n",
       "      <th>42734</th>\n",
       "      <td>2</td>\n",
       "      <td>0</td>\n",
       "      <td>2016-05-21</td>\n",
       "      <td>0.00</td>\n",
       "      <td>1.00</td>\n",
       "      <td>NaN</td>\n",
       "      <td>NaN</td>\n",
       "    </tr>\n",
       "    <tr>\n",
       "      <th>42733</th>\n",
       "      <td>2</td>\n",
       "      <td>5</td>\n",
       "      <td>2017-09-05</td>\n",
       "      <td>0.00</td>\n",
       "      <td>1.00</td>\n",
       "      <td>NaN</td>\n",
       "      <td>NaN</td>\n",
       "    </tr>\n",
       "  </tbody>\n",
       "</table>\n",
       "</div>"
      ],
      "text/plain": [
       "       item_sku_id  dc_id        date  quantity  vendibility  original_price  \\\n",
       "44200            2      1  2017-10-11      1.00         1.00            0.00   \n",
       "42736            2      0  2017-02-06      1.00         1.00            0.00   \n",
       "42735            2      0  2016-05-30      0.00         1.00             NaN   \n",
       "42734            2      0  2016-05-21      0.00         1.00             NaN   \n",
       "42733            2      5  2017-09-05      0.00         1.00             NaN   \n",
       "\n",
       "       discount  \n",
       "44200     10.00  \n",
       "42736     10.00  \n",
       "42735       NaN  \n",
       "42734       NaN  \n",
       "42733       NaN  "
      ]
     },
     "execution_count": 3,
     "metadata": {},
     "output_type": "execute_result"
    },
    {
     "name": "stdout",
     "output_type": "stream",
     "text": [
      "       item_sku_id  dc_id        date  quantity  vendibility  original_price  \\\n",
      "44200            2      1  2017-10-11      1.00         1.00            0.00   \n",
      "42736            2      0  2017-02-06      1.00         1.00            0.00   \n",
      "42735            2      0  2016-05-30      0.00         1.00             NaN   \n",
      "42734            2      0  2016-05-21      0.00         1.00             NaN   \n",
      "42733            2      5  2017-09-05      0.00         1.00             NaN   \n",
      "...            ...    ...         ...       ...          ...             ...   \n",
      "54698           40      1  2017-08-23      0.00         1.00             NaN   \n",
      "54697           40      1  2017-07-19      0.00         1.00             NaN   \n",
      "54696           40      5  2017-09-25      0.00         1.00             NaN   \n",
      "56582           40      1  2017-05-04      1.00         0.00            0.02   \n",
      "66795           40      2  2017-10-29      1.00         1.00            0.02   \n",
      "\n",
      "       discount  \n",
      "44200     10.00  \n",
      "42736     10.00  \n",
      "42735       NaN  \n",
      "42734       NaN  \n",
      "42733       NaN  \n",
      "...         ...  \n",
      "54698       NaN  \n",
      "54697       NaN  \n",
      "54696       NaN  \n",
      "56582      7.67  \n",
      "66795      7.67  \n",
      "\n",
      "[71658 rows x 7 columns]\n"
     ]
    },
    {
     "data": {
      "text/plain": [
       "<AxesSubplot:xlabel='dc_id', ylabel='item_sku_id'>"
      ]
     },
     "execution_count": 3,
     "metadata": {},
     "output_type": "execute_result"
    },
    {
     "data": {
      "image/png": "[encoded data removed]",
      "text/plain": [
       "<Figure size 432x288 with 1 Axes>"
      ]
     },
     "metadata": {
      "needs_background": "light"
     },
     "output_type": "display_data"
    },
    {
     "data": {
      "text/plain": [
       "<AxesSubplot:xlabel='date', ylabel='item_sku_id'>"
      ]
     },
     "execution_count": 3,
     "metadata": {},
     "output_type": "execute_result"
    },
    {
     "data": {
      "image/png": "[encoded data removed]",
      "text/plain": [
       "<Figure size 432x288 with 1 Axes>"
      ]
     },
     "metadata": {
      "needs_background": "light"
     },
     "output_type": "display_data"
    },
    {
     "data": {
      "text/plain": [
       "<AxesSubplot:xlabel='quantity', ylabel='item_sku_id'>"
      ]
     },
     "execution_count": 3,
     "metadata": {},
     "output_type": "execute_result"
    },
    {
     "data": {
      "image/png": "[encoded data removed]",
      "text/plain": [
       "<Figure size 432x288 with 1 Axes>"
      ]
     },
     "metadata": {
      "needs_background": "light"
     },
     "output_type": "display_data"
    },
    {
     "data": {
      "text/plain": [
       "<AxesSubplot:xlabel='vendibility', ylabel='item_sku_id'>"
      ]
     },
     "execution_count": 3,
     "metadata": {},
     "output_type": "execute_result"
    },
    {
     "data": {
      "image/png": "[encoded data removed]",
      "text/plain": [
       "<Figure size 432x288 with 1 Axes>"
      ]
     },
     "metadata": {
      "needs_background": "light"
     },
     "output_type": "display_data"
    },
    {
     "data": {
      "text/plain": [
       "<AxesSubplot:xlabel='original_price', ylabel='item_sku_id'>"
      ]
     },
     "execution_count": 3,
     "metadata": {},
     "output_type": "execute_result"
    },
    {
     "data": {
      "image/png": "[encoded data removed]",
      "text/plain": [
       "<Figure size 432x288 with 1 Axes>"
      ]
     },
     "metadata": {
      "needs_background": "light"
     },
     "output_type": "display_data"
    },
    {
     "data": {
      "text/plain": [
       "<AxesSubplot:xlabel='discount', ylabel='item_sku_id'>"
      ]
     },
     "execution_count": 3,
     "metadata": {},
     "output_type": "execute_result"
    },
    {
     "data": {
      "image/png": "[encoded data removed]",
      "text/plain": [
       "<Figure size 432x288 with 1 Axes>"
      ]
     },
     "metadata": {
      "needs_background": "light"
     },
     "output_type": "display_data"
    }
   ],
   "source": [
    "#set_info = pd.merge(data_set,data_info ,on = 'item_sku_id', how='inner')\n",
    "set_info = data_set\n",
    "set_info = set_info.sort_values(by = ['item_sku_id'])\n",
    "set_info.head()\n",
    "set_info.to_csv('set_info.csv')\n",
    "print(set_info)\n",
    "for col in set_info.drop(columns=['item_sku_id']).columns:\n",
    "    \n",
    "    set_info.plot(x = col, y = 'item_sku_id', kind = 'scatter')\n",
    "#df_s.plot(x = 'X1', y = 'Y', kind = 'scatter')\n",
    "    plt.show()"
   ]
  },
  {
   "cell_type": "code",
   "execution_count": 4,
   "id": "adee548e",
   "metadata": {},
   "outputs": [
    {
     "data": {
      "text/html": [
       "<div>\n",
       "<style scoped>\n",
       "    .dataframe tbody tr th:only-of-type {\n",
       "        vertical-align: middle;\n",
       "    }\n",
       "\n",
       "    .dataframe tbody tr th {\n",
       "        vertical-align: top;\n",
       "    }\n",
       "\n",
       "    .dataframe thead tr th {\n",
       "        text-align: left;\n",
       "    }\n",
       "\n",
       "    .dataframe thead tr:last-of-type th {\n",
       "        text-align: right;\n",
       "    }\n",
       "</style>\n",
       "<table border=\"1\" class=\"dataframe\">\n",
       "  <thead>\n",
       "    <tr>\n",
       "      <th></th>\n",
       "      <th colspan=\"8\" halign=\"left\">dc_id</th>\n",
       "      <th colspan=\"2\" halign=\"left\">quantity</th>\n",
       "      <th>...</th>\n",
       "      <th colspan=\"2\" halign=\"left\">original_price</th>\n",
       "      <th colspan=\"8\" halign=\"left\">discount</th>\n",
       "    </tr>\n",
       "    <tr>\n",
       "      <th></th>\n",
       "      <th>count</th>\n",
       "      <th>mean</th>\n",
       "      <th>std</th>\n",
       "      <th>min</th>\n",
       "      <th>25%</th>\n",
       "      <th>50%</th>\n",
       "      <th>75%</th>\n",
       "      <th>max</th>\n",
       "      <th>count</th>\n",
       "      <th>mean</th>\n",
       "      <th>...</th>\n",
       "      <th>75%</th>\n",
       "      <th>max</th>\n",
       "      <th>count</th>\n",
       "      <th>mean</th>\n",
       "      <th>std</th>\n",
       "      <th>min</th>\n",
       "      <th>25%</th>\n",
       "      <th>50%</th>\n",
       "      <th>75%</th>\n",
       "      <th>max</th>\n",
       "    </tr>\n",
       "    <tr>\n",
       "      <th>item_sku_id</th>\n",
       "      <th></th>\n",
       "      <th></th>\n",
       "      <th></th>\n",
       "      <th></th>\n",
       "      <th></th>\n",
       "      <th></th>\n",
       "      <th></th>\n",
       "      <th></th>\n",
       "      <th></th>\n",
       "      <th></th>\n",
       "      <th></th>\n",
       "      <th></th>\n",
       "      <th></th>\n",
       "      <th></th>\n",
       "      <th></th>\n",
       "      <th></th>\n",
       "      <th></th>\n",
       "      <th></th>\n",
       "      <th></th>\n",
       "      <th></th>\n",
       "      <th></th>\n",
       "    </tr>\n",
       "  </thead>\n",
       "  <tbody>\n",
       "    <tr>\n",
       "      <th>2</th>\n",
       "      <td>2,793.00</td>\n",
       "      <td>1.96</td>\n",
       "      <td>1.50</td>\n",
       "      <td>0.00</td>\n",
       "      <td>1.00</td>\n",
       "      <td>2.00</td>\n",
       "      <td>3.00</td>\n",
       "      <td>5.00</td>\n",
       "      <td>2,793.00</td>\n",
       "      <td>0.48</td>\n",
       "      <td>...</td>\n",
       "      <td>0.00</td>\n",
       "      <td>0.00</td>\n",
       "      <td>533.00</td>\n",
       "      <td>8.80</td>\n",
       "      <td>1.42</td>\n",
       "      <td>5.00</td>\n",
       "      <td>7.89</td>\n",
       "      <td>9.71</td>\n",
       "      <td>10.00</td>\n",
       "      <td>10.00</td>\n",
       "    </tr>\n",
       "    <tr>\n",
       "      <th>3</th>\n",
       "      <td>890.00</td>\n",
       "      <td>2.47</td>\n",
       "      <td>1.69</td>\n",
       "      <td>0.00</td>\n",
       "      <td>1.00</td>\n",
       "      <td>2.00</td>\n",
       "      <td>4.00</td>\n",
       "      <td>5.00</td>\n",
       "      <td>890.00</td>\n",
       "      <td>1.98</td>\n",
       "      <td>...</td>\n",
       "      <td>0.00</td>\n",
       "      <td>0.00</td>\n",
       "      <td>447.00</td>\n",
       "      <td>5.97</td>\n",
       "      <td>1.89</td>\n",
       "      <td>2.30</td>\n",
       "      <td>4.66</td>\n",
       "      <td>5.74</td>\n",
       "      <td>6.69</td>\n",
       "      <td>10.00</td>\n",
       "    </tr>\n",
       "    <tr>\n",
       "      <th>4</th>\n",
       "      <td>569.00</td>\n",
       "      <td>2.49</td>\n",
       "      <td>1.72</td>\n",
       "      <td>0.00</td>\n",
       "      <td>1.00</td>\n",
       "      <td>3.00</td>\n",
       "      <td>4.00</td>\n",
       "      <td>5.00</td>\n",
       "      <td>569.00</td>\n",
       "      <td>1.12</td>\n",
       "      <td>...</td>\n",
       "      <td>0.01</td>\n",
       "      <td>0.01</td>\n",
       "      <td>307.00</td>\n",
       "      <td>4.47</td>\n",
       "      <td>0.87</td>\n",
       "      <td>3.97</td>\n",
       "      <td>4.26</td>\n",
       "      <td>4.26</td>\n",
       "      <td>4.41</td>\n",
       "      <td>10.00</td>\n",
       "    </tr>\n",
       "    <tr>\n",
       "      <th>5</th>\n",
       "      <td>310.00</td>\n",
       "      <td>2.48</td>\n",
       "      <td>1.70</td>\n",
       "      <td>0.00</td>\n",
       "      <td>1.00</td>\n",
       "      <td>2.00</td>\n",
       "      <td>4.00</td>\n",
       "      <td>5.00</td>\n",
       "      <td>310.00</td>\n",
       "      <td>2.56</td>\n",
       "      <td>...</td>\n",
       "      <td>0.12</td>\n",
       "      <td>0.12</td>\n",
       "      <td>162.00</td>\n",
       "      <td>8.82</td>\n",
       "      <td>0.28</td>\n",
       "      <td>8.00</td>\n",
       "      <td>8.80</td>\n",
       "      <td>9.00</td>\n",
       "      <td>9.00</td>\n",
       "      <td>9.48</td>\n",
       "    </tr>\n",
       "    <tr>\n",
       "      <th>6</th>\n",
       "      <td>2,873.00</td>\n",
       "      <td>1.98</td>\n",
       "      <td>1.47</td>\n",
       "      <td>0.00</td>\n",
       "      <td>1.00</td>\n",
       "      <td>2.00</td>\n",
       "      <td>3.00</td>\n",
       "      <td>5.00</td>\n",
       "      <td>2,873.00</td>\n",
       "      <td>0.41</td>\n",
       "      <td>...</td>\n",
       "      <td>0.01</td>\n",
       "      <td>0.02</td>\n",
       "      <td>477.00</td>\n",
       "      <td>8.66</td>\n",
       "      <td>0.95</td>\n",
       "      <td>6.64</td>\n",
       "      <td>8.21</td>\n",
       "      <td>8.32</td>\n",
       "      <td>10.00</td>\n",
       "      <td>10.00</td>\n",
       "    </tr>\n",
       "  </tbody>\n",
       "</table>\n",
       "<p>5 rows × 40 columns</p>\n",
       "</div>"
      ],
      "text/plain": [
       "               dc_id                                    quantity       ...  \\\n",
       "               count mean  std  min  25%  50%  75%  max    count mean  ...   \n",
       "item_sku_id                                                            ...   \n",
       "2           2,793.00 1.96 1.50 0.00 1.00 2.00 3.00 5.00 2,793.00 0.48  ...   \n",
       "3             890.00 2.47 1.69 0.00 1.00 2.00 4.00 5.00   890.00 1.98  ...   \n",
       "4             569.00 2.49 1.72 0.00 1.00 3.00 4.00 5.00   569.00 1.12  ...   \n",
       "5             310.00 2.48 1.70 0.00 1.00 2.00 4.00 5.00   310.00 2.56  ...   \n",
       "6           2,873.00 1.98 1.47 0.00 1.00 2.00 3.00 5.00 2,873.00 0.41  ...   \n",
       "\n",
       "            original_price      discount                                       \n",
       "                       75%  max    count mean  std  min  25%  50%   75%   max  \n",
       "item_sku_id                                                                    \n",
       "2                     0.00 0.00   533.00 8.80 1.42 5.00 7.89 9.71 10.00 10.00  \n",
       "3                     0.00 0.00   447.00 5.97 1.89 2.30 4.66 5.74  6.69 10.00  \n",
       "4                     0.01 0.01   307.00 4.47 0.87 3.97 4.26 4.26  4.41 10.00  \n",
       "5                     0.12 0.12   162.00 8.82 0.28 8.00 8.80 9.00  9.00  9.48  \n",
       "6                     0.01 0.02   477.00 8.66 0.95 6.64 8.21 8.32 10.00 10.00  \n",
       "\n",
       "[5 rows x 40 columns]"
      ]
     },
     "execution_count": 4,
     "metadata": {},
     "output_type": "execute_result"
    }
   ],
   "source": [
    "setinfo = set_info.groupby('item_sku_id')\n",
    "setinfo.describe().head()\n"
   ]
  },
  {
   "cell_type": "code",
   "execution_count": 5,
   "id": "9074b226",
   "metadata": {},
   "outputs": [],
   "source": [
    "set_sortdate = set_info.sort_values(by = ['date'])\n",
    "set_sortdate.to_csv('set_sortdate.csv')"
   ]
  },
  {
   "cell_type": "code",
   "execution_count": 6,
   "id": "591d6ae6",
   "metadata": {},
   "outputs": [
    {
     "data": {
      "text/plain": [
       "item_sku_id           0\n",
       "dc_id                 0\n",
       "date                  0\n",
       "quantity              0\n",
       "vendibility           0\n",
       "original_price    34036\n",
       "discount          34036\n",
       "dtype: int64"
      ]
     },
     "execution_count": 6,
     "metadata": {},
     "output_type": "execute_result"
    }
   ],
   "source": [
    "set_info.isna().sum()\n",
    "set_info = set_info.dropna()\n",
    "\n",
    "#set_info = get_ohe(set_info, 'date')\n",
    "set_info = set_info.drop(columns = ['date'],axis = 1)\n",
    "#set_info = get_ohe(set_info, 'dc_id')"
   ]
  },
  {
   "cell_type": "code",
   "execution_count": 7,
   "id": "753f4b22",
   "metadata": {},
   "outputs": [
    {
     "data": {
      "text/html": [
       "<div>\n",
       "<style scoped>\n",
       "    .dataframe tbody tr th:only-of-type {\n",
       "        vertical-align: middle;\n",
       "    }\n",
       "\n",
       "    .dataframe tbody tr th {\n",
       "        vertical-align: top;\n",
       "    }\n",
       "\n",
       "    .dataframe thead th {\n",
       "        text-align: right;\n",
       "    }\n",
       "</style>\n",
       "<table border=\"1\" class=\"dataframe\">\n",
       "  <thead>\n",
       "    <tr style=\"text-align: right;\">\n",
       "      <th></th>\n",
       "      <th>dc_id</th>\n",
       "      <th>quantity</th>\n",
       "      <th>vendibility</th>\n",
       "      <th>original_price</th>\n",
       "      <th>discount</th>\n",
       "    </tr>\n",
       "  </thead>\n",
       "  <tbody>\n",
       "    <tr>\n",
       "      <th>10909</th>\n",
       "      <td>0</td>\n",
       "      <td>19.00</td>\n",
       "      <td>1.00</td>\n",
       "      <td>0.01</td>\n",
       "      <td>9.35</td>\n",
       "    </tr>\n",
       "    <tr>\n",
       "      <th>24175</th>\n",
       "      <td>1</td>\n",
       "      <td>1.00</td>\n",
       "      <td>1.00</td>\n",
       "      <td>0.00</td>\n",
       "      <td>8.94</td>\n",
       "    </tr>\n",
       "    <tr>\n",
       "      <th>40030</th>\n",
       "      <td>4</td>\n",
       "      <td>43.00</td>\n",
       "      <td>1.00</td>\n",
       "      <td>0.00</td>\n",
       "      <td>6.80</td>\n",
       "    </tr>\n",
       "    <tr>\n",
       "      <th>59341</th>\n",
       "      <td>0</td>\n",
       "      <td>29.00</td>\n",
       "      <td>1.00</td>\n",
       "      <td>0.00</td>\n",
       "      <td>5.53</td>\n",
       "    </tr>\n",
       "    <tr>\n",
       "      <th>29624</th>\n",
       "      <td>0</td>\n",
       "      <td>6.00</td>\n",
       "      <td>1.00</td>\n",
       "      <td>0.01</td>\n",
       "      <td>9.31</td>\n",
       "    </tr>\n",
       "    <tr>\n",
       "      <th>...</th>\n",
       "      <td>...</td>\n",
       "      <td>...</td>\n",
       "      <td>...</td>\n",
       "      <td>...</td>\n",
       "      <td>...</td>\n",
       "    </tr>\n",
       "    <tr>\n",
       "      <th>65603</th>\n",
       "      <td>2</td>\n",
       "      <td>1.00</td>\n",
       "      <td>1.00</td>\n",
       "      <td>0.00</td>\n",
       "      <td>10.00</td>\n",
       "    </tr>\n",
       "    <tr>\n",
       "      <th>50176</th>\n",
       "      <td>4</td>\n",
       "      <td>10.00</td>\n",
       "      <td>1.00</td>\n",
       "      <td>0.02</td>\n",
       "      <td>8.82</td>\n",
       "    </tr>\n",
       "    <tr>\n",
       "      <th>47888</th>\n",
       "      <td>2</td>\n",
       "      <td>1.00</td>\n",
       "      <td>1.00</td>\n",
       "      <td>0.01</td>\n",
       "      <td>10.00</td>\n",
       "    </tr>\n",
       "    <tr>\n",
       "      <th>70926</th>\n",
       "      <td>4</td>\n",
       "      <td>3.00</td>\n",
       "      <td>0.00</td>\n",
       "      <td>0.00</td>\n",
       "      <td>10.00</td>\n",
       "    </tr>\n",
       "    <tr>\n",
       "      <th>62926</th>\n",
       "      <td>4</td>\n",
       "      <td>37.00</td>\n",
       "      <td>1.00</td>\n",
       "      <td>0.00</td>\n",
       "      <td>6.44</td>\n",
       "    </tr>\n",
       "  </tbody>\n",
       "</table>\n",
       "<p>30097 rows × 5 columns</p>\n",
       "</div>"
      ],
      "text/plain": [
       "       dc_id  quantity  vendibility  original_price  discount\n",
       "10909      0     19.00         1.00            0.01      9.35\n",
       "24175      1      1.00         1.00            0.00      8.94\n",
       "40030      4     43.00         1.00            0.00      6.80\n",
       "59341      0     29.00         1.00            0.00      5.53\n",
       "29624      0      6.00         1.00            0.01      9.31\n",
       "...      ...       ...          ...             ...       ...\n",
       "65603      2      1.00         1.00            0.00     10.00\n",
       "50176      4     10.00         1.00            0.02      8.82\n",
       "47888      2      1.00         1.00            0.01     10.00\n",
       "70926      4      3.00         0.00            0.00     10.00\n",
       "62926      4     37.00         1.00            0.00      6.44\n",
       "\n",
       "[30097 rows x 5 columns]"
      ]
     },
     "execution_count": 7,
     "metadata": {},
     "output_type": "execute_result"
    },
    {
     "data": {
      "text/html": [
       "<div>\n",
       "<style scoped>\n",
       "    .dataframe tbody tr th:only-of-type {\n",
       "        vertical-align: middle;\n",
       "    }\n",
       "\n",
       "    .dataframe tbody tr th {\n",
       "        vertical-align: top;\n",
       "    }\n",
       "\n",
       "    .dataframe thead th {\n",
       "        text-align: right;\n",
       "    }\n",
       "</style>\n",
       "<table border=\"1\" class=\"dataframe\">\n",
       "  <thead>\n",
       "    <tr style=\"text-align: right;\">\n",
       "      <th></th>\n",
       "      <th>dc_id</th>\n",
       "      <th>quantity</th>\n",
       "      <th>vendibility</th>\n",
       "      <th>original_price</th>\n",
       "      <th>discount</th>\n",
       "    </tr>\n",
       "  </thead>\n",
       "  <tbody>\n",
       "    <tr>\n",
       "      <th>49047</th>\n",
       "      <td>2</td>\n",
       "      <td>2.00</td>\n",
       "      <td>1.00</td>\n",
       "      <td>0.24</td>\n",
       "      <td>5.26</td>\n",
       "    </tr>\n",
       "    <tr>\n",
       "      <th>12134</th>\n",
       "      <td>2</td>\n",
       "      <td>2.00</td>\n",
       "      <td>1.00</td>\n",
       "      <td>0.00</td>\n",
       "      <td>10.00</td>\n",
       "    </tr>\n",
       "    <tr>\n",
       "      <th>33471</th>\n",
       "      <td>5</td>\n",
       "      <td>1.00</td>\n",
       "      <td>1.00</td>\n",
       "      <td>0.00</td>\n",
       "      <td>10.00</td>\n",
       "    </tr>\n",
       "    <tr>\n",
       "      <th>63188</th>\n",
       "      <td>0</td>\n",
       "      <td>17.00</td>\n",
       "      <td>1.00</td>\n",
       "      <td>0.00</td>\n",
       "      <td>8.68</td>\n",
       "    </tr>\n",
       "    <tr>\n",
       "      <th>3986</th>\n",
       "      <td>1</td>\n",
       "      <td>1.00</td>\n",
       "      <td>1.00</td>\n",
       "      <td>0.01</td>\n",
       "      <td>10.00</td>\n",
       "    </tr>\n",
       "    <tr>\n",
       "      <th>...</th>\n",
       "      <td>...</td>\n",
       "      <td>...</td>\n",
       "      <td>...</td>\n",
       "      <td>...</td>\n",
       "      <td>...</td>\n",
       "    </tr>\n",
       "    <tr>\n",
       "      <th>23973</th>\n",
       "      <td>2</td>\n",
       "      <td>1.00</td>\n",
       "      <td>1.00</td>\n",
       "      <td>0.00</td>\n",
       "      <td>10.00</td>\n",
       "    </tr>\n",
       "    <tr>\n",
       "      <th>2952</th>\n",
       "      <td>2</td>\n",
       "      <td>1.00</td>\n",
       "      <td>1.00</td>\n",
       "      <td>0.01</td>\n",
       "      <td>10.00</td>\n",
       "    </tr>\n",
       "    <tr>\n",
       "      <th>26791</th>\n",
       "      <td>5</td>\n",
       "      <td>10.00</td>\n",
       "      <td>1.00</td>\n",
       "      <td>0.02</td>\n",
       "      <td>9.02</td>\n",
       "    </tr>\n",
       "    <tr>\n",
       "      <th>41492</th>\n",
       "      <td>1</td>\n",
       "      <td>1.00</td>\n",
       "      <td>1.00</td>\n",
       "      <td>0.01</td>\n",
       "      <td>10.00</td>\n",
       "    </tr>\n",
       "    <tr>\n",
       "      <th>9328</th>\n",
       "      <td>3</td>\n",
       "      <td>4.00</td>\n",
       "      <td>0.00</td>\n",
       "      <td>0.01</td>\n",
       "      <td>10.00</td>\n",
       "    </tr>\n",
       "  </tbody>\n",
       "</table>\n",
       "<p>7525 rows × 5 columns</p>\n",
       "</div>"
      ],
      "text/plain": [
       "       dc_id  quantity  vendibility  original_price  discount\n",
       "49047      2      2.00         1.00            0.24      5.26\n",
       "12134      2      2.00         1.00            0.00     10.00\n",
       "33471      5      1.00         1.00            0.00     10.00\n",
       "63188      0     17.00         1.00            0.00      8.68\n",
       "3986       1      1.00         1.00            0.01     10.00\n",
       "...      ...       ...          ...             ...       ...\n",
       "23973      2      1.00         1.00            0.00     10.00\n",
       "2952       2      1.00         1.00            0.01     10.00\n",
       "26791      5     10.00         1.00            0.02      9.02\n",
       "41492      1      1.00         1.00            0.01     10.00\n",
       "9328       3      4.00         0.00            0.01     10.00\n",
       "\n",
       "[7525 rows x 5 columns]"
      ]
     },
     "execution_count": 7,
     "metadata": {},
     "output_type": "execute_result"
    },
    {
     "data": {
      "text/plain": [
       "10909    27\n",
       "24175    32\n",
       "40030     7\n",
       "59341     9\n",
       "29624    27\n",
       "         ..\n",
       "65603     3\n",
       "50176    39\n",
       "47888     6\n",
       "70926    37\n",
       "62926     7\n",
       "Name: item_sku_id, Length: 30097, dtype: int64"
      ]
     },
     "execution_count": 7,
     "metadata": {},
     "output_type": "execute_result"
    },
    {
     "data": {
      "text/plain": [
       "49047    36\n",
       "12134    22\n",
       "33471    21\n",
       "63188    13\n",
       "3986     23\n",
       "         ..\n",
       "23973    34\n",
       "2952     23\n",
       "26791    39\n",
       "41492    27\n",
       "9328     19\n",
       "Name: item_sku_id, Length: 7525, dtype: int64"
      ]
     },
     "execution_count": 7,
     "metadata": {},
     "output_type": "execute_result"
    }
   ],
   "source": [
    "X_train, X_test, y_train, y_test = train_test_split(set_info.drop(columns = ['item_sku_id'],axis = 1),set_info['item_sku_id'], test_size=0.20, stratify = set_info['item_sku_id'], random_state = 2)\n",
    "X_train\n",
    "X_test\n",
    "y_train\n",
    "y_test\n",
    "\n",
    "set_info = StandardScaler()\n",
    "X_train = pd.DataFrame(set_info.fit_transform(X_train), columns = X_train.columns,index=X_train.index)\n",
    "X_test = pd.DataFrame(set_info.transform(X_test), columns = X_test.columns, index=X_test.index)"
   ]
  },
  {
   "cell_type": "code",
   "execution_count": 8,
   "id": "39ee7655",
   "metadata": {},
   "outputs": [
    {
     "data": {
      "text/plain": [
       "LinearRegression()"
      ]
     },
     "execution_count": 8,
     "metadata": {},
     "output_type": "execute_result"
    },
    {
     "data": {
      "text/plain": [
       "0.07373274687852927"
      ]
     },
     "execution_count": 8,
     "metadata": {},
     "output_type": "execute_result"
    },
    {
     "data": {
      "text/plain": [
       "array([-0.02712317, -0.50956072,  0.75133806,  2.84053205,  0.43903854])"
      ]
     },
     "execution_count": 8,
     "metadata": {},
     "output_type": "execute_result"
    },
    {
     "data": {
      "text/plain": [
       "22.547031265574642"
      ]
     },
     "execution_count": 8,
     "metadata": {},
     "output_type": "execute_result"
    },
    {
     "data": {
      "text/plain": [
       "0.8946526003970681"
      ]
     },
     "execution_count": 8,
     "metadata": {},
     "output_type": "execute_result"
    },
    {
     "data": {
      "text/plain": [
       "0.8936253597786614"
      ]
     },
     "execution_count": 8,
     "metadata": {},
     "output_type": "execute_result"
    },
    {
     "data": {
      "text/plain": [
       "0.9906635212811908"
      ]
     },
     "execution_count": 8,
     "metadata": {},
     "output_type": "execute_result"
    },
    {
     "data": {
      "text/plain": [
       "0.9774086378737542"
      ]
     },
     "execution_count": 8,
     "metadata": {},
     "output_type": "execute_result"
    }
   ],
   "source": [
    "model1 = LinearRegression(fit_intercept = True)\n",
    "model1.fit(X_train, y_train)\n",
    "\n",
    "#model1.score(X_test, y_test)\n",
    "model1.score(X_train, y_train)\n",
    "model1.coef_\n",
    "model1.intercept_\n",
    "\n",
    "model3 = GradientBoostingRegressor(random_state=2, min_samples_split = 5, min_samples_leaf = 3)\n",
    "model3 = model3.fit(X_train, y_train)\n",
    "model3.score(X_train, y_train)\n",
    "model3.score(X_test, y_test)\n",
    "\n",
    "model4 = RandomForestClassifier(random_state=2, min_samples_split = 5, min_samples_leaf = 3)\n",
    "model4 = model4.fit(X_train, y_train)\n",
    "model4.score(X_train, y_train)\n",
    "model4.score(X_test, y_test)"
   ]
  },
  {
   "cell_type": "code",
   "execution_count": 15,
   "id": "ad612815",
   "metadata": {},
   "outputs": [
    {
     "data": {
      "text/html": [
       "<div>\n",
       "<style scoped>\n",
       "    .dataframe tbody tr th:only-of-type {\n",
       "        vertical-align: middle;\n",
       "    }\n",
       "\n",
       "    .dataframe tbody tr th {\n",
       "        vertical-align: top;\n",
       "    }\n",
       "\n",
       "    .dataframe thead th {\n",
       "        text-align: right;\n",
       "    }\n",
       "</style>\n",
       "<table border=\"1\" class=\"dataframe\">\n",
       "  <thead>\n",
       "    <tr style=\"text-align: right;\">\n",
       "      <th></th>\n",
       "      <th>predict sku</th>\n",
       "    </tr>\n",
       "  </thead>\n",
       "  <tbody>\n",
       "    <tr>\n",
       "      <th>49047</th>\n",
       "      <td>36</td>\n",
       "    </tr>\n",
       "    <tr>\n",
       "      <th>12134</th>\n",
       "      <td>22</td>\n",
       "    </tr>\n",
       "    <tr>\n",
       "      <th>33471</th>\n",
       "      <td>21</td>\n",
       "    </tr>\n",
       "    <tr>\n",
       "      <th>63188</th>\n",
       "      <td>13</td>\n",
       "    </tr>\n",
       "    <tr>\n",
       "      <th>3986</th>\n",
       "      <td>23</td>\n",
       "    </tr>\n",
       "  </tbody>\n",
       "</table>\n",
       "</div>"
      ],
      "text/plain": [
       "       predict sku\n",
       "49047           36\n",
       "12134           22\n",
       "33471           21\n",
       "63188           13\n",
       "3986            23"
      ]
     },
     "execution_count": 15,
     "metadata": {},
     "output_type": "execute_result"
    },
    {
     "data": {
      "text/html": [
       "<div>\n",
       "<style scoped>\n",
       "    .dataframe tbody tr th:only-of-type {\n",
       "        vertical-align: middle;\n",
       "    }\n",
       "\n",
       "    .dataframe tbody tr th {\n",
       "        vertical-align: top;\n",
       "    }\n",
       "\n",
       "    .dataframe thead th {\n",
       "        text-align: right;\n",
       "    }\n",
       "</style>\n",
       "<table border=\"1\" class=\"dataframe\">\n",
       "  <thead>\n",
       "    <tr style=\"text-align: right;\">\n",
       "      <th></th>\n",
       "      <th>predict sku</th>\n",
       "      <th>item_sku_id</th>\n",
       "    </tr>\n",
       "  </thead>\n",
       "  <tbody>\n",
       "    <tr>\n",
       "      <th>49047</th>\n",
       "      <td>36</td>\n",
       "      <td>36</td>\n",
       "    </tr>\n",
       "    <tr>\n",
       "      <th>12134</th>\n",
       "      <td>22</td>\n",
       "      <td>22</td>\n",
       "    </tr>\n",
       "    <tr>\n",
       "      <th>33471</th>\n",
       "      <td>21</td>\n",
       "      <td>21</td>\n",
       "    </tr>\n",
       "    <tr>\n",
       "      <th>63188</th>\n",
       "      <td>13</td>\n",
       "      <td>13</td>\n",
       "    </tr>\n",
       "    <tr>\n",
       "      <th>3986</th>\n",
       "      <td>23</td>\n",
       "      <td>23</td>\n",
       "    </tr>\n",
       "  </tbody>\n",
       "</table>\n",
       "</div>"
      ],
      "text/plain": [
       "       predict sku  item_sku_id\n",
       "49047           36           36\n",
       "12134           22           22\n",
       "33471           21           21\n",
       "63188           13           13\n",
       "3986            23           23"
      ]
     },
     "execution_count": 15,
     "metadata": {},
     "output_type": "execute_result"
    }
   ],
   "source": [
    "test_output4 = pd.DataFrame(model4.predict(X_test), index = X_test.index, columns = ['predict sku'])\n",
    "test_output4.head()\n",
    "\n",
    "test_output4 = test_output4.merge(y_test, left_index = True, right_index = True)\n",
    "test_output4.head()"
   ]
  },
  {
   "cell_type": "code",
   "execution_count": 10,
   "id": "9de32270",
   "metadata": {},
   "outputs": [
    {
     "data": {
      "text/html": [
       "<div>\n",
       "<style scoped>\n",
       "    .dataframe tbody tr th:only-of-type {\n",
       "        vertical-align: middle;\n",
       "    }\n",
       "\n",
       "    .dataframe tbody tr th {\n",
       "        vertical-align: top;\n",
       "    }\n",
       "\n",
       "    .dataframe thead th {\n",
       "        text-align: right;\n",
       "    }\n",
       "</style>\n",
       "<table border=\"1\" class=\"dataframe\">\n",
       "  <thead>\n",
       "    <tr style=\"text-align: right;\">\n",
       "      <th></th>\n",
       "      <th>predict sku</th>\n",
       "    </tr>\n",
       "  </thead>\n",
       "  <tbody>\n",
       "    <tr>\n",
       "      <th>4</th>\n",
       "      <td>37.46</td>\n",
       "    </tr>\n",
       "    <tr>\n",
       "      <th>5</th>\n",
       "      <td>37.66</td>\n",
       "    </tr>\n",
       "    <tr>\n",
       "      <th>9</th>\n",
       "      <td>37.66</td>\n",
       "    </tr>\n",
       "    <tr>\n",
       "      <th>11</th>\n",
       "      <td>37.66</td>\n",
       "    </tr>\n",
       "    <tr>\n",
       "      <th>13</th>\n",
       "      <td>37.66</td>\n",
       "    </tr>\n",
       "  </tbody>\n",
       "</table>\n",
       "</div>"
      ],
      "text/plain": [
       "    predict sku\n",
       "4         37.46\n",
       "5         37.66\n",
       "9         37.66\n",
       "11        37.66\n",
       "13        37.66"
      ]
     },
     "execution_count": 10,
     "metadata": {},
     "output_type": "execute_result"
    }
   ],
   "source": [
    "data_student = data_student.dropna()\n",
    "data_student = data_student.drop(columns = ['date','serial_number'], axis = 1)\n",
    "pred_output = pd.DataFrame(model3.predict(data_student), index = data_student.index, columns = ['predict sku'])\n",
    "pred_output.head()"
   ]
  },
  {
   "cell_type": "code",
   "execution_count": 11,
   "id": "15077b37",
   "metadata": {},
   "outputs": [],
   "source": [
    "pred_output.to_csv('pred_output.csv')"
   ]
  },
  {
   "cell_type": "code",
   "execution_count": 12,
   "id": "e049e05c",
   "metadata": {},
   "outputs": [
    {
     "name": "stdout",
     "output_type": "stream",
     "text": [
      "               dc_id      date  quantity  vendibility  original_price  \\\n",
      "serial_number                                                           \n",
      "0                  0  12/23/17         0            0             NaN   \n",
      "1                  3  12/30/17         0            1             NaN   \n",
      "2                  0  12/18/17         0            0             NaN   \n",
      "3                  3  12/18/17         0            0             NaN   \n",
      "4                  1  12/25/17         5            0            0.00   \n",
      "...              ...       ...       ...          ...             ...   \n",
      "859                2  12/26/17         1            0            0.00   \n",
      "860                5  12/21/17         0            1             NaN   \n",
      "861                1  12/26/17         3            1            0.01   \n",
      "862                3  12/19/17       131            1            0.00   \n",
      "863                4  12/30/17         5            1            0.01   \n",
      "\n",
      "               discount  \n",
      "serial_number            \n",
      "0                   NaN  \n",
      "1                   NaN  \n",
      "2                   NaN  \n",
      "3                   NaN  \n",
      "4                  2.87  \n",
      "...                 ...  \n",
      "859               10.00  \n",
      "860                 NaN  \n",
      "861                4.94  \n",
      "862                6.14  \n",
      "863                4.94  \n",
      "\n",
      "[864 rows x 6 columns]\n"
     ]
    }
   ],
   "source": [
    "#print(data_set[1]) data student\n",
    "data1 = pd.read_csv('student_test.csv', index_col = 0)\n",
    "print(data1)"
   ]
  },
  {
   "cell_type": "code",
   "execution_count": 14,
   "id": "aa01700d",
   "metadata": {},
   "outputs": [
    {
     "data": {
      "text/plain": [
       "array([39])"
      ]
     },
     "execution_count": 14,
     "metadata": {},
     "output_type": "execute_result"
    },
    {
     "name": "stdout",
     "output_type": "stream",
     "text": [
      "   dc_id  quantity  vendibility  original_price  discount\n",
      "0      1         5            0            0.00      2.87\n"
     ]
    },
    {
     "data": {
      "text/plain": [
       "array([39])"
      ]
     },
     "execution_count": 14,
     "metadata": {},
     "output_type": "execute_result"
    },
    {
     "name": "stdout",
     "output_type": "stream",
     "text": [
      "   dc_id  quantity  vendibility  original_price  discount\n",
      "0      4         2            0            0.01      4.94\n"
     ]
    },
    {
     "data": {
      "text/plain": [
       "array([39])"
      ]
     },
     "execution_count": 14,
     "metadata": {},
     "output_type": "execute_result"
    },
    {
     "name": "stdout",
     "output_type": "stream",
     "text": [
      "   dc_id  quantity  vendibility  original_price  discount\n",
      "0      1        10            1            0.01      4.94\n"
     ]
    },
    {
     "data": {
      "text/plain": [
       "array([39])"
      ]
     },
     "execution_count": 14,
     "metadata": {},
     "output_type": "execute_result"
    },
    {
     "name": "stdout",
     "output_type": "stream",
     "text": [
      "   dc_id  quantity  vendibility  original_price  discount\n",
      "0      2        13            1            0.01      4.94\n"
     ]
    },
    {
     "data": {
      "text/plain": [
       "array([39])"
      ]
     },
     "execution_count": 14,
     "metadata": {},
     "output_type": "execute_result"
    },
    {
     "name": "stdout",
     "output_type": "stream",
     "text": [
      "   dc_id  quantity  vendibility  original_price  discount\n",
      "0      0         9            1            0.01      4.94\n"
     ]
    },
    {
     "data": {
      "text/plain": [
       "array([39])"
      ]
     },
     "execution_count": 14,
     "metadata": {},
     "output_type": "execute_result"
    },
    {
     "name": "stdout",
     "output_type": "stream",
     "text": [
      "   dc_id  quantity  vendibility  original_price  discount\n",
      "0      2         5            0            0.12      8.70\n"
     ]
    },
    {
     "data": {
      "text/plain": [
       "array([39])"
      ]
     },
     "execution_count": 14,
     "metadata": {},
     "output_type": "execute_result"
    },
    {
     "name": "stdout",
     "output_type": "stream",
     "text": [
      "   dc_id  quantity  vendibility  original_price  discount\n",
      "0      1       351            1            0.00      6.48\n"
     ]
    },
    {
     "data": {
      "text/plain": [
       "array([39])"
      ]
     },
     "execution_count": 14,
     "metadata": {},
     "output_type": "execute_result"
    },
    {
     "name": "stdout",
     "output_type": "stream",
     "text": [
      "   dc_id  quantity  vendibility  original_price  discount\n",
      "0      0         1            1            0.01      8.32\n"
     ]
    },
    {
     "data": {
      "text/plain": [
       "array([39])"
      ]
     },
     "execution_count": 14,
     "metadata": {},
     "output_type": "execute_result"
    },
    {
     "name": "stdout",
     "output_type": "stream",
     "text": [
      "   dc_id  quantity  vendibility  original_price  discount\n",
      "0      5        60            1            0.00      6.50\n"
     ]
    },
    {
     "data": {
      "text/plain": [
       "array([39])"
      ]
     },
     "execution_count": 14,
     "metadata": {},
     "output_type": "execute_result"
    },
    {
     "name": "stdout",
     "output_type": "stream",
     "text": [
      "   dc_id  quantity  vendibility  original_price  discount\n",
      "0      1        26            0            0.01      4.94\n"
     ]
    },
    {
     "data": {
      "text/plain": [
       "array([39])"
      ]
     },
     "execution_count": 14,
     "metadata": {},
     "output_type": "execute_result"
    },
    {
     "name": "stdout",
     "output_type": "stream",
     "text": [
      "   dc_id  quantity  vendibility  original_price  discount\n",
      "0      3         2            0            0.11     10.00\n"
     ]
    },
    {
     "data": {
      "text/plain": [
       "array([39])"
      ]
     },
     "execution_count": 14,
     "metadata": {},
     "output_type": "execute_result"
    },
    {
     "name": "stdout",
     "output_type": "stream",
     "text": [
      "   dc_id  quantity  vendibility  original_price  discount\n",
      "0      4         1            0            0.01      4.12\n"
     ]
    },
    {
     "data": {
      "text/plain": [
       "array([39])"
      ]
     },
     "execution_count": 14,
     "metadata": {},
     "output_type": "execute_result"
    },
    {
     "name": "stdout",
     "output_type": "stream",
     "text": [
      "   dc_id  quantity  vendibility  original_price  discount\n",
      "0      3        91            1            0.00      6.01\n"
     ]
    },
    {
     "data": {
      "text/plain": [
       "array([39])"
      ]
     },
     "execution_count": 14,
     "metadata": {},
     "output_type": "execute_result"
    },
    {
     "name": "stdout",
     "output_type": "stream",
     "text": [
      "   dc_id  quantity  vendibility  original_price  discount\n",
      "0      0         2            1            0.00      5.68\n"
     ]
    },
    {
     "data": {
      "text/plain": [
       "array([39])"
      ]
     },
     "execution_count": 14,
     "metadata": {},
     "output_type": "execute_result"
    },
    {
     "name": "stdout",
     "output_type": "stream",
     "text": [
      "   dc_id  quantity  vendibility  original_price  discount\n",
      "0      1         2            1            0.01      4.94\n"
     ]
    },
    {
     "data": {
      "text/plain": [
       "array([39])"
      ]
     },
     "execution_count": 14,
     "metadata": {},
     "output_type": "execute_result"
    },
    {
     "name": "stdout",
     "output_type": "stream",
     "text": [
      "   dc_id  quantity  vendibility  original_price  discount\n",
      "0      0         5            1            0.00      2.84\n"
     ]
    },
    {
     "data": {
      "text/plain": [
       "array([39])"
      ]
     },
     "execution_count": 14,
     "metadata": {},
     "output_type": "execute_result"
    },
    {
     "name": "stdout",
     "output_type": "stream",
     "text": [
      "   dc_id  quantity  vendibility  original_price  discount\n",
      "0      0         6            1            0.11      9.55\n"
     ]
    },
    {
     "data": {
      "text/plain": [
       "array([39])"
      ]
     },
     "execution_count": 14,
     "metadata": {},
     "output_type": "execute_result"
    },
    {
     "name": "stdout",
     "output_type": "stream",
     "text": [
      "   dc_id  quantity  vendibility  original_price  discount\n",
      "0      1         1            1            0.00     10.00\n"
     ]
    },
    {
     "data": {
      "text/plain": [
       "array([39])"
      ]
     },
     "execution_count": 14,
     "metadata": {},
     "output_type": "execute_result"
    },
    {
     "name": "stdout",
     "output_type": "stream",
     "text": [
      "   dc_id  quantity  vendibility  original_price  discount\n",
      "0      1         3            0            0.01      4.12\n"
     ]
    },
    {
     "data": {
      "text/plain": [
       "array([39])"
      ]
     },
     "execution_count": 14,
     "metadata": {},
     "output_type": "execute_result"
    },
    {
     "name": "stdout",
     "output_type": "stream",
     "text": [
      "   dc_id  quantity  vendibility  original_price  discount\n",
      "0      2        22            1            0.01      4.94\n"
     ]
    },
    {
     "data": {
      "text/plain": [
       "array([39])"
      ]
     },
     "execution_count": 14,
     "metadata": {},
     "output_type": "execute_result"
    },
    {
     "name": "stdout",
     "output_type": "stream",
     "text": [
      "   dc_id  quantity  vendibility  original_price  discount\n",
      "0      1         9            0            0.00      2.90\n"
     ]
    },
    {
     "data": {
      "text/plain": [
       "array([39])"
      ]
     },
     "execution_count": 14,
     "metadata": {},
     "output_type": "execute_result"
    },
    {
     "name": "stdout",
     "output_type": "stream",
     "text": [
      "   dc_id  quantity  vendibility  original_price  discount\n",
      "0      5         2            1            0.01      4.94\n"
     ]
    },
    {
     "data": {
      "text/plain": [
       "array([39])"
      ]
     },
     "execution_count": 14,
     "metadata": {},
     "output_type": "execute_result"
    },
    {
     "name": "stdout",
     "output_type": "stream",
     "text": [
      "   dc_id  quantity  vendibility  original_price  discount\n",
      "0      5       173            1            0.00      6.75\n"
     ]
    },
    {
     "data": {
      "text/plain": [
       "array([39])"
      ]
     },
     "execution_count": 14,
     "metadata": {},
     "output_type": "execute_result"
    },
    {
     "name": "stdout",
     "output_type": "stream",
     "text": [
      "   dc_id  quantity  vendibility  original_price  discount\n",
      "0      0       144            1            0.00      6.75\n"
     ]
    },
    {
     "data": {
      "text/plain": [
       "array([39])"
      ]
     },
     "execution_count": 14,
     "metadata": {},
     "output_type": "execute_result"
    },
    {
     "name": "stdout",
     "output_type": "stream",
     "text": [
      "   dc_id  quantity  vendibility  original_price  discount\n",
      "0      4        89            1            0.00      6.11\n"
     ]
    },
    {
     "data": {
      "text/plain": [
       "array([39])"
      ]
     },
     "execution_count": 14,
     "metadata": {},
     "output_type": "execute_result"
    },
    {
     "name": "stdout",
     "output_type": "stream",
     "text": [
      "   dc_id  quantity  vendibility  original_price  discount\n",
      "0      0         3            1            0.00      2.82\n"
     ]
    },
    {
     "data": {
      "text/plain": [
       "array([39])"
      ]
     },
     "execution_count": 14,
     "metadata": {},
     "output_type": "execute_result"
    },
    {
     "name": "stdout",
     "output_type": "stream",
     "text": [
      "   dc_id  quantity  vendibility  original_price  discount\n",
      "0      0       162            1            0.00      6.11\n"
     ]
    },
    {
     "data": {
      "text/plain": [
       "array([39])"
      ]
     },
     "execution_count": 14,
     "metadata": {},
     "output_type": "execute_result"
    },
    {
     "name": "stdout",
     "output_type": "stream",
     "text": [
      "   dc_id  quantity  vendibility  original_price  discount\n",
      "0      3        95            1            0.00      6.43\n"
     ]
    },
    {
     "data": {
      "text/plain": [
       "array([39])"
      ]
     },
     "execution_count": 14,
     "metadata": {},
     "output_type": "execute_result"
    },
    {
     "name": "stdout",
     "output_type": "stream",
     "text": [
      "   dc_id  quantity  vendibility  original_price  discount\n",
      "0      2         2            1            0.01      4.94\n"
     ]
    },
    {
     "data": {
      "text/plain": [
       "array([39])"
      ]
     },
     "execution_count": 14,
     "metadata": {},
     "output_type": "execute_result"
    },
    {
     "name": "stdout",
     "output_type": "stream",
     "text": [
      "   dc_id  quantity  vendibility  original_price  discount\n",
      "0      5         1            0            0.00      3.04\n"
     ]
    },
    {
     "data": {
      "text/plain": [
       "array([39])"
      ]
     },
     "execution_count": 14,
     "metadata": {},
     "output_type": "execute_result"
    },
    {
     "name": "stdout",
     "output_type": "stream",
     "text": [
      "   dc_id  quantity  vendibility  original_price  discount\n",
      "0      0         6            1            0.01      4.94\n"
     ]
    },
    {
     "data": {
      "text/plain": [
       "array([39])"
      ]
     },
     "execution_count": 14,
     "metadata": {},
     "output_type": "execute_result"
    },
    {
     "name": "stdout",
     "output_type": "stream",
     "text": [
      "   dc_id  quantity  vendibility  original_price  discount\n",
      "0      4         1            0            0.01      4.12\n"
     ]
    },
    {
     "data": {
      "text/plain": [
       "array([39])"
      ]
     },
     "execution_count": 14,
     "metadata": {},
     "output_type": "execute_result"
    },
    {
     "name": "stdout",
     "output_type": "stream",
     "text": [
      "   dc_id  quantity  vendibility  original_price  discount\n",
      "0      2       147            1            0.00      6.97\n"
     ]
    },
    {
     "data": {
      "text/plain": [
       "array([39])"
      ]
     },
     "execution_count": 14,
     "metadata": {},
     "output_type": "execute_result"
    },
    {
     "name": "stdout",
     "output_type": "stream",
     "text": [
      "   dc_id  quantity  vendibility  original_price  discount\n",
      "0      5        64            1            0.00      6.71\n"
     ]
    },
    {
     "data": {
      "text/plain": [
       "array([39])"
      ]
     },
     "execution_count": 14,
     "metadata": {},
     "output_type": "execute_result"
    },
    {
     "name": "stdout",
     "output_type": "stream",
     "text": [
      "   dc_id  quantity  vendibility  original_price  discount\n",
      "0      2         3            0            0.11     10.00\n"
     ]
    },
    {
     "data": {
      "text/plain": [
       "array([39])"
      ]
     },
     "execution_count": 14,
     "metadata": {},
     "output_type": "execute_result"
    },
    {
     "name": "stdout",
     "output_type": "stream",
     "text": [
      "   dc_id  quantity  vendibility  original_price  discount\n",
      "0      5         1            0            0.12      8.70\n"
     ]
    },
    {
     "data": {
      "text/plain": [
       "array([39])"
      ]
     },
     "execution_count": 14,
     "metadata": {},
     "output_type": "execute_result"
    },
    {
     "name": "stdout",
     "output_type": "stream",
     "text": [
      "   dc_id  quantity  vendibility  original_price  discount\n",
      "0      1         2            0            0.01      4.12\n"
     ]
    },
    {
     "data": {
      "text/plain": [
       "array([39])"
      ]
     },
     "execution_count": 14,
     "metadata": {},
     "output_type": "execute_result"
    },
    {
     "name": "stdout",
     "output_type": "stream",
     "text": [
      "   dc_id  quantity  vendibility  original_price  discount\n",
      "0      3         1            0            0.00     10.00\n"
     ]
    },
    {
     "data": {
      "text/plain": [
       "array([39])"
      ]
     },
     "execution_count": 14,
     "metadata": {},
     "output_type": "execute_result"
    },
    {
     "name": "stdout",
     "output_type": "stream",
     "text": [
      "   dc_id  quantity  vendibility  original_price  discount\n",
      "0      1         1            0            0.01      4.12\n"
     ]
    },
    {
     "data": {
      "text/plain": [
       "array([39])"
      ]
     },
     "execution_count": 14,
     "metadata": {},
     "output_type": "execute_result"
    },
    {
     "name": "stdout",
     "output_type": "stream",
     "text": [
      "   dc_id  quantity  vendibility  original_price  discount\n",
      "0      4        73            1            0.00      6.07\n"
     ]
    },
    {
     "data": {
      "text/plain": [
       "array([39])"
      ]
     },
     "execution_count": 14,
     "metadata": {},
     "output_type": "execute_result"
    },
    {
     "name": "stdout",
     "output_type": "stream",
     "text": [
      "   dc_id  quantity  vendibility  original_price  discount\n",
      "0      4         4            1            0.01      4.94\n"
     ]
    },
    {
     "data": {
      "text/plain": [
       "array([39])"
      ]
     },
     "execution_count": 14,
     "metadata": {},
     "output_type": "execute_result"
    },
    {
     "name": "stdout",
     "output_type": "stream",
     "text": [
      "   dc_id  quantity  vendibility  original_price  discount\n",
      "0      2         4            1            0.01      4.94\n"
     ]
    },
    {
     "data": {
      "text/plain": [
       "array([39])"
      ]
     },
     "execution_count": 14,
     "metadata": {},
     "output_type": "execute_result"
    },
    {
     "name": "stdout",
     "output_type": "stream",
     "text": [
      "   dc_id  quantity  vendibility  original_price  discount\n",
      "0      3         2            1            0.01      4.94\n"
     ]
    },
    {
     "data": {
      "text/plain": [
       "array([39])"
      ]
     },
     "execution_count": 14,
     "metadata": {},
     "output_type": "execute_result"
    },
    {
     "name": "stdout",
     "output_type": "stream",
     "text": [
      "   dc_id  quantity  vendibility  original_price  discount\n",
      "0      4         1            1            0.01     10.00\n"
     ]
    },
    {
     "data": {
      "text/plain": [
       "array([39])"
      ]
     },
     "execution_count": 14,
     "metadata": {},
     "output_type": "execute_result"
    },
    {
     "name": "stdout",
     "output_type": "stream",
     "text": [
      "   dc_id  quantity  vendibility  original_price  discount\n",
      "0      1         1            0            0.12      8.80\n"
     ]
    },
    {
     "data": {
      "text/plain": [
       "array([39])"
      ]
     },
     "execution_count": 14,
     "metadata": {},
     "output_type": "execute_result"
    },
    {
     "name": "stdout",
     "output_type": "stream",
     "text": [
      "   dc_id  quantity  vendibility  original_price  discount\n",
      "0      3         1            0            0.12      8.80\n"
     ]
    },
    {
     "data": {
      "text/plain": [
       "array([39])"
      ]
     },
     "execution_count": 14,
     "metadata": {},
     "output_type": "execute_result"
    },
    {
     "name": "stdout",
     "output_type": "stream",
     "text": [
      "   dc_id  quantity  vendibility  original_price  discount\n",
      "0      1         3            1            0.01      4.94\n"
     ]
    },
    {
     "data": {
      "text/plain": [
       "array([39])"
      ]
     },
     "execution_count": 14,
     "metadata": {},
     "output_type": "execute_result"
    },
    {
     "name": "stdout",
     "output_type": "stream",
     "text": [
      "   dc_id  quantity  vendibility  original_price  discount\n",
      "0      0         2            1            0.01      8.32\n"
     ]
    },
    {
     "data": {
      "text/plain": [
       "array([39])"
      ]
     },
     "execution_count": 14,
     "metadata": {},
     "output_type": "execute_result"
    },
    {
     "name": "stdout",
     "output_type": "stream",
     "text": [
      "   dc_id  quantity  vendibility  original_price  discount\n",
      "0      3         1            0            0.00     10.00\n"
     ]
    },
    {
     "data": {
      "text/plain": [
       "array([39])"
      ]
     },
     "execution_count": 14,
     "metadata": {},
     "output_type": "execute_result"
    },
    {
     "name": "stdout",
     "output_type": "stream",
     "text": [
      "   dc_id  quantity  vendibility  original_price  discount\n",
      "0      0         2            1            0.12      8.80\n"
     ]
    },
    {
     "data": {
      "text/plain": [
       "array([39])"
      ]
     },
     "execution_count": 14,
     "metadata": {},
     "output_type": "execute_result"
    },
    {
     "name": "stdout",
     "output_type": "stream",
     "text": [
      "   dc_id  quantity  vendibility  original_price  discount\n",
      "0      1         2            0            0.00      2.87\n"
     ]
    },
    {
     "data": {
      "text/plain": [
       "array([39])"
      ]
     },
     "execution_count": 14,
     "metadata": {},
     "output_type": "execute_result"
    },
    {
     "name": "stdout",
     "output_type": "stream",
     "text": [
      "   dc_id  quantity  vendibility  original_price  discount\n",
      "0      4         1            0            0.00     10.00\n"
     ]
    },
    {
     "data": {
      "text/plain": [
       "array([39])"
      ]
     },
     "execution_count": 14,
     "metadata": {},
     "output_type": "execute_result"
    },
    {
     "name": "stdout",
     "output_type": "stream",
     "text": [
      "   dc_id  quantity  vendibility  original_price  discount\n",
      "0      1         2            1            0.00      5.92\n"
     ]
    },
    {
     "data": {
      "text/plain": [
       "array([39])"
      ]
     },
     "execution_count": 14,
     "metadata": {},
     "output_type": "execute_result"
    },
    {
     "name": "stdout",
     "output_type": "stream",
     "text": [
      "   dc_id  quantity  vendibility  original_price  discount\n",
      "0      0         4            0            0.12      8.75\n"
     ]
    },
    {
     "data": {
      "text/plain": [
       "array([39])"
      ]
     },
     "execution_count": 14,
     "metadata": {},
     "output_type": "execute_result"
    },
    {
     "name": "stdout",
     "output_type": "stream",
     "text": [
      "   dc_id  quantity  vendibility  original_price  discount\n",
      "0      2         1            1            0.01      4.94\n"
     ]
    },
    {
     "data": {
      "text/plain": [
       "array([39])"
      ]
     },
     "execution_count": 14,
     "metadata": {},
     "output_type": "execute_result"
    },
    {
     "name": "stdout",
     "output_type": "stream",
     "text": [
      "   dc_id  quantity  vendibility  original_price  discount\n",
      "0      5         1            0            0.11     10.00\n"
     ]
    },
    {
     "data": {
      "text/plain": [
       "array([39])"
      ]
     },
     "execution_count": 14,
     "metadata": {},
     "output_type": "execute_result"
    },
    {
     "name": "stdout",
     "output_type": "stream",
     "text": [
      "   dc_id  quantity  vendibility  original_price  discount\n",
      "0      4         6            0            0.01      4.94\n"
     ]
    },
    {
     "data": {
      "text/plain": [
       "array([39])"
      ]
     },
     "execution_count": 14,
     "metadata": {},
     "output_type": "execute_result"
    },
    {
     "name": "stdout",
     "output_type": "stream",
     "text": [
      "   dc_id  quantity  vendibility  original_price  discount\n",
      "0      3         2            0            0.12      8.80\n"
     ]
    },
    {
     "data": {
      "text/plain": [
       "array([39])"
      ]
     },
     "execution_count": 14,
     "metadata": {},
     "output_type": "execute_result"
    },
    {
     "name": "stdout",
     "output_type": "stream",
     "text": [
      "   dc_id  quantity  vendibility  original_price  discount\n",
      "0      2         1            0            0.12      8.80\n"
     ]
    },
    {
     "data": {
      "text/plain": [
       "array([39])"
      ]
     },
     "execution_count": 14,
     "metadata": {},
     "output_type": "execute_result"
    },
    {
     "name": "stdout",
     "output_type": "stream",
     "text": [
      "   dc_id  quantity  vendibility  original_price  discount\n",
      "0      1       131            1            0.00      6.06\n"
     ]
    },
    {
     "data": {
      "text/plain": [
       "array([39])"
      ]
     },
     "execution_count": 14,
     "metadata": {},
     "output_type": "execute_result"
    },
    {
     "name": "stdout",
     "output_type": "stream",
     "text": [
      "   dc_id  quantity  vendibility  original_price  discount\n",
      "0      2         1            0            0.01      4.12\n"
     ]
    },
    {
     "data": {
      "text/plain": [
       "array([39])"
      ]
     },
     "execution_count": 14,
     "metadata": {},
     "output_type": "execute_result"
    },
    {
     "name": "stdout",
     "output_type": "stream",
     "text": [
      "   dc_id  quantity  vendibility  original_price  discount\n",
      "0      1        89            1            0.00      6.13\n"
     ]
    },
    {
     "data": {
      "text/plain": [
       "array([39])"
      ]
     },
     "execution_count": 14,
     "metadata": {},
     "output_type": "execute_result"
    },
    {
     "name": "stdout",
     "output_type": "stream",
     "text": [
      "   dc_id  quantity  vendibility  original_price  discount\n",
      "0      5        46            1            0.00      6.84\n"
     ]
    },
    {
     "data": {
      "text/plain": [
       "array([39])"
      ]
     },
     "execution_count": 14,
     "metadata": {},
     "output_type": "execute_result"
    },
    {
     "name": "stdout",
     "output_type": "stream",
     "text": [
      "   dc_id  quantity  vendibility  original_price  discount\n",
      "0      4        57            1            0.00      6.74\n"
     ]
    },
    {
     "data": {
      "text/plain": [
       "array([39])"
      ]
     },
     "execution_count": 14,
     "metadata": {},
     "output_type": "execute_result"
    },
    {
     "name": "stdout",
     "output_type": "stream",
     "text": [
      "   dc_id  quantity  vendibility  original_price  discount\n",
      "0      0         2            1            0.01      8.39\n"
     ]
    },
    {
     "data": {
      "text/plain": [
       "array([39])"
      ]
     },
     "execution_count": 14,
     "metadata": {},
     "output_type": "execute_result"
    },
    {
     "name": "stdout",
     "output_type": "stream",
     "text": [
      "   dc_id  quantity  vendibility  original_price  discount\n",
      "0      1         1            1            0.01      8.39\n"
     ]
    },
    {
     "data": {
      "text/plain": [
       "array([39])"
      ]
     },
     "execution_count": 14,
     "metadata": {},
     "output_type": "execute_result"
    },
    {
     "name": "stdout",
     "output_type": "stream",
     "text": [
      "   dc_id  quantity  vendibility  original_price  discount\n",
      "0      2       123            1            0.00      6.44\n"
     ]
    },
    {
     "data": {
      "text/plain": [
       "array([39])"
      ]
     },
     "execution_count": 14,
     "metadata": {},
     "output_type": "execute_result"
    },
    {
     "name": "stdout",
     "output_type": "stream",
     "text": [
      "   dc_id  quantity  vendibility  original_price  discount\n",
      "0      3       127            1            0.00      6.05\n"
     ]
    },
    {
     "data": {
      "text/plain": [
       "array([39])"
      ]
     },
     "execution_count": 14,
     "metadata": {},
     "output_type": "execute_result"
    },
    {
     "name": "stdout",
     "output_type": "stream",
     "text": [
      "   dc_id  quantity  vendibility  original_price  discount\n",
      "0      0         3            1            0.12      8.80\n"
     ]
    },
    {
     "data": {
      "text/plain": [
       "array([39])"
      ]
     },
     "execution_count": 14,
     "metadata": {},
     "output_type": "execute_result"
    },
    {
     "name": "stdout",
     "output_type": "stream",
     "text": [
      "   dc_id  quantity  vendibility  original_price  discount\n",
      "0      0        12            1            0.12      8.70\n"
     ]
    },
    {
     "data": {
      "text/plain": [
       "array([39])"
      ]
     },
     "execution_count": 14,
     "metadata": {},
     "output_type": "execute_result"
    },
    {
     "name": "stdout",
     "output_type": "stream",
     "text": [
      "   dc_id  quantity  vendibility  original_price  discount\n",
      "0      1         8            0            0.00      3.40\n"
     ]
    },
    {
     "data": {
      "text/plain": [
       "array([39])"
      ]
     },
     "execution_count": 14,
     "metadata": {},
     "output_type": "execute_result"
    },
    {
     "name": "stdout",
     "output_type": "stream",
     "text": [
      "   dc_id  quantity  vendibility  original_price  discount\n",
      "0      5         2            1            0.01      4.94\n"
     ]
    },
    {
     "data": {
      "text/plain": [
       "array([39])"
      ]
     },
     "execution_count": 14,
     "metadata": {},
     "output_type": "execute_result"
    },
    {
     "name": "stdout",
     "output_type": "stream",
     "text": [
      "   dc_id  quantity  vendibility  original_price  discount\n",
      "0      1         1            0            0.00      3.38\n"
     ]
    },
    {
     "data": {
      "text/plain": [
       "array([39])"
      ]
     },
     "execution_count": 14,
     "metadata": {},
     "output_type": "execute_result"
    },
    {
     "name": "stdout",
     "output_type": "stream",
     "text": [
      "   dc_id  quantity  vendibility  original_price  discount\n",
      "0      0       223            1            0.00      6.15\n"
     ]
    },
    {
     "data": {
      "text/plain": [
       "array([39])"
      ]
     },
     "execution_count": 14,
     "metadata": {},
     "output_type": "execute_result"
    },
    {
     "name": "stdout",
     "output_type": "stream",
     "text": [
      "   dc_id  quantity  vendibility  original_price  discount\n",
      "0      3         2            0            0.00      2.87\n"
     ]
    },
    {
     "data": {
      "text/plain": [
       "array([39])"
      ]
     },
     "execution_count": 14,
     "metadata": {},
     "output_type": "execute_result"
    },
    {
     "name": "stdout",
     "output_type": "stream",
     "text": [
      "   dc_id  quantity  vendibility  original_price  discount\n",
      "0      2         1            0            0.12      8.80\n"
     ]
    },
    {
     "data": {
      "text/plain": [
       "array([39])"
      ]
     },
     "execution_count": 14,
     "metadata": {},
     "output_type": "execute_result"
    },
    {
     "name": "stdout",
     "output_type": "stream",
     "text": [
      "   dc_id  quantity  vendibility  original_price  discount\n",
      "0      0         4            1            0.01      4.94\n"
     ]
    },
    {
     "data": {
      "text/plain": [
       "array([39])"
      ]
     },
     "execution_count": 14,
     "metadata": {},
     "output_type": "execute_result"
    },
    {
     "name": "stdout",
     "output_type": "stream",
     "text": [
      "   dc_id  quantity  vendibility  original_price  discount\n",
      "0      5        78            1            0.00      6.55\n"
     ]
    },
    {
     "data": {
      "text/plain": [
       "array([39])"
      ]
     },
     "execution_count": 14,
     "metadata": {},
     "output_type": "execute_result"
    },
    {
     "name": "stdout",
     "output_type": "stream",
     "text": [
      "   dc_id  quantity  vendibility  original_price  discount\n",
      "0      0         3            1            0.11     10.00\n"
     ]
    },
    {
     "data": {
      "text/plain": [
       "array([39])"
      ]
     },
     "execution_count": 14,
     "metadata": {},
     "output_type": "execute_result"
    },
    {
     "name": "stdout",
     "output_type": "stream",
     "text": [
      "   dc_id  quantity  vendibility  original_price  discount\n",
      "0      0         2            1            0.00      7.89\n"
     ]
    },
    {
     "data": {
      "text/plain": [
       "array([39])"
      ]
     },
     "execution_count": 14,
     "metadata": {},
     "output_type": "execute_result"
    },
    {
     "name": "stdout",
     "output_type": "stream",
     "text": [
      "   dc_id  quantity  vendibility  original_price  discount\n",
      "0      2         2            0            0.12      8.80\n"
     ]
    },
    {
     "data": {
      "text/plain": [
       "array([39])"
      ]
     },
     "execution_count": 14,
     "metadata": {},
     "output_type": "execute_result"
    },
    {
     "name": "stdout",
     "output_type": "stream",
     "text": [
      "   dc_id  quantity  vendibility  original_price  discount\n",
      "0      2         2            0            0.00     10.00\n"
     ]
    },
    {
     "data": {
      "text/plain": [
       "array([39])"
      ]
     },
     "execution_count": 14,
     "metadata": {},
     "output_type": "execute_result"
    },
    {
     "name": "stdout",
     "output_type": "stream",
     "text": [
      "   dc_id  quantity  vendibility  original_price  discount\n",
      "0      1         1            1            0.00      6.32\n"
     ]
    },
    {
     "data": {
      "text/plain": [
       "array([39])"
      ]
     },
     "execution_count": 14,
     "metadata": {},
     "output_type": "execute_result"
    },
    {
     "name": "stdout",
     "output_type": "stream",
     "text": [
      "   dc_id  quantity  vendibility  original_price  discount\n",
      "0      1         3            1            0.00     10.00\n"
     ]
    },
    {
     "data": {
      "text/plain": [
       "array([39])"
      ]
     },
     "execution_count": 14,
     "metadata": {},
     "output_type": "execute_result"
    },
    {
     "name": "stdout",
     "output_type": "stream",
     "text": [
      "   dc_id  quantity  vendibility  original_price  discount\n",
      "0      0       158            1            0.00      6.60\n"
     ]
    },
    {
     "data": {
      "text/plain": [
       "array([39])"
      ]
     },
     "execution_count": 14,
     "metadata": {},
     "output_type": "execute_result"
    },
    {
     "name": "stdout",
     "output_type": "stream",
     "text": [
      "   dc_id  quantity  vendibility  original_price  discount\n",
      "0      4        64            1            0.00      6.04\n"
     ]
    },
    {
     "data": {
      "text/plain": [
       "array([39])"
      ]
     },
     "execution_count": 14,
     "metadata": {},
     "output_type": "execute_result"
    },
    {
     "name": "stdout",
     "output_type": "stream",
     "text": [
      "   dc_id  quantity  vendibility  original_price  discount\n",
      "0      5        99            1            0.00      7.07\n"
     ]
    },
    {
     "data": {
      "text/plain": [
       "array([39])"
      ]
     },
     "execution_count": 14,
     "metadata": {},
     "output_type": "execute_result"
    },
    {
     "name": "stdout",
     "output_type": "stream",
     "text": [
      "   dc_id  quantity  vendibility  original_price  discount\n",
      "0      2        10            1            0.00      5.68\n"
     ]
    },
    {
     "data": {
      "text/plain": [
       "array([39])"
      ]
     },
     "execution_count": 14,
     "metadata": {},
     "output_type": "execute_result"
    },
    {
     "name": "stdout",
     "output_type": "stream",
     "text": [
      "   dc_id  quantity  vendibility  original_price  discount\n",
      "0      0         8            1            0.00      3.21\n"
     ]
    },
    {
     "data": {
      "text/plain": [
       "array([39])"
      ]
     },
     "execution_count": 14,
     "metadata": {},
     "output_type": "execute_result"
    },
    {
     "name": "stdout",
     "output_type": "stream",
     "text": [
      "   dc_id  quantity  vendibility  original_price  discount\n",
      "0      1       138            1            0.00      6.08\n"
     ]
    },
    {
     "data": {
      "text/plain": [
       "array([39])"
      ]
     },
     "execution_count": 14,
     "metadata": {},
     "output_type": "execute_result"
    },
    {
     "name": "stdout",
     "output_type": "stream",
     "text": [
      "   dc_id  quantity  vendibility  original_price  discount\n",
      "0      2       142            1            0.00      7.37\n"
     ]
    },
    {
     "data": {
      "text/plain": [
       "array([39])"
      ]
     },
     "execution_count": 14,
     "metadata": {},
     "output_type": "execute_result"
    },
    {
     "name": "stdout",
     "output_type": "stream",
     "text": [
      "   dc_id  quantity  vendibility  original_price  discount\n",
      "0      0         5            0            0.01      4.12\n"
     ]
    },
    {
     "data": {
      "text/plain": [
       "array([39])"
      ]
     },
     "execution_count": 14,
     "metadata": {},
     "output_type": "execute_result"
    },
    {
     "name": "stdout",
     "output_type": "stream",
     "text": [
      "   dc_id  quantity  vendibility  original_price  discount\n",
      "0      1         2            0            0.01      4.12\n"
     ]
    },
    {
     "data": {
      "text/plain": [
       "array([39])"
      ]
     },
     "execution_count": 14,
     "metadata": {},
     "output_type": "execute_result"
    },
    {
     "name": "stdout",
     "output_type": "stream",
     "text": [
      "   dc_id  quantity  vendibility  original_price  discount\n",
      "0      0         6            1            0.12      8.80\n"
     ]
    },
    {
     "data": {
      "text/plain": [
       "array([39])"
      ]
     },
     "execution_count": 14,
     "metadata": {},
     "output_type": "execute_result"
    },
    {
     "name": "stdout",
     "output_type": "stream",
     "text": [
      "   dc_id  quantity  vendibility  original_price  discount\n",
      "0      5         2            1            0.01      4.94\n"
     ]
    },
    {
     "data": {
      "text/plain": [
       "array([39])"
      ]
     },
     "execution_count": 14,
     "metadata": {},
     "output_type": "execute_result"
    },
    {
     "name": "stdout",
     "output_type": "stream",
     "text": [
      "   dc_id  quantity  vendibility  original_price  discount\n",
      "0      2         1            1            0.01      8.32\n"
     ]
    },
    {
     "data": {
      "text/plain": [
       "array([39])"
      ]
     },
     "execution_count": 14,
     "metadata": {},
     "output_type": "execute_result"
    },
    {
     "name": "stdout",
     "output_type": "stream",
     "text": [
      "   dc_id  quantity  vendibility  original_price  discount\n",
      "0      5         2            0            0.00     10.00\n"
     ]
    },
    {
     "data": {
      "text/plain": [
       "array([39])"
      ]
     },
     "execution_count": 14,
     "metadata": {},
     "output_type": "execute_result"
    },
    {
     "name": "stdout",
     "output_type": "stream",
     "text": [
      "   dc_id  quantity  vendibility  original_price  discount\n",
      "0      3         1            1            0.01      4.94\n"
     ]
    },
    {
     "data": {
      "text/plain": [
       "array([39])"
      ]
     },
     "execution_count": 14,
     "metadata": {},
     "output_type": "execute_result"
    },
    {
     "name": "stdout",
     "output_type": "stream",
     "text": [
      "   dc_id  quantity  vendibility  original_price  discount\n",
      "0      0         8            1            0.01      4.94\n"
     ]
    },
    {
     "data": {
      "text/plain": [
       "array([39])"
      ]
     },
     "execution_count": 14,
     "metadata": {},
     "output_type": "execute_result"
    },
    {
     "name": "stdout",
     "output_type": "stream",
     "text": [
      "   dc_id  quantity  vendibility  original_price  discount\n",
      "0      5        35            1            0.00      6.37\n"
     ]
    },
    {
     "data": {
      "text/plain": [
       "array([39])"
      ]
     },
     "execution_count": 14,
     "metadata": {},
     "output_type": "execute_result"
    },
    {
     "name": "stdout",
     "output_type": "stream",
     "text": [
      "   dc_id  quantity  vendibility  original_price  discount\n",
      "0      4        77            1            0.00      6.06\n"
     ]
    },
    {
     "data": {
      "text/plain": [
       "array([39])"
      ]
     },
     "execution_count": 14,
     "metadata": {},
     "output_type": "execute_result"
    },
    {
     "name": "stdout",
     "output_type": "stream",
     "text": [
      "   dc_id  quantity  vendibility  original_price  discount\n",
      "0      2         2            1            0.01      4.94\n"
     ]
    },
    {
     "data": {
      "text/plain": [
       "array([39])"
      ]
     },
     "execution_count": 14,
     "metadata": {},
     "output_type": "execute_result"
    },
    {
     "name": "stdout",
     "output_type": "stream",
     "text": [
      "   dc_id  quantity  vendibility  original_price  discount\n",
      "0      4         1            0            0.01      4.12\n"
     ]
    },
    {
     "data": {
      "text/plain": [
       "array([39])"
      ]
     },
     "execution_count": 14,
     "metadata": {},
     "output_type": "execute_result"
    },
    {
     "name": "stdout",
     "output_type": "stream",
     "text": [
      "   dc_id  quantity  vendibility  original_price  discount\n",
      "0      1         2            0            0.01      4.12\n"
     ]
    },
    {
     "data": {
      "text/plain": [
       "array([39])"
      ]
     },
     "execution_count": 14,
     "metadata": {},
     "output_type": "execute_result"
    },
    {
     "name": "stdout",
     "output_type": "stream",
     "text": [
      "   dc_id  quantity  vendibility  original_price  discount\n",
      "0      0         2            1            0.12      8.80\n"
     ]
    },
    {
     "data": {
      "text/plain": [
       "array([39])"
      ]
     },
     "execution_count": 14,
     "metadata": {},
     "output_type": "execute_result"
    },
    {
     "name": "stdout",
     "output_type": "stream",
     "text": [
      "   dc_id  quantity  vendibility  original_price  discount\n",
      "0      4         1            1            0.01      8.39\n"
     ]
    },
    {
     "data": {
      "text/plain": [
       "array([39])"
      ]
     },
     "execution_count": 14,
     "metadata": {},
     "output_type": "execute_result"
    },
    {
     "name": "stdout",
     "output_type": "stream",
     "text": [
      "   dc_id  quantity  vendibility  original_price  discount\n",
      "0      0        11            1            0.12      8.80\n"
     ]
    },
    {
     "data": {
      "text/plain": [
       "array([39])"
      ]
     },
     "execution_count": 14,
     "metadata": {},
     "output_type": "execute_result"
    },
    {
     "name": "stdout",
     "output_type": "stream",
     "text": [
      "   dc_id  quantity  vendibility  original_price  discount\n",
      "0      3         2            0            0.01      4.12\n"
     ]
    },
    {
     "data": {
      "text/plain": [
       "array([39])"
      ]
     },
     "execution_count": 14,
     "metadata": {},
     "output_type": "execute_result"
    },
    {
     "name": "stdout",
     "output_type": "stream",
     "text": [
      "   dc_id  quantity  vendibility  original_price  discount\n",
      "0      1       100            1            0.00      6.36\n"
     ]
    },
    {
     "data": {
      "text/plain": [
       "array([39])"
      ]
     },
     "execution_count": 14,
     "metadata": {},
     "output_type": "execute_result"
    },
    {
     "name": "stdout",
     "output_type": "stream",
     "text": [
      "   dc_id  quantity  vendibility  original_price  discount\n",
      "0      0         1            1            0.01      8.32\n"
     ]
    },
    {
     "data": {
      "text/plain": [
       "array([39])"
      ]
     },
     "execution_count": 14,
     "metadata": {},
     "output_type": "execute_result"
    },
    {
     "name": "stdout",
     "output_type": "stream",
     "text": [
      "   dc_id  quantity  vendibility  original_price  discount\n",
      "0      2         2            0            0.01      4.12\n"
     ]
    },
    {
     "data": {
      "text/plain": [
       "array([39])"
      ]
     },
     "execution_count": 14,
     "metadata": {},
     "output_type": "execute_result"
    },
    {
     "name": "stdout",
     "output_type": "stream",
     "text": [
      "   dc_id  quantity  vendibility  original_price  discount\n",
      "0      2         2            0            0.12      8.80\n"
     ]
    },
    {
     "data": {
      "text/plain": [
       "array([39])"
      ]
     },
     "execution_count": 14,
     "metadata": {},
     "output_type": "execute_result"
    },
    {
     "name": "stdout",
     "output_type": "stream",
     "text": [
      "   dc_id  quantity  vendibility  original_price  discount\n",
      "0      0         8            1            0.00      8.49\n"
     ]
    },
    {
     "data": {
      "text/plain": [
       "array([39])"
      ]
     },
     "execution_count": 14,
     "metadata": {},
     "output_type": "execute_result"
    },
    {
     "name": "stdout",
     "output_type": "stream",
     "text": [
      "   dc_id  quantity  vendibility  original_price  discount\n",
      "0      4         4            0            0.01      5.83\n"
     ]
    },
    {
     "data": {
      "text/plain": [
       "array([39])"
      ]
     },
     "execution_count": 14,
     "metadata": {},
     "output_type": "execute_result"
    },
    {
     "name": "stdout",
     "output_type": "stream",
     "text": [
      "   dc_id  quantity  vendibility  original_price  discount\n",
      "0      1         2            0            0.00      2.87\n"
     ]
    },
    {
     "data": {
      "text/plain": [
       "array([39])"
      ]
     },
     "execution_count": 14,
     "metadata": {},
     "output_type": "execute_result"
    },
    {
     "name": "stdout",
     "output_type": "stream",
     "text": [
      "   dc_id  quantity  vendibility  original_price  discount\n",
      "0      0         6            1            0.01      4.94\n"
     ]
    },
    {
     "data": {
      "text/plain": [
       "array([39])"
      ]
     },
     "execution_count": 14,
     "metadata": {},
     "output_type": "execute_result"
    },
    {
     "name": "stdout",
     "output_type": "stream",
     "text": [
      "   dc_id  quantity  vendibility  original_price  discount\n",
      "0      2         4            1            0.01      4.94\n"
     ]
    },
    {
     "data": {
      "text/plain": [
       "array([39])"
      ]
     },
     "execution_count": 14,
     "metadata": {},
     "output_type": "execute_result"
    },
    {
     "name": "stdout",
     "output_type": "stream",
     "text": [
      "   dc_id  quantity  vendibility  original_price  discount\n",
      "0      2         1            1            0.00      4.96\n"
     ]
    },
    {
     "data": {
      "text/plain": [
       "array([39])"
      ]
     },
     "execution_count": 14,
     "metadata": {},
     "output_type": "execute_result"
    },
    {
     "name": "stdout",
     "output_type": "stream",
     "text": [
      "   dc_id  quantity  vendibility  original_price  discount\n",
      "0      3         1            0            0.00      3.04\n"
     ]
    },
    {
     "data": {
      "text/plain": [
       "array([39])"
      ]
     },
     "execution_count": 14,
     "metadata": {},
     "output_type": "execute_result"
    },
    {
     "name": "stdout",
     "output_type": "stream",
     "text": [
      "   dc_id  quantity  vendibility  original_price  discount\n",
      "0      2        15            0            0.12      8.80\n"
     ]
    },
    {
     "data": {
      "text/plain": [
       "array([39])"
      ]
     },
     "execution_count": 14,
     "metadata": {},
     "output_type": "execute_result"
    },
    {
     "name": "stdout",
     "output_type": "stream",
     "text": [
      "   dc_id  quantity  vendibility  original_price  discount\n",
      "0      5         1            0            0.12      8.80\n"
     ]
    },
    {
     "data": {
      "text/plain": [
       "array([39])"
      ]
     },
     "execution_count": 14,
     "metadata": {},
     "output_type": "execute_result"
    },
    {
     "name": "stdout",
     "output_type": "stream",
     "text": [
      "   dc_id  quantity  vendibility  original_price  discount\n",
      "0      0         4            1            0.01      8.32\n"
     ]
    },
    {
     "data": {
      "text/plain": [
       "array([39])"
      ]
     },
     "execution_count": 14,
     "metadata": {},
     "output_type": "execute_result"
    },
    {
     "name": "stdout",
     "output_type": "stream",
     "text": [
      "   dc_id  quantity  vendibility  original_price  discount\n",
      "0      0         7            1            0.00      7.89\n"
     ]
    },
    {
     "data": {
      "text/plain": [
       "array([39])"
      ]
     },
     "execution_count": 14,
     "metadata": {},
     "output_type": "execute_result"
    },
    {
     "name": "stdout",
     "output_type": "stream",
     "text": [
      "   dc_id  quantity  vendibility  original_price  discount\n",
      "0      5         1            0            0.01      4.12\n"
     ]
    },
    {
     "data": {
      "text/plain": [
       "array([39])"
      ]
     },
     "execution_count": 14,
     "metadata": {},
     "output_type": "execute_result"
    },
    {
     "name": "stdout",
     "output_type": "stream",
     "text": [
      "   dc_id  quantity  vendibility  original_price  discount\n",
      "0      3         2            0            0.01      4.12\n"
     ]
    },
    {
     "data": {
      "text/plain": [
       "array([39])"
      ]
     },
     "execution_count": 14,
     "metadata": {},
     "output_type": "execute_result"
    },
    {
     "name": "stdout",
     "output_type": "stream",
     "text": [
      "   dc_id  quantity  vendibility  original_price  discount\n",
      "0      1         2            0            0.01      4.12\n"
     ]
    },
    {
     "data": {
      "text/plain": [
       "array([39])"
      ]
     },
     "execution_count": 14,
     "metadata": {},
     "output_type": "execute_result"
    },
    {
     "name": "stdout",
     "output_type": "stream",
     "text": [
      "   dc_id  quantity  vendibility  original_price  discount\n",
      "0      2         2            1            0.00      5.20\n"
     ]
    },
    {
     "data": {
      "text/plain": [
       "array([39])"
      ]
     },
     "execution_count": 14,
     "metadata": {},
     "output_type": "execute_result"
    },
    {
     "name": "stdout",
     "output_type": "stream",
     "text": [
      "   dc_id  quantity  vendibility  original_price  discount\n",
      "0      2       160            1            0.00      6.30\n"
     ]
    },
    {
     "data": {
      "text/plain": [
       "array([39])"
      ]
     },
     "execution_count": 14,
     "metadata": {},
     "output_type": "execute_result"
    },
    {
     "name": "stdout",
     "output_type": "stream",
     "text": [
      "   dc_id  quantity  vendibility  original_price  discount\n",
      "0      2        13            1            0.01      4.94\n"
     ]
    },
    {
     "data": {
      "text/plain": [
       "array([39])"
      ]
     },
     "execution_count": 14,
     "metadata": {},
     "output_type": "execute_result"
    },
    {
     "name": "stdout",
     "output_type": "stream",
     "text": [
      "   dc_id  quantity  vendibility  original_price  discount\n",
      "0      0         3            1            0.01      4.94\n"
     ]
    },
    {
     "data": {
      "text/plain": [
       "array([39])"
      ]
     },
     "execution_count": 14,
     "metadata": {},
     "output_type": "execute_result"
    },
    {
     "name": "stdout",
     "output_type": "stream",
     "text": [
      "   dc_id  quantity  vendibility  original_price  discount\n",
      "0      3         5            0            0.00      2.87\n"
     ]
    },
    {
     "data": {
      "text/plain": [
       "array([39])"
      ]
     },
     "execution_count": 14,
     "metadata": {},
     "output_type": "execute_result"
    },
    {
     "name": "stdout",
     "output_type": "stream",
     "text": [
      "   dc_id  quantity  vendibility  original_price  discount\n",
      "0      3         2            0            0.00      3.07\n"
     ]
    },
    {
     "data": {
      "text/plain": [
       "array([39])"
      ]
     },
     "execution_count": 14,
     "metadata": {},
     "output_type": "execute_result"
    },
    {
     "name": "stdout",
     "output_type": "stream",
     "text": [
      "   dc_id  quantity  vendibility  original_price  discount\n",
      "0      0         9            1            0.12      8.80\n"
     ]
    },
    {
     "data": {
      "text/plain": [
       "array([39])"
      ]
     },
     "execution_count": 14,
     "metadata": {},
     "output_type": "execute_result"
    },
    {
     "name": "stdout",
     "output_type": "stream",
     "text": [
      "   dc_id  quantity  vendibility  original_price  discount\n",
      "0      3        52            1            0.00      6.68\n"
     ]
    },
    {
     "data": {
      "text/plain": [
       "array([39])"
      ]
     },
     "execution_count": 14,
     "metadata": {},
     "output_type": "execute_result"
    },
    {
     "name": "stdout",
     "output_type": "stream",
     "text": [
      "   dc_id  quantity  vendibility  original_price  discount\n",
      "0      4         1            1            0.01      4.94\n"
     ]
    },
    {
     "data": {
      "text/plain": [
       "array([39])"
      ]
     },
     "execution_count": 14,
     "metadata": {},
     "output_type": "execute_result"
    },
    {
     "name": "stdout",
     "output_type": "stream",
     "text": [
      "   dc_id  quantity  vendibility  original_price  discount\n",
      "0      4       122            1            0.00      6.52\n"
     ]
    },
    {
     "data": {
      "text/plain": [
       "array([39])"
      ]
     },
     "execution_count": 14,
     "metadata": {},
     "output_type": "execute_result"
    },
    {
     "name": "stdout",
     "output_type": "stream",
     "text": [
      "   dc_id  quantity  vendibility  original_price  discount\n",
      "0      2         5            0            0.00      2.59\n"
     ]
    },
    {
     "data": {
      "text/plain": [
       "array([39])"
      ]
     },
     "execution_count": 14,
     "metadata": {},
     "output_type": "execute_result"
    },
    {
     "name": "stdout",
     "output_type": "stream",
     "text": [
      "   dc_id  quantity  vendibility  original_price  discount\n",
      "0      4         1            1            0.01      4.94\n"
     ]
    },
    {
     "data": {
      "text/plain": [
       "array([39])"
      ]
     },
     "execution_count": 14,
     "metadata": {},
     "output_type": "execute_result"
    },
    {
     "name": "stdout",
     "output_type": "stream",
     "text": [
      "   dc_id  quantity  vendibility  original_price  discount\n",
      "0      1         4            1            0.01      4.94\n"
     ]
    },
    {
     "data": {
      "text/plain": [
       "array([39])"
      ]
     },
     "execution_count": 14,
     "metadata": {},
     "output_type": "execute_result"
    },
    {
     "name": "stdout",
     "output_type": "stream",
     "text": [
      "   dc_id  quantity  vendibility  original_price  discount\n",
      "0      5        46            1            0.00      6.43\n"
     ]
    },
    {
     "data": {
      "text/plain": [
       "array([39])"
      ]
     },
     "execution_count": 14,
     "metadata": {},
     "output_type": "execute_result"
    },
    {
     "name": "stdout",
     "output_type": "stream",
     "text": [
      "   dc_id  quantity  vendibility  original_price  discount\n",
      "0      5        35            1            0.00      6.96\n"
     ]
    },
    {
     "data": {
      "text/plain": [
       "array([39])"
      ]
     },
     "execution_count": 14,
     "metadata": {},
     "output_type": "execute_result"
    },
    {
     "name": "stdout",
     "output_type": "stream",
     "text": [
      "   dc_id  quantity  vendibility  original_price  discount\n",
      "0      5         1            1            0.00     10.00\n"
     ]
    },
    {
     "data": {
      "text/plain": [
       "array([39])"
      ]
     },
     "execution_count": 14,
     "metadata": {},
     "output_type": "execute_result"
    },
    {
     "name": "stdout",
     "output_type": "stream",
     "text": [
      "   dc_id  quantity  vendibility  original_price  discount\n",
      "0      0         3            1            0.12      8.80\n"
     ]
    },
    {
     "data": {
      "text/plain": [
       "array([39])"
      ]
     },
     "execution_count": 14,
     "metadata": {},
     "output_type": "execute_result"
    },
    {
     "name": "stdout",
     "output_type": "stream",
     "text": [
      "   dc_id  quantity  vendibility  original_price  discount\n",
      "0      4        67            1            0.00      6.32\n"
     ]
    },
    {
     "data": {
      "text/plain": [
       "array([39])"
      ]
     },
     "execution_count": 14,
     "metadata": {},
     "output_type": "execute_result"
    },
    {
     "name": "stdout",
     "output_type": "stream",
     "text": [
      "   dc_id  quantity  vendibility  original_price  discount\n",
      "0      2         2            0            0.00      2.87\n"
     ]
    },
    {
     "data": {
      "text/plain": [
       "array([39])"
      ]
     },
     "execution_count": 14,
     "metadata": {},
     "output_type": "execute_result"
    },
    {
     "name": "stdout",
     "output_type": "stream",
     "text": [
      "   dc_id  quantity  vendibility  original_price  discount\n",
      "0      4         1            1            0.00      6.32\n"
     ]
    },
    {
     "data": {
      "text/plain": [
       "array([39])"
      ]
     },
     "execution_count": 14,
     "metadata": {},
     "output_type": "execute_result"
    },
    {
     "name": "stdout",
     "output_type": "stream",
     "text": [
      "   dc_id  quantity  vendibility  original_price  discount\n",
      "0      2         1            0            0.01      4.12\n"
     ]
    },
    {
     "data": {
      "text/plain": [
       "array([39])"
      ]
     },
     "execution_count": 14,
     "metadata": {},
     "output_type": "execute_result"
    },
    {
     "name": "stdout",
     "output_type": "stream",
     "text": [
      "   dc_id  quantity  vendibility  original_price  discount\n",
      "0      5         2            0            0.00     10.00\n"
     ]
    },
    {
     "data": {
      "text/plain": [
       "array([39])"
      ]
     },
     "execution_count": 14,
     "metadata": {},
     "output_type": "execute_result"
    },
    {
     "name": "stdout",
     "output_type": "stream",
     "text": [
      "   dc_id  quantity  vendibility  original_price  discount\n",
      "0      4         1            0            0.01      4.12\n"
     ]
    },
    {
     "data": {
      "text/plain": [
       "array([39])"
      ]
     },
     "execution_count": 14,
     "metadata": {},
     "output_type": "execute_result"
    },
    {
     "name": "stdout",
     "output_type": "stream",
     "text": [
      "   dc_id  quantity  vendibility  original_price  discount\n",
      "0      1         3            1            0.12      8.80\n"
     ]
    },
    {
     "data": {
      "text/plain": [
       "array([39])"
      ]
     },
     "execution_count": 14,
     "metadata": {},
     "output_type": "execute_result"
    },
    {
     "name": "stdout",
     "output_type": "stream",
     "text": [
      "   dc_id  quantity  vendibility  original_price  discount\n",
      "0      1         3            1            0.11      9.56\n"
     ]
    },
    {
     "data": {
      "text/plain": [
       "array([39])"
      ]
     },
     "execution_count": 14,
     "metadata": {},
     "output_type": "execute_result"
    },
    {
     "name": "stdout",
     "output_type": "stream",
     "text": [
      "   dc_id  quantity  vendibility  original_price  discount\n",
      "0      1         1            0            0.12      8.80\n"
     ]
    },
    {
     "data": {
      "text/plain": [
       "array([39])"
      ]
     },
     "execution_count": 14,
     "metadata": {},
     "output_type": "execute_result"
    },
    {
     "name": "stdout",
     "output_type": "stream",
     "text": [
      "   dc_id  quantity  vendibility  original_price  discount\n",
      "0      1         7            1            0.12      8.70\n"
     ]
    },
    {
     "data": {
      "text/plain": [
       "array([39])"
      ]
     },
     "execution_count": 14,
     "metadata": {},
     "output_type": "execute_result"
    },
    {
     "name": "stdout",
     "output_type": "stream",
     "text": [
      "   dc_id  quantity  vendibility  original_price  discount\n",
      "0      2         1            0            0.00      5.74\n"
     ]
    },
    {
     "data": {
      "text/plain": [
       "array([39])"
      ]
     },
     "execution_count": 14,
     "metadata": {},
     "output_type": "execute_result"
    },
    {
     "name": "stdout",
     "output_type": "stream",
     "text": [
      "   dc_id  quantity  vendibility  original_price  discount\n",
      "0      1         2            0            0.01      4.12\n"
     ]
    },
    {
     "data": {
      "text/plain": [
       "array([39])"
      ]
     },
     "execution_count": 14,
     "metadata": {},
     "output_type": "execute_result"
    },
    {
     "name": "stdout",
     "output_type": "stream",
     "text": [
      "   dc_id  quantity  vendibility  original_price  discount\n",
      "0      1       130            1            0.00      6.12\n"
     ]
    },
    {
     "data": {
      "text/plain": [
       "array([39])"
      ]
     },
     "execution_count": 14,
     "metadata": {},
     "output_type": "execute_result"
    },
    {
     "name": "stdout",
     "output_type": "stream",
     "text": [
      "   dc_id  quantity  vendibility  original_price  discount\n",
      "0      3         1            1            0.01      4.94\n"
     ]
    },
    {
     "data": {
      "text/plain": [
       "array([39])"
      ]
     },
     "execution_count": 14,
     "metadata": {},
     "output_type": "execute_result"
    },
    {
     "name": "stdout",
     "output_type": "stream",
     "text": [
      "   dc_id  quantity  vendibility  original_price  discount\n",
      "0      5         1            0            0.12      8.80\n"
     ]
    },
    {
     "data": {
      "text/plain": [
       "array([39])"
      ]
     },
     "execution_count": 14,
     "metadata": {},
     "output_type": "execute_result"
    },
    {
     "name": "stdout",
     "output_type": "stream",
     "text": [
      "   dc_id  quantity  vendibility  original_price  discount\n",
      "0      2       174            1            0.00      6.39\n"
     ]
    },
    {
     "data": {
      "text/plain": [
       "array([39])"
      ]
     },
     "execution_count": 14,
     "metadata": {},
     "output_type": "execute_result"
    },
    {
     "name": "stdout",
     "output_type": "stream",
     "text": [
      "   dc_id  quantity  vendibility  original_price  discount\n",
      "0      0         3            0            0.01      4.12\n"
     ]
    },
    {
     "data": {
      "text/plain": [
       "array([39])"
      ]
     },
     "execution_count": 14,
     "metadata": {},
     "output_type": "execute_result"
    },
    {
     "name": "stdout",
     "output_type": "stream",
     "text": [
      "   dc_id  quantity  vendibility  original_price  discount\n",
      "0      1         1            1            0.00      5.79\n"
     ]
    },
    {
     "data": {
      "text/plain": [
       "array([39])"
      ]
     },
     "execution_count": 14,
     "metadata": {},
     "output_type": "execute_result"
    },
    {
     "name": "stdout",
     "output_type": "stream",
     "text": [
      "   dc_id  quantity  vendibility  original_price  discount\n",
      "0      5         1            0            0.00      3.04\n"
     ]
    },
    {
     "data": {
      "text/plain": [
       "array([39])"
      ]
     },
     "execution_count": 14,
     "metadata": {},
     "output_type": "execute_result"
    },
    {
     "name": "stdout",
     "output_type": "stream",
     "text": [
      "   dc_id  quantity  vendibility  original_price  discount\n",
      "0      5        53            1            0.00      6.58\n"
     ]
    },
    {
     "data": {
      "text/plain": [
       "array([39])"
      ]
     },
     "execution_count": 14,
     "metadata": {},
     "output_type": "execute_result"
    },
    {
     "name": "stdout",
     "output_type": "stream",
     "text": [
      "   dc_id  quantity  vendibility  original_price  discount\n",
      "0      0         5            1            0.00      2.89\n"
     ]
    },
    {
     "data": {
      "text/plain": [
       "array([39])"
      ]
     },
     "execution_count": 14,
     "metadata": {},
     "output_type": "execute_result"
    },
    {
     "name": "stdout",
     "output_type": "stream",
     "text": [
      "   dc_id  quantity  vendibility  original_price  discount\n",
      "0      4         2            0            0.12      8.80\n"
     ]
    },
    {
     "data": {
      "text/plain": [
       "array([39])"
      ]
     },
     "execution_count": 14,
     "metadata": {},
     "output_type": "execute_result"
    },
    {
     "name": "stdout",
     "output_type": "stream",
     "text": [
      "   dc_id  quantity  vendibility  original_price  discount\n",
      "0      0        10            1            0.01      4.94\n"
     ]
    },
    {
     "data": {
      "text/plain": [
       "array([39])"
      ]
     },
     "execution_count": 14,
     "metadata": {},
     "output_type": "execute_result"
    },
    {
     "name": "stdout",
     "output_type": "stream",
     "text": [
      "   dc_id  quantity  vendibility  original_price  discount\n",
      "0      2         7            1            0.01      4.94\n"
     ]
    },
    {
     "data": {
      "text/plain": [
       "array([39])"
      ]
     },
     "execution_count": 14,
     "metadata": {},
     "output_type": "execute_result"
    },
    {
     "name": "stdout",
     "output_type": "stream",
     "text": [
      "   dc_id  quantity  vendibility  original_price  discount\n",
      "0      0       158            1            0.00      6.34\n"
     ]
    },
    {
     "data": {
      "text/plain": [
       "array([39])"
      ]
     },
     "execution_count": 14,
     "metadata": {},
     "output_type": "execute_result"
    },
    {
     "name": "stdout",
     "output_type": "stream",
     "text": [
      "   dc_id  quantity  vendibility  original_price  discount\n",
      "0      1       129            1            0.00      6.07\n"
     ]
    },
    {
     "data": {
      "text/plain": [
       "array([39])"
      ]
     },
     "execution_count": 14,
     "metadata": {},
     "output_type": "execute_result"
    },
    {
     "name": "stdout",
     "output_type": "stream",
     "text": [
      "   dc_id  quantity  vendibility  original_price  discount\n",
      "0      3         3            1            0.01      4.94\n"
     ]
    },
    {
     "data": {
      "text/plain": [
       "array([39])"
      ]
     },
     "execution_count": 14,
     "metadata": {},
     "output_type": "execute_result"
    },
    {
     "name": "stdout",
     "output_type": "stream",
     "text": [
      "   dc_id  quantity  vendibility  original_price  discount\n",
      "0      0         1            0            0.01      4.12\n"
     ]
    },
    {
     "data": {
      "text/plain": [
       "array([39])"
      ]
     },
     "execution_count": 14,
     "metadata": {},
     "output_type": "execute_result"
    },
    {
     "name": "stdout",
     "output_type": "stream",
     "text": [
      "   dc_id  quantity  vendibility  original_price  discount\n",
      "0      5        44            1            0.00      8.09\n"
     ]
    },
    {
     "data": {
      "text/plain": [
       "array([39])"
      ]
     },
     "execution_count": 14,
     "metadata": {},
     "output_type": "execute_result"
    },
    {
     "name": "stdout",
     "output_type": "stream",
     "text": [
      "   dc_id  quantity  vendibility  original_price  discount\n",
      "0      0         5            1            0.00      2.80\n"
     ]
    },
    {
     "data": {
      "text/plain": [
       "array([39])"
      ]
     },
     "execution_count": 14,
     "metadata": {},
     "output_type": "execute_result"
    },
    {
     "name": "stdout",
     "output_type": "stream",
     "text": [
      "   dc_id  quantity  vendibility  original_price  discount\n",
      "0      2         1            1            0.01      4.94\n"
     ]
    },
    {
     "data": {
      "text/plain": [
       "array([39])"
      ]
     },
     "execution_count": 14,
     "metadata": {},
     "output_type": "execute_result"
    },
    {
     "name": "stdout",
     "output_type": "stream",
     "text": [
      "   dc_id  quantity  vendibility  original_price  discount\n",
      "0      4         1            1            0.12      8.80\n"
     ]
    },
    {
     "data": {
      "text/plain": [
       "array([39])"
      ]
     },
     "execution_count": 14,
     "metadata": {},
     "output_type": "execute_result"
    },
    {
     "name": "stdout",
     "output_type": "stream",
     "text": [
      "   dc_id  quantity  vendibility  original_price  discount\n",
      "0      0         1            0            0.00     10.00\n"
     ]
    },
    {
     "data": {
      "text/plain": [
       "array([39])"
      ]
     },
     "execution_count": 14,
     "metadata": {},
     "output_type": "execute_result"
    },
    {
     "name": "stdout",
     "output_type": "stream",
     "text": [
      "   dc_id  quantity  vendibility  original_price  discount\n",
      "0      4         2            0            0.00      2.87\n"
     ]
    },
    {
     "data": {
      "text/plain": [
       "array([39])"
      ]
     },
     "execution_count": 14,
     "metadata": {},
     "output_type": "execute_result"
    },
    {
     "name": "stdout",
     "output_type": "stream",
     "text": [
      "   dc_id  quantity  vendibility  original_price  discount\n",
      "0      2         1            0            0.01      4.12\n"
     ]
    },
    {
     "data": {
      "text/plain": [
       "array([39])"
      ]
     },
     "execution_count": 14,
     "metadata": {},
     "output_type": "execute_result"
    },
    {
     "name": "stdout",
     "output_type": "stream",
     "text": [
      "   dc_id  quantity  vendibility  original_price  discount\n",
      "0      2         1            1            0.00      7.89\n"
     ]
    },
    {
     "data": {
      "text/plain": [
       "array([39])"
      ]
     },
     "execution_count": 14,
     "metadata": {},
     "output_type": "execute_result"
    },
    {
     "name": "stdout",
     "output_type": "stream",
     "text": [
      "   dc_id  quantity  vendibility  original_price  discount\n",
      "0      2         1            0            0.01      4.12\n"
     ]
    },
    {
     "data": {
      "text/plain": [
       "array([39])"
      ]
     },
     "execution_count": 14,
     "metadata": {},
     "output_type": "execute_result"
    },
    {
     "name": "stdout",
     "output_type": "stream",
     "text": [
      "   dc_id  quantity  vendibility  original_price  discount\n",
      "0      4         2            0            0.01      4.12\n"
     ]
    },
    {
     "data": {
      "text/plain": [
       "array([39])"
      ]
     },
     "execution_count": 14,
     "metadata": {},
     "output_type": "execute_result"
    },
    {
     "name": "stdout",
     "output_type": "stream",
     "text": [
      "   dc_id  quantity  vendibility  original_price  discount\n",
      "0      0       228            1            0.00      6.90\n"
     ]
    },
    {
     "data": {
      "text/plain": [
       "array([39])"
      ]
     },
     "execution_count": 14,
     "metadata": {},
     "output_type": "execute_result"
    },
    {
     "name": "stdout",
     "output_type": "stream",
     "text": [
      "   dc_id  quantity  vendibility  original_price  discount\n",
      "0      0       177            1            0.00      6.19\n"
     ]
    },
    {
     "data": {
      "text/plain": [
       "array([39])"
      ]
     },
     "execution_count": 14,
     "metadata": {},
     "output_type": "execute_result"
    },
    {
     "name": "stdout",
     "output_type": "stream",
     "text": [
      "   dc_id  quantity  vendibility  original_price  discount\n",
      "0      1         4            1            0.12      8.80\n"
     ]
    },
    {
     "data": {
      "text/plain": [
       "array([39])"
      ]
     },
     "execution_count": 14,
     "metadata": {},
     "output_type": "execute_result"
    },
    {
     "name": "stdout",
     "output_type": "stream",
     "text": [
      "   dc_id  quantity  vendibility  original_price  discount\n",
      "0      5         3            1            0.01     10.00\n"
     ]
    },
    {
     "data": {
      "text/plain": [
       "array([39])"
      ]
     },
     "execution_count": 14,
     "metadata": {},
     "output_type": "execute_result"
    },
    {
     "name": "stdout",
     "output_type": "stream",
     "text": [
      "   dc_id  quantity  vendibility  original_price  discount\n",
      "0      5         1            1            0.00     10.00\n"
     ]
    },
    {
     "data": {
      "text/plain": [
       "array([39])"
      ]
     },
     "execution_count": 14,
     "metadata": {},
     "output_type": "execute_result"
    },
    {
     "name": "stdout",
     "output_type": "stream",
     "text": [
      "   dc_id  quantity  vendibility  original_price  discount\n",
      "0      3         3            1            0.01      4.94\n"
     ]
    },
    {
     "data": {
      "text/plain": [
       "array([39])"
      ]
     },
     "execution_count": 14,
     "metadata": {},
     "output_type": "execute_result"
    },
    {
     "name": "stdout",
     "output_type": "stream",
     "text": [
      "   dc_id  quantity  vendibility  original_price  discount\n",
      "0      1         1            1            0.11     10.00\n"
     ]
    },
    {
     "data": {
      "text/plain": [
       "array([39])"
      ]
     },
     "execution_count": 14,
     "metadata": {},
     "output_type": "execute_result"
    },
    {
     "name": "stdout",
     "output_type": "stream",
     "text": [
      "   dc_id  quantity  vendibility  original_price  discount\n",
      "0      0         8            1            0.00      3.25\n"
     ]
    },
    {
     "data": {
      "text/plain": [
       "array([39])"
      ]
     },
     "execution_count": 14,
     "metadata": {},
     "output_type": "execute_result"
    },
    {
     "name": "stdout",
     "output_type": "stream",
     "text": [
      "   dc_id  quantity  vendibility  original_price  discount\n",
      "0      5        51            1            0.00      7.15\n"
     ]
    },
    {
     "data": {
      "text/plain": [
       "array([39])"
      ]
     },
     "execution_count": 14,
     "metadata": {},
     "output_type": "execute_result"
    },
    {
     "name": "stdout",
     "output_type": "stream",
     "text": [
      "   dc_id  quantity  vendibility  original_price  discount\n",
      "0      3         4            1            0.00      7.89\n"
     ]
    },
    {
     "data": {
      "text/plain": [
       "array([39])"
      ]
     },
     "execution_count": 14,
     "metadata": {},
     "output_type": "execute_result"
    },
    {
     "name": "stdout",
     "output_type": "stream",
     "text": [
      "   dc_id  quantity  vendibility  original_price  discount\n",
      "0      2         9            1            0.01      4.94\n"
     ]
    },
    {
     "data": {
      "text/plain": [
       "array([39])"
      ]
     },
     "execution_count": 14,
     "metadata": {},
     "output_type": "execute_result"
    },
    {
     "name": "stdout",
     "output_type": "stream",
     "text": [
      "   dc_id  quantity  vendibility  original_price  discount\n",
      "0      2         7            1            0.01      4.94\n"
     ]
    },
    {
     "data": {
      "text/plain": [
       "array([39])"
      ]
     },
     "execution_count": 14,
     "metadata": {},
     "output_type": "execute_result"
    },
    {
     "name": "stdout",
     "output_type": "stream",
     "text": [
      "   dc_id  quantity  vendibility  original_price  discount\n",
      "0      1         1            1            0.01      4.94\n"
     ]
    },
    {
     "data": {
      "text/plain": [
       "array([39])"
      ]
     },
     "execution_count": 14,
     "metadata": {},
     "output_type": "execute_result"
    },
    {
     "name": "stdout",
     "output_type": "stream",
     "text": [
      "   dc_id  quantity  vendibility  original_price  discount\n",
      "0      5         1            0            0.00     10.00\n"
     ]
    },
    {
     "data": {
      "text/plain": [
       "array([39])"
      ]
     },
     "execution_count": 14,
     "metadata": {},
     "output_type": "execute_result"
    },
    {
     "name": "stdout",
     "output_type": "stream",
     "text": [
      "   dc_id  quantity  vendibility  original_price  discount\n",
      "0      2       138            1            0.00      6.44\n"
     ]
    },
    {
     "data": {
      "text/plain": [
       "array([39])"
      ]
     },
     "execution_count": 14,
     "metadata": {},
     "output_type": "execute_result"
    },
    {
     "name": "stdout",
     "output_type": "stream",
     "text": [
      "   dc_id  quantity  vendibility  original_price  discount\n",
      "0      5         2            0            0.00      2.87\n"
     ]
    },
    {
     "data": {
      "text/plain": [
       "array([39])"
      ]
     },
     "execution_count": 14,
     "metadata": {},
     "output_type": "execute_result"
    },
    {
     "name": "stdout",
     "output_type": "stream",
     "text": [
      "   dc_id  quantity  vendibility  original_price  discount\n",
      "0      3         1            0            0.00      6.32\n"
     ]
    },
    {
     "data": {
      "text/plain": [
       "array([39])"
      ]
     },
     "execution_count": 14,
     "metadata": {},
     "output_type": "execute_result"
    },
    {
     "name": "stdout",
     "output_type": "stream",
     "text": [
      "   dc_id  quantity  vendibility  original_price  discount\n",
      "0      2       151            1            0.00      6.77\n"
     ]
    },
    {
     "data": {
      "text/plain": [
       "array([39])"
      ]
     },
     "execution_count": 14,
     "metadata": {},
     "output_type": "execute_result"
    },
    {
     "name": "stdout",
     "output_type": "stream",
     "text": [
      "   dc_id  quantity  vendibility  original_price  discount\n",
      "0      1         2            1            0.00      6.32\n"
     ]
    },
    {
     "data": {
      "text/plain": [
       "array([39])"
      ]
     },
     "execution_count": 14,
     "metadata": {},
     "output_type": "execute_result"
    },
    {
     "name": "stdout",
     "output_type": "stream",
     "text": [
      "   dc_id  quantity  vendibility  original_price  discount\n",
      "0      1         1            1            0.01      4.94\n"
     ]
    },
    {
     "data": {
      "text/plain": [
       "array([39])"
      ]
     },
     "execution_count": 14,
     "metadata": {},
     "output_type": "execute_result"
    },
    {
     "name": "stdout",
     "output_type": "stream",
     "text": [
      "   dc_id  quantity  vendibility  original_price  discount\n",
      "0      0         1            1            0.00      3.04\n"
     ]
    },
    {
     "data": {
      "text/plain": [
       "array([39])"
      ]
     },
     "execution_count": 14,
     "metadata": {},
     "output_type": "execute_result"
    },
    {
     "name": "stdout",
     "output_type": "stream",
     "text": [
      "   dc_id  quantity  vendibility  original_price  discount\n",
      "0      5        44            1            0.00      7.08\n"
     ]
    },
    {
     "data": {
      "text/plain": [
       "array([39])"
      ]
     },
     "execution_count": 14,
     "metadata": {},
     "output_type": "execute_result"
    },
    {
     "name": "stdout",
     "output_type": "stream",
     "text": [
      "   dc_id  quantity  vendibility  original_price  discount\n",
      "0      3        86            1            0.00      6.25\n"
     ]
    },
    {
     "data": {
      "text/plain": [
       "array([39])"
      ]
     },
     "execution_count": 14,
     "metadata": {},
     "output_type": "execute_result"
    },
    {
     "name": "stdout",
     "output_type": "stream",
     "text": [
      "   dc_id  quantity  vendibility  original_price  discount\n",
      "0      5         2            0            0.00     10.00\n"
     ]
    },
    {
     "data": {
      "text/plain": [
       "array([39])"
      ]
     },
     "execution_count": 14,
     "metadata": {},
     "output_type": "execute_result"
    },
    {
     "name": "stdout",
     "output_type": "stream",
     "text": [
      "   dc_id  quantity  vendibility  original_price  discount\n",
      "0      0       144            1            0.00      6.14\n"
     ]
    },
    {
     "data": {
      "text/plain": [
       "array([39])"
      ]
     },
     "execution_count": 14,
     "metadata": {},
     "output_type": "execute_result"
    },
    {
     "name": "stdout",
     "output_type": "stream",
     "text": [
      "   dc_id  quantity  vendibility  original_price  discount\n",
      "0      2         9            0            0.12      8.91\n"
     ]
    },
    {
     "data": {
      "text/plain": [
       "array([39])"
      ]
     },
     "execution_count": 14,
     "metadata": {},
     "output_type": "execute_result"
    },
    {
     "name": "stdout",
     "output_type": "stream",
     "text": [
      "   dc_id  quantity  vendibility  original_price  discount\n",
      "0      0        13            1            0.01      4.94\n"
     ]
    },
    {
     "data": {
      "text/plain": [
       "array([39])"
      ]
     },
     "execution_count": 14,
     "metadata": {},
     "output_type": "execute_result"
    },
    {
     "name": "stdout",
     "output_type": "stream",
     "text": [
      "   dc_id  quantity  vendibility  original_price  discount\n",
      "0      3         1            0            0.12      8.80\n"
     ]
    },
    {
     "data": {
      "text/plain": [
       "array([39])"
      ]
     },
     "execution_count": 14,
     "metadata": {},
     "output_type": "execute_result"
    },
    {
     "name": "stdout",
     "output_type": "stream",
     "text": [
      "   dc_id  quantity  vendibility  original_price  discount\n",
      "0      1         1            1            0.00      7.89\n"
     ]
    },
    {
     "data": {
      "text/plain": [
       "array([39])"
      ]
     },
     "execution_count": 14,
     "metadata": {},
     "output_type": "execute_result"
    },
    {
     "name": "stdout",
     "output_type": "stream",
     "text": [
      "   dc_id  quantity  vendibility  original_price  discount\n",
      "0      0         3            1            0.01      8.32\n"
     ]
    },
    {
     "data": {
      "text/plain": [
       "array([39])"
      ]
     },
     "execution_count": 14,
     "metadata": {},
     "output_type": "execute_result"
    },
    {
     "name": "stdout",
     "output_type": "stream",
     "text": [
      "   dc_id  quantity  vendibility  original_price  discount\n",
      "0      3         1            1            0.01      4.94\n"
     ]
    },
    {
     "data": {
      "text/plain": [
       "array([39])"
      ]
     },
     "execution_count": 14,
     "metadata": {},
     "output_type": "execute_result"
    },
    {
     "name": "stdout",
     "output_type": "stream",
     "text": [
      "   dc_id  quantity  vendibility  original_price  discount\n",
      "0      5         1            0            0.01      8.32\n"
     ]
    },
    {
     "data": {
      "text/plain": [
       "array([39])"
      ]
     },
     "execution_count": 14,
     "metadata": {},
     "output_type": "execute_result"
    },
    {
     "name": "stdout",
     "output_type": "stream",
     "text": [
      "   dc_id  quantity  vendibility  original_price  discount\n",
      "0      3         1            0            0.01      4.12\n"
     ]
    },
    {
     "data": {
      "text/plain": [
       "array([39])"
      ]
     },
     "execution_count": 14,
     "metadata": {},
     "output_type": "execute_result"
    },
    {
     "name": "stdout",
     "output_type": "stream",
     "text": [
      "   dc_id  quantity  vendibility  original_price  discount\n",
      "0      2         2            0            0.01      8.32\n"
     ]
    },
    {
     "data": {
      "text/plain": [
       "array([39])"
      ]
     },
     "execution_count": 14,
     "metadata": {},
     "output_type": "execute_result"
    },
    {
     "name": "stdout",
     "output_type": "stream",
     "text": [
      "   dc_id  quantity  vendibility  original_price  discount\n",
      "0      2         4            0            0.11     10.00\n"
     ]
    },
    {
     "data": {
      "text/plain": [
       "array([39])"
      ]
     },
     "execution_count": 14,
     "metadata": {},
     "output_type": "execute_result"
    },
    {
     "name": "stdout",
     "output_type": "stream",
     "text": [
      "   dc_id  quantity  vendibility  original_price  discount\n",
      "0      0         9            1            0.00      2.89\n"
     ]
    },
    {
     "data": {
      "text/plain": [
       "array([39])"
      ]
     },
     "execution_count": 14,
     "metadata": {},
     "output_type": "execute_result"
    },
    {
     "name": "stdout",
     "output_type": "stream",
     "text": [
      "   dc_id  quantity  vendibility  original_price  discount\n",
      "0      2         2            1            0.00      4.96\n"
     ]
    },
    {
     "data": {
      "text/plain": [
       "array([39])"
      ]
     },
     "execution_count": 14,
     "metadata": {},
     "output_type": "execute_result"
    },
    {
     "name": "stdout",
     "output_type": "stream",
     "text": [
      "   dc_id  quantity  vendibility  original_price  discount\n",
      "0      4        73            1            0.00      6.36\n"
     ]
    },
    {
     "data": {
      "text/plain": [
       "array([39])"
      ]
     },
     "execution_count": 14,
     "metadata": {},
     "output_type": "execute_result"
    },
    {
     "name": "stdout",
     "output_type": "stream",
     "text": [
      "   dc_id  quantity  vendibility  original_price  discount\n",
      "0      0        15            1            0.01      4.94\n"
     ]
    },
    {
     "data": {
      "text/plain": [
       "array([39])"
      ]
     },
     "execution_count": 14,
     "metadata": {},
     "output_type": "execute_result"
    },
    {
     "name": "stdout",
     "output_type": "stream",
     "text": [
      "   dc_id  quantity  vendibility  original_price  discount\n",
      "0      2        96            1            0.00      7.18\n"
     ]
    },
    {
     "data": {
      "text/plain": [
       "array([39])"
      ]
     },
     "execution_count": 14,
     "metadata": {},
     "output_type": "execute_result"
    },
    {
     "name": "stdout",
     "output_type": "stream",
     "text": [
      "   dc_id  quantity  vendibility  original_price  discount\n",
      "0      0       159            1            0.00      6.82\n"
     ]
    },
    {
     "data": {
      "text/plain": [
       "array([39])"
      ]
     },
     "execution_count": 14,
     "metadata": {},
     "output_type": "execute_result"
    },
    {
     "name": "stdout",
     "output_type": "stream",
     "text": [
      "   dc_id  quantity  vendibility  original_price  discount\n",
      "0      2         5            0            0.00      4.12\n"
     ]
    },
    {
     "data": {
      "text/plain": [
       "array([39])"
      ]
     },
     "execution_count": 14,
     "metadata": {},
     "output_type": "execute_result"
    },
    {
     "name": "stdout",
     "output_type": "stream",
     "text": [
      "   dc_id  quantity  vendibility  original_price  discount\n",
      "0      2       161            1            0.00      6.98\n"
     ]
    },
    {
     "data": {
      "text/plain": [
       "array([39])"
      ]
     },
     "execution_count": 14,
     "metadata": {},
     "output_type": "execute_result"
    },
    {
     "name": "stdout",
     "output_type": "stream",
     "text": [
      "   dc_id  quantity  vendibility  original_price  discount\n",
      "0      0         1            0            0.01      4.12\n"
     ]
    },
    {
     "data": {
      "text/plain": [
       "array([39])"
      ]
     },
     "execution_count": 14,
     "metadata": {},
     "output_type": "execute_result"
    },
    {
     "name": "stdout",
     "output_type": "stream",
     "text": [
      "   dc_id  quantity  vendibility  original_price  discount\n",
      "0      2       875            1            0.00      6.43\n"
     ]
    },
    {
     "data": {
      "text/plain": [
       "array([39])"
      ]
     },
     "execution_count": 14,
     "metadata": {},
     "output_type": "execute_result"
    },
    {
     "name": "stdout",
     "output_type": "stream",
     "text": [
      "   dc_id  quantity  vendibility  original_price  discount\n",
      "0      0        10            1            0.11     10.00\n"
     ]
    },
    {
     "data": {
      "text/plain": [
       "array([39])"
      ]
     },
     "execution_count": 14,
     "metadata": {},
     "output_type": "execute_result"
    },
    {
     "name": "stdout",
     "output_type": "stream",
     "text": [
      "   dc_id  quantity  vendibility  original_price  discount\n",
      "0      3        59            1            0.00      6.60\n"
     ]
    },
    {
     "data": {
      "text/plain": [
       "array([39])"
      ]
     },
     "execution_count": 14,
     "metadata": {},
     "output_type": "execute_result"
    },
    {
     "name": "stdout",
     "output_type": "stream",
     "text": [
      "   dc_id  quantity  vendibility  original_price  discount\n",
      "0      2         2            0            0.00     10.00\n"
     ]
    },
    {
     "data": {
      "text/plain": [
       "array([39])"
      ]
     },
     "execution_count": 14,
     "metadata": {},
     "output_type": "execute_result"
    },
    {
     "name": "stdout",
     "output_type": "stream",
     "text": [
      "   dc_id  quantity  vendibility  original_price  discount\n",
      "0      2         1            1            0.01      8.39\n"
     ]
    },
    {
     "data": {
      "text/plain": [
       "array([39])"
      ]
     },
     "execution_count": 14,
     "metadata": {},
     "output_type": "execute_result"
    },
    {
     "name": "stdout",
     "output_type": "stream",
     "text": [
      "   dc_id  quantity  vendibility  original_price  discount\n",
      "0      1         3            1            0.01      4.94\n"
     ]
    },
    {
     "data": {
      "text/plain": [
       "array([39])"
      ]
     },
     "execution_count": 14,
     "metadata": {},
     "output_type": "execute_result"
    },
    {
     "name": "stdout",
     "output_type": "stream",
     "text": [
      "   dc_id  quantity  vendibility  original_price  discount\n",
      "0      0         1            1            0.01      8.32\n"
     ]
    },
    {
     "data": {
      "text/plain": [
       "array([39])"
      ]
     },
     "execution_count": 14,
     "metadata": {},
     "output_type": "execute_result"
    },
    {
     "name": "stdout",
     "output_type": "stream",
     "text": [
      "   dc_id  quantity  vendibility  original_price  discount\n",
      "0      0         6            1            0.01      4.94\n"
     ]
    },
    {
     "data": {
      "text/plain": [
       "array([39])"
      ]
     },
     "execution_count": 14,
     "metadata": {},
     "output_type": "execute_result"
    },
    {
     "name": "stdout",
     "output_type": "stream",
     "text": [
      "   dc_id  quantity  vendibility  original_price  discount\n",
      "0      1         1            0            0.00      3.04\n"
     ]
    },
    {
     "data": {
      "text/plain": [
       "array([39])"
      ]
     },
     "execution_count": 14,
     "metadata": {},
     "output_type": "execute_result"
    },
    {
     "name": "stdout",
     "output_type": "stream",
     "text": [
      "   dc_id  quantity  vendibility  original_price  discount\n",
      "0      2         1            0            0.01      8.39\n"
     ]
    },
    {
     "data": {
      "text/plain": [
       "array([39])"
      ]
     },
     "execution_count": 14,
     "metadata": {},
     "output_type": "execute_result"
    },
    {
     "name": "stdout",
     "output_type": "stream",
     "text": [
      "   dc_id  quantity  vendibility  original_price  discount\n",
      "0      2         1            0            0.11     10.00\n"
     ]
    },
    {
     "data": {
      "text/plain": [
       "array([39])"
      ]
     },
     "execution_count": 14,
     "metadata": {},
     "output_type": "execute_result"
    },
    {
     "name": "stdout",
     "output_type": "stream",
     "text": [
      "   dc_id  quantity  vendibility  original_price  discount\n",
      "0      1       109            1            0.00      6.14\n"
     ]
    },
    {
     "data": {
      "text/plain": [
       "array([39])"
      ]
     },
     "execution_count": 14,
     "metadata": {},
     "output_type": "execute_result"
    },
    {
     "name": "stdout",
     "output_type": "stream",
     "text": [
      "   dc_id  quantity  vendibility  original_price  discount\n",
      "0      0         7            1            0.01      4.94\n"
     ]
    },
    {
     "data": {
      "text/plain": [
       "array([39])"
      ]
     },
     "execution_count": 14,
     "metadata": {},
     "output_type": "execute_result"
    },
    {
     "name": "stdout",
     "output_type": "stream",
     "text": [
      "   dc_id  quantity  vendibility  original_price  discount\n",
      "0      5        62            1            0.00      7.18\n"
     ]
    },
    {
     "data": {
      "text/plain": [
       "array([39])"
      ]
     },
     "execution_count": 14,
     "metadata": {},
     "output_type": "execute_result"
    },
    {
     "name": "stdout",
     "output_type": "stream",
     "text": [
      "   dc_id  quantity  vendibility  original_price  discount\n",
      "0      3        63            1            0.00      6.56\n"
     ]
    },
    {
     "data": {
      "text/plain": [
       "array([39])"
      ]
     },
     "execution_count": 14,
     "metadata": {},
     "output_type": "execute_result"
    },
    {
     "name": "stdout",
     "output_type": "stream",
     "text": [
      "   dc_id  quantity  vendibility  original_price  discount\n",
      "0      2         2            0            0.00      2.70\n"
     ]
    },
    {
     "data": {
      "text/plain": [
       "array([39])"
      ]
     },
     "execution_count": 14,
     "metadata": {},
     "output_type": "execute_result"
    },
    {
     "name": "stdout",
     "output_type": "stream",
     "text": [
      "   dc_id  quantity  vendibility  original_price  discount\n",
      "0      5        43            1            0.00      6.36\n"
     ]
    },
    {
     "data": {
      "text/plain": [
       "array([39])"
      ]
     },
     "execution_count": 14,
     "metadata": {},
     "output_type": "execute_result"
    },
    {
     "name": "stdout",
     "output_type": "stream",
     "text": [
      "   dc_id  quantity  vendibility  original_price  discount\n",
      "0      1         1            1            0.01      8.32\n"
     ]
    },
    {
     "data": {
      "text/plain": [
       "array([39])"
      ]
     },
     "execution_count": 14,
     "metadata": {},
     "output_type": "execute_result"
    },
    {
     "name": "stdout",
     "output_type": "stream",
     "text": [
      "   dc_id  quantity  vendibility  original_price  discount\n",
      "0      0         5            1            0.00      2.91\n"
     ]
    },
    {
     "data": {
      "text/plain": [
       "array([39])"
      ]
     },
     "execution_count": 14,
     "metadata": {},
     "output_type": "execute_result"
    },
    {
     "name": "stdout",
     "output_type": "stream",
     "text": [
      "   dc_id  quantity  vendibility  original_price  discount\n",
      "0      2         2            1            0.01      4.94\n"
     ]
    },
    {
     "data": {
      "text/plain": [
       "array([39])"
      ]
     },
     "execution_count": 14,
     "metadata": {},
     "output_type": "execute_result"
    },
    {
     "name": "stdout",
     "output_type": "stream",
     "text": [
      "   dc_id  quantity  vendibility  original_price  discount\n",
      "0      1       110            1            0.00      6.01\n"
     ]
    },
    {
     "data": {
      "text/plain": [
       "array([39])"
      ]
     },
     "execution_count": 14,
     "metadata": {},
     "output_type": "execute_result"
    },
    {
     "name": "stdout",
     "output_type": "stream",
     "text": [
      "   dc_id  quantity  vendibility  original_price  discount\n",
      "0      4         5            1            0.01      4.94\n"
     ]
    },
    {
     "data": {
      "text/plain": [
       "array([39])"
      ]
     },
     "execution_count": 14,
     "metadata": {},
     "output_type": "execute_result"
    },
    {
     "name": "stdout",
     "output_type": "stream",
     "text": [
      "   dc_id  quantity  vendibility  original_price  discount\n",
      "0      4        61            1            0.00      6.85\n"
     ]
    },
    {
     "data": {
      "text/plain": [
       "array([39])"
      ]
     },
     "execution_count": 14,
     "metadata": {},
     "output_type": "execute_result"
    },
    {
     "name": "stdout",
     "output_type": "stream",
     "text": [
      "   dc_id  quantity  vendibility  original_price  discount\n",
      "0      1         2            1            0.01      4.94\n"
     ]
    },
    {
     "data": {
      "text/plain": [
       "array([39])"
      ]
     },
     "execution_count": 14,
     "metadata": {},
     "output_type": "execute_result"
    },
    {
     "name": "stdout",
     "output_type": "stream",
     "text": [
      "   dc_id  quantity  vendibility  original_price  discount\n",
      "0      0      2430            1            0.00      6.51\n"
     ]
    },
    {
     "data": {
      "text/plain": [
       "array([39])"
      ]
     },
     "execution_count": 14,
     "metadata": {},
     "output_type": "execute_result"
    },
    {
     "name": "stdout",
     "output_type": "stream",
     "text": [
      "   dc_id  quantity  vendibility  original_price  discount\n",
      "0      0       153            1            0.00      6.23\n"
     ]
    },
    {
     "data": {
      "text/plain": [
       "array([39])"
      ]
     },
     "execution_count": 14,
     "metadata": {},
     "output_type": "execute_result"
    },
    {
     "name": "stdout",
     "output_type": "stream",
     "text": [
      "   dc_id  quantity  vendibility  original_price  discount\n",
      "0      1         2            1            0.12      8.80\n"
     ]
    },
    {
     "data": {
      "text/plain": [
       "array([39])"
      ]
     },
     "execution_count": 14,
     "metadata": {},
     "output_type": "execute_result"
    },
    {
     "name": "stdout",
     "output_type": "stream",
     "text": [
      "   dc_id  quantity  vendibility  original_price  discount\n",
      "0      1         3            1            0.12      8.80\n"
     ]
    },
    {
     "data": {
      "text/plain": [
       "array([39])"
      ]
     },
     "execution_count": 14,
     "metadata": {},
     "output_type": "execute_result"
    },
    {
     "name": "stdout",
     "output_type": "stream",
     "text": [
      "   dc_id  quantity  vendibility  original_price  discount\n",
      "0      4        89            1            0.00      6.05\n"
     ]
    },
    {
     "data": {
      "text/plain": [
       "array([39])"
      ]
     },
     "execution_count": 14,
     "metadata": {},
     "output_type": "execute_result"
    },
    {
     "name": "stdout",
     "output_type": "stream",
     "text": [
      "   dc_id  quantity  vendibility  original_price  discount\n",
      "0      2       166            1            0.00      6.46\n"
     ]
    },
    {
     "data": {
      "text/plain": [
       "array([39])"
      ]
     },
     "execution_count": 14,
     "metadata": {},
     "output_type": "execute_result"
    },
    {
     "name": "stdout",
     "output_type": "stream",
     "text": [
      "   dc_id  quantity  vendibility  original_price  discount\n",
      "0      3         1            0            0.00      2.84\n"
     ]
    },
    {
     "data": {
      "text/plain": [
       "array([39])"
      ]
     },
     "execution_count": 14,
     "metadata": {},
     "output_type": "execute_result"
    },
    {
     "name": "stdout",
     "output_type": "stream",
     "text": [
      "   dc_id  quantity  vendibility  original_price  discount\n",
      "0      5         1            0            0.00      5.74\n"
     ]
    },
    {
     "data": {
      "text/plain": [
       "array([39])"
      ]
     },
     "execution_count": 14,
     "metadata": {},
     "output_type": "execute_result"
    },
    {
     "name": "stdout",
     "output_type": "stream",
     "text": [
      "   dc_id  quantity  vendibility  original_price  discount\n",
      "0      3         1            0            0.00     10.00\n"
     ]
    },
    {
     "data": {
      "text/plain": [
       "array([39])"
      ]
     },
     "execution_count": 14,
     "metadata": {},
     "output_type": "execute_result"
    },
    {
     "name": "stdout",
     "output_type": "stream",
     "text": [
      "   dc_id  quantity  vendibility  original_price  discount\n",
      "0      4         2            0            0.00      2.87\n"
     ]
    },
    {
     "data": {
      "text/plain": [
       "array([39])"
      ]
     },
     "execution_count": 14,
     "metadata": {},
     "output_type": "execute_result"
    },
    {
     "name": "stdout",
     "output_type": "stream",
     "text": [
      "   dc_id  quantity  vendibility  original_price  discount\n",
      "0      4         1            0            0.01      4.12\n"
     ]
    },
    {
     "data": {
      "text/plain": [
       "array([39])"
      ]
     },
     "execution_count": 14,
     "metadata": {},
     "output_type": "execute_result"
    },
    {
     "name": "stdout",
     "output_type": "stream",
     "text": [
      "   dc_id  quantity  vendibility  original_price  discount\n",
      "0      1         1            0            0.00     10.00\n"
     ]
    },
    {
     "data": {
      "text/plain": [
       "array([39])"
      ]
     },
     "execution_count": 14,
     "metadata": {},
     "output_type": "execute_result"
    },
    {
     "name": "stdout",
     "output_type": "stream",
     "text": [
      "   dc_id  quantity  vendibility  original_price  discount\n",
      "0      0         2            1            0.00      6.05\n"
     ]
    },
    {
     "data": {
      "text/plain": [
       "array([39])"
      ]
     },
     "execution_count": 14,
     "metadata": {},
     "output_type": "execute_result"
    },
    {
     "name": "stdout",
     "output_type": "stream",
     "text": [
      "   dc_id  quantity  vendibility  original_price  discount\n",
      "0      4         5            1            0.01      4.94\n"
     ]
    },
    {
     "data": {
      "text/plain": [
       "array([39])"
      ]
     },
     "execution_count": 14,
     "metadata": {},
     "output_type": "execute_result"
    },
    {
     "name": "stdout",
     "output_type": "stream",
     "text": [
      "   dc_id  quantity  vendibility  original_price  discount\n",
      "0      2         6            1            0.01      4.94\n"
     ]
    },
    {
     "data": {
      "text/plain": [
       "array([39])"
      ]
     },
     "execution_count": 14,
     "metadata": {},
     "output_type": "execute_result"
    },
    {
     "name": "stdout",
     "output_type": "stream",
     "text": [
      "   dc_id  quantity  vendibility  original_price  discount\n",
      "0      3         2            0            0.12      8.80\n"
     ]
    },
    {
     "data": {
      "text/plain": [
       "array([39])"
      ]
     },
     "execution_count": 14,
     "metadata": {},
     "output_type": "execute_result"
    },
    {
     "name": "stdout",
     "output_type": "stream",
     "text": [
      "   dc_id  quantity  vendibility  original_price  discount\n",
      "0      2         1            0            0.12      8.80\n"
     ]
    },
    {
     "data": {
      "text/plain": [
       "array([39])"
      ]
     },
     "execution_count": 14,
     "metadata": {},
     "output_type": "execute_result"
    },
    {
     "name": "stdout",
     "output_type": "stream",
     "text": [
      "   dc_id  quantity  vendibility  original_price  discount\n",
      "0      0         1            1            0.00      7.89\n"
     ]
    },
    {
     "data": {
      "text/plain": [
       "array([39])"
      ]
     },
     "execution_count": 14,
     "metadata": {},
     "output_type": "execute_result"
    },
    {
     "name": "stdout",
     "output_type": "stream",
     "text": [
      "   dc_id  quantity  vendibility  original_price  discount\n",
      "0      4       156            1            0.00      6.32\n"
     ]
    },
    {
     "data": {
      "text/plain": [
       "array([39])"
      ]
     },
     "execution_count": 14,
     "metadata": {},
     "output_type": "execute_result"
    },
    {
     "name": "stdout",
     "output_type": "stream",
     "text": [
      "   dc_id  quantity  vendibility  original_price  discount\n",
      "0      3        57            1            0.00      6.25\n"
     ]
    },
    {
     "data": {
      "text/plain": [
       "array([39])"
      ]
     },
     "execution_count": 14,
     "metadata": {},
     "output_type": "execute_result"
    },
    {
     "name": "stdout",
     "output_type": "stream",
     "text": [
      "   dc_id  quantity  vendibility  original_price  discount\n",
      "0      1        92            1            0.00      6.47\n"
     ]
    },
    {
     "data": {
      "text/plain": [
       "array([39])"
      ]
     },
     "execution_count": 14,
     "metadata": {},
     "output_type": "execute_result"
    },
    {
     "name": "stdout",
     "output_type": "stream",
     "text": [
      "   dc_id  quantity  vendibility  original_price  discount\n",
      "0      2         2            1            0.00      7.89\n"
     ]
    },
    {
     "data": {
      "text/plain": [
       "array([39])"
      ]
     },
     "execution_count": 14,
     "metadata": {},
     "output_type": "execute_result"
    },
    {
     "name": "stdout",
     "output_type": "stream",
     "text": [
      "   dc_id  quantity  vendibility  original_price  discount\n",
      "0      0         6            1            0.01      4.94\n"
     ]
    },
    {
     "data": {
      "text/plain": [
       "array([39])"
      ]
     },
     "execution_count": 14,
     "metadata": {},
     "output_type": "execute_result"
    },
    {
     "name": "stdout",
     "output_type": "stream",
     "text": [
      "   dc_id  quantity  vendibility  original_price  discount\n",
      "0      0         2            1            0.12      8.80\n"
     ]
    },
    {
     "data": {
      "text/plain": [
       "array([39])"
      ]
     },
     "execution_count": 14,
     "metadata": {},
     "output_type": "execute_result"
    },
    {
     "name": "stdout",
     "output_type": "stream",
     "text": [
      "   dc_id  quantity  vendibility  original_price  discount\n",
      "0      0        12            1            0.00      3.11\n"
     ]
    },
    {
     "data": {
      "text/plain": [
       "array([39])"
      ]
     },
     "execution_count": 14,
     "metadata": {},
     "output_type": "execute_result"
    },
    {
     "name": "stdout",
     "output_type": "stream",
     "text": [
      "   dc_id  quantity  vendibility  original_price  discount\n",
      "0      1        95            1            0.00      6.02\n"
     ]
    },
    {
     "data": {
      "text/plain": [
       "array([39])"
      ]
     },
     "execution_count": 14,
     "metadata": {},
     "output_type": "execute_result"
    },
    {
     "name": "stdout",
     "output_type": "stream",
     "text": [
      "   dc_id  quantity  vendibility  original_price  discount\n",
      "0      4        55            1            0.00      6.11\n"
     ]
    },
    {
     "data": {
      "text/plain": [
       "array([39])"
      ]
     },
     "execution_count": 14,
     "metadata": {},
     "output_type": "execute_result"
    },
    {
     "name": "stdout",
     "output_type": "stream",
     "text": [
      "   dc_id  quantity  vendibility  original_price  discount\n",
      "0      2         2            0            0.12      8.80\n"
     ]
    },
    {
     "data": {
      "text/plain": [
       "array([39])"
      ]
     },
     "execution_count": 14,
     "metadata": {},
     "output_type": "execute_result"
    },
    {
     "name": "stdout",
     "output_type": "stream",
     "text": [
      "   dc_id  quantity  vendibility  original_price  discount\n",
      "0      0         8            1            0.00      3.97\n"
     ]
    },
    {
     "data": {
      "text/plain": [
       "array([39])"
      ]
     },
     "execution_count": 14,
     "metadata": {},
     "output_type": "execute_result"
    },
    {
     "name": "stdout",
     "output_type": "stream",
     "text": [
      "   dc_id  quantity  vendibility  original_price  discount\n",
      "0      0        16            1            0.00      3.80\n"
     ]
    },
    {
     "data": {
      "text/plain": [
       "array([39])"
      ]
     },
     "execution_count": 14,
     "metadata": {},
     "output_type": "execute_result"
    },
    {
     "name": "stdout",
     "output_type": "stream",
     "text": [
      "   dc_id  quantity  vendibility  original_price  discount\n",
      "0      0         1            1            0.00      7.89\n"
     ]
    },
    {
     "data": {
      "text/plain": [
       "array([39])"
      ]
     },
     "execution_count": 14,
     "metadata": {},
     "output_type": "execute_result"
    },
    {
     "name": "stdout",
     "output_type": "stream",
     "text": [
      "   dc_id  quantity  vendibility  original_price  discount\n",
      "0      2         1            0            0.00      3.04\n"
     ]
    },
    {
     "data": {
      "text/plain": [
       "array([39])"
      ]
     },
     "execution_count": 14,
     "metadata": {},
     "output_type": "execute_result"
    },
    {
     "name": "stdout",
     "output_type": "stream",
     "text": [
      "   dc_id  quantity  vendibility  original_price  discount\n",
      "0      4         1            0            0.00      5.07\n"
     ]
    },
    {
     "data": {
      "text/plain": [
       "array([39])"
      ]
     },
     "execution_count": 14,
     "metadata": {},
     "output_type": "execute_result"
    },
    {
     "name": "stdout",
     "output_type": "stream",
     "text": [
      "   dc_id  quantity  vendibility  original_price  discount\n",
      "0      3        66            1            0.00      6.78\n"
     ]
    },
    {
     "data": {
      "text/plain": [
       "array([39])"
      ]
     },
     "execution_count": 14,
     "metadata": {},
     "output_type": "execute_result"
    },
    {
     "name": "stdout",
     "output_type": "stream",
     "text": [
      "   dc_id  quantity  vendibility  original_price  discount\n",
      "0      3         1            1            0.01      4.94\n"
     ]
    },
    {
     "data": {
      "text/plain": [
       "array([39])"
      ]
     },
     "execution_count": 14,
     "metadata": {},
     "output_type": "execute_result"
    },
    {
     "name": "stdout",
     "output_type": "stream",
     "text": [
      "   dc_id  quantity  vendibility  original_price  discount\n",
      "0      2       151            1            0.00      6.44\n"
     ]
    },
    {
     "data": {
      "text/plain": [
       "array([39])"
      ]
     },
     "execution_count": 14,
     "metadata": {},
     "output_type": "execute_result"
    },
    {
     "name": "stdout",
     "output_type": "stream",
     "text": [
      "   dc_id  quantity  vendibility  original_price  discount\n",
      "0      0         2            1            0.00      2.70\n"
     ]
    },
    {
     "data": {
      "text/plain": [
       "array([39])"
      ]
     },
     "execution_count": 14,
     "metadata": {},
     "output_type": "execute_result"
    },
    {
     "name": "stdout",
     "output_type": "stream",
     "text": [
      "   dc_id  quantity  vendibility  original_price  discount\n",
      "0      1       109            1            0.00      6.20\n"
     ]
    },
    {
     "data": {
      "text/plain": [
       "array([39])"
      ]
     },
     "execution_count": 14,
     "metadata": {},
     "output_type": "execute_result"
    },
    {
     "name": "stdout",
     "output_type": "stream",
     "text": [
      "   dc_id  quantity  vendibility  original_price  discount\n",
      "0      1        61            1            0.00      6.38\n"
     ]
    },
    {
     "data": {
      "text/plain": [
       "array([39])"
      ]
     },
     "execution_count": 14,
     "metadata": {},
     "output_type": "execute_result"
    },
    {
     "name": "stdout",
     "output_type": "stream",
     "text": [
      "   dc_id  quantity  vendibility  original_price  discount\n",
      "0      0        10            1            0.01      5.20\n"
     ]
    },
    {
     "data": {
      "text/plain": [
       "array([39])"
      ]
     },
     "execution_count": 14,
     "metadata": {},
     "output_type": "execute_result"
    },
    {
     "name": "stdout",
     "output_type": "stream",
     "text": [
      "   dc_id  quantity  vendibility  original_price  discount\n",
      "0      2         2            0            0.00      3.04\n"
     ]
    },
    {
     "data": {
      "text/plain": [
       "array([39])"
      ]
     },
     "execution_count": 14,
     "metadata": {},
     "output_type": "execute_result"
    },
    {
     "name": "stdout",
     "output_type": "stream",
     "text": [
      "   dc_id  quantity  vendibility  original_price  discount\n",
      "0      3         2            0            0.12      9.35\n"
     ]
    },
    {
     "data": {
      "text/plain": [
       "array([39])"
      ]
     },
     "execution_count": 14,
     "metadata": {},
     "output_type": "execute_result"
    },
    {
     "name": "stdout",
     "output_type": "stream",
     "text": [
      "   dc_id  quantity  vendibility  original_price  discount\n",
      "0      0         4            1            0.01      4.94\n"
     ]
    },
    {
     "data": {
      "text/plain": [
       "array([39])"
      ]
     },
     "execution_count": 14,
     "metadata": {},
     "output_type": "execute_result"
    },
    {
     "name": "stdout",
     "output_type": "stream",
     "text": [
      "   dc_id  quantity  vendibility  original_price  discount\n",
      "0      0         2            1            0.01      8.32\n"
     ]
    },
    {
     "data": {
      "text/plain": [
       "array([39])"
      ]
     },
     "execution_count": 14,
     "metadata": {},
     "output_type": "execute_result"
    },
    {
     "name": "stdout",
     "output_type": "stream",
     "text": [
      "   dc_id  quantity  vendibility  original_price  discount\n",
      "0      4       207            1            0.00      6.51\n"
     ]
    },
    {
     "data": {
      "text/plain": [
       "array([39])"
      ]
     },
     "execution_count": 14,
     "metadata": {},
     "output_type": "execute_result"
    },
    {
     "name": "stdout",
     "output_type": "stream",
     "text": [
      "   dc_id  quantity  vendibility  original_price  discount\n",
      "0      1         4            0            0.00      3.80\n"
     ]
    },
    {
     "data": {
      "text/plain": [
       "array([39])"
      ]
     },
     "execution_count": 14,
     "metadata": {},
     "output_type": "execute_result"
    },
    {
     "name": "stdout",
     "output_type": "stream",
     "text": [
      "   dc_id  quantity  vendibility  original_price  discount\n",
      "0      2         1            0            0.01      4.12\n"
     ]
    },
    {
     "data": {
      "text/plain": [
       "array([39])"
      ]
     },
     "execution_count": 14,
     "metadata": {},
     "output_type": "execute_result"
    },
    {
     "name": "stdout",
     "output_type": "stream",
     "text": [
      "   dc_id  quantity  vendibility  original_price  discount\n",
      "0      0        13            1            0.01      4.94\n"
     ]
    },
    {
     "data": {
      "text/plain": [
       "array([39])"
      ]
     },
     "execution_count": 14,
     "metadata": {},
     "output_type": "execute_result"
    },
    {
     "name": "stdout",
     "output_type": "stream",
     "text": [
      "   dc_id  quantity  vendibility  original_price  discount\n",
      "0      0       168            1            0.00      6.24\n"
     ]
    },
    {
     "data": {
      "text/plain": [
       "array([39])"
      ]
     },
     "execution_count": 14,
     "metadata": {},
     "output_type": "execute_result"
    },
    {
     "name": "stdout",
     "output_type": "stream",
     "text": [
      "   dc_id  quantity  vendibility  original_price  discount\n",
      "0      3         3            1            0.01      4.94\n"
     ]
    },
    {
     "data": {
      "text/plain": [
       "array([39])"
      ]
     },
     "execution_count": 14,
     "metadata": {},
     "output_type": "execute_result"
    },
    {
     "name": "stdout",
     "output_type": "stream",
     "text": [
      "   dc_id  quantity  vendibility  original_price  discount\n",
      "0      0       154            1            0.00      6.16\n"
     ]
    },
    {
     "data": {
      "text/plain": [
       "array([39])"
      ]
     },
     "execution_count": 14,
     "metadata": {},
     "output_type": "execute_result"
    },
    {
     "name": "stdout",
     "output_type": "stream",
     "text": [
      "   dc_id  quantity  vendibility  original_price  discount\n",
      "0      3        79            1            0.00      6.62\n"
     ]
    },
    {
     "data": {
      "text/plain": [
       "array([39])"
      ]
     },
     "execution_count": 14,
     "metadata": {},
     "output_type": "execute_result"
    },
    {
     "name": "stdout",
     "output_type": "stream",
     "text": [
      "   dc_id  quantity  vendibility  original_price  discount\n",
      "0      5         6            0            0.01      4.12\n"
     ]
    },
    {
     "data": {
      "text/plain": [
       "array([39])"
      ]
     },
     "execution_count": 14,
     "metadata": {},
     "output_type": "execute_result"
    },
    {
     "name": "stdout",
     "output_type": "stream",
     "text": [
      "   dc_id  quantity  vendibility  original_price  discount\n",
      "0      5         1            1            0.01      4.94\n"
     ]
    },
    {
     "data": {
      "text/plain": [
       "array([39])"
      ]
     },
     "execution_count": 14,
     "metadata": {},
     "output_type": "execute_result"
    },
    {
     "name": "stdout",
     "output_type": "stream",
     "text": [
      "   dc_id  quantity  vendibility  original_price  discount\n",
      "0      2         1            1            0.01      8.32\n"
     ]
    },
    {
     "data": {
      "text/plain": [
       "array([39])"
      ]
     },
     "execution_count": 14,
     "metadata": {},
     "output_type": "execute_result"
    },
    {
     "name": "stdout",
     "output_type": "stream",
     "text": [
      "   dc_id  quantity  vendibility  original_price  discount\n",
      "0      0         1            0            0.01      4.12\n"
     ]
    },
    {
     "data": {
      "text/plain": [
       "array([39])"
      ]
     },
     "execution_count": 14,
     "metadata": {},
     "output_type": "execute_result"
    },
    {
     "name": "stdout",
     "output_type": "stream",
     "text": [
      "   dc_id  quantity  vendibility  original_price  discount\n",
      "0      3         1            1            0.01      8.32\n"
     ]
    },
    {
     "data": {
      "text/plain": [
       "array([39])"
      ]
     },
     "execution_count": 14,
     "metadata": {},
     "output_type": "execute_result"
    },
    {
     "name": "stdout",
     "output_type": "stream",
     "text": [
      "   dc_id  quantity  vendibility  original_price  discount\n",
      "0      4         1            1            0.00      7.89\n"
     ]
    },
    {
     "data": {
      "text/plain": [
       "array([39])"
      ]
     },
     "execution_count": 14,
     "metadata": {},
     "output_type": "execute_result"
    },
    {
     "name": "stdout",
     "output_type": "stream",
     "text": [
      "   dc_id  quantity  vendibility  original_price  discount\n",
      "0      4         1            0            0.11     10.00\n"
     ]
    },
    {
     "data": {
      "text/plain": [
       "array([39])"
      ]
     },
     "execution_count": 14,
     "metadata": {},
     "output_type": "execute_result"
    },
    {
     "name": "stdout",
     "output_type": "stream",
     "text": [
      "   dc_id  quantity  vendibility  original_price  discount\n",
      "0      4       133            1            0.00      6.02\n"
     ]
    },
    {
     "data": {
      "text/plain": [
       "array([39])"
      ]
     },
     "execution_count": 14,
     "metadata": {},
     "output_type": "execute_result"
    },
    {
     "name": "stdout",
     "output_type": "stream",
     "text": [
      "   dc_id  quantity  vendibility  original_price  discount\n",
      "0      2         2            1            0.00      4.96\n"
     ]
    },
    {
     "data": {
      "text/plain": [
       "array([39])"
      ]
     },
     "execution_count": 14,
     "metadata": {},
     "output_type": "execute_result"
    },
    {
     "name": "stdout",
     "output_type": "stream",
     "text": [
      "   dc_id  quantity  vendibility  original_price  discount\n",
      "0      3        70            1            0.00      6.05\n"
     ]
    },
    {
     "data": {
      "text/plain": [
       "array([39])"
      ]
     },
     "execution_count": 14,
     "metadata": {},
     "output_type": "execute_result"
    },
    {
     "name": "stdout",
     "output_type": "stream",
     "text": [
      "   dc_id  quantity  vendibility  original_price  discount\n",
      "0      0        13            1            0.01      4.94\n"
     ]
    },
    {
     "data": {
      "text/plain": [
       "array([39])"
      ]
     },
     "execution_count": 14,
     "metadata": {},
     "output_type": "execute_result"
    },
    {
     "name": "stdout",
     "output_type": "stream",
     "text": [
      "   dc_id  quantity  vendibility  original_price  discount\n",
      "0      1         4            1            0.01      8.39\n"
     ]
    },
    {
     "data": {
      "text/plain": [
       "array([39])"
      ]
     },
     "execution_count": 14,
     "metadata": {},
     "output_type": "execute_result"
    },
    {
     "name": "stdout",
     "output_type": "stream",
     "text": [
      "   dc_id  quantity  vendibility  original_price  discount\n",
      "0      4         1            0            0.01      4.12\n"
     ]
    },
    {
     "data": {
      "text/plain": [
       "array([39])"
      ]
     },
     "execution_count": 14,
     "metadata": {},
     "output_type": "execute_result"
    },
    {
     "name": "stdout",
     "output_type": "stream",
     "text": [
      "   dc_id  quantity  vendibility  original_price  discount\n",
      "0      0         7            0            0.01      4.49\n"
     ]
    },
    {
     "data": {
      "text/plain": [
       "array([39])"
      ]
     },
     "execution_count": 14,
     "metadata": {},
     "output_type": "execute_result"
    },
    {
     "name": "stdout",
     "output_type": "stream",
     "text": [
      "   dc_id  quantity  vendibility  original_price  discount\n",
      "0      0       225            1            0.00      6.14\n"
     ]
    },
    {
     "data": {
      "text/plain": [
       "array([39])"
      ]
     },
     "execution_count": 14,
     "metadata": {},
     "output_type": "execute_result"
    },
    {
     "name": "stdout",
     "output_type": "stream",
     "text": [
      "   dc_id  quantity  vendibility  original_price  discount\n",
      "0      4        81            1            0.00      6.14\n"
     ]
    },
    {
     "data": {
      "text/plain": [
       "array([39])"
      ]
     },
     "execution_count": 14,
     "metadata": {},
     "output_type": "execute_result"
    },
    {
     "name": "stdout",
     "output_type": "stream",
     "text": [
      "   dc_id  quantity  vendibility  original_price  discount\n",
      "0      0         3            1            0.12      8.80\n"
     ]
    },
    {
     "data": {
      "text/plain": [
       "array([39])"
      ]
     },
     "execution_count": 14,
     "metadata": {},
     "output_type": "execute_result"
    },
    {
     "name": "stdout",
     "output_type": "stream",
     "text": [
      "   dc_id  quantity  vendibility  original_price  discount\n",
      "0      0         1            0            0.01      4.12\n"
     ]
    },
    {
     "data": {
      "text/plain": [
       "array([39])"
      ]
     },
     "execution_count": 14,
     "metadata": {},
     "output_type": "execute_result"
    },
    {
     "name": "stdout",
     "output_type": "stream",
     "text": [
      "   dc_id  quantity  vendibility  original_price  discount\n",
      "0      0       161            1            0.00      6.46\n"
     ]
    },
    {
     "data": {
      "text/plain": [
       "array([39])"
      ]
     },
     "execution_count": 14,
     "metadata": {},
     "output_type": "execute_result"
    },
    {
     "name": "stdout",
     "output_type": "stream",
     "text": [
      "   dc_id  quantity  vendibility  original_price  discount\n",
      "0      4         4            0            0.01      4.94\n"
     ]
    },
    {
     "data": {
      "text/plain": [
       "array([39])"
      ]
     },
     "execution_count": 14,
     "metadata": {},
     "output_type": "execute_result"
    },
    {
     "name": "stdout",
     "output_type": "stream",
     "text": [
      "   dc_id  quantity  vendibility  original_price  discount\n",
      "0      1         2            1            0.01      4.94\n"
     ]
    },
    {
     "data": {
      "text/plain": [
       "array([39])"
      ]
     },
     "execution_count": 14,
     "metadata": {},
     "output_type": "execute_result"
    },
    {
     "name": "stdout",
     "output_type": "stream",
     "text": [
      "   dc_id  quantity  vendibility  original_price  discount\n",
      "0      1         2            1            0.01      8.32\n"
     ]
    },
    {
     "data": {
      "text/plain": [
       "array([39])"
      ]
     },
     "execution_count": 14,
     "metadata": {},
     "output_type": "execute_result"
    },
    {
     "name": "stdout",
     "output_type": "stream",
     "text": [
      "   dc_id  quantity  vendibility  original_price  discount\n",
      "0      4         1            0            0.12      8.80\n"
     ]
    },
    {
     "data": {
      "text/plain": [
       "array([39])"
      ]
     },
     "execution_count": 14,
     "metadata": {},
     "output_type": "execute_result"
    },
    {
     "name": "stdout",
     "output_type": "stream",
     "text": [
      "   dc_id  quantity  vendibility  original_price  discount\n",
      "0      2         2            1            0.00     10.00\n"
     ]
    },
    {
     "data": {
      "text/plain": [
       "array([39])"
      ]
     },
     "execution_count": 14,
     "metadata": {},
     "output_type": "execute_result"
    },
    {
     "name": "stdout",
     "output_type": "stream",
     "text": [
      "   dc_id  quantity  vendibility  original_price  discount\n",
      "0      2         2            0            0.01      4.12\n"
     ]
    },
    {
     "data": {
      "text/plain": [
       "array([39])"
      ]
     },
     "execution_count": 14,
     "metadata": {},
     "output_type": "execute_result"
    },
    {
     "name": "stdout",
     "output_type": "stream",
     "text": [
      "   dc_id  quantity  vendibility  original_price  discount\n",
      "0      1         8            1            0.01      4.94\n"
     ]
    },
    {
     "data": {
      "text/plain": [
       "array([39])"
      ]
     },
     "execution_count": 14,
     "metadata": {},
     "output_type": "execute_result"
    },
    {
     "name": "stdout",
     "output_type": "stream",
     "text": [
      "   dc_id  quantity  vendibility  original_price  discount\n",
      "0      3         4            1            0.01      4.94\n"
     ]
    },
    {
     "data": {
      "text/plain": [
       "array([39])"
      ]
     },
     "execution_count": 14,
     "metadata": {},
     "output_type": "execute_result"
    },
    {
     "name": "stdout",
     "output_type": "stream",
     "text": [
      "   dc_id  quantity  vendibility  original_price  discount\n",
      "0      1         1            1            0.01      8.32\n"
     ]
    },
    {
     "data": {
      "text/plain": [
       "array([39])"
      ]
     },
     "execution_count": 14,
     "metadata": {},
     "output_type": "execute_result"
    },
    {
     "name": "stdout",
     "output_type": "stream",
     "text": [
      "   dc_id  quantity  vendibility  original_price  discount\n",
      "0      5         0            0            0.01     10.00\n"
     ]
    },
    {
     "data": {
      "text/plain": [
       "array([39])"
      ]
     },
     "execution_count": 14,
     "metadata": {},
     "output_type": "execute_result"
    },
    {
     "name": "stdout",
     "output_type": "stream",
     "text": [
      "   dc_id  quantity  vendibility  original_price  discount\n",
      "0      1         2            1            0.12      8.80\n"
     ]
    },
    {
     "data": {
      "text/plain": [
       "array([39])"
      ]
     },
     "execution_count": 14,
     "metadata": {},
     "output_type": "execute_result"
    },
    {
     "name": "stdout",
     "output_type": "stream",
     "text": [
      "   dc_id  quantity  vendibility  original_price  discount\n",
      "0      1         1            1            0.01      4.94\n"
     ]
    },
    {
     "data": {
      "text/plain": [
       "array([39])"
      ]
     },
     "execution_count": 14,
     "metadata": {},
     "output_type": "execute_result"
    },
    {
     "name": "stdout",
     "output_type": "stream",
     "text": [
      "   dc_id  quantity  vendibility  original_price  discount\n",
      "0      3        78            1            0.00      6.23\n"
     ]
    },
    {
     "data": {
      "text/plain": [
       "array([39])"
      ]
     },
     "execution_count": 14,
     "metadata": {},
     "output_type": "execute_result"
    },
    {
     "name": "stdout",
     "output_type": "stream",
     "text": [
      "   dc_id  quantity  vendibility  original_price  discount\n",
      "0      2         1            0            0.00     10.00\n"
     ]
    },
    {
     "data": {
      "text/plain": [
       "array([39])"
      ]
     },
     "execution_count": 14,
     "metadata": {},
     "output_type": "execute_result"
    },
    {
     "name": "stdout",
     "output_type": "stream",
     "text": [
      "   dc_id  quantity  vendibility  original_price  discount\n",
      "0      2         5            0            0.01      5.49\n"
     ]
    },
    {
     "data": {
      "text/plain": [
       "array([39])"
      ]
     },
     "execution_count": 14,
     "metadata": {},
     "output_type": "execute_result"
    },
    {
     "name": "stdout",
     "output_type": "stream",
     "text": [
      "   dc_id  quantity  vendibility  original_price  discount\n",
      "0      4         2            0            0.00      2.87\n"
     ]
    },
    {
     "data": {
      "text/plain": [
       "array([39])"
      ]
     },
     "execution_count": 14,
     "metadata": {},
     "output_type": "execute_result"
    },
    {
     "name": "stdout",
     "output_type": "stream",
     "text": [
      "   dc_id  quantity  vendibility  original_price  discount\n",
      "0      2       175            1            0.00      7.32\n"
     ]
    },
    {
     "data": {
      "text/plain": [
       "array([39])"
      ]
     },
     "execution_count": 14,
     "metadata": {},
     "output_type": "execute_result"
    },
    {
     "name": "stdout",
     "output_type": "stream",
     "text": [
      "   dc_id  quantity  vendibility  original_price  discount\n",
      "0      0        15            1            0.00      3.45\n"
     ]
    },
    {
     "data": {
      "text/plain": [
       "array([39])"
      ]
     },
     "execution_count": 14,
     "metadata": {},
     "output_type": "execute_result"
    },
    {
     "name": "stdout",
     "output_type": "stream",
     "text": [
      "   dc_id  quantity  vendibility  original_price  discount\n",
      "0      1         2            1            0.00     10.00\n"
     ]
    },
    {
     "data": {
      "text/plain": [
       "array([39])"
      ]
     },
     "execution_count": 14,
     "metadata": {},
     "output_type": "execute_result"
    },
    {
     "name": "stdout",
     "output_type": "stream",
     "text": [
      "   dc_id  quantity  vendibility  original_price  discount\n",
      "0      1         3            1            0.11     10.00\n"
     ]
    },
    {
     "data": {
      "text/plain": [
       "array([39])"
      ]
     },
     "execution_count": 14,
     "metadata": {},
     "output_type": "execute_result"
    },
    {
     "name": "stdout",
     "output_type": "stream",
     "text": [
      "   dc_id  quantity  vendibility  original_price  discount\n",
      "0      3         1            1            0.01      4.94\n"
     ]
    },
    {
     "data": {
      "text/plain": [
       "array([39])"
      ]
     },
     "execution_count": 14,
     "metadata": {},
     "output_type": "execute_result"
    },
    {
     "name": "stdout",
     "output_type": "stream",
     "text": [
      "   dc_id  quantity  vendibility  original_price  discount\n",
      "0      2         4            1            0.01      4.94\n"
     ]
    },
    {
     "data": {
      "text/plain": [
       "array([39])"
      ]
     },
     "execution_count": 14,
     "metadata": {},
     "output_type": "execute_result"
    },
    {
     "name": "stdout",
     "output_type": "stream",
     "text": [
      "   dc_id  quantity  vendibility  original_price  discount\n",
      "0      3         1            1            0.01      8.39\n"
     ]
    },
    {
     "data": {
      "text/plain": [
       "array([39])"
      ]
     },
     "execution_count": 14,
     "metadata": {},
     "output_type": "execute_result"
    },
    {
     "name": "stdout",
     "output_type": "stream",
     "text": [
      "   dc_id  quantity  vendibility  original_price  discount\n",
      "0      2       119            1            0.00      6.32\n"
     ]
    },
    {
     "data": {
      "text/plain": [
       "array([39])"
      ]
     },
     "execution_count": 14,
     "metadata": {},
     "output_type": "execute_result"
    },
    {
     "name": "stdout",
     "output_type": "stream",
     "text": [
      "   dc_id  quantity  vendibility  original_price  discount\n",
      "0      1         2            0            0.01      4.12\n"
     ]
    },
    {
     "data": {
      "text/plain": [
       "array([39])"
      ]
     },
     "execution_count": 14,
     "metadata": {},
     "output_type": "execute_result"
    },
    {
     "name": "stdout",
     "output_type": "stream",
     "text": [
      "   dc_id  quantity  vendibility  original_price  discount\n",
      "0      3        77            1            0.00      6.40\n"
     ]
    },
    {
     "data": {
      "text/plain": [
       "array([39])"
      ]
     },
     "execution_count": 14,
     "metadata": {},
     "output_type": "execute_result"
    },
    {
     "name": "stdout",
     "output_type": "stream",
     "text": [
      "   dc_id  quantity  vendibility  original_price  discount\n",
      "0      2         4            0            0.12      8.80\n"
     ]
    },
    {
     "data": {
      "text/plain": [
       "array([39])"
      ]
     },
     "execution_count": 14,
     "metadata": {},
     "output_type": "execute_result"
    },
    {
     "name": "stdout",
     "output_type": "stream",
     "text": [
      "   dc_id  quantity  vendibility  original_price  discount\n",
      "0      1       121            1            0.00      6.48\n"
     ]
    },
    {
     "data": {
      "text/plain": [
       "array([39])"
      ]
     },
     "execution_count": 14,
     "metadata": {},
     "output_type": "execute_result"
    },
    {
     "name": "stdout",
     "output_type": "stream",
     "text": [
      "   dc_id  quantity  vendibility  original_price  discount\n",
      "0      0         4            1            0.01      8.39\n"
     ]
    },
    {
     "data": {
      "text/plain": [
       "array([39])"
      ]
     },
     "execution_count": 14,
     "metadata": {},
     "output_type": "execute_result"
    },
    {
     "name": "stdout",
     "output_type": "stream",
     "text": [
      "   dc_id  quantity  vendibility  original_price  discount\n",
      "0      4         4            1            0.01      4.94\n"
     ]
    },
    {
     "data": {
      "text/plain": [
       "array([39])"
      ]
     },
     "execution_count": 14,
     "metadata": {},
     "output_type": "execute_result"
    },
    {
     "name": "stdout",
     "output_type": "stream",
     "text": [
      "   dc_id  quantity  vendibility  original_price  discount\n",
      "0      0         7            1            0.11     10.00\n"
     ]
    },
    {
     "data": {
      "text/plain": [
       "array([39])"
      ]
     },
     "execution_count": 14,
     "metadata": {},
     "output_type": "execute_result"
    },
    {
     "name": "stdout",
     "output_type": "stream",
     "text": [
      "   dc_id  quantity  vendibility  original_price  discount\n",
      "0      3         1            0            0.00      2.84\n"
     ]
    },
    {
     "data": {
      "text/plain": [
       "array([39])"
      ]
     },
     "execution_count": 14,
     "metadata": {},
     "output_type": "execute_result"
    },
    {
     "name": "stdout",
     "output_type": "stream",
     "text": [
      "   dc_id  quantity  vendibility  original_price  discount\n",
      "0      1         5            1            0.01      4.94\n"
     ]
    },
    {
     "data": {
      "text/plain": [
       "array([39])"
      ]
     },
     "execution_count": 14,
     "metadata": {},
     "output_type": "execute_result"
    },
    {
     "name": "stdout",
     "output_type": "stream",
     "text": [
      "   dc_id  quantity  vendibility  original_price  discount\n",
      "0      4         1            0            0.11     10.00\n"
     ]
    },
    {
     "data": {
      "text/plain": [
       "array([39])"
      ]
     },
     "execution_count": 14,
     "metadata": {},
     "output_type": "execute_result"
    },
    {
     "name": "stdout",
     "output_type": "stream",
     "text": [
      "   dc_id  quantity  vendibility  original_price  discount\n",
      "0      0        10            1            0.00      2.84\n"
     ]
    },
    {
     "data": {
      "text/plain": [
       "array([39])"
      ]
     },
     "execution_count": 14,
     "metadata": {},
     "output_type": "execute_result"
    },
    {
     "name": "stdout",
     "output_type": "stream",
     "text": [
      "   dc_id  quantity  vendibility  original_price  discount\n",
      "0      2       139            1            0.00      7.18\n"
     ]
    },
    {
     "data": {
      "text/plain": [
       "array([39])"
      ]
     },
     "execution_count": 14,
     "metadata": {},
     "output_type": "execute_result"
    },
    {
     "name": "stdout",
     "output_type": "stream",
     "text": [
      "   dc_id  quantity  vendibility  original_price  discount\n",
      "0      2         4            0            0.12      8.75\n"
     ]
    },
    {
     "data": {
      "text/plain": [
       "array([39])"
      ]
     },
     "execution_count": 14,
     "metadata": {},
     "output_type": "execute_result"
    },
    {
     "name": "stdout",
     "output_type": "stream",
     "text": [
      "   dc_id  quantity  vendibility  original_price  discount\n",
      "0      1       109            1            0.00      6.38\n"
     ]
    },
    {
     "data": {
      "text/plain": [
       "array([39])"
      ]
     },
     "execution_count": 14,
     "metadata": {},
     "output_type": "execute_result"
    },
    {
     "name": "stdout",
     "output_type": "stream",
     "text": [
      "   dc_id  quantity  vendibility  original_price  discount\n",
      "0      0         2            1            0.12      8.80\n"
     ]
    },
    {
     "data": {
      "text/plain": [
       "array([39])"
      ]
     },
     "execution_count": 14,
     "metadata": {},
     "output_type": "execute_result"
    },
    {
     "name": "stdout",
     "output_type": "stream",
     "text": [
      "   dc_id  quantity  vendibility  original_price  discount\n",
      "0      0         6            1            0.00      2.93\n"
     ]
    },
    {
     "data": {
      "text/plain": [
       "array([39])"
      ]
     },
     "execution_count": 14,
     "metadata": {},
     "output_type": "execute_result"
    },
    {
     "name": "stdout",
     "output_type": "stream",
     "text": [
      "   dc_id  quantity  vendibility  original_price  discount\n",
      "0      5         1            0            0.00      5.74\n"
     ]
    },
    {
     "data": {
      "text/plain": [
       "array([39])"
      ]
     },
     "execution_count": 14,
     "metadata": {},
     "output_type": "execute_result"
    },
    {
     "name": "stdout",
     "output_type": "stream",
     "text": [
      "   dc_id  quantity  vendibility  original_price  discount\n",
      "0      0         1            0            0.01      4.12\n"
     ]
    },
    {
     "data": {
      "text/plain": [
       "array([39])"
      ]
     },
     "execution_count": 14,
     "metadata": {},
     "output_type": "execute_result"
    },
    {
     "name": "stdout",
     "output_type": "stream",
     "text": [
      "   dc_id  quantity  vendibility  original_price  discount\n",
      "0      0         1            1            0.00      5.79\n"
     ]
    },
    {
     "data": {
      "text/plain": [
       "array([39])"
      ]
     },
     "execution_count": 14,
     "metadata": {},
     "output_type": "execute_result"
    },
    {
     "name": "stdout",
     "output_type": "stream",
     "text": [
      "   dc_id  quantity  vendibility  original_price  discount\n",
      "0      4        87            1            0.00      6.62\n"
     ]
    },
    {
     "data": {
      "text/plain": [
       "array([39])"
      ]
     },
     "execution_count": 14,
     "metadata": {},
     "output_type": "execute_result"
    },
    {
     "name": "stdout",
     "output_type": "stream",
     "text": [
      "   dc_id  quantity  vendibility  original_price  discount\n",
      "0      0       156            1            0.00      6.85\n"
     ]
    },
    {
     "data": {
      "text/plain": [
       "array([39])"
      ]
     },
     "execution_count": 14,
     "metadata": {},
     "output_type": "execute_result"
    },
    {
     "name": "stdout",
     "output_type": "stream",
     "text": [
      "   dc_id  quantity  vendibility  original_price  discount\n",
      "0      1         2            0            0.00      2.70\n"
     ]
    },
    {
     "data": {
      "text/plain": [
       "array([39])"
      ]
     },
     "execution_count": 14,
     "metadata": {},
     "output_type": "execute_result"
    },
    {
     "name": "stdout",
     "output_type": "stream",
     "text": [
      "   dc_id  quantity  vendibility  original_price  discount\n",
      "0      2         2            1            0.01      8.39\n"
     ]
    },
    {
     "data": {
      "text/plain": [
       "array([39])"
      ]
     },
     "execution_count": 14,
     "metadata": {},
     "output_type": "execute_result"
    },
    {
     "name": "stdout",
     "output_type": "stream",
     "text": [
      "   dc_id  quantity  vendibility  original_price  discount\n",
      "0      3         3            0            0.12      8.80\n"
     ]
    },
    {
     "data": {
      "text/plain": [
       "array([39])"
      ]
     },
     "execution_count": 14,
     "metadata": {},
     "output_type": "execute_result"
    },
    {
     "name": "stdout",
     "output_type": "stream",
     "text": [
      "   dc_id  quantity  vendibility  original_price  discount\n",
      "0      3         1            1            0.01      8.39\n"
     ]
    },
    {
     "data": {
      "text/plain": [
       "array([39])"
      ]
     },
     "execution_count": 14,
     "metadata": {},
     "output_type": "execute_result"
    },
    {
     "name": "stdout",
     "output_type": "stream",
     "text": [
      "   dc_id  quantity  vendibility  original_price  discount\n",
      "0      4         6            0            0.01      4.94\n"
     ]
    },
    {
     "data": {
      "text/plain": [
       "array([39])"
      ]
     },
     "execution_count": 14,
     "metadata": {},
     "output_type": "execute_result"
    },
    {
     "name": "stdout",
     "output_type": "stream",
     "text": [
      "   dc_id  quantity  vendibility  original_price  discount\n",
      "0      3       163            1            0.00      6.51\n"
     ]
    },
    {
     "data": {
      "text/plain": [
       "array([39])"
      ]
     },
     "execution_count": 14,
     "metadata": {},
     "output_type": "execute_result"
    },
    {
     "name": "stdout",
     "output_type": "stream",
     "text": [
      "   dc_id  quantity  vendibility  original_price  discount\n",
      "0      2         2            0            0.12      8.80\n"
     ]
    },
    {
     "data": {
      "text/plain": [
       "array([39])"
      ]
     },
     "execution_count": 14,
     "metadata": {},
     "output_type": "execute_result"
    },
    {
     "name": "stdout",
     "output_type": "stream",
     "text": [
      "   dc_id  quantity  vendibility  original_price  discount\n",
      "0      1         5            1            0.01      4.94\n"
     ]
    },
    {
     "data": {
      "text/plain": [
       "array([39])"
      ]
     },
     "execution_count": 14,
     "metadata": {},
     "output_type": "execute_result"
    },
    {
     "name": "stdout",
     "output_type": "stream",
     "text": [
      "   dc_id  quantity  vendibility  original_price  discount\n",
      "0      0         1            0            0.01      4.12\n"
     ]
    },
    {
     "data": {
      "text/plain": [
       "array([39])"
      ]
     },
     "execution_count": 14,
     "metadata": {},
     "output_type": "execute_result"
    },
    {
     "name": "stdout",
     "output_type": "stream",
     "text": [
      "   dc_id  quantity  vendibility  original_price  discount\n",
      "0      2         3            0            0.00      2.93\n"
     ]
    },
    {
     "data": {
      "text/plain": [
       "array([39])"
      ]
     },
     "execution_count": 14,
     "metadata": {},
     "output_type": "execute_result"
    },
    {
     "name": "stdout",
     "output_type": "stream",
     "text": [
      "   dc_id  quantity  vendibility  original_price  discount\n",
      "0      2       155            1            0.00      7.82\n"
     ]
    },
    {
     "data": {
      "text/plain": [
       "array([39])"
      ]
     },
     "execution_count": 14,
     "metadata": {},
     "output_type": "execute_result"
    },
    {
     "name": "stdout",
     "output_type": "stream",
     "text": [
      "   dc_id  quantity  vendibility  original_price  discount\n",
      "0      5        57            1            0.00      6.03\n"
     ]
    },
    {
     "data": {
      "text/plain": [
       "array([39])"
      ]
     },
     "execution_count": 14,
     "metadata": {},
     "output_type": "execute_result"
    },
    {
     "name": "stdout",
     "output_type": "stream",
     "text": [
      "   dc_id  quantity  vendibility  original_price  discount\n",
      "0      3        33            1            0.00      6.68\n"
     ]
    },
    {
     "data": {
      "text/plain": [
       "array([39])"
      ]
     },
     "execution_count": 14,
     "metadata": {},
     "output_type": "execute_result"
    },
    {
     "name": "stdout",
     "output_type": "stream",
     "text": [
      "   dc_id  quantity  vendibility  original_price  discount\n",
      "0      1         4            1            0.12      9.16\n"
     ]
    },
    {
     "data": {
      "text/plain": [
       "array([39])"
      ]
     },
     "execution_count": 14,
     "metadata": {},
     "output_type": "execute_result"
    },
    {
     "name": "stdout",
     "output_type": "stream",
     "text": [
      "   dc_id  quantity  vendibility  original_price  discount\n",
      "0      1         1            0            0.12      8.80\n"
     ]
    },
    {
     "data": {
      "text/plain": [
       "array([39])"
      ]
     },
     "execution_count": 14,
     "metadata": {},
     "output_type": "execute_result"
    },
    {
     "name": "stdout",
     "output_type": "stream",
     "text": [
      "   dc_id  quantity  vendibility  original_price  discount\n",
      "0      3         1            0            0.01      4.12\n"
     ]
    },
    {
     "data": {
      "text/plain": [
       "array([39])"
      ]
     },
     "execution_count": 14,
     "metadata": {},
     "output_type": "execute_result"
    },
    {
     "name": "stdout",
     "output_type": "stream",
     "text": [
      "   dc_id  quantity  vendibility  original_price  discount\n",
      "0      3         1            0            0.12      8.80\n"
     ]
    },
    {
     "data": {
      "text/plain": [
       "array([39])"
      ]
     },
     "execution_count": 14,
     "metadata": {},
     "output_type": "execute_result"
    },
    {
     "name": "stdout",
     "output_type": "stream",
     "text": [
      "   dc_id  quantity  vendibility  original_price  discount\n",
      "0      4         2            1            0.12      8.80\n"
     ]
    },
    {
     "data": {
      "text/plain": [
       "array([39])"
      ]
     },
     "execution_count": 14,
     "metadata": {},
     "output_type": "execute_result"
    },
    {
     "name": "stdout",
     "output_type": "stream",
     "text": [
      "   dc_id  quantity  vendibility  original_price  discount\n",
      "0      1         3            1            0.01      8.32\n"
     ]
    },
    {
     "data": {
      "text/plain": [
       "array([39])"
      ]
     },
     "execution_count": 14,
     "metadata": {},
     "output_type": "execute_result"
    },
    {
     "name": "stdout",
     "output_type": "stream",
     "text": [
      "   dc_id  quantity  vendibility  original_price  discount\n",
      "0      1       107            1            0.00      6.04\n"
     ]
    },
    {
     "data": {
      "text/plain": [
       "array([39])"
      ]
     },
     "execution_count": 14,
     "metadata": {},
     "output_type": "execute_result"
    },
    {
     "name": "stdout",
     "output_type": "stream",
     "text": [
      "   dc_id  quantity  vendibility  original_price  discount\n",
      "0      3         0            1            0.00     10.00\n"
     ]
    },
    {
     "data": {
      "text/plain": [
       "array([39])"
      ]
     },
     "execution_count": 14,
     "metadata": {},
     "output_type": "execute_result"
    },
    {
     "name": "stdout",
     "output_type": "stream",
     "text": [
      "   dc_id  quantity  vendibility  original_price  discount\n",
      "0      2         1            0            0.00     10.00\n"
     ]
    },
    {
     "data": {
      "text/plain": [
       "array([39])"
      ]
     },
     "execution_count": 14,
     "metadata": {},
     "output_type": "execute_result"
    },
    {
     "name": "stdout",
     "output_type": "stream",
     "text": [
      "   dc_id  quantity  vendibility  original_price  discount\n",
      "0      1         3            1            0.01      4.94\n"
     ]
    },
    {
     "data": {
      "text/plain": [
       "array([39])"
      ]
     },
     "execution_count": 14,
     "metadata": {},
     "output_type": "execute_result"
    },
    {
     "name": "stdout",
     "output_type": "stream",
     "text": [
      "   dc_id  quantity  vendibility  original_price  discount\n",
      "0      3       131            1            0.00      6.14\n"
     ]
    },
    {
     "data": {
      "text/plain": [
       "array([39])"
      ]
     },
     "execution_count": 14,
     "metadata": {},
     "output_type": "execute_result"
    },
    {
     "name": "stdout",
     "output_type": "stream",
     "text": [
      "   dc_id  quantity  vendibility  original_price  discount\n",
      "0      4         5            1            0.01      4.94\n"
     ]
    }
   ],
   "source": [
    "sc = StandardScaler()\n",
    "data_student = pd.read_csv('student_test.csv')\n",
    "data_student = data_student.dropna()\n",
    "data_student = data_student.drop(columns = ['date','serial_number'], axis = 1)\n",
    "for ind in data_student.index:\n",
    "    if True:#data_student['discount'].isna().any():\n",
    "        pred_item = {\n",
    "            'dc_id':[data_student['dc_id'][ind]],\n",
    "            'quantity':[data_student['quantity'][ind]],\n",
    "            'vendibility':data_student['vendibility'][ind],\n",
    "            'original_price':data_student['original_price'][ind],\n",
    "            'discount':data_student['discount'][ind]\n",
    "        }\n",
    "        pred_item = pd.DataFrame(pred_item)\n",
    "        #sc.fit(pred_item)\n",
    "        #pred_item = sc.transform(pred_item)\n",
    "        #pred_item = pd.DataFrame(sc.transform(pred_item), columns = pred_item.columns)\n",
    "        #pred_item['dc_id'] = data_student['dc_id'][ind]\n",
    "        #pred_item['quantity'] = data_student['quantity'][ind]\n",
    "        #pred_item['vendibility'] = data_student['vendibility'][ind]\n",
    "    else:\n",
    "        pred_item['dc_id'] = data_student['dc_id'][ind]\n",
    "        pred_item['quantity'] = data_student['quantity'][ind]\n",
    "        pred_item['vendibility'] = data_student['vendibility'][ind]\n",
    "        pred_item['original_price'] = data_student['original_price'][ind]\n",
    "        pred_item['discount'] = data_student['discount'][ind]\n",
    "    model4.predict(pred_item)\n",
    "    print(pred_item)\n",
    "        "
   ]
  },
  {
   "cell_type": "code",
   "execution_count": null,
   "id": "45969c51",
   "metadata": {},
   "outputs": [],
   "source": []
  }
 ],
 "metadata": {
  "kernelspec": {
   "display_name": "Python 3 (ipykernel)",
   "language": "python",
   "name": "python3"
  },
  "language_info": {
   "codemirror_mode": {
    "name": "ipython",
    "version": 3
   },
   "file_extension": ".py",
   "mimetype": "text/x-python",
   "name": "python",
   "nbconvert_exporter": "python",
   "pygments_lexer": "ipython3",
   "version": "3.9.12"
  }
 },
 "nbformat": 4,
 "nbformat_minor": 5
}
