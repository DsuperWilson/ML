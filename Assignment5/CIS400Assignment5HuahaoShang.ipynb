{
 "cells": [
  {
   "cell_type": "code",
   "execution_count": 1,
   "id": "e936930e",
   "metadata": {},
   "outputs": [],
   "source": [
    "# Generic inputs for most ML tasks\n",
    "import pandas as pd\n",
    "import numpy as np\n",
    "import matplotlib.pyplot as plt\n",
    "from sklearn.model_selection import train_test_split\n",
    "from sklearn.linear_model import LinearRegression\n",
    "from sklearn.linear_model import Ridge\n",
    "from sklearn.linear_model import Lasso\n",
    "from sklearn import tree\n",
    "#import graphviz\n",
    "from sklearn.tree import DecisionTreeClassifier\n",
    "from sklearn.tree import DecisionTreeRegressor\n",
    "from sklearn.ensemble import BaggingRegressor\n",
    "from sklearn.ensemble import RandomForestRegressor\n",
    "from sklearn.ensemble import RandomForestClassifier\n",
    "from sklearn.ensemble import GradientBoostingRegressor\n",
    "\n",
    "pd.options.display.float_format = '{:,.2f}'.format\n",
    "\n",
    "# setup interactive notebook mode\n",
    "from IPython.core.interactiveshell import InteractiveShell\n",
    "InteractiveShell.ast_node_interactivity = \"all\"\n",
    "\n",
    "from IPython.display import display, HTML\n",
    "\n",
    "from sklearn.preprocessing import StandardScaler\n",
    "\n",
    "from sklearn.preprocessing import OneHotEncoder\n",
    "\n",
    "def get_ohe(df, col):\n",
    "    ohe = OneHotEncoder(drop='first', handle_unknown='error', sparse=False, dtype='int')\n",
    "    ohe.fit(df[[col]])\n",
    "    temp_df = pd.DataFrame(data=ohe.transform(df[[col]]), columns=ohe.get_feature_names())\n",
    "    # If you have a newer version, replace with columns=ohe.get_feature_names_out()\n",
    "    df.drop(columns=[col], axis=1, inplace=True)\n",
    "    df = pd.concat([df.reset_index(drop=True), temp_df], axis=1)\n",
    "    return df"
   ]
  },
  {
   "cell_type": "code",
   "execution_count": 2,
   "id": "5432ba3b",
   "metadata": {},
   "outputs": [
    {
     "data": {
      "text/html": [
       "<div>\n",
       "<style scoped>\n",
       "    .dataframe tbody tr th:only-of-type {\n",
       "        vertical-align: middle;\n",
       "    }\n",
       "\n",
       "    .dataframe tbody tr th {\n",
       "        vertical-align: top;\n",
       "    }\n",
       "\n",
       "    .dataframe thead th {\n",
       "        text-align: right;\n",
       "    }\n",
       "</style>\n",
       "<table border=\"1\" class=\"dataframe\">\n",
       "  <thead>\n",
       "    <tr style=\"text-align: right;\">\n",
       "      <th></th>\n",
       "      <th>id</th>\n",
       "      <th>College</th>\n",
       "      <th>Private</th>\n",
       "      <th>Apps</th>\n",
       "      <th>Accept</th>\n",
       "      <th>Enroll</th>\n",
       "      <th>Top10perc</th>\n",
       "      <th>Top25perc</th>\n",
       "      <th>F.Undergrad</th>\n",
       "      <th>P.Undergrad</th>\n",
       "      <th>Outstate</th>\n",
       "      <th>Room.Board</th>\n",
       "      <th>Books</th>\n",
       "      <th>Personal</th>\n",
       "      <th>PhD</th>\n",
       "      <th>Terminal</th>\n",
       "      <th>S.F.Ratio</th>\n",
       "      <th>perc.alumni</th>\n",
       "      <th>Expend</th>\n",
       "      <th>Grad.Rate</th>\n",
       "    </tr>\n",
       "  </thead>\n",
       "  <tbody>\n",
       "    <tr>\n",
       "      <th>0</th>\n",
       "      <td>0</td>\n",
       "      <td>Auburn University-Main Campus</td>\n",
       "      <td>No</td>\n",
       "      <td>7548</td>\n",
       "      <td>6791</td>\n",
       "      <td>3070</td>\n",
       "      <td>25</td>\n",
       "      <td>57</td>\n",
       "      <td>16262</td>\n",
       "      <td>1716</td>\n",
       "      <td>6300</td>\n",
       "      <td>3933</td>\n",
       "      <td>600</td>\n",
       "      <td>1908</td>\n",
       "      <td>85</td>\n",
       "      <td>91</td>\n",
       "      <td>16.70</td>\n",
       "      <td>18</td>\n",
       "      <td>6642</td>\n",
       "      <td>69</td>\n",
       "    </tr>\n",
       "    <tr>\n",
       "      <th>1</th>\n",
       "      <td>1</td>\n",
       "      <td>Baylor University</td>\n",
       "      <td>Yes</td>\n",
       "      <td>6075</td>\n",
       "      <td>5349</td>\n",
       "      <td>2367</td>\n",
       "      <td>34</td>\n",
       "      <td>66</td>\n",
       "      <td>9919</td>\n",
       "      <td>484</td>\n",
       "      <td>6450</td>\n",
       "      <td>3920</td>\n",
       "      <td>600</td>\n",
       "      <td>1346</td>\n",
       "      <td>71</td>\n",
       "      <td>76</td>\n",
       "      <td>18.50</td>\n",
       "      <td>38</td>\n",
       "      <td>7503</td>\n",
       "      <td>72</td>\n",
       "    </tr>\n",
       "    <tr>\n",
       "      <th>2</th>\n",
       "      <td>2</td>\n",
       "      <td>Boston University</td>\n",
       "      <td>Yes</td>\n",
       "      <td>20192</td>\n",
       "      <td>13007</td>\n",
       "      <td>3810</td>\n",
       "      <td>45</td>\n",
       "      <td>80</td>\n",
       "      <td>14971</td>\n",
       "      <td>3113</td>\n",
       "      <td>18420</td>\n",
       "      <td>6810</td>\n",
       "      <td>475</td>\n",
       "      <td>1025</td>\n",
       "      <td>80</td>\n",
       "      <td>81</td>\n",
       "      <td>11.90</td>\n",
       "      <td>16</td>\n",
       "      <td>16836</td>\n",
       "      <td>72</td>\n",
       "    </tr>\n",
       "    <tr>\n",
       "      <th>3</th>\n",
       "      <td>3</td>\n",
       "      <td>Bowling Green State University</td>\n",
       "      <td>No</td>\n",
       "      <td>9251</td>\n",
       "      <td>7333</td>\n",
       "      <td>3076</td>\n",
       "      <td>14</td>\n",
       "      <td>45</td>\n",
       "      <td>13699</td>\n",
       "      <td>1213</td>\n",
       "      <td>7452</td>\n",
       "      <td>3352</td>\n",
       "      <td>600</td>\n",
       "      <td>1700</td>\n",
       "      <td>81</td>\n",
       "      <td>89</td>\n",
       "      <td>21.10</td>\n",
       "      <td>14</td>\n",
       "      <td>6918</td>\n",
       "      <td>67</td>\n",
       "    </tr>\n",
       "    <tr>\n",
       "      <th>4</th>\n",
       "      <td>4</td>\n",
       "      <td>Brigham Young University at Provo</td>\n",
       "      <td>Yes</td>\n",
       "      <td>7365</td>\n",
       "      <td>5402</td>\n",
       "      <td>4615</td>\n",
       "      <td>48</td>\n",
       "      <td>82</td>\n",
       "      <td>27378</td>\n",
       "      <td>1253</td>\n",
       "      <td>2340</td>\n",
       "      <td>3580</td>\n",
       "      <td>860</td>\n",
       "      <td>1220</td>\n",
       "      <td>76</td>\n",
       "      <td>76</td>\n",
       "      <td>20.50</td>\n",
       "      <td>40</td>\n",
       "      <td>7916</td>\n",
       "      <td>33</td>\n",
       "    </tr>\n",
       "  </tbody>\n",
       "</table>\n",
       "</div>"
      ],
      "text/plain": [
       "   id                            College Private   Apps  Accept  Enroll  \\\n",
       "0   0      Auburn University-Main Campus      No   7548    6791    3070   \n",
       "1   1                  Baylor University     Yes   6075    5349    2367   \n",
       "2   2                  Boston University     Yes  20192   13007    3810   \n",
       "3   3     Bowling Green State University      No   9251    7333    3076   \n",
       "4   4  Brigham Young University at Provo     Yes   7365    5402    4615   \n",
       "\n",
       "   Top10perc  Top25perc  F.Undergrad  P.Undergrad  Outstate  Room.Board  \\\n",
       "0         25         57        16262         1716      6300        3933   \n",
       "1         34         66         9919          484      6450        3920   \n",
       "2         45         80        14971         3113     18420        6810   \n",
       "3         14         45        13699         1213      7452        3352   \n",
       "4         48         82        27378         1253      2340        3580   \n",
       "\n",
       "   Books  Personal  PhD  Terminal  S.F.Ratio  perc.alumni  Expend  Grad.Rate  \n",
       "0    600      1908   85        91      16.70           18    6642         69  \n",
       "1    600      1346   71        76      18.50           38    7503         72  \n",
       "2    475      1025   80        81      11.90           16   16836         72  \n",
       "3    600      1700   81        89      21.10           14    6918         67  \n",
       "4    860      1220   76        76      20.50           40    7916         33  "
      ]
     },
     "execution_count": 2,
     "metadata": {},
     "output_type": "execute_result"
    },
    {
     "data": {
      "text/html": [
       "<div>\n",
       "<style scoped>\n",
       "    .dataframe tbody tr th:only-of-type {\n",
       "        vertical-align: middle;\n",
       "    }\n",
       "\n",
       "    .dataframe tbody tr th {\n",
       "        vertical-align: top;\n",
       "    }\n",
       "\n",
       "    .dataframe thead th {\n",
       "        text-align: right;\n",
       "    }\n",
       "</style>\n",
       "<table border=\"1\" class=\"dataframe\">\n",
       "  <thead>\n",
       "    <tr style=\"text-align: right;\">\n",
       "      <th></th>\n",
       "      <th>Apps</th>\n",
       "      <th>Accept</th>\n",
       "      <th>Enroll</th>\n",
       "      <th>Top10perc</th>\n",
       "      <th>Top25perc</th>\n",
       "      <th>F.Undergrad</th>\n",
       "      <th>P.Undergrad</th>\n",
       "      <th>Outstate</th>\n",
       "      <th>Room.Board</th>\n",
       "      <th>Books</th>\n",
       "      <th>Personal</th>\n",
       "      <th>PhD</th>\n",
       "      <th>Terminal</th>\n",
       "      <th>S.F.Ratio</th>\n",
       "      <th>perc.alumni</th>\n",
       "      <th>Expend</th>\n",
       "      <th>Grad.Rate</th>\n",
       "    </tr>\n",
       "  </thead>\n",
       "  <tbody>\n",
       "    <tr>\n",
       "      <th>0</th>\n",
       "      <td>7548</td>\n",
       "      <td>6791</td>\n",
       "      <td>3070</td>\n",
       "      <td>25</td>\n",
       "      <td>57</td>\n",
       "      <td>16262</td>\n",
       "      <td>1716</td>\n",
       "      <td>6300</td>\n",
       "      <td>3933</td>\n",
       "      <td>600</td>\n",
       "      <td>1908</td>\n",
       "      <td>85</td>\n",
       "      <td>91</td>\n",
       "      <td>16.70</td>\n",
       "      <td>18</td>\n",
       "      <td>6642</td>\n",
       "      <td>69</td>\n",
       "    </tr>\n",
       "    <tr>\n",
       "      <th>1</th>\n",
       "      <td>6075</td>\n",
       "      <td>5349</td>\n",
       "      <td>2367</td>\n",
       "      <td>34</td>\n",
       "      <td>66</td>\n",
       "      <td>9919</td>\n",
       "      <td>484</td>\n",
       "      <td>6450</td>\n",
       "      <td>3920</td>\n",
       "      <td>600</td>\n",
       "      <td>1346</td>\n",
       "      <td>71</td>\n",
       "      <td>76</td>\n",
       "      <td>18.50</td>\n",
       "      <td>38</td>\n",
       "      <td>7503</td>\n",
       "      <td>72</td>\n",
       "    </tr>\n",
       "    <tr>\n",
       "      <th>2</th>\n",
       "      <td>20192</td>\n",
       "      <td>13007</td>\n",
       "      <td>3810</td>\n",
       "      <td>45</td>\n",
       "      <td>80</td>\n",
       "      <td>14971</td>\n",
       "      <td>3113</td>\n",
       "      <td>18420</td>\n",
       "      <td>6810</td>\n",
       "      <td>475</td>\n",
       "      <td>1025</td>\n",
       "      <td>80</td>\n",
       "      <td>81</td>\n",
       "      <td>11.90</td>\n",
       "      <td>16</td>\n",
       "      <td>16836</td>\n",
       "      <td>72</td>\n",
       "    </tr>\n",
       "    <tr>\n",
       "      <th>3</th>\n",
       "      <td>9251</td>\n",
       "      <td>7333</td>\n",
       "      <td>3076</td>\n",
       "      <td>14</td>\n",
       "      <td>45</td>\n",
       "      <td>13699</td>\n",
       "      <td>1213</td>\n",
       "      <td>7452</td>\n",
       "      <td>3352</td>\n",
       "      <td>600</td>\n",
       "      <td>1700</td>\n",
       "      <td>81</td>\n",
       "      <td>89</td>\n",
       "      <td>21.10</td>\n",
       "      <td>14</td>\n",
       "      <td>6918</td>\n",
       "      <td>67</td>\n",
       "    </tr>\n",
       "    <tr>\n",
       "      <th>4</th>\n",
       "      <td>7365</td>\n",
       "      <td>5402</td>\n",
       "      <td>4615</td>\n",
       "      <td>48</td>\n",
       "      <td>82</td>\n",
       "      <td>27378</td>\n",
       "      <td>1253</td>\n",
       "      <td>2340</td>\n",
       "      <td>3580</td>\n",
       "      <td>860</td>\n",
       "      <td>1220</td>\n",
       "      <td>76</td>\n",
       "      <td>76</td>\n",
       "      <td>20.50</td>\n",
       "      <td>40</td>\n",
       "      <td>7916</td>\n",
       "      <td>33</td>\n",
       "    </tr>\n",
       "  </tbody>\n",
       "</table>\n",
       "</div>"
      ],
      "text/plain": [
       "    Apps  Accept  Enroll  Top10perc  Top25perc  F.Undergrad  P.Undergrad  \\\n",
       "0   7548    6791    3070         25         57        16262         1716   \n",
       "1   6075    5349    2367         34         66         9919          484   \n",
       "2  20192   13007    3810         45         80        14971         3113   \n",
       "3   9251    7333    3076         14         45        13699         1213   \n",
       "4   7365    5402    4615         48         82        27378         1253   \n",
       "\n",
       "   Outstate  Room.Board  Books  Personal  PhD  Terminal  S.F.Ratio  \\\n",
       "0      6300        3933    600      1908   85        91      16.70   \n",
       "1      6450        3920    600      1346   71        76      18.50   \n",
       "2     18420        6810    475      1025   80        81      11.90   \n",
       "3      7452        3352    600      1700   81        89      21.10   \n",
       "4      2340        3580    860      1220   76        76      20.50   \n",
       "\n",
       "   perc.alumni  Expend  Grad.Rate  \n",
       "0           18    6642         69  \n",
       "1           38    7503         72  \n",
       "2           16   16836         72  \n",
       "3           14    6918         67  \n",
       "4           40    7916         33  "
      ]
     },
     "execution_count": 2,
     "metadata": {},
     "output_type": "execute_result"
    },
    {
     "data": {
      "text/html": [
       "<div>\n",
       "<style scoped>\n",
       "    .dataframe tbody tr th:only-of-type {\n",
       "        vertical-align: middle;\n",
       "    }\n",
       "\n",
       "    .dataframe tbody tr th {\n",
       "        vertical-align: top;\n",
       "    }\n",
       "\n",
       "    .dataframe thead th {\n",
       "        text-align: right;\n",
       "    }\n",
       "</style>\n",
       "<table border=\"1\" class=\"dataframe\">\n",
       "  <thead>\n",
       "    <tr style=\"text-align: right;\">\n",
       "      <th></th>\n",
       "      <th>id</th>\n",
       "      <th>College</th>\n",
       "      <th>Private</th>\n",
       "      <th>Apps</th>\n",
       "      <th>Accept</th>\n",
       "      <th>Enroll</th>\n",
       "      <th>Top10perc</th>\n",
       "      <th>Top25perc</th>\n",
       "      <th>F.Undergrad</th>\n",
       "      <th>P.Undergrad</th>\n",
       "      <th>Outstate</th>\n",
       "      <th>Room.Board</th>\n",
       "      <th>Books</th>\n",
       "      <th>Personal</th>\n",
       "      <th>PhD</th>\n",
       "      <th>Terminal</th>\n",
       "      <th>S.F.Ratio</th>\n",
       "      <th>perc.alumni</th>\n",
       "      <th>Expend</th>\n",
       "      <th>Grad.Rate</th>\n",
       "    </tr>\n",
       "  </thead>\n",
       "  <tbody>\n",
       "    <tr>\n",
       "      <th>0</th>\n",
       "      <td>0</td>\n",
       "      <td>Auburn University-Main Campus</td>\n",
       "      <td>No</td>\n",
       "      <td>7548</td>\n",
       "      <td>6791</td>\n",
       "      <td>3070</td>\n",
       "      <td>25</td>\n",
       "      <td>57</td>\n",
       "      <td>16262</td>\n",
       "      <td>1716</td>\n",
       "      <td>6300</td>\n",
       "      <td>3933</td>\n",
       "      <td>600</td>\n",
       "      <td>1908</td>\n",
       "      <td>85</td>\n",
       "      <td>91</td>\n",
       "      <td>16.70</td>\n",
       "      <td>18</td>\n",
       "      <td>6642</td>\n",
       "      <td>69</td>\n",
       "    </tr>\n",
       "    <tr>\n",
       "      <th>1</th>\n",
       "      <td>1</td>\n",
       "      <td>Baylor University</td>\n",
       "      <td>Yes</td>\n",
       "      <td>6075</td>\n",
       "      <td>5349</td>\n",
       "      <td>2367</td>\n",
       "      <td>34</td>\n",
       "      <td>66</td>\n",
       "      <td>9919</td>\n",
       "      <td>484</td>\n",
       "      <td>6450</td>\n",
       "      <td>3920</td>\n",
       "      <td>600</td>\n",
       "      <td>1346</td>\n",
       "      <td>71</td>\n",
       "      <td>76</td>\n",
       "      <td>18.50</td>\n",
       "      <td>38</td>\n",
       "      <td>7503</td>\n",
       "      <td>72</td>\n",
       "    </tr>\n",
       "    <tr>\n",
       "      <th>2</th>\n",
       "      <td>2</td>\n",
       "      <td>Boston University</td>\n",
       "      <td>Yes</td>\n",
       "      <td>20192</td>\n",
       "      <td>13007</td>\n",
       "      <td>3810</td>\n",
       "      <td>45</td>\n",
       "      <td>80</td>\n",
       "      <td>14971</td>\n",
       "      <td>3113</td>\n",
       "      <td>18420</td>\n",
       "      <td>6810</td>\n",
       "      <td>475</td>\n",
       "      <td>1025</td>\n",
       "      <td>80</td>\n",
       "      <td>81</td>\n",
       "      <td>11.90</td>\n",
       "      <td>16</td>\n",
       "      <td>16836</td>\n",
       "      <td>72</td>\n",
       "    </tr>\n",
       "    <tr>\n",
       "      <th>3</th>\n",
       "      <td>3</td>\n",
       "      <td>Bowling Green State University</td>\n",
       "      <td>No</td>\n",
       "      <td>9251</td>\n",
       "      <td>7333</td>\n",
       "      <td>3076</td>\n",
       "      <td>14</td>\n",
       "      <td>45</td>\n",
       "      <td>13699</td>\n",
       "      <td>1213</td>\n",
       "      <td>7452</td>\n",
       "      <td>3352</td>\n",
       "      <td>600</td>\n",
       "      <td>1700</td>\n",
       "      <td>81</td>\n",
       "      <td>89</td>\n",
       "      <td>21.10</td>\n",
       "      <td>14</td>\n",
       "      <td>6918</td>\n",
       "      <td>67</td>\n",
       "    </tr>\n",
       "    <tr>\n",
       "      <th>4</th>\n",
       "      <td>4</td>\n",
       "      <td>Brigham Young University at Provo</td>\n",
       "      <td>Yes</td>\n",
       "      <td>7365</td>\n",
       "      <td>5402</td>\n",
       "      <td>4615</td>\n",
       "      <td>48</td>\n",
       "      <td>82</td>\n",
       "      <td>27378</td>\n",
       "      <td>1253</td>\n",
       "      <td>2340</td>\n",
       "      <td>3580</td>\n",
       "      <td>860</td>\n",
       "      <td>1220</td>\n",
       "      <td>76</td>\n",
       "      <td>76</td>\n",
       "      <td>20.50</td>\n",
       "      <td>40</td>\n",
       "      <td>7916</td>\n",
       "      <td>33</td>\n",
       "    </tr>\n",
       "  </tbody>\n",
       "</table>\n",
       "</div>"
      ],
      "text/plain": [
       "   id                            College Private   Apps  Accept  Enroll  \\\n",
       "0   0      Auburn University-Main Campus      No   7548    6791    3070   \n",
       "1   1                  Baylor University     Yes   6075    5349    2367   \n",
       "2   2                  Boston University     Yes  20192   13007    3810   \n",
       "3   3     Bowling Green State University      No   9251    7333    3076   \n",
       "4   4  Brigham Young University at Provo     Yes   7365    5402    4615   \n",
       "\n",
       "   Top10perc  Top25perc  F.Undergrad  P.Undergrad  Outstate  Room.Board  \\\n",
       "0         25         57        16262         1716      6300        3933   \n",
       "1         34         66         9919          484      6450        3920   \n",
       "2         45         80        14971         3113     18420        6810   \n",
       "3         14         45        13699         1213      7452        3352   \n",
       "4         48         82        27378         1253      2340        3580   \n",
       "\n",
       "   Books  Personal  PhD  Terminal  S.F.Ratio  perc.alumni  Expend  Grad.Rate  \n",
       "0    600      1908   85        91      16.70           18    6642         69  \n",
       "1    600      1346   71        76      18.50           38    7503         72  \n",
       "2    475      1025   80        81      11.90           16   16836         72  \n",
       "3    600      1700   81        89      21.10           14    6918         67  \n",
       "4    860      1220   76        76      20.50           40    7916         33  "
      ]
     },
     "execution_count": 2,
     "metadata": {},
     "output_type": "execute_result"
    }
   ],
   "source": [
    "data = pd.read_csv('College_subset_islr.csv')\n",
    "data.head()\n",
    "sub_set = data.drop(columns = ['id','College','Private'],axis = 1)\n",
    "sub_set.head()\n",
    "data.head()\n",
    "\n",
    "\n",
    "#data.append(data_mit)\n",
    "#sub_set.append(data_mit)\n",
    "#print(sub_set)\n"
   ]
  },
  {
   "cell_type": "code",
   "execution_count": 3,
   "id": "3dce5285",
   "metadata": {},
   "outputs": [
    {
     "data": {
      "text/plain": [
       "2142.413043478261"
      ]
     },
     "execution_count": 3,
     "metadata": {},
     "output_type": "execute_result"
    },
    {
     "data": {
      "text/plain": [
       "1447.8218671291015"
      ]
     },
     "execution_count": 3,
     "metadata": {},
     "output_type": "execute_result"
    }
   ],
   "source": [
    "sub_set['Enroll'].mean()\n",
    "sub_set['Enroll'].std()"
   ]
  },
  {
   "cell_type": "code",
   "execution_count": 4,
   "id": "c9d760fe",
   "metadata": {},
   "outputs": [
    {
     "data": {
      "text/html": [
       "        <script type=\"text/javascript\">\n",
       "        window.PlotlyConfig = {MathJaxConfig: 'local'};\n",
       "        if (window.MathJax) {MathJax.Hub.Config({SVG: {font: \"STIX-Web\"}});}\n",
       "        if (typeof require !== 'undefined') {\n",
       "        require.undef(\"plotly\");\n",
       "        requirejs.config({\n",
       "            paths: {\n",
       "                'plotly': ['https://cdn.plot.ly/plotly-2.9.0.min']\n",
       "            }\n",
       "        });\n",
       "        require(['plotly'], function(Plotly) {\n",
       "            window._Plotly = Plotly;\n",
       "        });\n",
       "        }\n",
       "        </script>\n",
       "        "
      ]
     },
     "metadata": {},
     "output_type": "display_data"
    }
   ],
   "source": [
    "# define function to import viz libraries\n",
    "import plotly\n",
    "plotly.offline.init_notebook_mode(connected=True)\n",
    "from plotly.graph_objs import *\n",
    "from plotly import tools\n",
    "import plotly.graph_objects as go\n",
    "import seaborn as sns\n"
   ]
  },
  {
   "cell_type": "code",
   "execution_count": 5,
   "id": "9fa50ac6",
   "metadata": {},
   "outputs": [
    {
     "data": {
      "application/vnd.plotly.v1+json": {
       "config": {
        "linkText": "Export to plot.ly",
        "plotlyServerURL": "https://plot.ly",
        "showLink": false
       },
       "data": [
        {
         "type": "heatmap",
         "x": [
          "Apps",
          "Accept",
          "Enroll",
          "Top10perc",
          "Top25perc",
          "F.Undergrad",
          "P.Undergrad",
          "Outstate",
          "Room.Board",
          "Books",
          "Personal",
          "PhD",
          "Terminal",
          "S.F.Ratio",
          "perc.alumni",
          "Expend",
          "Grad.Rate"
         ],
         "y": [
          "Apps",
          "Accept",
          "Enroll",
          "Top10perc",
          "Top25perc",
          "F.Undergrad",
          "P.Undergrad",
          "Outstate",
          "Room.Board",
          "Books",
          "Personal",
          "PhD",
          "Terminal",
          "S.F.Ratio",
          "perc.alumni",
          "Expend",
          "Grad.Rate"
         ],
         "z": [
          [
           1,
           0.7737380534390699,
           0.6683360981953683,
           0.20876680713362128,
           0.21668796187898148,
           0.5719778775791612,
           0.16592040812611467,
           0.10174820213976593,
           0.23424269355915966,
           -0.13964209669634883,
           0.10647182885373088,
           0.12571744833382498,
           0.12135748085805324,
           0.025240554971562287,
           -0.021896750702823868,
           0.15275988142420188,
           0.22135965561772983
          ],
          [
           0.7737380534390699,
           1,
           0.858777114117989,
           -0.3090412423354588,
           -0.22372180554427892,
           0.7653206780784377,
           0.3635029955511915,
           -0.2831507447347069,
           -0.2009938783614418,
           -0.044578726186125725,
           0.15061465568170934,
           -0.21502410678127307,
           -0.19120949505514548,
           0.38052654386075135,
           -0.3688717680764144,
           -0.29300707668155357,
           -0.20261298128073754
          ],
          [
           0.6683360981953683,
           0.858777114117989,
           1,
           -0.29965532437678455,
           -0.21308641043701007,
           0.9691832036959372,
           0.4216399039715364,
           -0.5440154657938459,
           -0.4065329404358794,
           0.06334895648803814,
           0.3709988561948369,
           -0.2477896985550003,
           -0.2325619746914426,
           0.5503699354624816,
           -0.2902248498331966,
           -0.38757345745244054,
           -0.32554501063820424
          ],
          [
           0.20876680713362128,
           -0.3090412423354588,
           -0.29965532437678455,
           1,
           0.9376710346003967,
           -0.3279857986819215,
           -0.5055124879055785,
           0.6451078887535728,
           0.6756608398466104,
           -0.06620157898576307,
           -0.30851485042406085,
           0.6960983102080839,
           0.6124569691010545,
           -0.6000128430600328,
           0.7328560983068995,
           0.7093245583162553,
           0.7540223732386154
          ],
          [
           0.21668796187898148,
           -0.22372180554427892,
           -0.21308641043701007,
           0.9376710346003967,
           1,
           -0.24877743757054652,
           -0.5768047906298274,
           0.625118985268497,
           0.6516091284658193,
           -0.0826446120503483,
           -0.3552432077726119,
           0.5616241988554467,
           0.48961550366150997,
           -0.5788119592315312,
           0.7020405034096097,
           0.6537801359279035,
           0.730305003944375
          ],
          [
           0.5719778775791612,
           0.7653206780784377,
           0.9691832036959372,
           -0.3279857986819215,
           -0.24877743757054652,
           1,
           0.4823792504444329,
           -0.641695166704829,
           -0.4751681224169343,
           0.12569729800479656,
           0.46916702285611456,
           -0.2821108853061449,
           -0.24102712120333009,
           0.6117656991952318,
           -0.34965518949142727,
           -0.4412542202849001,
           -0.42036415056254994
          ],
          [
           0.16592040812611467,
           0.3635029955511915,
           0.4216399039715364,
           -0.5055124879055785,
           -0.5768047906298274,
           0.4823792504444329,
           1,
           -0.49368862142853315,
           -0.449115477959023,
           -0.02061818613819004,
           0.5809287624208326,
           -0.14027022306105288,
           -0.13545607451694536,
           0.44752340749144204,
           -0.5392370763200887,
           -0.3579500766879638,
           -0.5630743941493306
          ],
          [
           0.10174820213976593,
           -0.2831507447347069,
           -0.5440154657938459,
           0.6451078887535728,
           0.625118985268497,
           -0.641695166704829,
           -0.49368862142853315,
           1,
           0.8334767032643309,
           -0.2346755391896432,
           -0.5240048694037953,
           0.5964800773281732,
           0.5529994757943868,
           -0.8196731032996419,
           0.4971764282048235,
           0.7411937909427074,
           0.6884013305100508
          ],
          [
           0.23424269355915966,
           -0.2009938783614418,
           -0.4065329404358794,
           0.6756608398466104,
           0.6516091284658193,
           -0.4751681224169343,
           -0.449115477959023,
           0.8334767032643309,
           1,
           -0.18544184356547994,
           -0.46968134085431507,
           0.49211931137494513,
           0.46324655974203083,
           -0.7293836763728251,
           0.3951521766572631,
           0.7349734675687225,
           0.6298796485227023
          ],
          [
           -0.13964209669634883,
           -0.044578726186125725,
           0.06334895648803814,
           -0.06620157898576307,
           -0.0826446120503483,
           0.12569729800479656,
           -0.02061818613819004,
           -0.2346755391896432,
           -0.18544184356547994,
           1,
           0.21986743876990683,
           0.007749250866157235,
           0.03947245236198342,
           0.2495240437250749,
           -0.14024108783722133,
           -0.2606918929553244,
           -0.23854846141652133
          ],
          [
           0.10647182885373088,
           0.15061465568170934,
           0.3709988561948369,
           -0.30851485042406085,
           -0.3552432077726119,
           0.46916702285611456,
           0.5809287624208326,
           -0.5240048694037953,
           -0.46968134085431507,
           0.21986743876990683,
           1,
           -0.13071396490183174,
           -0.059563535825406876,
           0.27637720694554063,
           -0.3522765061068403,
           -0.27068650353910456,
           -0.4507281063868168
          ],
          [
           0.12571744833382498,
           -0.21502410678127307,
           -0.2477896985550003,
           0.6960983102080839,
           0.5616241988554467,
           -0.2821108853061449,
           -0.14027022306105288,
           0.5964800773281732,
           0.49211931137494513,
           0.007749250866157235,
           -0.13071396490183174,
           1,
           0.9220849140434648,
           -0.5693448863672484,
           0.3847291646950761,
           0.592122149365817,
           0.5462008829687764
          ],
          [
           0.12135748085805324,
           -0.19120949505514548,
           -0.2325619746914426,
           0.6124569691010545,
           0.48961550366150997,
           -0.24102712120333009,
           -0.13545607451694536,
           0.5529994757943868,
           0.46324655974203083,
           0.03947245236198342,
           -0.059563535825406876,
           0.9220849140434648,
           1,
           -0.4960624744580552,
           0.25702002508389427,
           0.5432258157031921,
           0.47503030863044626
          ],
          [
           0.025240554971562287,
           0.38052654386075135,
           0.5503699354624816,
           -0.6000128430600328,
           -0.5788119592315312,
           0.6117656991952318,
           0.44752340749144204,
           -0.8196731032996419,
           -0.7293836763728251,
           0.2495240437250749,
           0.27637720694554063,
           -0.5693448863672484,
           -0.4960624744580552,
           1,
           -0.4294398708785314,
           -0.7758648220146432,
           -0.5488650244166208
          ],
          [
           -0.021896750702823868,
           -0.3688717680764144,
           -0.2902248498331966,
           0.7328560983068995,
           0.7020405034096097,
           -0.34965518949142727,
           -0.5392370763200887,
           0.4971764282048235,
           0.3951521766572631,
           -0.14024108783722133,
           -0.3522765061068403,
           0.3847291646950761,
           0.25702002508389427,
           -0.4294398708785314,
           1,
           0.5975373416457409,
           0.6950730062803401
          ],
          [
           0.15275988142420188,
           -0.29300707668155357,
           -0.38757345745244054,
           0.7093245583162553,
           0.6537801359279035,
           -0.4412542202849001,
           -0.3579500766879638,
           0.7411937909427074,
           0.7349734675687225,
           -0.2606918929553244,
           -0.27068650353910456,
           0.592122149365817,
           0.5432258157031921,
           -0.7758648220146432,
           0.5975373416457409,
           1,
           0.6349100481880429
          ],
          [
           0.22135965561772983,
           -0.20261298128073754,
           -0.32554501063820424,
           0.7540223732386154,
           0.730305003944375,
           -0.42036415056254994,
           -0.5630743941493306,
           0.6884013305100508,
           0.6298796485227023,
           -0.23854846141652133,
           -0.4507281063868168,
           0.5462008829687764,
           0.47503030863044626,
           -0.5488650244166208,
           0.6950730062803401,
           0.6349100481880429,
           1
          ]
         ]
        }
       ],
       "layout": {
        "template": {
         "data": {
          "bar": [
           {
            "error_x": {
             "color": "#2a3f5f"
            },
            "error_y": {
             "color": "#2a3f5f"
            },
            "marker": {
             "line": {
              "color": "#E5ECF6",
              "width": 0.5
             },
             "pattern": {
              "fillmode": "overlay",
              "size": 10,
              "solidity": 0.2
             }
            },
            "type": "bar"
           }
          ],
          "barpolar": [
           {
            "marker": {
             "line": {
              "color": "#E5ECF6",
              "width": 0.5
             },
             "pattern": {
              "fillmode": "overlay",
              "size": 10,
              "solidity": 0.2
             }
            },
            "type": "barpolar"
           }
          ],
          "carpet": [
           {
            "aaxis": {
             "endlinecolor": "#2a3f5f",
             "gridcolor": "white",
             "linecolor": "white",
             "minorgridcolor": "white",
             "startlinecolor": "#2a3f5f"
            },
            "baxis": {
             "endlinecolor": "#2a3f5f",
             "gridcolor": "white",
             "linecolor": "white",
             "minorgridcolor": "white",
             "startlinecolor": "#2a3f5f"
            },
            "type": "carpet"
           }
          ],
          "choropleth": [
           {
            "colorbar": {
             "outlinewidth": 0,
             "ticks": ""
            },
            "type": "choropleth"
           }
          ],
          "contour": [
           {
            "colorbar": {
             "outlinewidth": 0,
             "ticks": ""
            },
            "colorscale": [
             [
              0,
              "#0d0887"
             ],
             [
              0.1111111111111111,
              "#46039f"
             ],
             [
              0.2222222222222222,
              "#7201a8"
             ],
             [
              0.3333333333333333,
              "#9c179e"
             ],
             [
              0.4444444444444444,
              "#bd3786"
             ],
             [
              0.5555555555555556,
              "#d8576b"
             ],
             [
              0.6666666666666666,
              "#ed7953"
             ],
             [
              0.7777777777777778,
              "#fb9f3a"
             ],
             [
              0.8888888888888888,
              "#fdca26"
             ],
             [
              1,
              "#f0f921"
             ]
            ],
            "type": "contour"
           }
          ],
          "contourcarpet": [
           {
            "colorbar": {
             "outlinewidth": 0,
             "ticks": ""
            },
            "type": "contourcarpet"
           }
          ],
          "heatmap": [
           {
            "colorbar": {
             "outlinewidth": 0,
             "ticks": ""
            },
            "colorscale": [
             [
              0,
              "#0d0887"
             ],
             [
              0.1111111111111111,
              "#46039f"
             ],
             [
              0.2222222222222222,
              "#7201a8"
             ],
             [
              0.3333333333333333,
              "#9c179e"
             ],
             [
              0.4444444444444444,
              "#bd3786"
             ],
             [
              0.5555555555555556,
              "#d8576b"
             ],
             [
              0.6666666666666666,
              "#ed7953"
             ],
             [
              0.7777777777777778,
              "#fb9f3a"
             ],
             [
              0.8888888888888888,
              "#fdca26"
             ],
             [
              1,
              "#f0f921"
             ]
            ],
            "type": "heatmap"
           }
          ],
          "heatmapgl": [
           {
            "colorbar": {
             "outlinewidth": 0,
             "ticks": ""
            },
            "colorscale": [
             [
              0,
              "#0d0887"
             ],
             [
              0.1111111111111111,
              "#46039f"
             ],
             [
              0.2222222222222222,
              "#7201a8"
             ],
             [
              0.3333333333333333,
              "#9c179e"
             ],
             [
              0.4444444444444444,
              "#bd3786"
             ],
             [
              0.5555555555555556,
              "#d8576b"
             ],
             [
              0.6666666666666666,
              "#ed7953"
             ],
             [
              0.7777777777777778,
              "#fb9f3a"
             ],
             [
              0.8888888888888888,
              "#fdca26"
             ],
             [
              1,
              "#f0f921"
             ]
            ],
            "type": "heatmapgl"
           }
          ],
          "histogram": [
           {
            "marker": {
             "pattern": {
              "fillmode": "overlay",
              "size": 10,
              "solidity": 0.2
             }
            },
            "type": "histogram"
           }
          ],
          "histogram2d": [
           {
            "colorbar": {
             "outlinewidth": 0,
             "ticks": ""
            },
            "colorscale": [
             [
              0,
              "#0d0887"
             ],
             [
              0.1111111111111111,
              "#46039f"
             ],
             [
              0.2222222222222222,
              "#7201a8"
             ],
             [
              0.3333333333333333,
              "#9c179e"
             ],
             [
              0.4444444444444444,
              "#bd3786"
             ],
             [
              0.5555555555555556,
              "#d8576b"
             ],
             [
              0.6666666666666666,
              "#ed7953"
             ],
             [
              0.7777777777777778,
              "#fb9f3a"
             ],
             [
              0.8888888888888888,
              "#fdca26"
             ],
             [
              1,
              "#f0f921"
             ]
            ],
            "type": "histogram2d"
           }
          ],
          "histogram2dcontour": [
           {
            "colorbar": {
             "outlinewidth": 0,
             "ticks": ""
            },
            "colorscale": [
             [
              0,
              "#0d0887"
             ],
             [
              0.1111111111111111,
              "#46039f"
             ],
             [
              0.2222222222222222,
              "#7201a8"
             ],
             [
              0.3333333333333333,
              "#9c179e"
             ],
             [
              0.4444444444444444,
              "#bd3786"
             ],
             [
              0.5555555555555556,
              "#d8576b"
             ],
             [
              0.6666666666666666,
              "#ed7953"
             ],
             [
              0.7777777777777778,
              "#fb9f3a"
             ],
             [
              0.8888888888888888,
              "#fdca26"
             ],
             [
              1,
              "#f0f921"
             ]
            ],
            "type": "histogram2dcontour"
           }
          ],
          "mesh3d": [
           {
            "colorbar": {
             "outlinewidth": 0,
             "ticks": ""
            },
            "type": "mesh3d"
           }
          ],
          "parcoords": [
           {
            "line": {
             "colorbar": {
              "outlinewidth": 0,
              "ticks": ""
             }
            },
            "type": "parcoords"
           }
          ],
          "pie": [
           {
            "automargin": true,
            "type": "pie"
           }
          ],
          "scatter": [
           {
            "marker": {
             "colorbar": {
              "outlinewidth": 0,
              "ticks": ""
             }
            },
            "type": "scatter"
           }
          ],
          "scatter3d": [
           {
            "line": {
             "colorbar": {
              "outlinewidth": 0,
              "ticks": ""
             }
            },
            "marker": {
             "colorbar": {
              "outlinewidth": 0,
              "ticks": ""
             }
            },
            "type": "scatter3d"
           }
          ],
          "scattercarpet": [
           {
            "marker": {
             "colorbar": {
              "outlinewidth": 0,
              "ticks": ""
             }
            },
            "type": "scattercarpet"
           }
          ],
          "scattergeo": [
           {
            "marker": {
             "colorbar": {
              "outlinewidth": 0,
              "ticks": ""
             }
            },
            "type": "scattergeo"
           }
          ],
          "scattergl": [
           {
            "marker": {
             "colorbar": {
              "outlinewidth": 0,
              "ticks": ""
             }
            },
            "type": "scattergl"
           }
          ],
          "scattermapbox": [
           {
            "marker": {
             "colorbar": {
              "outlinewidth": 0,
              "ticks": ""
             }
            },
            "type": "scattermapbox"
           }
          ],
          "scatterpolar": [
           {
            "marker": {
             "colorbar": {
              "outlinewidth": 0,
              "ticks": ""
             }
            },
            "type": "scatterpolar"
           }
          ],
          "scatterpolargl": [
           {
            "marker": {
             "colorbar": {
              "outlinewidth": 0,
              "ticks": ""
             }
            },
            "type": "scatterpolargl"
           }
          ],
          "scatterternary": [
           {
            "marker": {
             "colorbar": {
              "outlinewidth": 0,
              "ticks": ""
             }
            },
            "type": "scatterternary"
           }
          ],
          "surface": [
           {
            "colorbar": {
             "outlinewidth": 0,
             "ticks": ""
            },
            "colorscale": [
             [
              0,
              "#0d0887"
             ],
             [
              0.1111111111111111,
              "#46039f"
             ],
             [
              0.2222222222222222,
              "#7201a8"
             ],
             [
              0.3333333333333333,
              "#9c179e"
             ],
             [
              0.4444444444444444,
              "#bd3786"
             ],
             [
              0.5555555555555556,
              "#d8576b"
             ],
             [
              0.6666666666666666,
              "#ed7953"
             ],
             [
              0.7777777777777778,
              "#fb9f3a"
             ],
             [
              0.8888888888888888,
              "#fdca26"
             ],
             [
              1,
              "#f0f921"
             ]
            ],
            "type": "surface"
           }
          ],
          "table": [
           {
            "cells": {
             "fill": {
              "color": "#EBF0F8"
             },
             "line": {
              "color": "white"
             }
            },
            "header": {
             "fill": {
              "color": "#C8D4E3"
             },
             "line": {
              "color": "white"
             }
            },
            "type": "table"
           }
          ]
         },
         "layout": {
          "annotationdefaults": {
           "arrowcolor": "#2a3f5f",
           "arrowhead": 0,
           "arrowwidth": 1
          },
          "autotypenumbers": "strict",
          "coloraxis": {
           "colorbar": {
            "outlinewidth": 0,
            "ticks": ""
           }
          },
          "colorscale": {
           "diverging": [
            [
             0,
             "#8e0152"
            ],
            [
             0.1,
             "#c51b7d"
            ],
            [
             0.2,
             "#de77ae"
            ],
            [
             0.3,
             "#f1b6da"
            ],
            [
             0.4,
             "#fde0ef"
            ],
            [
             0.5,
             "#f7f7f7"
            ],
            [
             0.6,
             "#e6f5d0"
            ],
            [
             0.7,
             "#b8e186"
            ],
            [
             0.8,
             "#7fbc41"
            ],
            [
             0.9,
             "#4d9221"
            ],
            [
             1,
             "#276419"
            ]
           ],
           "sequential": [
            [
             0,
             "#0d0887"
            ],
            [
             0.1111111111111111,
             "#46039f"
            ],
            [
             0.2222222222222222,
             "#7201a8"
            ],
            [
             0.3333333333333333,
             "#9c179e"
            ],
            [
             0.4444444444444444,
             "#bd3786"
            ],
            [
             0.5555555555555556,
             "#d8576b"
            ],
            [
             0.6666666666666666,
             "#ed7953"
            ],
            [
             0.7777777777777778,
             "#fb9f3a"
            ],
            [
             0.8888888888888888,
             "#fdca26"
            ],
            [
             1,
             "#f0f921"
            ]
           ],
           "sequentialminus": [
            [
             0,
             "#0d0887"
            ],
            [
             0.1111111111111111,
             "#46039f"
            ],
            [
             0.2222222222222222,
             "#7201a8"
            ],
            [
             0.3333333333333333,
             "#9c179e"
            ],
            [
             0.4444444444444444,
             "#bd3786"
            ],
            [
             0.5555555555555556,
             "#d8576b"
            ],
            [
             0.6666666666666666,
             "#ed7953"
            ],
            [
             0.7777777777777778,
             "#fb9f3a"
            ],
            [
             0.8888888888888888,
             "#fdca26"
            ],
            [
             1,
             "#f0f921"
            ]
           ]
          },
          "colorway": [
           "#636efa",
           "#EF553B",
           "#00cc96",
           "#ab63fa",
           "#FFA15A",
           "#19d3f3",
           "#FF6692",
           "#B6E880",
           "#FF97FF",
           "#FECB52"
          ],
          "font": {
           "color": "#2a3f5f"
          },
          "geo": {
           "bgcolor": "white",
           "lakecolor": "white",
           "landcolor": "#E5ECF6",
           "showlakes": true,
           "showland": true,
           "subunitcolor": "white"
          },
          "hoverlabel": {
           "align": "left"
          },
          "hovermode": "closest",
          "mapbox": {
           "style": "light"
          },
          "paper_bgcolor": "white",
          "plot_bgcolor": "#E5ECF6",
          "polar": {
           "angularaxis": {
            "gridcolor": "white",
            "linecolor": "white",
            "ticks": ""
           },
           "bgcolor": "#E5ECF6",
           "radialaxis": {
            "gridcolor": "white",
            "linecolor": "white",
            "ticks": ""
           }
          },
          "scene": {
           "xaxis": {
            "backgroundcolor": "#E5ECF6",
            "gridcolor": "white",
            "gridwidth": 2,
            "linecolor": "white",
            "showbackground": true,
            "ticks": "",
            "zerolinecolor": "white"
           },
           "yaxis": {
            "backgroundcolor": "#E5ECF6",
            "gridcolor": "white",
            "gridwidth": 2,
            "linecolor": "white",
            "showbackground": true,
            "ticks": "",
            "zerolinecolor": "white"
           },
           "zaxis": {
            "backgroundcolor": "#E5ECF6",
            "gridcolor": "white",
            "gridwidth": 2,
            "linecolor": "white",
            "showbackground": true,
            "ticks": "",
            "zerolinecolor": "white"
           }
          },
          "shapedefaults": {
           "line": {
            "color": "#2a3f5f"
           }
          },
          "ternary": {
           "aaxis": {
            "gridcolor": "white",
            "linecolor": "white",
            "ticks": ""
           },
           "baxis": {
            "gridcolor": "white",
            "linecolor": "white",
            "ticks": ""
           },
           "bgcolor": "#E5ECF6",
           "caxis": {
            "gridcolor": "white",
            "linecolor": "white",
            "ticks": ""
           }
          },
          "title": {
           "x": 0.05
          },
          "xaxis": {
           "automargin": true,
           "gridcolor": "white",
           "linecolor": "white",
           "ticks": "",
           "title": {
            "standoff": 15
           },
           "zerolinecolor": "white",
           "zerolinewidth": 2
          },
          "yaxis": {
           "automargin": true,
           "gridcolor": "white",
           "linecolor": "white",
           "ticks": "",
           "title": {
            "standoff": 15
           },
           "zerolinecolor": "white",
           "zerolinewidth": 2
          }
         }
        }
       }
      },
      "text/html": [
       "<div>                            <div id=\"c82fe351-52cf-480f-9eac-d2f9e3671fe1\" class=\"plotly-graph-div\" style=\"height:525px; width:100%;\"></div>            <script type=\"text/javascript\">                require([\"plotly\"], function(Plotly) {                    window.PLOTLYENV=window.PLOTLYENV || {};                                    if (document.getElementById(\"c82fe351-52cf-480f-9eac-d2f9e3671fe1\")) {                    Plotly.newPlot(                        \"c82fe351-52cf-480f-9eac-d2f9e3671fe1\",                        [{\"x\":[\"Apps\",\"Accept\",\"Enroll\",\"Top10perc\",\"Top25perc\",\"F.Undergrad\",\"P.Undergrad\",\"Outstate\",\"Room.Board\",\"Books\",\"Personal\",\"PhD\",\"Terminal\",\"S.F.Ratio\",\"perc.alumni\",\"Expend\",\"Grad.Rate\"],\"y\":[\"Apps\",\"Accept\",\"Enroll\",\"Top10perc\",\"Top25perc\",\"F.Undergrad\",\"P.Undergrad\",\"Outstate\",\"Room.Board\",\"Books\",\"Personal\",\"PhD\",\"Terminal\",\"S.F.Ratio\",\"perc.alumni\",\"Expend\",\"Grad.Rate\"],\"z\":[[1.0,0.7737380534390699,0.6683360981953683,0.20876680713362128,0.21668796187898148,0.5719778775791612,0.16592040812611467,0.10174820213976593,0.23424269355915966,-0.13964209669634883,0.10647182885373088,0.12571744833382498,0.12135748085805324,0.025240554971562287,-0.021896750702823868,0.15275988142420188,0.22135965561772983],[0.7737380534390699,1.0,0.858777114117989,-0.3090412423354588,-0.22372180554427892,0.7653206780784377,0.3635029955511915,-0.2831507447347069,-0.2009938783614418,-0.044578726186125725,0.15061465568170934,-0.21502410678127307,-0.19120949505514548,0.38052654386075135,-0.3688717680764144,-0.29300707668155357,-0.20261298128073754],[0.6683360981953683,0.858777114117989,1.0,-0.29965532437678455,-0.21308641043701007,0.9691832036959372,0.4216399039715364,-0.5440154657938459,-0.4065329404358794,0.06334895648803814,0.3709988561948369,-0.2477896985550003,-0.2325619746914426,0.5503699354624816,-0.2902248498331966,-0.38757345745244054,-0.32554501063820424],[0.20876680713362128,-0.3090412423354588,-0.29965532437678455,1.0,0.9376710346003967,-0.3279857986819215,-0.5055124879055785,0.6451078887535728,0.6756608398466104,-0.06620157898576307,-0.30851485042406085,0.6960983102080839,0.6124569691010545,-0.6000128430600328,0.7328560983068995,0.7093245583162553,0.7540223732386154],[0.21668796187898148,-0.22372180554427892,-0.21308641043701007,0.9376710346003967,1.0,-0.24877743757054652,-0.5768047906298274,0.625118985268497,0.6516091284658193,-0.0826446120503483,-0.3552432077726119,0.5616241988554467,0.48961550366150997,-0.5788119592315312,0.7020405034096097,0.6537801359279035,0.730305003944375],[0.5719778775791612,0.7653206780784377,0.9691832036959372,-0.3279857986819215,-0.24877743757054652,1.0,0.4823792504444329,-0.641695166704829,-0.4751681224169343,0.12569729800479656,0.46916702285611456,-0.2821108853061449,-0.24102712120333009,0.6117656991952318,-0.34965518949142727,-0.4412542202849001,-0.42036415056254994],[0.16592040812611467,0.3635029955511915,0.4216399039715364,-0.5055124879055785,-0.5768047906298274,0.4823792504444329,1.0,-0.49368862142853315,-0.449115477959023,-0.02061818613819004,0.5809287624208326,-0.14027022306105288,-0.13545607451694536,0.44752340749144204,-0.5392370763200887,-0.3579500766879638,-0.5630743941493306],[0.10174820213976593,-0.2831507447347069,-0.5440154657938459,0.6451078887535728,0.625118985268497,-0.641695166704829,-0.49368862142853315,1.0,0.8334767032643309,-0.2346755391896432,-0.5240048694037953,0.5964800773281732,0.5529994757943868,-0.8196731032996419,0.4971764282048235,0.7411937909427074,0.6884013305100508],[0.23424269355915966,-0.2009938783614418,-0.4065329404358794,0.6756608398466104,0.6516091284658193,-0.4751681224169343,-0.449115477959023,0.8334767032643309,1.0,-0.18544184356547994,-0.46968134085431507,0.49211931137494513,0.46324655974203083,-0.7293836763728251,0.3951521766572631,0.7349734675687225,0.6298796485227023],[-0.13964209669634883,-0.044578726186125725,0.06334895648803814,-0.06620157898576307,-0.0826446120503483,0.12569729800479656,-0.02061818613819004,-0.2346755391896432,-0.18544184356547994,1.0,0.21986743876990683,0.007749250866157235,0.03947245236198342,0.2495240437250749,-0.14024108783722133,-0.2606918929553244,-0.23854846141652133],[0.10647182885373088,0.15061465568170934,0.3709988561948369,-0.30851485042406085,-0.3552432077726119,0.46916702285611456,0.5809287624208326,-0.5240048694037953,-0.46968134085431507,0.21986743876990683,1.0,-0.13071396490183174,-0.059563535825406876,0.27637720694554063,-0.3522765061068403,-0.27068650353910456,-0.4507281063868168],[0.12571744833382498,-0.21502410678127307,-0.2477896985550003,0.6960983102080839,0.5616241988554467,-0.2821108853061449,-0.14027022306105288,0.5964800773281732,0.49211931137494513,0.007749250866157235,-0.13071396490183174,1.0,0.9220849140434648,-0.5693448863672484,0.3847291646950761,0.592122149365817,0.5462008829687764],[0.12135748085805324,-0.19120949505514548,-0.2325619746914426,0.6124569691010545,0.48961550366150997,-0.24102712120333009,-0.13545607451694536,0.5529994757943868,0.46324655974203083,0.03947245236198342,-0.059563535825406876,0.9220849140434648,1.0,-0.4960624744580552,0.25702002508389427,0.5432258157031921,0.47503030863044626],[0.025240554971562287,0.38052654386075135,0.5503699354624816,-0.6000128430600328,-0.5788119592315312,0.6117656991952318,0.44752340749144204,-0.8196731032996419,-0.7293836763728251,0.2495240437250749,0.27637720694554063,-0.5693448863672484,-0.4960624744580552,1.0,-0.4294398708785314,-0.7758648220146432,-0.5488650244166208],[-0.021896750702823868,-0.3688717680764144,-0.2902248498331966,0.7328560983068995,0.7020405034096097,-0.34965518949142727,-0.5392370763200887,0.4971764282048235,0.3951521766572631,-0.14024108783722133,-0.3522765061068403,0.3847291646950761,0.25702002508389427,-0.4294398708785314,1.0,0.5975373416457409,0.6950730062803401],[0.15275988142420188,-0.29300707668155357,-0.38757345745244054,0.7093245583162553,0.6537801359279035,-0.4412542202849001,-0.3579500766879638,0.7411937909427074,0.7349734675687225,-0.2606918929553244,-0.27068650353910456,0.592122149365817,0.5432258157031921,-0.7758648220146432,0.5975373416457409,1.0,0.6349100481880429],[0.22135965561772983,-0.20261298128073754,-0.32554501063820424,0.7540223732386154,0.730305003944375,-0.42036415056254994,-0.5630743941493306,0.6884013305100508,0.6298796485227023,-0.23854846141652133,-0.4507281063868168,0.5462008829687764,0.47503030863044626,-0.5488650244166208,0.6950730062803401,0.6349100481880429,1.0]],\"type\":\"heatmap\"}],                        {\"template\":{\"data\":{\"barpolar\":[{\"marker\":{\"line\":{\"color\":\"#E5ECF6\",\"width\":0.5},\"pattern\":{\"fillmode\":\"overlay\",\"size\":10,\"solidity\":0.2}},\"type\":\"barpolar\"}],\"bar\":[{\"error_x\":{\"color\":\"#2a3f5f\"},\"error_y\":{\"color\":\"#2a3f5f\"},\"marker\":{\"line\":{\"color\":\"#E5ECF6\",\"width\":0.5},\"pattern\":{\"fillmode\":\"overlay\",\"size\":10,\"solidity\":0.2}},\"type\":\"bar\"}],\"carpet\":[{\"aaxis\":{\"endlinecolor\":\"#2a3f5f\",\"gridcolor\":\"white\",\"linecolor\":\"white\",\"minorgridcolor\":\"white\",\"startlinecolor\":\"#2a3f5f\"},\"baxis\":{\"endlinecolor\":\"#2a3f5f\",\"gridcolor\":\"white\",\"linecolor\":\"white\",\"minorgridcolor\":\"white\",\"startlinecolor\":\"#2a3f5f\"},\"type\":\"carpet\"}],\"choropleth\":[{\"colorbar\":{\"outlinewidth\":0,\"ticks\":\"\"},\"type\":\"choropleth\"}],\"contourcarpet\":[{\"colorbar\":{\"outlinewidth\":0,\"ticks\":\"\"},\"type\":\"contourcarpet\"}],\"contour\":[{\"colorbar\":{\"outlinewidth\":0,\"ticks\":\"\"},\"colorscale\":[[0.0,\"#0d0887\"],[0.1111111111111111,\"#46039f\"],[0.2222222222222222,\"#7201a8\"],[0.3333333333333333,\"#9c179e\"],[0.4444444444444444,\"#bd3786\"],[0.5555555555555556,\"#d8576b\"],[0.6666666666666666,\"#ed7953\"],[0.7777777777777778,\"#fb9f3a\"],[0.8888888888888888,\"#fdca26\"],[1.0,\"#f0f921\"]],\"type\":\"contour\"}],\"heatmapgl\":[{\"colorbar\":{\"outlinewidth\":0,\"ticks\":\"\"},\"colorscale\":[[0.0,\"#0d0887\"],[0.1111111111111111,\"#46039f\"],[0.2222222222222222,\"#7201a8\"],[0.3333333333333333,\"#9c179e\"],[0.4444444444444444,\"#bd3786\"],[0.5555555555555556,\"#d8576b\"],[0.6666666666666666,\"#ed7953\"],[0.7777777777777778,\"#fb9f3a\"],[0.8888888888888888,\"#fdca26\"],[1.0,\"#f0f921\"]],\"type\":\"heatmapgl\"}],\"heatmap\":[{\"colorbar\":{\"outlinewidth\":0,\"ticks\":\"\"},\"colorscale\":[[0.0,\"#0d0887\"],[0.1111111111111111,\"#46039f\"],[0.2222222222222222,\"#7201a8\"],[0.3333333333333333,\"#9c179e\"],[0.4444444444444444,\"#bd3786\"],[0.5555555555555556,\"#d8576b\"],[0.6666666666666666,\"#ed7953\"],[0.7777777777777778,\"#fb9f3a\"],[0.8888888888888888,\"#fdca26\"],[1.0,\"#f0f921\"]],\"type\":\"heatmap\"}],\"histogram2dcontour\":[{\"colorbar\":{\"outlinewidth\":0,\"ticks\":\"\"},\"colorscale\":[[0.0,\"#0d0887\"],[0.1111111111111111,\"#46039f\"],[0.2222222222222222,\"#7201a8\"],[0.3333333333333333,\"#9c179e\"],[0.4444444444444444,\"#bd3786\"],[0.5555555555555556,\"#d8576b\"],[0.6666666666666666,\"#ed7953\"],[0.7777777777777778,\"#fb9f3a\"],[0.8888888888888888,\"#fdca26\"],[1.0,\"#f0f921\"]],\"type\":\"histogram2dcontour\"}],\"histogram2d\":[{\"colorbar\":{\"outlinewidth\":0,\"ticks\":\"\"},\"colorscale\":[[0.0,\"#0d0887\"],[0.1111111111111111,\"#46039f\"],[0.2222222222222222,\"#7201a8\"],[0.3333333333333333,\"#9c179e\"],[0.4444444444444444,\"#bd3786\"],[0.5555555555555556,\"#d8576b\"],[0.6666666666666666,\"#ed7953\"],[0.7777777777777778,\"#fb9f3a\"],[0.8888888888888888,\"#fdca26\"],[1.0,\"#f0f921\"]],\"type\":\"histogram2d\"}],\"histogram\":[{\"marker\":{\"pattern\":{\"fillmode\":\"overlay\",\"size\":10,\"solidity\":0.2}},\"type\":\"histogram\"}],\"mesh3d\":[{\"colorbar\":{\"outlinewidth\":0,\"ticks\":\"\"},\"type\":\"mesh3d\"}],\"parcoords\":[{\"line\":{\"colorbar\":{\"outlinewidth\":0,\"ticks\":\"\"}},\"type\":\"parcoords\"}],\"pie\":[{\"automargin\":true,\"type\":\"pie\"}],\"scatter3d\":[{\"line\":{\"colorbar\":{\"outlinewidth\":0,\"ticks\":\"\"}},\"marker\":{\"colorbar\":{\"outlinewidth\":0,\"ticks\":\"\"}},\"type\":\"scatter3d\"}],\"scattercarpet\":[{\"marker\":{\"colorbar\":{\"outlinewidth\":0,\"ticks\":\"\"}},\"type\":\"scattercarpet\"}],\"scattergeo\":[{\"marker\":{\"colorbar\":{\"outlinewidth\":0,\"ticks\":\"\"}},\"type\":\"scattergeo\"}],\"scattergl\":[{\"marker\":{\"colorbar\":{\"outlinewidth\":0,\"ticks\":\"\"}},\"type\":\"scattergl\"}],\"scattermapbox\":[{\"marker\":{\"colorbar\":{\"outlinewidth\":0,\"ticks\":\"\"}},\"type\":\"scattermapbox\"}],\"scatterpolargl\":[{\"marker\":{\"colorbar\":{\"outlinewidth\":0,\"ticks\":\"\"}},\"type\":\"scatterpolargl\"}],\"scatterpolar\":[{\"marker\":{\"colorbar\":{\"outlinewidth\":0,\"ticks\":\"\"}},\"type\":\"scatterpolar\"}],\"scatter\":[{\"marker\":{\"colorbar\":{\"outlinewidth\":0,\"ticks\":\"\"}},\"type\":\"scatter\"}],\"scatterternary\":[{\"marker\":{\"colorbar\":{\"outlinewidth\":0,\"ticks\":\"\"}},\"type\":\"scatterternary\"}],\"surface\":[{\"colorbar\":{\"outlinewidth\":0,\"ticks\":\"\"},\"colorscale\":[[0.0,\"#0d0887\"],[0.1111111111111111,\"#46039f\"],[0.2222222222222222,\"#7201a8\"],[0.3333333333333333,\"#9c179e\"],[0.4444444444444444,\"#bd3786\"],[0.5555555555555556,\"#d8576b\"],[0.6666666666666666,\"#ed7953\"],[0.7777777777777778,\"#fb9f3a\"],[0.8888888888888888,\"#fdca26\"],[1.0,\"#f0f921\"]],\"type\":\"surface\"}],\"table\":[{\"cells\":{\"fill\":{\"color\":\"#EBF0F8\"},\"line\":{\"color\":\"white\"}},\"header\":{\"fill\":{\"color\":\"#C8D4E3\"},\"line\":{\"color\":\"white\"}},\"type\":\"table\"}]},\"layout\":{\"annotationdefaults\":{\"arrowcolor\":\"#2a3f5f\",\"arrowhead\":0,\"arrowwidth\":1},\"autotypenumbers\":\"strict\",\"coloraxis\":{\"colorbar\":{\"outlinewidth\":0,\"ticks\":\"\"}},\"colorscale\":{\"diverging\":[[0,\"#8e0152\"],[0.1,\"#c51b7d\"],[0.2,\"#de77ae\"],[0.3,\"#f1b6da\"],[0.4,\"#fde0ef\"],[0.5,\"#f7f7f7\"],[0.6,\"#e6f5d0\"],[0.7,\"#b8e186\"],[0.8,\"#7fbc41\"],[0.9,\"#4d9221\"],[1,\"#276419\"]],\"sequential\":[[0.0,\"#0d0887\"],[0.1111111111111111,\"#46039f\"],[0.2222222222222222,\"#7201a8\"],[0.3333333333333333,\"#9c179e\"],[0.4444444444444444,\"#bd3786\"],[0.5555555555555556,\"#d8576b\"],[0.6666666666666666,\"#ed7953\"],[0.7777777777777778,\"#fb9f3a\"],[0.8888888888888888,\"#fdca26\"],[1.0,\"#f0f921\"]],\"sequentialminus\":[[0.0,\"#0d0887\"],[0.1111111111111111,\"#46039f\"],[0.2222222222222222,\"#7201a8\"],[0.3333333333333333,\"#9c179e\"],[0.4444444444444444,\"#bd3786\"],[0.5555555555555556,\"#d8576b\"],[0.6666666666666666,\"#ed7953\"],[0.7777777777777778,\"#fb9f3a\"],[0.8888888888888888,\"#fdca26\"],[1.0,\"#f0f921\"]]},\"colorway\":[\"#636efa\",\"#EF553B\",\"#00cc96\",\"#ab63fa\",\"#FFA15A\",\"#19d3f3\",\"#FF6692\",\"#B6E880\",\"#FF97FF\",\"#FECB52\"],\"font\":{\"color\":\"#2a3f5f\"},\"geo\":{\"bgcolor\":\"white\",\"lakecolor\":\"white\",\"landcolor\":\"#E5ECF6\",\"showlakes\":true,\"showland\":true,\"subunitcolor\":\"white\"},\"hoverlabel\":{\"align\":\"left\"},\"hovermode\":\"closest\",\"mapbox\":{\"style\":\"light\"},\"paper_bgcolor\":\"white\",\"plot_bgcolor\":\"#E5ECF6\",\"polar\":{\"angularaxis\":{\"gridcolor\":\"white\",\"linecolor\":\"white\",\"ticks\":\"\"},\"bgcolor\":\"#E5ECF6\",\"radialaxis\":{\"gridcolor\":\"white\",\"linecolor\":\"white\",\"ticks\":\"\"}},\"scene\":{\"xaxis\":{\"backgroundcolor\":\"#E5ECF6\",\"gridcolor\":\"white\",\"gridwidth\":2,\"linecolor\":\"white\",\"showbackground\":true,\"ticks\":\"\",\"zerolinecolor\":\"white\"},\"yaxis\":{\"backgroundcolor\":\"#E5ECF6\",\"gridcolor\":\"white\",\"gridwidth\":2,\"linecolor\":\"white\",\"showbackground\":true,\"ticks\":\"\",\"zerolinecolor\":\"white\"},\"zaxis\":{\"backgroundcolor\":\"#E5ECF6\",\"gridcolor\":\"white\",\"gridwidth\":2,\"linecolor\":\"white\",\"showbackground\":true,\"ticks\":\"\",\"zerolinecolor\":\"white\"}},\"shapedefaults\":{\"line\":{\"color\":\"#2a3f5f\"}},\"ternary\":{\"aaxis\":{\"gridcolor\":\"white\",\"linecolor\":\"white\",\"ticks\":\"\"},\"baxis\":{\"gridcolor\":\"white\",\"linecolor\":\"white\",\"ticks\":\"\"},\"bgcolor\":\"#E5ECF6\",\"caxis\":{\"gridcolor\":\"white\",\"linecolor\":\"white\",\"ticks\":\"\"}},\"title\":{\"x\":0.05},\"xaxis\":{\"automargin\":true,\"gridcolor\":\"white\",\"linecolor\":\"white\",\"ticks\":\"\",\"title\":{\"standoff\":15},\"zerolinecolor\":\"white\",\"zerolinewidth\":2},\"yaxis\":{\"automargin\":true,\"gridcolor\":\"white\",\"linecolor\":\"white\",\"ticks\":\"\",\"title\":{\"standoff\":15},\"zerolinecolor\":\"white\",\"zerolinewidth\":2}}}},                        {\"responsive\": true}                    ).then(function(){\n",
       "                            \n",
       "var gd = document.getElementById('c82fe351-52cf-480f-9eac-d2f9e3671fe1');\n",
       "var x = new MutationObserver(function (mutations, observer) {{\n",
       "        var display = window.getComputedStyle(gd).display;\n",
       "        if (!display || display === 'none') {{\n",
       "            console.log([gd, 'removed!']);\n",
       "            Plotly.purge(gd);\n",
       "            observer.disconnect();\n",
       "        }}\n",
       "}});\n",
       "\n",
       "// Listen for the removal of the full notebook cells\n",
       "var notebookContainer = gd.closest('#notebook-container');\n",
       "if (notebookContainer) {{\n",
       "    x.observe(notebookContainer, {childList: true});\n",
       "}}\n",
       "\n",
       "// Listen for the clearing of the current output cell\n",
       "var outputEl = gd.closest('.output');\n",
       "if (outputEl) {{\n",
       "    x.observe(outputEl, {childList: true});\n",
       "}}\n",
       "\n",
       "                        })                };                });            </script>        </div>"
      ]
     },
     "metadata": {},
     "output_type": "display_data"
    }
   ],
   "source": [
    "# correl = subset_data.corr()\n",
    "correl = sub_set.corr()\n",
    "\n",
    "trace = go.Heatmap(z=correl.values,\n",
    "                  x=correl.index.values,\n",
    "                  y=correl.columns.values)\n",
    "data1=[trace]\n",
    "plotly.offline.iplot(data1, filename='basic-heatmap')"
   ]
  },
  {
   "cell_type": "code",
   "execution_count": 6,
   "id": "7bfcf662",
   "metadata": {},
   "outputs": [
    {
     "data": {
      "text/plain": [
       "Index(['id', 'College', 'Private', 'Apps', 'Accept', 'Enroll', 'Top10perc',\n",
       "       'Top25perc', 'F.Undergrad', 'P.Undergrad', 'Outstate', 'Room.Board',\n",
       "       'Books', 'Personal', 'PhD', 'Terminal', 'S.F.Ratio', 'perc.alumni',\n",
       "       'Expend', 'Grad.Rate'],\n",
       "      dtype='object')"
      ]
     },
     "execution_count": 6,
     "metadata": {},
     "output_type": "execute_result"
    }
   ],
   "source": [
    "data.columns\n",
    "\n",
    "cols = ['Apps', 'Accept', 'Enroll', 'Top10perc', 'Top25perc', 'F.Undergrad',\n",
    "       'P.Undergrad', 'Outstate', 'Room.Board', 'Books', 'Personal', 'PhD',\n",
    "       'Terminal', 'S.F.Ratio', 'perc.alumni', 'Expend', 'Grad.Rate']\n",
    "from sklearn.preprocessing import StandardScaler\n",
    "sc = StandardScaler()\n",
    "\n",
    "data = pd.DataFrame(sc.fit_transform(data[cols]), columns = data[cols].columns, index = data.index)\n",
    "\n"
   ]
  },
  {
   "cell_type": "code",
   "execution_count": 7,
   "id": "35c31455",
   "metadata": {},
   "outputs": [],
   "source": [
    "# Check if PCA using SVD gives same results\n",
    "from sklearn.decomposition import PCA\n",
    "# initializing the PCA transformer\n",
    "pca = PCA(n_components = 3)\n",
    "# dimensionality reduction:\n",
    "data_pca = pd.DataFrame(pca.fit_transform(data), index = data.index)"
   ]
  },
  {
   "cell_type": "code",
   "execution_count": 8,
   "id": "87088e8c",
   "metadata": {},
   "outputs": [
    {
     "data": {
      "text/plain": [
       "[<matplotlib.lines.Line2D at 0x7fed3f838ac0>]"
      ]
     },
     "execution_count": 8,
     "metadata": {},
     "output_type": "execute_result"
    },
    {
     "name": "stdout",
     "output_type": "stream",
     "text": [
      "46\n"
     ]
    },
    {
     "data": {
      "text/plain": [
       "Text(-2.3122426163520333, 0.1269857086443777, '0')"
      ]
     },
     "execution_count": 8,
     "metadata": {},
     "output_type": "execute_result"
    },
    {
     "data": {
      "text/plain": [
       "Text(-1.9375537965282092, -1.3226055765463498, '1')"
      ]
     },
     "execution_count": 8,
     "metadata": {},
     "output_type": "execute_result"
    },
    {
     "data": {
      "text/plain": [
       "Text(-0.7237403731952929, 2.9513583952596307, '2')"
      ]
     },
     "execution_count": 8,
     "metadata": {},
     "output_type": "execute_result"
    },
    {
     "data": {
      "text/plain": [
       "Text(-3.012652212893119, -0.1736978477781916, '3')"
      ]
     },
     "execution_count": 8,
     "metadata": {},
     "output_type": "execute_result"
    },
    {
     "data": {
      "text/plain": [
       "Text(-3.431982099973633, 0.33310805049197223, '4')"
      ]
     },
     "execution_count": 8,
     "metadata": {},
     "output_type": "execute_result"
    },
    {
     "data": {
      "text/plain": [
       "Text(3.5539085208454604, 0.918893372134447, '5')"
      ]
     },
     "execution_count": 8,
     "metadata": {},
     "output_type": "execute_result"
    },
    {
     "data": {
      "text/plain": [
       "Text(-2.1601856297404196, -1.0122210521145742, '6')"
      ]
     },
     "execution_count": 8,
     "metadata": {},
     "output_type": "execute_result"
    },
    {
     "data": {
      "text/plain": [
       "Text(2.0467259843308767, -0.1348554714978398, '7')"
      ]
     },
     "execution_count": 8,
     "metadata": {},
     "output_type": "execute_result"
    },
    {
     "data": {
      "text/plain": [
       "Text(2.410261899498462, -0.9881036985566206, '8')"
      ]
     },
     "execution_count": 8,
     "metadata": {},
     "output_type": "execute_result"
    },
    {
     "data": {
      "text/plain": [
       "Text(-1.7792839662821964, -0.6048137893311836, '9')"
      ]
     },
     "execution_count": 8,
     "metadata": {},
     "output_type": "execute_result"
    },
    {
     "data": {
      "text/plain": [
       "Text(4.076449359883265, -0.25707407139794697, '10')"
      ]
     },
     "execution_count": 8,
     "metadata": {},
     "output_type": "execute_result"
    },
    {
     "data": {
      "text/plain": [
       "Text(-0.1488723943089386, -3.4026790961193596, '11')"
      ]
     },
     "execution_count": 8,
     "metadata": {},
     "output_type": "execute_result"
    },
    {
     "data": {
      "text/plain": [
       "Text(4.400402542720863, 0.27347977006745844, '12')"
      ]
     },
     "execution_count": 8,
     "metadata": {},
     "output_type": "execute_result"
    },
    {
     "data": {
      "text/plain": [
       "Text(3.265202235651306, -1.319441054395912, '13')"
      ]
     },
     "execution_count": 8,
     "metadata": {},
     "output_type": "execute_result"
    },
    {
     "data": {
      "text/plain": [
       "Text(3.75158276833075, 1.1730678173457678, '14')"
      ]
     },
     "execution_count": 8,
     "metadata": {},
     "output_type": "execute_result"
    },
    {
     "data": {
      "text/plain": [
       "Text(3.514219176013855, 0.4097629634905013, '15')"
      ]
     },
     "execution_count": 8,
     "metadata": {},
     "output_type": "execute_result"
    },
    {
     "data": {
      "text/plain": [
       "Text(0.039991797972128616, -2.550841612448273, '16')"
      ]
     },
     "execution_count": 8,
     "metadata": {},
     "output_type": "execute_result"
    },
    {
     "data": {
      "text/plain": [
       "Text(-2.1323917403671735, -1.2065843031230605, '17')"
      ]
     },
     "execution_count": 8,
     "metadata": {},
     "output_type": "execute_result"
    },
    {
     "data": {
      "text/plain": [
       "Text(1.0276822355794086, -0.47759590187353895, '18')"
      ]
     },
     "execution_count": 8,
     "metadata": {},
     "output_type": "execute_result"
    },
    {
     "data": {
      "text/plain": [
       "Text(2.6706900858336775, 0.3354675892999268, '19')"
      ]
     },
     "execution_count": 8,
     "metadata": {},
     "output_type": "execute_result"
    },
    {
     "data": {
      "text/plain": [
       "Text(0.38116928839581915, 0.15381223597741414, '20')"
      ]
     },
     "execution_count": 8,
     "metadata": {},
     "output_type": "execute_result"
    },
    {
     "data": {
      "text/plain": [
       "Text(-4.580036903611128, -1.9920466607624725, '21')"
      ]
     },
     "execution_count": 8,
     "metadata": {},
     "output_type": "execute_result"
    },
    {
     "data": {
      "text/plain": [
       "Text(4.083384680617272, 1.4495136023682798, '22')"
      ]
     },
     "execution_count": 8,
     "metadata": {},
     "output_type": "execute_result"
    },
    {
     "data": {
      "text/plain": [
       "Text(4.583120866800017, -1.1195012333058199, '23')"
      ]
     },
     "execution_count": 8,
     "metadata": {},
     "output_type": "execute_result"
    },
    {
     "data": {
      "text/plain": [
       "Text(0.5438095900462553, -2.6517474761398376, '24')"
      ]
     },
     "execution_count": 8,
     "metadata": {},
     "output_type": "execute_result"
    },
    {
     "data": {
      "text/plain": [
       "Text(-2.857015325128389, 0.36474270539438536, '25')"
      ]
     },
     "execution_count": 8,
     "metadata": {},
     "output_type": "execute_result"
    },
    {
     "data": {
      "text/plain": [
       "Text(4.558602406818283, 0.5407638674040087, '26')"
      ]
     },
     "execution_count": 8,
     "metadata": {},
     "output_type": "execute_result"
    },
    {
     "data": {
      "text/plain": [
       "Text(-3.482668600860083, -0.5344142664790359, '27')"
      ]
     },
     "execution_count": 8,
     "metadata": {},
     "output_type": "execute_result"
    },
    {
     "data": {
      "text/plain": [
       "Text(-2.7373477276284865, -1.1419679152308198, '28')"
      ]
     },
     "execution_count": 8,
     "metadata": {},
     "output_type": "execute_result"
    },
    {
     "data": {
      "text/plain": [
       "Text(-3.759625812164779, 4.617568089859503, '29')"
      ]
     },
     "execution_count": 8,
     "metadata": {},
     "output_type": "execute_result"
    },
    {
     "data": {
      "text/plain": [
       "Text(1.2684684735312621, -1.070891601601818, '30')"
      ]
     },
     "execution_count": 8,
     "metadata": {},
     "output_type": "execute_result"
    },
    {
     "data": {
      "text/plain": [
       "Text(-0.539770574132947, -0.18909103560436288, '31')"
      ]
     },
     "execution_count": 8,
     "metadata": {},
     "output_type": "execute_result"
    },
    {
     "data": {
      "text/plain": [
       "Text(-3.184519090397895, 3.7594895699917728, '32')"
      ]
     },
     "execution_count": 8,
     "metadata": {},
     "output_type": "execute_result"
    },
    {
     "data": {
      "text/plain": [
       "Text(1.9253283081175836, -0.14764264371476776, '33')"
      ]
     },
     "execution_count": 8,
     "metadata": {},
     "output_type": "execute_result"
    },
    {
     "data": {
      "text/plain": [
       "Text(0.2576725511620305, 3.4395113159391846, '34')"
      ]
     },
     "execution_count": 8,
     "metadata": {},
     "output_type": "execute_result"
    },
    {
     "data": {
      "text/plain": [
       "Text(-2.9466438997110607, -0.3678437283407913, '35')"
      ]
     },
     "execution_count": 8,
     "metadata": {},
     "output_type": "execute_result"
    },
    {
     "data": {
      "text/plain": [
       "Text(-2.178530652677918, -2.229506281080212, '36')"
      ]
     },
     "execution_count": 8,
     "metadata": {},
     "output_type": "execute_result"
    },
    {
     "data": {
      "text/plain": [
       "Text(-1.8965698856735023, -0.40255464711973954, '37')"
      ]
     },
     "execution_count": 8,
     "metadata": {},
     "output_type": "execute_result"
    },
    {
     "data": {
      "text/plain": [
       "Text(2.2152127019815104, 0.24423951202063698, '38')"
      ]
     },
     "execution_count": 8,
     "metadata": {},
     "output_type": "execute_result"
    },
    {
     "data": {
      "text/plain": [
       "Text(-2.55649742722317, -0.8989392306339014, '39')"
      ]
     },
     "execution_count": 8,
     "metadata": {},
     "output_type": "execute_result"
    },
    {
     "data": {
      "text/plain": [
       "Text(-2.45700064190994, -0.46524823362863293, '40')"
      ]
     },
     "execution_count": 8,
     "metadata": {},
     "output_type": "execute_result"
    },
    {
     "data": {
      "text/plain": [
       "Text(3.243889209783916, 1.7548259359056702, '41')"
      ]
     },
     "execution_count": 8,
     "metadata": {},
     "output_type": "execute_result"
    },
    {
     "data": {
      "text/plain": [
       "Text(-3.4585587844591608, 3.658507859975308, '42')"
      ]
     },
     "execution_count": 8,
     "metadata": {},
     "output_type": "execute_result"
    },
    {
     "data": {
      "text/plain": [
       "Text(-2.5425394245209394, 2.001499217868236, '43')"
      ]
     },
     "execution_count": 8,
     "metadata": {},
     "output_type": "execute_result"
    },
    {
     "data": {
      "text/plain": [
       "Text(4.402578954298989, 0.9241861533215298, '44')"
      ]
     },
     "execution_count": 8,
     "metadata": {},
     "output_type": "execute_result"
    },
    {
     "data": {
      "text/plain": [
       "Text(-1.4041240584725825, -2.7688753039349487, '45')"
      ]
     },
     "execution_count": 8,
     "metadata": {},
     "output_type": "execute_result"
    },
    {
     "data": {
      "image/png": "[encoded data removed]",
      "text/plain": [
       "<Figure size 432x288 with 1 Axes>"
      ]
     },
     "metadata": {
      "needs_background": "light"
     },
     "output_type": "display_data"
    }
   ],
   "source": [
    "plt.plot(data_pca[0],data_pca[1], 'ro', alpha = 0.5)\n",
    "print(len(data_pca))\n",
    "for i in range(len(data_pca)):\n",
    "    plt.text(data_pca.loc[i][0], data_pca.loc[i][1], str(i)) # cereal_data['name']) # \n",
    "\n",
    "plt.show()"
   ]
  },
  {
   "cell_type": "code",
   "execution_count": 9,
   "id": "c561ebf2",
   "metadata": {},
   "outputs": [
    {
     "data": {
      "text/html": [
       "<div>\n",
       "<style scoped>\n",
       "    .dataframe tbody tr th:only-of-type {\n",
       "        vertical-align: middle;\n",
       "    }\n",
       "\n",
       "    .dataframe tbody tr th {\n",
       "        vertical-align: top;\n",
       "    }\n",
       "\n",
       "    .dataframe thead th {\n",
       "        text-align: right;\n",
       "    }\n",
       "</style>\n",
       "<table border=\"1\" class=\"dataframe\">\n",
       "  <thead>\n",
       "    <tr style=\"text-align: right;\">\n",
       "      <th></th>\n",
       "      <th>id</th>\n",
       "      <th>College</th>\n",
       "      <th>Private</th>\n",
       "      <th>Apps</th>\n",
       "      <th>Accept</th>\n",
       "      <th>Enroll</th>\n",
       "      <th>Top10perc</th>\n",
       "      <th>Top25perc</th>\n",
       "      <th>F.Undergrad</th>\n",
       "      <th>P.Undergrad</th>\n",
       "      <th>Outstate</th>\n",
       "      <th>Room.Board</th>\n",
       "      <th>Books</th>\n",
       "      <th>Personal</th>\n",
       "      <th>PhD</th>\n",
       "      <th>Terminal</th>\n",
       "      <th>S.F.Ratio</th>\n",
       "      <th>perc.alumni</th>\n",
       "      <th>Expend</th>\n",
       "      <th>Grad.Rate</th>\n",
       "    </tr>\n",
       "  </thead>\n",
       "  <tbody>\n",
       "    <tr>\n",
       "      <th>0</th>\n",
       "      <td>0</td>\n",
       "      <td>Massachusetts Institute of Technology</td>\n",
       "      <td>Yes</td>\n",
       "      <td>6411</td>\n",
       "      <td>2140</td>\n",
       "      <td>1078</td>\n",
       "      <td>96</td>\n",
       "      <td>99</td>\n",
       "      <td>4481</td>\n",
       "      <td>28</td>\n",
       "      <td>20100</td>\n",
       "      <td>5975</td>\n",
       "      <td>725</td>\n",
       "      <td>1600</td>\n",
       "      <td>99</td>\n",
       "      <td>99</td>\n",
       "      <td>10.10</td>\n",
       "      <td>35</td>\n",
       "      <td>33541</td>\n",
       "      <td>94</td>\n",
       "    </tr>\n",
       "  </tbody>\n",
       "</table>\n",
       "</div>"
      ],
      "text/plain": [
       "   id                                College Private  Apps  Accept  Enroll  \\\n",
       "0   0  Massachusetts Institute of Technology     Yes  6411    2140    1078   \n",
       "\n",
       "   Top10perc  Top25perc  F.Undergrad  P.Undergrad  Outstate  Room.Board  \\\n",
       "0         96         99         4481           28     20100        5975   \n",
       "\n",
       "   Books  Personal  PhD  Terminal  S.F.Ratio  perc.alumni  Expend  Grad.Rate  \n",
       "0    725      1600   99        99      10.10           35   33541         94  "
      ]
     },
     "execution_count": 9,
     "metadata": {},
     "output_type": "execute_result"
    }
   ],
   "source": [
    "data_mit = pd.read_csv('MIT_from_islr.csv')\n",
    "data_mit.head()\n",
    "#data_mit = data_mit.drop(columns = ['id','College','Private'],axis = 1)\n"
   ]
  },
  {
   "cell_type": "code",
   "execution_count": 10,
   "id": "0df09b91",
   "metadata": {},
   "outputs": [
    {
     "data": {
      "text/html": [
       "<div>\n",
       "<style scoped>\n",
       "    .dataframe tbody tr th:only-of-type {\n",
       "        vertical-align: middle;\n",
       "    }\n",
       "\n",
       "    .dataframe tbody tr th {\n",
       "        vertical-align: top;\n",
       "    }\n",
       "\n",
       "    .dataframe thead th {\n",
       "        text-align: right;\n",
       "    }\n",
       "</style>\n",
       "<table border=\"1\" class=\"dataframe\">\n",
       "  <thead>\n",
       "    <tr style=\"text-align: right;\">\n",
       "      <th></th>\n",
       "      <th>Apps</th>\n",
       "      <th>Accept</th>\n",
       "      <th>Enroll</th>\n",
       "      <th>Top10perc</th>\n",
       "      <th>Top25perc</th>\n",
       "      <th>F.Undergrad</th>\n",
       "      <th>P.Undergrad</th>\n",
       "      <th>Outstate</th>\n",
       "      <th>Room.Board</th>\n",
       "      <th>Books</th>\n",
       "      <th>Personal</th>\n",
       "      <th>PhD</th>\n",
       "      <th>Terminal</th>\n",
       "      <th>S.F.Ratio</th>\n",
       "      <th>perc.alumni</th>\n",
       "      <th>Expend</th>\n",
       "      <th>Grad.Rate</th>\n",
       "    </tr>\n",
       "  </thead>\n",
       "  <tbody>\n",
       "    <tr>\n",
       "      <th>0</th>\n",
       "      <td>-0.43</td>\n",
       "      <td>-0.85</td>\n",
       "      <td>-0.74</td>\n",
       "      <td>1.72</td>\n",
       "      <td>1.17</td>\n",
       "      <td>-0.76</td>\n",
       "      <td>-0.82</td>\n",
       "      <td>1.40</td>\n",
       "      <td>0.81</td>\n",
       "      <td>0.70</td>\n",
       "      <td>0.05</td>\n",
       "      <td>1.40</td>\n",
       "      <td>1.23</td>\n",
       "      <td>-0.53</td>\n",
       "      <td>0.77</td>\n",
       "      <td>1.70</td>\n",
       "      <td>1.12</td>\n",
       "    </tr>\n",
       "  </tbody>\n",
       "</table>\n",
       "</div>"
      ],
      "text/plain": [
       "   Apps  Accept  Enroll  Top10perc  Top25perc  F.Undergrad  P.Undergrad  \\\n",
       "0 -0.43   -0.85   -0.74       1.72       1.17        -0.76        -0.82   \n",
       "\n",
       "   Outstate  Room.Board  Books  Personal  PhD  Terminal  S.F.Ratio  \\\n",
       "0      1.40        0.81   0.70      0.05 1.40      1.23      -0.53   \n",
       "\n",
       "   perc.alumni  Expend  Grad.Rate  \n",
       "0         0.77    1.70       1.12  "
      ]
     },
     "execution_count": 10,
     "metadata": {},
     "output_type": "execute_result"
    }
   ],
   "source": [
    "test_data = pd.DataFrame(sc.transform(data_mit[cols]), columns = data_mit[cols].columns, index = data_mit.index)\n",
    "test_data.head()"
   ]
  },
  {
   "cell_type": "code",
   "execution_count": 11,
   "id": "d787e704",
   "metadata": {},
   "outputs": [
    {
     "data": {
      "text/html": [
       "<div>\n",
       "<style scoped>\n",
       "    .dataframe tbody tr th:only-of-type {\n",
       "        vertical-align: middle;\n",
       "    }\n",
       "\n",
       "    .dataframe tbody tr th {\n",
       "        vertical-align: top;\n",
       "    }\n",
       "\n",
       "    .dataframe thead th {\n",
       "        text-align: right;\n",
       "    }\n",
       "</style>\n",
       "<table border=\"1\" class=\"dataframe\">\n",
       "  <thead>\n",
       "    <tr style=\"text-align: right;\">\n",
       "      <th></th>\n",
       "      <th>0</th>\n",
       "      <th>1</th>\n",
       "      <th>2</th>\n",
       "    </tr>\n",
       "  </thead>\n",
       "  <tbody>\n",
       "    <tr>\n",
       "      <th>0</th>\n",
       "      <td>3.93</td>\n",
       "      <td>0.15</td>\n",
       "      <td>1.20</td>\n",
       "    </tr>\n",
       "  </tbody>\n",
       "</table>\n",
       "</div>"
      ],
      "text/plain": [
       "     0    1    2\n",
       "0 3.93 0.15 1.20"
      ]
     },
     "execution_count": 11,
     "metadata": {},
     "output_type": "execute_result"
    }
   ],
   "source": [
    "\n",
    "our_pca = pd.DataFrame(pca.transform(test_data), index = test_data.index)\n",
    "our_pca.head()"
   ]
  },
  {
   "cell_type": "code",
   "execution_count": 13,
   "id": "31e78db2",
   "metadata": {},
   "outputs": [
    {
     "data": {
      "text/html": [
       "<div>\n",
       "<style scoped>\n",
       "    .dataframe tbody tr th:only-of-type {\n",
       "        vertical-align: middle;\n",
       "    }\n",
       "\n",
       "    .dataframe tbody tr th {\n",
       "        vertical-align: top;\n",
       "    }\n",
       "\n",
       "    .dataframe thead th {\n",
       "        text-align: right;\n",
       "    }\n",
       "</style>\n",
       "<table border=\"1\" class=\"dataframe\">\n",
       "  <thead>\n",
       "    <tr style=\"text-align: right;\">\n",
       "      <th></th>\n",
       "      <th>0</th>\n",
       "      <th>1</th>\n",
       "      <th>2</th>\n",
       "      <th>dist</th>\n",
       "    </tr>\n",
       "  </thead>\n",
       "  <tbody>\n",
       "    <tr>\n",
       "      <th>0</th>\n",
       "      <td>-2.31</td>\n",
       "      <td>0.13</td>\n",
       "      <td>0.08</td>\n",
       "      <td>6.34</td>\n",
       "    </tr>\n",
       "    <tr>\n",
       "      <th>1</th>\n",
       "      <td>-1.94</td>\n",
       "      <td>-1.32</td>\n",
       "      <td>-2.51</td>\n",
       "      <td>7.09</td>\n",
       "    </tr>\n",
       "    <tr>\n",
       "      <th>2</th>\n",
       "      <td>-0.72</td>\n",
       "      <td>2.95</td>\n",
       "      <td>-2.36</td>\n",
       "      <td>6.49</td>\n",
       "    </tr>\n",
       "    <tr>\n",
       "      <th>3</th>\n",
       "      <td>-3.01</td>\n",
       "      <td>-0.17</td>\n",
       "      <td>-0.54</td>\n",
       "      <td>7.16</td>\n",
       "    </tr>\n",
       "    <tr>\n",
       "      <th>4</th>\n",
       "      <td>-3.43</td>\n",
       "      <td>0.33</td>\n",
       "      <td>-1.42</td>\n",
       "      <td>7.81</td>\n",
       "    </tr>\n",
       "    <tr>\n",
       "      <th>5</th>\n",
       "      <td>3.55</td>\n",
       "      <td>0.92</td>\n",
       "      <td>0.67</td>\n",
       "      <td>1.01</td>\n",
       "    </tr>\n",
       "    <tr>\n",
       "      <th>6</th>\n",
       "      <td>-2.16</td>\n",
       "      <td>-1.01</td>\n",
       "      <td>-1.00</td>\n",
       "      <td>6.58</td>\n",
       "    </tr>\n",
       "    <tr>\n",
       "      <th>7</th>\n",
       "      <td>2.05</td>\n",
       "      <td>-0.13</td>\n",
       "      <td>-0.84</td>\n",
       "      <td>2.79</td>\n",
       "    </tr>\n",
       "    <tr>\n",
       "      <th>8</th>\n",
       "      <td>2.41</td>\n",
       "      <td>-0.99</td>\n",
       "      <td>0.64</td>\n",
       "      <td>1.98</td>\n",
       "    </tr>\n",
       "    <tr>\n",
       "      <th>9</th>\n",
       "      <td>-1.78</td>\n",
       "      <td>-0.60</td>\n",
       "      <td>-0.10</td>\n",
       "      <td>5.90</td>\n",
       "    </tr>\n",
       "    <tr>\n",
       "      <th>10</th>\n",
       "      <td>4.08</td>\n",
       "      <td>-0.26</td>\n",
       "      <td>-0.06</td>\n",
       "      <td>1.34</td>\n",
       "    </tr>\n",
       "    <tr>\n",
       "      <th>11</th>\n",
       "      <td>-0.15</td>\n",
       "      <td>-3.40</td>\n",
       "      <td>-2.45</td>\n",
       "      <td>6.53</td>\n",
       "    </tr>\n",
       "    <tr>\n",
       "      <th>12</th>\n",
       "      <td>4.40</td>\n",
       "      <td>0.27</td>\n",
       "      <td>0.01</td>\n",
       "      <td>1.29</td>\n",
       "    </tr>\n",
       "    <tr>\n",
       "      <th>13</th>\n",
       "      <td>3.27</td>\n",
       "      <td>-1.32</td>\n",
       "      <td>0.17</td>\n",
       "      <td>1.91</td>\n",
       "    </tr>\n",
       "    <tr>\n",
       "      <th>14</th>\n",
       "      <td>3.75</td>\n",
       "      <td>1.17</td>\n",
       "      <td>-0.15</td>\n",
       "      <td>1.71</td>\n",
       "    </tr>\n",
       "    <tr>\n",
       "      <th>15</th>\n",
       "      <td>3.51</td>\n",
       "      <td>0.41</td>\n",
       "      <td>0.22</td>\n",
       "      <td>1.09</td>\n",
       "    </tr>\n",
       "    <tr>\n",
       "      <th>16</th>\n",
       "      <td>0.04</td>\n",
       "      <td>-2.55</td>\n",
       "      <td>0.90</td>\n",
       "      <td>4.74</td>\n",
       "    </tr>\n",
       "    <tr>\n",
       "      <th>17</th>\n",
       "      <td>-2.13</td>\n",
       "      <td>-1.21</td>\n",
       "      <td>1.24</td>\n",
       "      <td>6.21</td>\n",
       "    </tr>\n",
       "    <tr>\n",
       "      <th>18</th>\n",
       "      <td>1.03</td>\n",
       "      <td>-0.48</td>\n",
       "      <td>0.32</td>\n",
       "      <td>3.09</td>\n",
       "    </tr>\n",
       "    <tr>\n",
       "      <th>19</th>\n",
       "      <td>2.67</td>\n",
       "      <td>0.34</td>\n",
       "      <td>0.06</td>\n",
       "      <td>1.71</td>\n",
       "    </tr>\n",
       "    <tr>\n",
       "      <th>20</th>\n",
       "      <td>0.38</td>\n",
       "      <td>0.15</td>\n",
       "      <td>0.25</td>\n",
       "      <td>3.67</td>\n",
       "    </tr>\n",
       "    <tr>\n",
       "      <th>21</th>\n",
       "      <td>-4.58</td>\n",
       "      <td>-1.99</td>\n",
       "      <td>3.70</td>\n",
       "      <td>9.12</td>\n",
       "    </tr>\n",
       "    <tr>\n",
       "      <th>22</th>\n",
       "      <td>4.08</td>\n",
       "      <td>1.45</td>\n",
       "      <td>0.17</td>\n",
       "      <td>1.67</td>\n",
       "    </tr>\n",
       "    <tr>\n",
       "      <th>23</th>\n",
       "      <td>4.58</td>\n",
       "      <td>-1.12</td>\n",
       "      <td>0.85</td>\n",
       "      <td>1.47</td>\n",
       "    </tr>\n",
       "    <tr>\n",
       "      <th>24</th>\n",
       "      <td>0.54</td>\n",
       "      <td>-2.65</td>\n",
       "      <td>-1.06</td>\n",
       "      <td>4.94</td>\n",
       "    </tr>\n",
       "    <tr>\n",
       "      <th>25</th>\n",
       "      <td>-2.86</td>\n",
       "      <td>0.36</td>\n",
       "      <td>-0.26</td>\n",
       "      <td>6.94</td>\n",
       "    </tr>\n",
       "    <tr>\n",
       "      <th>26</th>\n",
       "      <td>4.56</td>\n",
       "      <td>0.54</td>\n",
       "      <td>0.34</td>\n",
       "      <td>1.14</td>\n",
       "    </tr>\n",
       "    <tr>\n",
       "      <th>27</th>\n",
       "      <td>-3.48</td>\n",
       "      <td>-0.53</td>\n",
       "      <td>0.85</td>\n",
       "      <td>7.45</td>\n",
       "    </tr>\n",
       "    <tr>\n",
       "      <th>28</th>\n",
       "      <td>-2.74</td>\n",
       "      <td>-1.14</td>\n",
       "      <td>1.87</td>\n",
       "      <td>6.82</td>\n",
       "    </tr>\n",
       "    <tr>\n",
       "      <th>29</th>\n",
       "      <td>-3.76</td>\n",
       "      <td>4.62</td>\n",
       "      <td>-1.52</td>\n",
       "      <td>9.30</td>\n",
       "    </tr>\n",
       "    <tr>\n",
       "      <th>30</th>\n",
       "      <td>1.27</td>\n",
       "      <td>-1.07</td>\n",
       "      <td>1.88</td>\n",
       "      <td>3.00</td>\n",
       "    </tr>\n",
       "    <tr>\n",
       "      <th>31</th>\n",
       "      <td>-0.54</td>\n",
       "      <td>-0.19</td>\n",
       "      <td>-2.04</td>\n",
       "      <td>5.53</td>\n",
       "    </tr>\n",
       "    <tr>\n",
       "      <th>32</th>\n",
       "      <td>-3.18</td>\n",
       "      <td>3.76</td>\n",
       "      <td>-0.14</td>\n",
       "      <td>8.09</td>\n",
       "    </tr>\n",
       "    <tr>\n",
       "      <th>33</th>\n",
       "      <td>1.93</td>\n",
       "      <td>-0.15</td>\n",
       "      <td>0.03</td>\n",
       "      <td>2.34</td>\n",
       "    </tr>\n",
       "    <tr>\n",
       "      <th>34</th>\n",
       "      <td>0.26</td>\n",
       "      <td>3.44</td>\n",
       "      <td>0.62</td>\n",
       "      <td>4.96</td>\n",
       "    </tr>\n",
       "    <tr>\n",
       "      <th>35</th>\n",
       "      <td>-2.95</td>\n",
       "      <td>-0.37</td>\n",
       "      <td>1.09</td>\n",
       "      <td>6.89</td>\n",
       "    </tr>\n",
       "    <tr>\n",
       "      <th>36</th>\n",
       "      <td>-2.18</td>\n",
       "      <td>-2.23</td>\n",
       "      <td>-0.98</td>\n",
       "      <td>6.91</td>\n",
       "    </tr>\n",
       "    <tr>\n",
       "      <th>37</th>\n",
       "      <td>-1.90</td>\n",
       "      <td>-0.40</td>\n",
       "      <td>0.27</td>\n",
       "      <td>5.92</td>\n",
       "    </tr>\n",
       "    <tr>\n",
       "      <th>38</th>\n",
       "      <td>2.22</td>\n",
       "      <td>0.24</td>\n",
       "      <td>-0.30</td>\n",
       "      <td>2.28</td>\n",
       "    </tr>\n",
       "    <tr>\n",
       "      <th>39</th>\n",
       "      <td>-2.56</td>\n",
       "      <td>-0.90</td>\n",
       "      <td>2.09</td>\n",
       "      <td>6.63</td>\n",
       "    </tr>\n",
       "    <tr>\n",
       "      <th>40</th>\n",
       "      <td>-2.46</td>\n",
       "      <td>-0.47</td>\n",
       "      <td>-0.74</td>\n",
       "      <td>6.70</td>\n",
       "    </tr>\n",
       "    <tr>\n",
       "      <th>41</th>\n",
       "      <td>3.24</td>\n",
       "      <td>1.75</td>\n",
       "      <td>-0.21</td>\n",
       "      <td>2.25</td>\n",
       "    </tr>\n",
       "    <tr>\n",
       "      <th>42</th>\n",
       "      <td>-3.46</td>\n",
       "      <td>3.66</td>\n",
       "      <td>2.17</td>\n",
       "      <td>8.23</td>\n",
       "    </tr>\n",
       "    <tr>\n",
       "      <th>43</th>\n",
       "      <td>-2.54</td>\n",
       "      <td>2.00</td>\n",
       "      <td>-0.29</td>\n",
       "      <td>6.89</td>\n",
       "    </tr>\n",
       "    <tr>\n",
       "      <th>44</th>\n",
       "      <td>4.40</td>\n",
       "      <td>0.92</td>\n",
       "      <td>0.63</td>\n",
       "      <td>1.07</td>\n",
       "    </tr>\n",
       "    <tr>\n",
       "      <th>45</th>\n",
       "      <td>-1.40</td>\n",
       "      <td>-2.77</td>\n",
       "      <td>-2.11</td>\n",
       "      <td>6.92</td>\n",
       "    </tr>\n",
       "  </tbody>\n",
       "</table>\n",
       "</div>"
      ],
      "text/plain": [
       "       0     1     2  dist\n",
       "0  -2.31  0.13  0.08  6.34\n",
       "1  -1.94 -1.32 -2.51  7.09\n",
       "2  -0.72  2.95 -2.36  6.49\n",
       "3  -3.01 -0.17 -0.54  7.16\n",
       "4  -3.43  0.33 -1.42  7.81\n",
       "5   3.55  0.92  0.67  1.01\n",
       "6  -2.16 -1.01 -1.00  6.58\n",
       "7   2.05 -0.13 -0.84  2.79\n",
       "8   2.41 -0.99  0.64  1.98\n",
       "9  -1.78 -0.60 -0.10  5.90\n",
       "10  4.08 -0.26 -0.06  1.34\n",
       "11 -0.15 -3.40 -2.45  6.53\n",
       "12  4.40  0.27  0.01  1.29\n",
       "13  3.27 -1.32  0.17  1.91\n",
       "14  3.75  1.17 -0.15  1.71\n",
       "15  3.51  0.41  0.22  1.09\n",
       "16  0.04 -2.55  0.90  4.74\n",
       "17 -2.13 -1.21  1.24  6.21\n",
       "18  1.03 -0.48  0.32  3.09\n",
       "19  2.67  0.34  0.06  1.71\n",
       "20  0.38  0.15  0.25  3.67\n",
       "21 -4.58 -1.99  3.70  9.12\n",
       "22  4.08  1.45  0.17  1.67\n",
       "23  4.58 -1.12  0.85  1.47\n",
       "24  0.54 -2.65 -1.06  4.94\n",
       "25 -2.86  0.36 -0.26  6.94\n",
       "26  4.56  0.54  0.34  1.14\n",
       "27 -3.48 -0.53  0.85  7.45\n",
       "28 -2.74 -1.14  1.87  6.82\n",
       "29 -3.76  4.62 -1.52  9.30\n",
       "30  1.27 -1.07  1.88  3.00\n",
       "31 -0.54 -0.19 -2.04  5.53\n",
       "32 -3.18  3.76 -0.14  8.09\n",
       "33  1.93 -0.15  0.03  2.34\n",
       "34  0.26  3.44  0.62  4.96\n",
       "35 -2.95 -0.37  1.09  6.89\n",
       "36 -2.18 -2.23 -0.98  6.91\n",
       "37 -1.90 -0.40  0.27  5.92\n",
       "38  2.22  0.24 -0.30  2.28\n",
       "39 -2.56 -0.90  2.09  6.63\n",
       "40 -2.46 -0.47 -0.74  6.70\n",
       "41  3.24  1.75 -0.21  2.25\n",
       "42 -3.46  3.66  2.17  8.23\n",
       "43 -2.54  2.00 -0.29  6.89\n",
       "44  4.40  0.92  0.63  1.07\n",
       "45 -1.40 -2.77 -2.11  6.92"
      ]
     },
     "execution_count": 13,
     "metadata": {},
     "output_type": "execute_result"
    }
   ],
   "source": [
    "data_pca['dist'] = ((data_pca[0]-our_pca[0].values)**2+(data_pca[1]-our_pca[1].values)**2+(data_pca[2]-our_pca[2].values)**2)**0.5\n",
    "data_pca"
   ]
  },
  {
   "cell_type": "code",
   "execution_count": null,
   "id": "7c4b12a5",
   "metadata": {},
   "outputs": [],
   "source": []
  }
 ],
 "metadata": {
  "kernelspec": {
   "display_name": "Python 3 (ipykernel)",
   "language": "python",
   "name": "python3"
  },
  "language_info": {
   "codemirror_mode": {
    "name": "ipython",
    "version": 3
   },
   "file_extension": ".py",
   "mimetype": "text/x-python",
   "name": "python",
   "nbconvert_exporter": "python",
   "pygments_lexer": "ipython3",
   "version": "3.9.12"
  }
 },
 "nbformat": 4,
 "nbformat_minor": 5
}
